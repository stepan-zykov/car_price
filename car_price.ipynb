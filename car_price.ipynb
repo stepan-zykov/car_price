{
 "cells": [
  {
   "cell_type": "markdown",
   "metadata": {},
   "source": [
    "# Определение стоимости автомобилей"
   ]
  },
  {
   "cell_type": "markdown",
   "metadata": {},
   "source": [
    "Сервис по продаже автомобилей с пробегом разрабатывает приложение для привлечения новых клиентов. В нём можно быстро узнать рыночную стоимость своего автомобиля. Предоставлены исторические данные: технические характеристики, комплектации и цены автомобилей. Необходимо построить модель для определения стоимости. \n",
    "\n",
    "Заказчику важны:\n",
    "\n",
    "- качество предсказания;\n",
    "- скорость предсказания;\n",
    "- время обучения."
   ]
  },
  {
   "cell_type": "markdown",
   "metadata": {},
   "source": [
    "### Цель"
   ]
  },
  {
   "cell_type": "markdown",
   "metadata": {},
   "source": [
    "Построить модель, которая умеет определять рыночную стоимость автомобиля, основываясь на данных о технических характеристиках, комплектации и ценах других автомобилей."
   ]
  },
  {
   "cell_type": "markdown",
   "metadata": {},
   "source": [
    "### Задачи"
   ]
  },
  {
   "cell_type": "markdown",
   "metadata": {},
   "source": [
    "1. Изучить данные и обраюотать данные\n",
    "2. Подготовить выборки для обучения моделей\n",
    "3. Обучить разные модели\n",
    "4. Проанализировать время обучения, время предсказания и качество моделей\n",
    "5. Опираясь на критерии заказчика, выбрать наилучшую модель\n"
   ]
  },
  {
   "cell_type": "markdown",
   "metadata": {},
   "source": [
    "### Описание данных"
   ]
  },
  {
   "cell_type": "markdown",
   "metadata": {},
   "source": [
    "**Признаки**\n",
    "* DateCrawled — дата скачивания анкеты из базы\n",
    "* VehicleType — тип автомобильного кузова\n",
    "* RegistrationYear — год регистрации автомобиля\n",
    "* Gearbox — тип коробки передач\n",
    "* Power — мощность (л. с.)\n",
    "* Model — модель автомобиля\n",
    "* Kilometer — пробег (км)\n",
    "* RegistrationMonth — месяц регистрации автомобиля\n",
    "* FuelType — тип топлива\n",
    "* Brand — марка автомобиля\n",
    "* Repaired — была машина в ремонте или нет\n",
    "* DateCreated — дата создания анкеты\n",
    "* NumberOfPictures — количество фотографий автомобиля\n",
    "* PostalCode — почтовый индекс владельца анкеты (пользователя)\n",
    "* LastSeen — дата последней активности пользователя\n",
    "\n",
    "**Целевой признак**\n",
    "* Price — цена (евро)"
   ]
  },
  {
   "cell_type": "markdown",
   "metadata": {},
   "source": [
    "## Подготовка данных"
   ]
  },
  {
   "cell_type": "code",
   "execution_count": 17,
   "metadata": {},
   "outputs": [],
   "source": [
    "import pandas as pd\n",
    "import numpy as np\n",
    "import matplotlib.pyplot as plt\n",
    "from sklearn.model_selection import (train_test_split, GridSearchCV, cross_val_score)\n",
    "from sklearn.preprocessing import (StandardScaler, OneHotEncoder, OrdinalEncoder)\n",
    "from sklearn.metrics import (mean_squared_error, make_scorer)\n",
    "from sklearn.ensemble import RandomForestRegressor\n",
    "from sklearn.linear_model import LinearRegression\n",
    "from sklearn.dummy import DummyRegressor\n",
    "import lightgbm as lgb\n",
    "from catboost import CatBoostRegressor\n",
    "\n",
    "import warnings\n",
    "warnings.filterwarnings('ignore')"
   ]
  },
  {
   "cell_type": "markdown",
   "metadata": {},
   "source": [
    "Загрузим данные"
   ]
  },
  {
   "cell_type": "code",
   "execution_count": 18,
   "metadata": {},
   "outputs": [],
   "source": [
    "try:\n",
    "    df = pd.read_csv('autos.csv')\n",
    "except:\n",
    "    df = pd.read_csv('/datasets/autos.csv')"
   ]
  },
  {
   "cell_type": "markdown",
   "metadata": {},
   "source": [
    "Изучим данные"
   ]
  },
  {
   "cell_type": "code",
   "execution_count": 19,
   "metadata": {},
   "outputs": [
    {
     "data": {
      "text/html": [
       "<div>\n",
       "<style scoped>\n",
       "    .dataframe tbody tr th:only-of-type {\n",
       "        vertical-align: middle;\n",
       "    }\n",
       "\n",
       "    .dataframe tbody tr th {\n",
       "        vertical-align: top;\n",
       "    }\n",
       "\n",
       "    .dataframe thead th {\n",
       "        text-align: right;\n",
       "    }\n",
       "</style>\n",
       "<table border=\"1\" class=\"dataframe\">\n",
       "  <thead>\n",
       "    <tr style=\"text-align: right;\">\n",
       "      <th></th>\n",
       "      <th>DateCrawled</th>\n",
       "      <th>Price</th>\n",
       "      <th>VehicleType</th>\n",
       "      <th>RegistrationYear</th>\n",
       "      <th>Gearbox</th>\n",
       "      <th>Power</th>\n",
       "      <th>Model</th>\n",
       "      <th>Kilometer</th>\n",
       "      <th>RegistrationMonth</th>\n",
       "      <th>FuelType</th>\n",
       "      <th>Brand</th>\n",
       "      <th>Repaired</th>\n",
       "      <th>DateCreated</th>\n",
       "      <th>NumberOfPictures</th>\n",
       "      <th>PostalCode</th>\n",
       "      <th>LastSeen</th>\n",
       "    </tr>\n",
       "  </thead>\n",
       "  <tbody>\n",
       "    <tr>\n",
       "      <th>0</th>\n",
       "      <td>2016-03-24 11:52:17</td>\n",
       "      <td>480</td>\n",
       "      <td>NaN</td>\n",
       "      <td>1993</td>\n",
       "      <td>manual</td>\n",
       "      <td>0</td>\n",
       "      <td>golf</td>\n",
       "      <td>150000</td>\n",
       "      <td>0</td>\n",
       "      <td>petrol</td>\n",
       "      <td>volkswagen</td>\n",
       "      <td>NaN</td>\n",
       "      <td>2016-03-24 00:00:00</td>\n",
       "      <td>0</td>\n",
       "      <td>70435</td>\n",
       "      <td>2016-04-07 03:16:57</td>\n",
       "    </tr>\n",
       "    <tr>\n",
       "      <th>1</th>\n",
       "      <td>2016-03-24 10:58:45</td>\n",
       "      <td>18300</td>\n",
       "      <td>coupe</td>\n",
       "      <td>2011</td>\n",
       "      <td>manual</td>\n",
       "      <td>190</td>\n",
       "      <td>NaN</td>\n",
       "      <td>125000</td>\n",
       "      <td>5</td>\n",
       "      <td>gasoline</td>\n",
       "      <td>audi</td>\n",
       "      <td>yes</td>\n",
       "      <td>2016-03-24 00:00:00</td>\n",
       "      <td>0</td>\n",
       "      <td>66954</td>\n",
       "      <td>2016-04-07 01:46:50</td>\n",
       "    </tr>\n",
       "    <tr>\n",
       "      <th>2</th>\n",
       "      <td>2016-03-14 12:52:21</td>\n",
       "      <td>9800</td>\n",
       "      <td>suv</td>\n",
       "      <td>2004</td>\n",
       "      <td>auto</td>\n",
       "      <td>163</td>\n",
       "      <td>grand</td>\n",
       "      <td>125000</td>\n",
       "      <td>8</td>\n",
       "      <td>gasoline</td>\n",
       "      <td>jeep</td>\n",
       "      <td>NaN</td>\n",
       "      <td>2016-03-14 00:00:00</td>\n",
       "      <td>0</td>\n",
       "      <td>90480</td>\n",
       "      <td>2016-04-05 12:47:46</td>\n",
       "    </tr>\n",
       "    <tr>\n",
       "      <th>3</th>\n",
       "      <td>2016-03-17 16:54:04</td>\n",
       "      <td>1500</td>\n",
       "      <td>small</td>\n",
       "      <td>2001</td>\n",
       "      <td>manual</td>\n",
       "      <td>75</td>\n",
       "      <td>golf</td>\n",
       "      <td>150000</td>\n",
       "      <td>6</td>\n",
       "      <td>petrol</td>\n",
       "      <td>volkswagen</td>\n",
       "      <td>no</td>\n",
       "      <td>2016-03-17 00:00:00</td>\n",
       "      <td>0</td>\n",
       "      <td>91074</td>\n",
       "      <td>2016-03-17 17:40:17</td>\n",
       "    </tr>\n",
       "    <tr>\n",
       "      <th>4</th>\n",
       "      <td>2016-03-31 17:25:20</td>\n",
       "      <td>3600</td>\n",
       "      <td>small</td>\n",
       "      <td>2008</td>\n",
       "      <td>manual</td>\n",
       "      <td>69</td>\n",
       "      <td>fabia</td>\n",
       "      <td>90000</td>\n",
       "      <td>7</td>\n",
       "      <td>gasoline</td>\n",
       "      <td>skoda</td>\n",
       "      <td>no</td>\n",
       "      <td>2016-03-31 00:00:00</td>\n",
       "      <td>0</td>\n",
       "      <td>60437</td>\n",
       "      <td>2016-04-06 10:17:21</td>\n",
       "    </tr>\n",
       "  </tbody>\n",
       "</table>\n",
       "</div>"
      ],
      "text/plain": [
       "           DateCrawled  Price VehicleType  RegistrationYear Gearbox  Power  \\\n",
       "0  2016-03-24 11:52:17    480         NaN              1993  manual      0   \n",
       "1  2016-03-24 10:58:45  18300       coupe              2011  manual    190   \n",
       "2  2016-03-14 12:52:21   9800         suv              2004    auto    163   \n",
       "3  2016-03-17 16:54:04   1500       small              2001  manual     75   \n",
       "4  2016-03-31 17:25:20   3600       small              2008  manual     69   \n",
       "\n",
       "   Model  Kilometer  RegistrationMonth  FuelType       Brand Repaired  \\\n",
       "0   golf     150000                  0    petrol  volkswagen      NaN   \n",
       "1    NaN     125000                  5  gasoline        audi      yes   \n",
       "2  grand     125000                  8  gasoline        jeep      NaN   \n",
       "3   golf     150000                  6    petrol  volkswagen       no   \n",
       "4  fabia      90000                  7  gasoline       skoda       no   \n",
       "\n",
       "           DateCreated  NumberOfPictures  PostalCode             LastSeen  \n",
       "0  2016-03-24 00:00:00                 0       70435  2016-04-07 03:16:57  \n",
       "1  2016-03-24 00:00:00                 0       66954  2016-04-07 01:46:50  \n",
       "2  2016-03-14 00:00:00                 0       90480  2016-04-05 12:47:46  \n",
       "3  2016-03-17 00:00:00                 0       91074  2016-03-17 17:40:17  \n",
       "4  2016-03-31 00:00:00                 0       60437  2016-04-06 10:17:21  "
      ]
     },
     "execution_count": 19,
     "metadata": {},
     "output_type": "execute_result"
    }
   ],
   "source": [
    "df.head()"
   ]
  },
  {
   "cell_type": "code",
   "execution_count": 20,
   "metadata": {},
   "outputs": [],
   "source": [
    "df['DateCrawled'] = pd.to_datetime(df['DateCrawled'])\n",
    "df['LastSeen'] = pd.to_datetime(df['LastSeen'])\n",
    "df['DateCreated'] = pd.to_datetime(df['DateCreated'])"
   ]
  },
  {
   "cell_type": "markdown",
   "metadata": {},
   "source": [
    "Оставим только те признаки, которые помогут построить модель"
   ]
  },
  {
   "cell_type": "code",
   "execution_count": 21,
   "metadata": {},
   "outputs": [],
   "source": [
    "df_preprocessed = df.drop(['DateCrawled', 'RegistrationMonth', 'DateCreated', \n",
    "                           'PostalCode', 'NumberOfPictures', 'LastSeen'], axis=1)"
   ]
  },
  {
   "cell_type": "code",
   "execution_count": 22,
   "metadata": {},
   "outputs": [
    {
     "data": {
      "text/html": [
       "<div>\n",
       "<style scoped>\n",
       "    .dataframe tbody tr th:only-of-type {\n",
       "        vertical-align: middle;\n",
       "    }\n",
       "\n",
       "    .dataframe tbody tr th {\n",
       "        vertical-align: top;\n",
       "    }\n",
       "\n",
       "    .dataframe thead th {\n",
       "        text-align: right;\n",
       "    }\n",
       "</style>\n",
       "<table border=\"1\" class=\"dataframe\">\n",
       "  <thead>\n",
       "    <tr style=\"text-align: right;\">\n",
       "      <th></th>\n",
       "      <th>Price</th>\n",
       "      <th>VehicleType</th>\n",
       "      <th>RegistrationYear</th>\n",
       "      <th>Gearbox</th>\n",
       "      <th>Power</th>\n",
       "      <th>Model</th>\n",
       "      <th>Kilometer</th>\n",
       "      <th>FuelType</th>\n",
       "      <th>Brand</th>\n",
       "      <th>Repaired</th>\n",
       "    </tr>\n",
       "  </thead>\n",
       "  <tbody>\n",
       "    <tr>\n",
       "      <th>0</th>\n",
       "      <td>480</td>\n",
       "      <td>NaN</td>\n",
       "      <td>1993</td>\n",
       "      <td>manual</td>\n",
       "      <td>0</td>\n",
       "      <td>golf</td>\n",
       "      <td>150000</td>\n",
       "      <td>petrol</td>\n",
       "      <td>volkswagen</td>\n",
       "      <td>NaN</td>\n",
       "    </tr>\n",
       "    <tr>\n",
       "      <th>1</th>\n",
       "      <td>18300</td>\n",
       "      <td>coupe</td>\n",
       "      <td>2011</td>\n",
       "      <td>manual</td>\n",
       "      <td>190</td>\n",
       "      <td>NaN</td>\n",
       "      <td>125000</td>\n",
       "      <td>gasoline</td>\n",
       "      <td>audi</td>\n",
       "      <td>yes</td>\n",
       "    </tr>\n",
       "    <tr>\n",
       "      <th>2</th>\n",
       "      <td>9800</td>\n",
       "      <td>suv</td>\n",
       "      <td>2004</td>\n",
       "      <td>auto</td>\n",
       "      <td>163</td>\n",
       "      <td>grand</td>\n",
       "      <td>125000</td>\n",
       "      <td>gasoline</td>\n",
       "      <td>jeep</td>\n",
       "      <td>NaN</td>\n",
       "    </tr>\n",
       "    <tr>\n",
       "      <th>3</th>\n",
       "      <td>1500</td>\n",
       "      <td>small</td>\n",
       "      <td>2001</td>\n",
       "      <td>manual</td>\n",
       "      <td>75</td>\n",
       "      <td>golf</td>\n",
       "      <td>150000</td>\n",
       "      <td>petrol</td>\n",
       "      <td>volkswagen</td>\n",
       "      <td>no</td>\n",
       "    </tr>\n",
       "    <tr>\n",
       "      <th>4</th>\n",
       "      <td>3600</td>\n",
       "      <td>small</td>\n",
       "      <td>2008</td>\n",
       "      <td>manual</td>\n",
       "      <td>69</td>\n",
       "      <td>fabia</td>\n",
       "      <td>90000</td>\n",
       "      <td>gasoline</td>\n",
       "      <td>skoda</td>\n",
       "      <td>no</td>\n",
       "    </tr>\n",
       "  </tbody>\n",
       "</table>\n",
       "</div>"
      ],
      "text/plain": [
       "   Price VehicleType  RegistrationYear Gearbox  Power  Model  Kilometer  \\\n",
       "0    480         NaN              1993  manual      0   golf     150000   \n",
       "1  18300       coupe              2011  manual    190    NaN     125000   \n",
       "2   9800         suv              2004    auto    163  grand     125000   \n",
       "3   1500       small              2001  manual     75   golf     150000   \n",
       "4   3600       small              2008  manual     69  fabia      90000   \n",
       "\n",
       "   FuelType       Brand Repaired  \n",
       "0    petrol  volkswagen      NaN  \n",
       "1  gasoline        audi      yes  \n",
       "2  gasoline        jeep      NaN  \n",
       "3    petrol  volkswagen       no  \n",
       "4  gasoline       skoda       no  "
      ]
     },
     "execution_count": 22,
     "metadata": {},
     "output_type": "execute_result"
    }
   ],
   "source": [
    "df_preprocessed.head()"
   ]
  },
  {
   "cell_type": "code",
   "execution_count": 23,
   "metadata": {},
   "outputs": [
    {
     "name": "stdout",
     "output_type": "stream",
     "text": [
      "<class 'pandas.core.frame.DataFrame'>\n",
      "RangeIndex: 354369 entries, 0 to 354368\n",
      "Data columns (total 10 columns):\n",
      " #   Column            Non-Null Count   Dtype \n",
      "---  ------            --------------   ----- \n",
      " 0   Price             354369 non-null  int64 \n",
      " 1   VehicleType       316879 non-null  object\n",
      " 2   RegistrationYear  354369 non-null  int64 \n",
      " 3   Gearbox           334536 non-null  object\n",
      " 4   Power             354369 non-null  int64 \n",
      " 5   Model             334664 non-null  object\n",
      " 6   Kilometer         354369 non-null  int64 \n",
      " 7   FuelType          321474 non-null  object\n",
      " 8   Brand             354369 non-null  object\n",
      " 9   Repaired          283215 non-null  object\n",
      "dtypes: int64(4), object(6)\n",
      "memory usage: 27.0+ MB\n"
     ]
    }
   ],
   "source": [
    "df_preprocessed.info()"
   ]
  },
  {
   "cell_type": "markdown",
   "metadata": {},
   "source": [
    "**Проверим данные на наличие явных дубликатов**"
   ]
  },
  {
   "cell_type": "code",
   "execution_count": 24,
   "metadata": {},
   "outputs": [
    {
     "data": {
      "text/plain": [
       "45040"
      ]
     },
     "execution_count": 24,
     "metadata": {},
     "output_type": "execute_result"
    }
   ],
   "source": [
    "df_preprocessed.duplicated().sum()"
   ]
  },
  {
   "cell_type": "markdown",
   "metadata": {},
   "source": [
    "Отбросим дубликаты"
   ]
  },
  {
   "cell_type": "code",
   "execution_count": 25,
   "metadata": {},
   "outputs": [],
   "source": [
    "df_preprocessed = df_preprocessed.drop_duplicates()"
   ]
  },
  {
   "cell_type": "markdown",
   "metadata": {},
   "source": [
    "**Обработаем пропуски**"
   ]
  },
  {
   "cell_type": "markdown",
   "metadata": {},
   "source": [
    "Столбец `Model`"
   ]
  },
  {
   "cell_type": "code",
   "execution_count": 26,
   "metadata": {},
   "outputs": [
    {
     "data": {
      "text/plain": [
       "18361"
      ]
     },
     "execution_count": 26,
     "metadata": {},
     "output_type": "execute_result"
    }
   ],
   "source": [
    "df_preprocessed['Model'].isna().sum()"
   ]
  },
  {
   "cell_type": "code",
   "execution_count": 27,
   "metadata": {
    "scrolled": true
   },
   "outputs": [
    {
     "data": {
      "text/plain": [
       "array(['golf', nan, 'grand', 'fabia', '3er', '2_reihe', 'other', 'c_max',\n",
       "       '3_reihe', 'passat', 'navara', 'ka', 'polo', 'twingo', 'a_klasse',\n",
       "       'scirocco', '5er', 'meriva', 'arosa', 'c4', 'civic', 'transporter',\n",
       "       'punto', 'e_klasse', 'clio', 'kadett', 'kangoo', 'corsa', 'one',\n",
       "       'fortwo', '1er', 'b_klasse', 'signum', 'astra', 'a8', 'jetta',\n",
       "       'fiesta', 'c_klasse', 'micra', 'vito', 'sprinter', '156', 'escort',\n",
       "       'forester', 'xc_reihe', 'scenic', 'a4', 'a1', 'insignia', 'combo',\n",
       "       'focus', 'tt', 'a6', 'jazz', 'omega', 'slk', '7er', '80', '147',\n",
       "       '100', 'z_reihe', 'sportage', 'sorento', 'v40', 'ibiza', 'mustang',\n",
       "       'eos', 'touran', 'getz', 'a3', 'almera', 'megane', 'lupo', 'r19',\n",
       "       'zafira', 'caddy', 'mondeo', 'cordoba', 'colt', 'impreza',\n",
       "       'vectra', 'berlingo', 'tiguan', 'i_reihe', 'espace', 'sharan',\n",
       "       '6_reihe', 'panda', 'up', 'seicento', 'ceed', '5_reihe', 'yeti',\n",
       "       'octavia', 'mii', 'rx_reihe', '6er', 'modus', 'fox', 'matiz',\n",
       "       'beetle', 'c1', 'rio', 'touareg', 'logan', 'spider', 'cuore',\n",
       "       's_max', 'a2', 'galaxy', 'c3', 'viano', 's_klasse', '1_reihe',\n",
       "       'avensis', 'roomster', 'sl', 'kaefer', 'santa', 'cooper', 'leon',\n",
       "       '4_reihe', 'a5', '500', 'laguna', 'ptcruiser', 'clk', 'primera',\n",
       "       'x_reihe', 'exeo', '159', 'transit', 'juke', 'qashqai', 'carisma',\n",
       "       'accord', 'corolla', 'lanos', 'phaeton', 'verso', 'swift', 'rav',\n",
       "       'picanto', 'boxster', 'kalos', 'superb', 'stilo', 'alhambra',\n",
       "       'mx_reihe', 'roadster', 'ypsilon', 'cayenne', 'galant', 'justy',\n",
       "       '90', 'sirion', 'crossfire', 'agila', 'duster', 'cr_reihe', 'v50',\n",
       "       'c_reihe', 'v_klasse', 'm_klasse', 'yaris', 'c5', 'aygo', 'cc',\n",
       "       'carnival', 'fusion', '911', 'bora', 'forfour', 'm_reihe', 'cl',\n",
       "       'tigra', '300c', 'spark', 'v70', 'kuga', 'x_type', 'ducato',\n",
       "       's_type', 'x_trail', 'toledo', 'altea', 'voyager', 'calibra',\n",
       "       'bravo', 'antara', 'tucson', 'citigo', 'jimny', 'wrangler',\n",
       "       'lybra', 'q7', 'lancer', 'captiva', 'c2', 'discovery',\n",
       "       'freelander', 'sandero', 'note', '900', 'cherokee', 'clubman',\n",
       "       'samara', 'defender', '601', 'cx_reihe', 'legacy', 'pajero',\n",
       "       'auris', 'niva', 's60', 'nubira', 'vivaro', 'g_klasse', 'lodgy',\n",
       "       '850', 'range_rover', 'q3', 'serie_2', 'glk', 'charade', 'croma',\n",
       "       'outlander', 'doblo', 'musa', 'move', '9000', 'v60', '145', 'aveo',\n",
       "       '200', 'b_max', 'range_rover_sport', 'terios', 'rangerover', 'q5',\n",
       "       'range_rover_evoque', 'materia', 'delta', 'gl', 'kalina', 'amarok',\n",
       "       'elefantino', 'i3', 'kappa', 'serie_3', 'serie_1'], dtype=object)"
      ]
     },
     "execution_count": 27,
     "metadata": {},
     "output_type": "execute_result"
    }
   ],
   "source": [
    "df_preprocessed['Model'].unique()"
   ]
  },
  {
   "cell_type": "code",
   "execution_count": 28,
   "metadata": {},
   "outputs": [
    {
     "data": {
      "text/plain": [
       "22934"
      ]
     },
     "execution_count": 28,
     "metadata": {},
     "output_type": "execute_result"
    }
   ],
   "source": [
    "df_preprocessed[df_preprocessed['Model']=='other'].shape[0]"
   ]
  },
  {
   "cell_type": "markdown",
   "metadata": {},
   "source": [
    "Пропуски в данном столбце заполним заглушкой 'other'"
   ]
  },
  {
   "cell_type": "code",
   "execution_count": 29,
   "metadata": {},
   "outputs": [],
   "source": [
    "df_preprocessed['Model'] = df_preprocessed['Model'].fillna('other')"
   ]
  },
  {
   "cell_type": "code",
   "execution_count": 30,
   "metadata": {},
   "outputs": [
    {
     "data": {
      "text/plain": [
       "0"
      ]
     },
     "execution_count": 30,
     "metadata": {},
     "output_type": "execute_result"
    }
   ],
   "source": [
    "df_preprocessed['Model'].isna().sum()"
   ]
  },
  {
   "cell_type": "markdown",
   "metadata": {},
   "source": [
    "Столбец `VehicleType`"
   ]
  },
  {
   "cell_type": "code",
   "execution_count": 31,
   "metadata": {},
   "outputs": [
    {
     "data": {
      "text/plain": [
       "34559"
      ]
     },
     "execution_count": 31,
     "metadata": {},
     "output_type": "execute_result"
    }
   ],
   "source": [
    "df_preprocessed['VehicleType'].isna().sum()"
   ]
  },
  {
   "cell_type": "markdown",
   "metadata": {},
   "source": [
    "Пропуски в данном столбце можно заменить самым часто встречающимся значением для данного бренда"
   ]
  },
  {
   "cell_type": "code",
   "execution_count": 32,
   "metadata": {},
   "outputs": [],
   "source": [
    "VehicleType = df_preprocessed.pivot_table(\n",
    "    index=['Brand'], columns=['VehicleType'], values=['Price'], aggfunc='count')"
   ]
  },
  {
   "cell_type": "code",
   "execution_count": 33,
   "metadata": {},
   "outputs": [
    {
     "data": {
      "text/html": [
       "<div>\n",
       "<style scoped>\n",
       "    .dataframe tbody tr th:only-of-type {\n",
       "        vertical-align: middle;\n",
       "    }\n",
       "\n",
       "    .dataframe tbody tr th {\n",
       "        vertical-align: top;\n",
       "    }\n",
       "\n",
       "    .dataframe thead tr th {\n",
       "        text-align: left;\n",
       "    }\n",
       "\n",
       "    .dataframe thead tr:last-of-type th {\n",
       "        text-align: right;\n",
       "    }\n",
       "</style>\n",
       "<table border=\"1\" class=\"dataframe\">\n",
       "  <thead>\n",
       "    <tr>\n",
       "      <th></th>\n",
       "      <th colspan=\"8\" halign=\"left\">Price</th>\n",
       "    </tr>\n",
       "    <tr>\n",
       "      <th>VehicleType</th>\n",
       "      <th>bus</th>\n",
       "      <th>convertible</th>\n",
       "      <th>coupe</th>\n",
       "      <th>other</th>\n",
       "      <th>sedan</th>\n",
       "      <th>small</th>\n",
       "      <th>suv</th>\n",
       "      <th>wagon</th>\n",
       "    </tr>\n",
       "    <tr>\n",
       "      <th>Brand</th>\n",
       "      <th></th>\n",
       "      <th></th>\n",
       "      <th></th>\n",
       "      <th></th>\n",
       "      <th></th>\n",
       "      <th></th>\n",
       "      <th></th>\n",
       "      <th></th>\n",
       "    </tr>\n",
       "  </thead>\n",
       "  <tbody>\n",
       "    <tr>\n",
       "      <th>alfa_romeo</th>\n",
       "      <td>NaN</td>\n",
       "      <td>170.0</td>\n",
       "      <td>210.0</td>\n",
       "      <td>14.0</td>\n",
       "      <td>866.0</td>\n",
       "      <td>227.0</td>\n",
       "      <td>1.0</td>\n",
       "      <td>415.0</td>\n",
       "    </tr>\n",
       "    <tr>\n",
       "      <th>audi</th>\n",
       "      <td>10.0</td>\n",
       "      <td>1481.0</td>\n",
       "      <td>1353.0</td>\n",
       "      <td>101.0</td>\n",
       "      <td>9289.0</td>\n",
       "      <td>1333.0</td>\n",
       "      <td>116.0</td>\n",
       "      <td>9505.0</td>\n",
       "    </tr>\n",
       "    <tr>\n",
       "      <th>bmw</th>\n",
       "      <td>7.0</td>\n",
       "      <td>2930.0</td>\n",
       "      <td>3368.0</td>\n",
       "      <td>231.0</td>\n",
       "      <td>14682.0</td>\n",
       "      <td>419.0</td>\n",
       "      <td>670.0</td>\n",
       "      <td>6795.0</td>\n",
       "    </tr>\n",
       "    <tr>\n",
       "      <th>chevrolet</th>\n",
       "      <td>155.0</td>\n",
       "      <td>16.0</td>\n",
       "      <td>85.0</td>\n",
       "      <td>43.0</td>\n",
       "      <td>218.0</td>\n",
       "      <td>543.0</td>\n",
       "      <td>358.0</td>\n",
       "      <td>103.0</td>\n",
       "    </tr>\n",
       "    <tr>\n",
       "      <th>chrysler</th>\n",
       "      <td>413.0</td>\n",
       "      <td>221.0</td>\n",
       "      <td>43.0</td>\n",
       "      <td>10.0</td>\n",
       "      <td>274.0</td>\n",
       "      <td>11.0</td>\n",
       "      <td>23.0</td>\n",
       "      <td>226.0</td>\n",
       "    </tr>\n",
       "  </tbody>\n",
       "</table>\n",
       "</div>"
      ],
      "text/plain": [
       "             Price                                                           \n",
       "VehicleType    bus convertible   coupe  other    sedan   small    suv   wagon\n",
       "Brand                                                                        \n",
       "alfa_romeo     NaN       170.0   210.0   14.0    866.0   227.0    1.0   415.0\n",
       "audi          10.0      1481.0  1353.0  101.0   9289.0  1333.0  116.0  9505.0\n",
       "bmw            7.0      2930.0  3368.0  231.0  14682.0   419.0  670.0  6795.0\n",
       "chevrolet    155.0        16.0    85.0   43.0    218.0   543.0  358.0   103.0\n",
       "chrysler     413.0       221.0    43.0   10.0    274.0    11.0   23.0   226.0"
      ]
     },
     "execution_count": 33,
     "metadata": {},
     "output_type": "execute_result"
    }
   ],
   "source": [
    "VehicleType.head()"
   ]
  },
  {
   "cell_type": "code",
   "execution_count": 34,
   "metadata": {},
   "outputs": [],
   "source": [
    "VehicleType.columns = VehicleType.columns.droplevel(0)"
   ]
  },
  {
   "cell_type": "code",
   "execution_count": 35,
   "metadata": {},
   "outputs": [],
   "source": [
    "VehicleType.columns.name = None"
   ]
  },
  {
   "cell_type": "code",
   "execution_count": 36,
   "metadata": {},
   "outputs": [
    {
     "data": {
      "text/html": [
       "<div>\n",
       "<style scoped>\n",
       "    .dataframe tbody tr th:only-of-type {\n",
       "        vertical-align: middle;\n",
       "    }\n",
       "\n",
       "    .dataframe tbody tr th {\n",
       "        vertical-align: top;\n",
       "    }\n",
       "\n",
       "    .dataframe thead th {\n",
       "        text-align: right;\n",
       "    }\n",
       "</style>\n",
       "<table border=\"1\" class=\"dataframe\">\n",
       "  <thead>\n",
       "    <tr style=\"text-align: right;\">\n",
       "      <th></th>\n",
       "      <th>bus</th>\n",
       "      <th>convertible</th>\n",
       "      <th>coupe</th>\n",
       "      <th>other</th>\n",
       "      <th>sedan</th>\n",
       "      <th>small</th>\n",
       "      <th>suv</th>\n",
       "      <th>wagon</th>\n",
       "    </tr>\n",
       "    <tr>\n",
       "      <th>Brand</th>\n",
       "      <th></th>\n",
       "      <th></th>\n",
       "      <th></th>\n",
       "      <th></th>\n",
       "      <th></th>\n",
       "      <th></th>\n",
       "      <th></th>\n",
       "      <th></th>\n",
       "    </tr>\n",
       "  </thead>\n",
       "  <tbody>\n",
       "    <tr>\n",
       "      <th>alfa_romeo</th>\n",
       "      <td>NaN</td>\n",
       "      <td>170.0</td>\n",
       "      <td>210.0</td>\n",
       "      <td>14.0</td>\n",
       "      <td>866.0</td>\n",
       "      <td>227.0</td>\n",
       "      <td>1.0</td>\n",
       "      <td>415.0</td>\n",
       "    </tr>\n",
       "    <tr>\n",
       "      <th>audi</th>\n",
       "      <td>10.0</td>\n",
       "      <td>1481.0</td>\n",
       "      <td>1353.0</td>\n",
       "      <td>101.0</td>\n",
       "      <td>9289.0</td>\n",
       "      <td>1333.0</td>\n",
       "      <td>116.0</td>\n",
       "      <td>9505.0</td>\n",
       "    </tr>\n",
       "    <tr>\n",
       "      <th>bmw</th>\n",
       "      <td>7.0</td>\n",
       "      <td>2930.0</td>\n",
       "      <td>3368.0</td>\n",
       "      <td>231.0</td>\n",
       "      <td>14682.0</td>\n",
       "      <td>419.0</td>\n",
       "      <td>670.0</td>\n",
       "      <td>6795.0</td>\n",
       "    </tr>\n",
       "    <tr>\n",
       "      <th>chevrolet</th>\n",
       "      <td>155.0</td>\n",
       "      <td>16.0</td>\n",
       "      <td>85.0</td>\n",
       "      <td>43.0</td>\n",
       "      <td>218.0</td>\n",
       "      <td>543.0</td>\n",
       "      <td>358.0</td>\n",
       "      <td>103.0</td>\n",
       "    </tr>\n",
       "    <tr>\n",
       "      <th>chrysler</th>\n",
       "      <td>413.0</td>\n",
       "      <td>221.0</td>\n",
       "      <td>43.0</td>\n",
       "      <td>10.0</td>\n",
       "      <td>274.0</td>\n",
       "      <td>11.0</td>\n",
       "      <td>23.0</td>\n",
       "      <td>226.0</td>\n",
       "    </tr>\n",
       "  </tbody>\n",
       "</table>\n",
       "</div>"
      ],
      "text/plain": [
       "              bus  convertible   coupe  other    sedan   small    suv   wagon\n",
       "Brand                                                                        \n",
       "alfa_romeo    NaN        170.0   210.0   14.0    866.0   227.0    1.0   415.0\n",
       "audi         10.0       1481.0  1353.0  101.0   9289.0  1333.0  116.0  9505.0\n",
       "bmw           7.0       2930.0  3368.0  231.0  14682.0   419.0  670.0  6795.0\n",
       "chevrolet   155.0         16.0    85.0   43.0    218.0   543.0  358.0   103.0\n",
       "chrysler    413.0        221.0    43.0   10.0    274.0    11.0   23.0   226.0"
      ]
     },
     "execution_count": 36,
     "metadata": {},
     "output_type": "execute_result"
    }
   ],
   "source": [
    "VehicleType.head()"
   ]
  },
  {
   "cell_type": "code",
   "execution_count": 37,
   "metadata": {},
   "outputs": [],
   "source": [
    "VehicleType['Max'] = VehicleType[VehicleType.columns].idxmax(axis=1)"
   ]
  },
  {
   "cell_type": "code",
   "execution_count": 38,
   "metadata": {},
   "outputs": [],
   "source": [
    "VT_dict = VehicleType['Max'].to_dict()"
   ]
  },
  {
   "cell_type": "code",
   "execution_count": 39,
   "metadata": {
    "scrolled": true
   },
   "outputs": [
    {
     "data": {
      "text/plain": [
       "{'alfa_romeo': 'sedan',\n",
       " 'audi': 'wagon',\n",
       " 'bmw': 'sedan',\n",
       " 'chevrolet': 'small',\n",
       " 'chrysler': 'bus',\n",
       " 'citroen': 'small',\n",
       " 'dacia': 'wagon',\n",
       " 'daewoo': 'small',\n",
       " 'daihatsu': 'small',\n",
       " 'fiat': 'small',\n",
       " 'ford': 'small',\n",
       " 'honda': 'sedan',\n",
       " 'hyundai': 'small',\n",
       " 'jaguar': 'sedan',\n",
       " 'jeep': 'suv',\n",
       " 'kia': 'suv',\n",
       " 'lada': 'suv',\n",
       " 'lancia': 'small',\n",
       " 'land_rover': 'suv',\n",
       " 'mazda': 'sedan',\n",
       " 'mercedes_benz': 'sedan',\n",
       " 'mini': 'small',\n",
       " 'mitsubishi': 'sedan',\n",
       " 'nissan': 'small',\n",
       " 'opel': 'small',\n",
       " 'peugeot': 'small',\n",
       " 'porsche': 'convertible',\n",
       " 'renault': 'small',\n",
       " 'rover': 'sedan',\n",
       " 'saab': 'sedan',\n",
       " 'seat': 'small',\n",
       " 'skoda': 'wagon',\n",
       " 'smart': 'small',\n",
       " 'sonstige_autos': 'sedan',\n",
       " 'subaru': 'wagon',\n",
       " 'suzuki': 'small',\n",
       " 'toyota': 'small',\n",
       " 'trabant': 'sedan',\n",
       " 'volkswagen': 'sedan',\n",
       " 'volvo': 'wagon'}"
      ]
     },
     "execution_count": 39,
     "metadata": {},
     "output_type": "execute_result"
    }
   ],
   "source": [
    "VT_dict"
   ]
  },
  {
   "cell_type": "markdown",
   "metadata": {},
   "source": [
    "Теперь для каждой марки мы знаем наиболее типичную модель и можем заполнить пропуски в данных.\n"
   ]
  },
  {
   "cell_type": "code",
   "execution_count": 40,
   "metadata": {},
   "outputs": [],
   "source": [
    "df_preprocessed['VehicleType'] = df_preprocessed['VehicleType'].fillna(\n",
    "    df_preprocessed['Brand'].map(VT_dict))"
   ]
  },
  {
   "cell_type": "code",
   "execution_count": 41,
   "metadata": {},
   "outputs": [
    {
     "data": {
      "text/plain": [
       "0"
      ]
     },
     "execution_count": 41,
     "metadata": {},
     "output_type": "execute_result"
    }
   ],
   "source": [
    "df_preprocessed['VehicleType'].isna().sum()"
   ]
  },
  {
   "cell_type": "markdown",
   "metadata": {},
   "source": [
    "Столбец `FuelType`"
   ]
  },
  {
   "cell_type": "code",
   "execution_count": 42,
   "metadata": {},
   "outputs": [
    {
     "data": {
      "text/plain": [
       "30764"
      ]
     },
     "execution_count": 42,
     "metadata": {},
     "output_type": "execute_result"
    }
   ],
   "source": [
    "df_preprocessed['FuelType'].isna().sum()"
   ]
  },
  {
   "cell_type": "markdown",
   "metadata": {},
   "source": [
    "Заполним пропуски наиболее характерным видом топлива для данного типа кузова машины."
   ]
  },
  {
   "cell_type": "code",
   "execution_count": 43,
   "metadata": {},
   "outputs": [],
   "source": [
    "FuelType = df_preprocessed.pivot_table(\n",
    "    index=['VehicleType'], columns=['FuelType'], values=['Price'], aggfunc='count')"
   ]
  },
  {
   "cell_type": "code",
   "execution_count": 44,
   "metadata": {},
   "outputs": [
    {
     "data": {
      "text/html": [
       "<div>\n",
       "<style scoped>\n",
       "    .dataframe tbody tr th:only-of-type {\n",
       "        vertical-align: middle;\n",
       "    }\n",
       "\n",
       "    .dataframe tbody tr th {\n",
       "        vertical-align: top;\n",
       "    }\n",
       "\n",
       "    .dataframe thead tr th {\n",
       "        text-align: left;\n",
       "    }\n",
       "\n",
       "    .dataframe thead tr:last-of-type th {\n",
       "        text-align: right;\n",
       "    }\n",
       "</style>\n",
       "<table border=\"1\" class=\"dataframe\">\n",
       "  <thead>\n",
       "    <tr>\n",
       "      <th></th>\n",
       "      <th colspan=\"7\" halign=\"left\">Price</th>\n",
       "    </tr>\n",
       "    <tr>\n",
       "      <th>FuelType</th>\n",
       "      <th>cng</th>\n",
       "      <th>electric</th>\n",
       "      <th>gasoline</th>\n",
       "      <th>hybrid</th>\n",
       "      <th>lpg</th>\n",
       "      <th>other</th>\n",
       "      <th>petrol</th>\n",
       "    </tr>\n",
       "    <tr>\n",
       "      <th>VehicleType</th>\n",
       "      <th></th>\n",
       "      <th></th>\n",
       "      <th></th>\n",
       "      <th></th>\n",
       "      <th></th>\n",
       "      <th></th>\n",
       "      <th></th>\n",
       "    </tr>\n",
       "  </thead>\n",
       "  <tbody>\n",
       "    <tr>\n",
       "      <th>bus</th>\n",
       "      <td>215.0</td>\n",
       "      <td>1.0</td>\n",
       "      <td>15394.0</td>\n",
       "      <td>5.0</td>\n",
       "      <td>489.0</td>\n",
       "      <td>8.0</td>\n",
       "      <td>8787.0</td>\n",
       "    </tr>\n",
       "    <tr>\n",
       "      <th>convertible</th>\n",
       "      <td>3.0</td>\n",
       "      <td>6.0</td>\n",
       "      <td>1364.0</td>\n",
       "      <td>NaN</td>\n",
       "      <td>215.0</td>\n",
       "      <td>6.0</td>\n",
       "      <td>15771.0</td>\n",
       "    </tr>\n",
       "    <tr>\n",
       "      <th>coupe</th>\n",
       "      <td>3.0</td>\n",
       "      <td>6.0</td>\n",
       "      <td>1860.0</td>\n",
       "      <td>15.0</td>\n",
       "      <td>270.0</td>\n",
       "      <td>3.0</td>\n",
       "      <td>11729.0</td>\n",
       "    </tr>\n",
       "    <tr>\n",
       "      <th>other</th>\n",
       "      <td>12.0</td>\n",
       "      <td>12.0</td>\n",
       "      <td>1383.0</td>\n",
       "      <td>1.0</td>\n",
       "      <td>28.0</td>\n",
       "      <td>41.0</td>\n",
       "      <td>1343.0</td>\n",
       "    </tr>\n",
       "    <tr>\n",
       "      <th>sedan</th>\n",
       "      <td>56.0</td>\n",
       "      <td>11.0</td>\n",
       "      <td>23219.0</td>\n",
       "      <td>125.0</td>\n",
       "      <td>1683.0</td>\n",
       "      <td>71.0</td>\n",
       "      <td>57835.0</td>\n",
       "    </tr>\n",
       "  </tbody>\n",
       "</table>\n",
       "</div>"
      ],
      "text/plain": [
       "             Price                                                \n",
       "FuelType       cng electric gasoline hybrid     lpg other   petrol\n",
       "VehicleType                                                       \n",
       "bus          215.0      1.0  15394.0    5.0   489.0   8.0   8787.0\n",
       "convertible    3.0      6.0   1364.0    NaN   215.0   6.0  15771.0\n",
       "coupe          3.0      6.0   1860.0   15.0   270.0   3.0  11729.0\n",
       "other         12.0     12.0   1383.0    1.0    28.0  41.0   1343.0\n",
       "sedan         56.0     11.0  23219.0  125.0  1683.0  71.0  57835.0"
      ]
     },
     "execution_count": 44,
     "metadata": {},
     "output_type": "execute_result"
    }
   ],
   "source": [
    "FuelType.head()"
   ]
  },
  {
   "cell_type": "code",
   "execution_count": 45,
   "metadata": {},
   "outputs": [],
   "source": [
    "FuelType.columns = FuelType.columns.droplevel(0)"
   ]
  },
  {
   "cell_type": "code",
   "execution_count": 46,
   "metadata": {},
   "outputs": [],
   "source": [
    "FuelType.columns.name = None"
   ]
  },
  {
   "cell_type": "code",
   "execution_count": 47,
   "metadata": {},
   "outputs": [
    {
     "data": {
      "text/html": [
       "<div>\n",
       "<style scoped>\n",
       "    .dataframe tbody tr th:only-of-type {\n",
       "        vertical-align: middle;\n",
       "    }\n",
       "\n",
       "    .dataframe tbody tr th {\n",
       "        vertical-align: top;\n",
       "    }\n",
       "\n",
       "    .dataframe thead th {\n",
       "        text-align: right;\n",
       "    }\n",
       "</style>\n",
       "<table border=\"1\" class=\"dataframe\">\n",
       "  <thead>\n",
       "    <tr style=\"text-align: right;\">\n",
       "      <th></th>\n",
       "      <th>cng</th>\n",
       "      <th>electric</th>\n",
       "      <th>gasoline</th>\n",
       "      <th>hybrid</th>\n",
       "      <th>lpg</th>\n",
       "      <th>other</th>\n",
       "      <th>petrol</th>\n",
       "    </tr>\n",
       "    <tr>\n",
       "      <th>VehicleType</th>\n",
       "      <th></th>\n",
       "      <th></th>\n",
       "      <th></th>\n",
       "      <th></th>\n",
       "      <th></th>\n",
       "      <th></th>\n",
       "      <th></th>\n",
       "    </tr>\n",
       "  </thead>\n",
       "  <tbody>\n",
       "    <tr>\n",
       "      <th>bus</th>\n",
       "      <td>215.0</td>\n",
       "      <td>1.0</td>\n",
       "      <td>15394.0</td>\n",
       "      <td>5.0</td>\n",
       "      <td>489.0</td>\n",
       "      <td>8.0</td>\n",
       "      <td>8787.0</td>\n",
       "    </tr>\n",
       "    <tr>\n",
       "      <th>convertible</th>\n",
       "      <td>3.0</td>\n",
       "      <td>6.0</td>\n",
       "      <td>1364.0</td>\n",
       "      <td>NaN</td>\n",
       "      <td>215.0</td>\n",
       "      <td>6.0</td>\n",
       "      <td>15771.0</td>\n",
       "    </tr>\n",
       "    <tr>\n",
       "      <th>coupe</th>\n",
       "      <td>3.0</td>\n",
       "      <td>6.0</td>\n",
       "      <td>1860.0</td>\n",
       "      <td>15.0</td>\n",
       "      <td>270.0</td>\n",
       "      <td>3.0</td>\n",
       "      <td>11729.0</td>\n",
       "    </tr>\n",
       "    <tr>\n",
       "      <th>other</th>\n",
       "      <td>12.0</td>\n",
       "      <td>12.0</td>\n",
       "      <td>1383.0</td>\n",
       "      <td>1.0</td>\n",
       "      <td>28.0</td>\n",
       "      <td>41.0</td>\n",
       "      <td>1343.0</td>\n",
       "    </tr>\n",
       "    <tr>\n",
       "      <th>sedan</th>\n",
       "      <td>56.0</td>\n",
       "      <td>11.0</td>\n",
       "      <td>23219.0</td>\n",
       "      <td>125.0</td>\n",
       "      <td>1683.0</td>\n",
       "      <td>71.0</td>\n",
       "      <td>57835.0</td>\n",
       "    </tr>\n",
       "  </tbody>\n",
       "</table>\n",
       "</div>"
      ],
      "text/plain": [
       "               cng  electric  gasoline  hybrid     lpg  other   petrol\n",
       "VehicleType                                                           \n",
       "bus          215.0       1.0   15394.0     5.0   489.0    8.0   8787.0\n",
       "convertible    3.0       6.0    1364.0     NaN   215.0    6.0  15771.0\n",
       "coupe          3.0       6.0    1860.0    15.0   270.0    3.0  11729.0\n",
       "other         12.0      12.0    1383.0     1.0    28.0   41.0   1343.0\n",
       "sedan         56.0      11.0   23219.0   125.0  1683.0   71.0  57835.0"
      ]
     },
     "execution_count": 47,
     "metadata": {},
     "output_type": "execute_result"
    }
   ],
   "source": [
    "FuelType.head()"
   ]
  },
  {
   "cell_type": "code",
   "execution_count": 48,
   "metadata": {},
   "outputs": [],
   "source": [
    "FuelType['Max'] = FuelType[FuelType.columns].idxmax(axis=1)"
   ]
  },
  {
   "cell_type": "code",
   "execution_count": 49,
   "metadata": {},
   "outputs": [],
   "source": [
    "FT_dict = FuelType['Max'].to_dict()"
   ]
  },
  {
   "cell_type": "code",
   "execution_count": 50,
   "metadata": {},
   "outputs": [
    {
     "data": {
      "text/plain": [
       "{'bus': 'gasoline',\n",
       " 'convertible': 'petrol',\n",
       " 'coupe': 'petrol',\n",
       " 'other': 'gasoline',\n",
       " 'sedan': 'petrol',\n",
       " 'small': 'petrol',\n",
       " 'suv': 'gasoline',\n",
       " 'wagon': 'gasoline'}"
      ]
     },
     "execution_count": 50,
     "metadata": {},
     "output_type": "execute_result"
    }
   ],
   "source": [
    "FT_dict"
   ]
  },
  {
   "cell_type": "markdown",
   "metadata": {},
   "source": [
    "Теперь для каждого типа кузова мы знаем наиболее типичное топливо.\n"
   ]
  },
  {
   "cell_type": "code",
   "execution_count": 51,
   "metadata": {},
   "outputs": [],
   "source": [
    "df_preprocessed['FuelType'] = df_preprocessed['FuelType'].fillna(\n",
    "    df_preprocessed['VehicleType'].map(FT_dict))"
   ]
  },
  {
   "cell_type": "code",
   "execution_count": 52,
   "metadata": {},
   "outputs": [
    {
     "data": {
      "text/plain": [
       "0"
      ]
     },
     "execution_count": 52,
     "metadata": {},
     "output_type": "execute_result"
    }
   ],
   "source": [
    "df_preprocessed['FuelType'].isna().sum()"
   ]
  },
  {
   "cell_type": "markdown",
   "metadata": {},
   "source": [
    "Столбец `Gearbox`"
   ]
  },
  {
   "cell_type": "code",
   "execution_count": 53,
   "metadata": {},
   "outputs": [
    {
     "data": {
      "text/plain": [
       "17207"
      ]
     },
     "execution_count": 53,
     "metadata": {},
     "output_type": "execute_result"
    }
   ],
   "source": [
    "df_preprocessed['Gearbox'].isna().sum()"
   ]
  },
  {
   "cell_type": "code",
   "execution_count": 54,
   "metadata": {},
   "outputs": [
    {
     "data": {
      "text/plain": [
       "array(['manual', 'auto', nan], dtype=object)"
      ]
     },
     "execution_count": 54,
     "metadata": {},
     "output_type": "execute_result"
    }
   ],
   "source": [
    "df_preprocessed['Gearbox'].unique()"
   ]
  },
  {
   "cell_type": "code",
   "execution_count": 55,
   "metadata": {},
   "outputs": [
    {
     "data": {
      "text/plain": [
       "manual    232774\n",
       "auto       59348\n",
       "Name: Gearbox, dtype: int64"
      ]
     },
     "execution_count": 55,
     "metadata": {},
     "output_type": "execute_result"
    }
   ],
   "source": [
    "df_preprocessed['Gearbox'].value_counts()"
   ]
  },
  {
   "cell_type": "markdown",
   "metadata": {},
   "source": [
    "В датафрейме механическая коробка передач встречается в 4 раз чаще, чем автоматическая, поэтому пропуски следует заполнить значением 'manual'."
   ]
  },
  {
   "cell_type": "code",
   "execution_count": 56,
   "metadata": {},
   "outputs": [],
   "source": [
    "df_preprocessed['Gearbox'] = df_preprocessed['Gearbox'].fillna('manual')"
   ]
  },
  {
   "cell_type": "code",
   "execution_count": 57,
   "metadata": {},
   "outputs": [
    {
     "data": {
      "text/plain": [
       "0"
      ]
     },
     "execution_count": 57,
     "metadata": {},
     "output_type": "execute_result"
    }
   ],
   "source": [
    "df_preprocessed['Gearbox'].isna().sum()"
   ]
  },
  {
   "cell_type": "markdown",
   "metadata": {},
   "source": [
    "Столбец `Repaired`"
   ]
  },
  {
   "cell_type": "code",
   "execution_count": 58,
   "metadata": {},
   "outputs": [
    {
     "data": {
      "text/plain": [
       "64558"
      ]
     },
     "execution_count": 58,
     "metadata": {},
     "output_type": "execute_result"
    }
   ],
   "source": [
    "df_preprocessed['Repaired'].isna().sum()"
   ]
  },
  {
   "cell_type": "code",
   "execution_count": 59,
   "metadata": {},
   "outputs": [
    {
     "data": {
      "text/plain": [
       "array([nan, 'yes', 'no'], dtype=object)"
      ]
     },
     "execution_count": 59,
     "metadata": {},
     "output_type": "execute_result"
    }
   ],
   "source": [
    "df_preprocessed['Repaired'].unique()"
   ]
  },
  {
   "cell_type": "code",
   "execution_count": 60,
   "metadata": {},
   "outputs": [
    {
     "data": {
      "text/plain": [
       "no     211328\n",
       "yes     33443\n",
       "Name: Repaired, dtype: int64"
      ]
     },
     "execution_count": 60,
     "metadata": {},
     "output_type": "execute_result"
    }
   ],
   "source": [
    "df_preprocessed['Repaired'].value_counts()"
   ]
  },
  {
   "cell_type": "markdown",
   "metadata": {},
   "source": [
    "Заполним пропуски значением 'no'"
   ]
  },
  {
   "cell_type": "code",
   "execution_count": 61,
   "metadata": {},
   "outputs": [],
   "source": [
    "df_preprocessed['Repaired'] = df_preprocessed['Repaired'].fillna('no')"
   ]
  },
  {
   "cell_type": "code",
   "execution_count": 62,
   "metadata": {},
   "outputs": [
    {
     "data": {
      "text/plain": [
       "0"
      ]
     },
     "execution_count": 62,
     "metadata": {},
     "output_type": "execute_result"
    }
   ],
   "source": [
    "df_preprocessed['Repaired'].isna().sum()"
   ]
  },
  {
   "cell_type": "code",
   "execution_count": 63,
   "metadata": {},
   "outputs": [
    {
     "name": "stdout",
     "output_type": "stream",
     "text": [
      "<class 'pandas.core.frame.DataFrame'>\n",
      "Int64Index: 309329 entries, 0 to 354368\n",
      "Data columns (total 10 columns):\n",
      " #   Column            Non-Null Count   Dtype \n",
      "---  ------            --------------   ----- \n",
      " 0   Price             309329 non-null  int64 \n",
      " 1   VehicleType       309329 non-null  object\n",
      " 2   RegistrationYear  309329 non-null  int64 \n",
      " 3   Gearbox           309329 non-null  object\n",
      " 4   Power             309329 non-null  int64 \n",
      " 5   Model             309329 non-null  object\n",
      " 6   Kilometer         309329 non-null  int64 \n",
      " 7   FuelType          309329 non-null  object\n",
      " 8   Brand             309329 non-null  object\n",
      " 9   Repaired          309329 non-null  object\n",
      "dtypes: int64(4), object(6)\n",
      "memory usage: 26.0+ MB\n"
     ]
    }
   ],
   "source": [
    "df_preprocessed.info()"
   ]
  },
  {
   "cell_type": "markdown",
   "metadata": {},
   "source": [
    "Все пропуски обработаны."
   ]
  },
  {
   "cell_type": "markdown",
   "metadata": {},
   "source": [
    "**Обработаем аномалии в столбцах**"
   ]
  },
  {
   "cell_type": "markdown",
   "metadata": {},
   "source": [
    "Столбец `Price`"
   ]
  },
  {
   "cell_type": "code",
   "execution_count": 64,
   "metadata": {},
   "outputs": [],
   "source": [
    "%matplotlib inline"
   ]
  },
  {
   "cell_type": "code",
   "execution_count": 65,
   "metadata": {},
   "outputs": [
    {
     "data": {
      "text/plain": [
       "<AxesSubplot: >"
      ]
     },
     "execution_count": 65,
     "metadata": {},
     "output_type": "execute_result"
    },
    {
     "data": {
      "image/png": "[encoded data removed]",
      "text/plain": [
       "<Figure size 640x480 with 1 Axes>"
      ]
     },
     "metadata": {},
     "output_type": "display_data"
    }
   ],
   "source": [
    "df_preprocessed.boxplot(column=['Price'])"
   ]
  },
  {
   "cell_type": "markdown",
   "metadata": {},
   "source": [
    "Получаем, что в границы нормального размаха не входят цены больше примерно 15_000 евро. Будем считать эти значения выбросами."
   ]
  },
  {
   "cell_type": "code",
   "execution_count": 66,
   "metadata": {},
   "outputs": [
    {
     "data": {
      "text/plain": [
       "<AxesSubplot: >"
      ]
     },
     "execution_count": 66,
     "metadata": {},
     "output_type": "execute_result"
    },
    {
     "data": {
      "image/png": "[encoded data removed]",
      "text/plain": [
       "<Figure size 640x480 with 1 Axes>"
      ]
     },
     "metadata": {},
     "output_type": "display_data"
    }
   ],
   "source": [
    "df_preprocessed['Price'].hist(bins=100)"
   ]
  },
  {
   "cell_type": "markdown",
   "metadata": {},
   "source": [
    "На гистограмме видим большое количество объектов с нулевой ценой, что точно является аномалией. Будем считать машины дешевле 500 евро аномалиями."
   ]
  },
  {
   "cell_type": "markdown",
   "metadata": {},
   "source": [
    "Удалим аномальные значения"
   ]
  },
  {
   "cell_type": "code",
   "execution_count": 67,
   "metadata": {},
   "outputs": [],
   "source": [
    "df_preprocessed = df_preprocessed.query('Price > 500 & Price < 15000')"
   ]
  },
  {
   "cell_type": "code",
   "execution_count": 68,
   "metadata": {},
   "outputs": [
    {
     "data": {
      "text/plain": [
       "258472"
      ]
     },
     "execution_count": 68,
     "metadata": {},
     "output_type": "execute_result"
    }
   ],
   "source": [
    "df_preprocessed.shape[0]"
   ]
  },
  {
   "cell_type": "markdown",
   "metadata": {},
   "source": [
    "Стобец `RegistrationYear`"
   ]
  },
  {
   "cell_type": "markdown",
   "metadata": {},
   "source": [
    "Уберем явные выбросы"
   ]
  },
  {
   "cell_type": "code",
   "execution_count": 69,
   "metadata": {},
   "outputs": [
    {
     "data": {
      "text/plain": [
       "[1000,\n",
       " 1001,\n",
       " 1039,\n",
       " 1234,\n",
       " 1400,\n",
       " 1500,\n",
       " 1600,\n",
       " 1800,\n",
       " 1910,\n",
       " 1923,\n",
       " 1925,\n",
       " 1928,\n",
       " 1929,\n",
       " 1930,\n",
       " 1931,\n",
       " 1932,\n",
       " 1934,\n",
       " 1935,\n",
       " 1936,\n",
       " 1937,\n",
       " 1938,\n",
       " 1940,\n",
       " 1941,\n",
       " 1942,\n",
       " 1943,\n",
       " 1944,\n",
       " 1945,\n",
       " 1946,\n",
       " 1948,\n",
       " 1949,\n",
       " 1950,\n",
       " 1951,\n",
       " 1952,\n",
       " 1953,\n",
       " 1954,\n",
       " 1955,\n",
       " 1956,\n",
       " 1957,\n",
       " 1958,\n",
       " 1959,\n",
       " 1960,\n",
       " 1961,\n",
       " 1962,\n",
       " 1963,\n",
       " 1964,\n",
       " 1965,\n",
       " 1966,\n",
       " 1967,\n",
       " 1968,\n",
       " 1969,\n",
       " 1970,\n",
       " 1971,\n",
       " 1972,\n",
       " 1973,\n",
       " 1974,\n",
       " 1975,\n",
       " 1976,\n",
       " 1977,\n",
       " 1978,\n",
       " 1979,\n",
       " 1980,\n",
       " 1981,\n",
       " 1982,\n",
       " 1983,\n",
       " 1984,\n",
       " 1985,\n",
       " 1986,\n",
       " 1987,\n",
       " 1988,\n",
       " 1989,\n",
       " 1990,\n",
       " 1991,\n",
       " 1992,\n",
       " 1993,\n",
       " 1994,\n",
       " 1995,\n",
       " 1996,\n",
       " 1997,\n",
       " 1998,\n",
       " 1999,\n",
       " 2000,\n",
       " 2001,\n",
       " 2002,\n",
       " 2003,\n",
       " 2004,\n",
       " 2005,\n",
       " 2006,\n",
       " 2007,\n",
       " 2008,\n",
       " 2009,\n",
       " 2010,\n",
       " 2011,\n",
       " 2012,\n",
       " 2013,\n",
       " 2014,\n",
       " 2015,\n",
       " 2016,\n",
       " 2017,\n",
       " 2018,\n",
       " 2019,\n",
       " 2066,\n",
       " 2290,\n",
       " 2500,\n",
       " 2800,\n",
       " 2900,\n",
       " 3000,\n",
       " 3200,\n",
       " 3700,\n",
       " 4000,\n",
       " 4100,\n",
       " 4500,\n",
       " 5000,\n",
       " 5300,\n",
       " 5555,\n",
       " 5911,\n",
       " 6000,\n",
       " 7000,\n",
       " 7100,\n",
       " 7800,\n",
       " 8500,\n",
       " 8888,\n",
       " 9000,\n",
       " 9450,\n",
       " 9999]"
      ]
     },
     "execution_count": 69,
     "metadata": {},
     "output_type": "execute_result"
    }
   ],
   "source": [
    "sorted(df_preprocessed['RegistrationYear'].unique())"
   ]
  },
  {
   "cell_type": "code",
   "execution_count": 70,
   "metadata": {},
   "outputs": [],
   "source": [
    "df_preprocessed = df_preprocessed.query('RegistrationYear > 1900 & RegistrationYear < 2025')"
   ]
  },
  {
   "cell_type": "code",
   "execution_count": 71,
   "metadata": {},
   "outputs": [
    {
     "data": {
      "text/plain": [
       "<AxesSubplot: >"
      ]
     },
     "execution_count": 71,
     "metadata": {},
     "output_type": "execute_result"
    },
    {
     "data": {
      "image/png": "[encoded data removed]",
      "text/plain": [
       "<Figure size 640x480 with 1 Axes>"
      ]
     },
     "metadata": {},
     "output_type": "display_data"
    }
   ],
   "source": [
    "df_preprocessed.boxplot(column=['RegistrationYear'])"
   ]
  },
  {
   "cell_type": "markdown",
   "metadata": {},
   "source": [
    "Выбросами будем считать машины, зарегистрированные до 1990 г."
   ]
  },
  {
   "cell_type": "code",
   "execution_count": 72,
   "metadata": {},
   "outputs": [],
   "source": [
    "df_preprocessed = df_preprocessed.query('RegistrationYear > 1990')"
   ]
  },
  {
   "cell_type": "markdown",
   "metadata": {},
   "source": [
    "В верхней части графика также наблюдаем выбросы. Проверим согласованность дат скачивания и регистрации анкеты с датой регистрации автомобиля."
   ]
  },
  {
   "cell_type": "code",
   "execution_count": 73,
   "metadata": {},
   "outputs": [
    {
     "data": {
      "text/plain": [
       "2016"
      ]
     },
     "execution_count": 73,
     "metadata": {},
     "output_type": "execute_result"
    }
   ],
   "source": [
    "max(df[\"DateCrawled\"].apply(lambda x: x.year))"
   ]
  },
  {
   "cell_type": "code",
   "execution_count": 74,
   "metadata": {},
   "outputs": [
    {
     "data": {
      "text/plain": [
       "2016"
      ]
     },
     "execution_count": 74,
     "metadata": {},
     "output_type": "execute_result"
    }
   ],
   "source": [
    "min(df['DateCrawled'].apply(lambda x: x.year))"
   ]
  },
  {
   "cell_type": "code",
   "execution_count": 75,
   "metadata": {},
   "outputs": [
    {
     "data": {
      "text/plain": [
       "2016"
      ]
     },
     "execution_count": 75,
     "metadata": {},
     "output_type": "execute_result"
    }
   ],
   "source": [
    "max(df['DateCreated'].apply(lambda x: x.year))"
   ]
  },
  {
   "cell_type": "code",
   "execution_count": 76,
   "metadata": {},
   "outputs": [
    {
     "data": {
      "text/plain": [
       "2014"
      ]
     },
     "execution_count": 76,
     "metadata": {},
     "output_type": "execute_result"
    }
   ],
   "source": [
    "min(df['DateCreated'].apply(lambda x: x.year))"
   ]
  },
  {
   "cell_type": "markdown",
   "metadata": {},
   "source": [
    "Как видим, данные были созданы и обработаны не позднее 2016 г., поэтому автомобили, зарегистрированные после 2016 г. будем считать аномалией."
   ]
  },
  {
   "cell_type": "code",
   "execution_count": 77,
   "metadata": {},
   "outputs": [
    {
     "data": {
      "text/plain": [
       "249430"
      ]
     },
     "execution_count": 77,
     "metadata": {},
     "output_type": "execute_result"
    }
   ],
   "source": [
    "df_preprocessed.shape[0]"
   ]
  },
  {
   "cell_type": "markdown",
   "metadata": {},
   "source": [
    "Столбец `Power`"
   ]
  },
  {
   "cell_type": "code",
   "execution_count": 78,
   "metadata": {},
   "outputs": [
    {
     "data": {
      "text/plain": [
       "[0,\n",
       " 1,\n",
       " 2,\n",
       " 3,\n",
       " 4,\n",
       " 5,\n",
       " 6,\n",
       " 7,\n",
       " 8,\n",
       " 9,\n",
       " 10,\n",
       " 11,\n",
       " 12,\n",
       " 13,\n",
       " 14,\n",
       " 15,\n",
       " 16,\n",
       " 17,\n",
       " 18,\n",
       " 19,\n",
       " 20,\n",
       " 21,\n",
       " 22,\n",
       " 23,\n",
       " 24,\n",
       " 25,\n",
       " 26,\n",
       " 27,\n",
       " 29,\n",
       " 30,\n",
       " 31,\n",
       " 33,\n",
       " 34,\n",
       " 35,\n",
       " 36,\n",
       " 37,\n",
       " 38,\n",
       " 39,\n",
       " 40,\n",
       " 41,\n",
       " 42,\n",
       " 43,\n",
       " 44,\n",
       " 45,\n",
       " 46,\n",
       " 47,\n",
       " 48,\n",
       " 49,\n",
       " 50,\n",
       " 51,\n",
       " 52,\n",
       " 53,\n",
       " 54,\n",
       " 55,\n",
       " 56,\n",
       " 57,\n",
       " 58,\n",
       " 59,\n",
       " 60,\n",
       " 61,\n",
       " 62,\n",
       " 63,\n",
       " 64,\n",
       " 65,\n",
       " 66,\n",
       " 67,\n",
       " 68,\n",
       " 69,\n",
       " 70,\n",
       " 71,\n",
       " 72,\n",
       " 73,\n",
       " 74,\n",
       " 75,\n",
       " 76,\n",
       " 77,\n",
       " 78,\n",
       " 79,\n",
       " 80,\n",
       " 81,\n",
       " 82,\n",
       " 83,\n",
       " 84,\n",
       " 85,\n",
       " 86,\n",
       " 87,\n",
       " 88,\n",
       " 89,\n",
       " 90,\n",
       " 91,\n",
       " 92,\n",
       " 93,\n",
       " 94,\n",
       " 95,\n",
       " 96,\n",
       " 97,\n",
       " 98,\n",
       " 99,\n",
       " 100,\n",
       " 101,\n",
       " 102,\n",
       " 103,\n",
       " 104,\n",
       " 105,\n",
       " 106,\n",
       " 107,\n",
       " 108,\n",
       " 109,\n",
       " 110,\n",
       " 111,\n",
       " 112,\n",
       " 113,\n",
       " 114,\n",
       " 115,\n",
       " 116,\n",
       " 117,\n",
       " 118,\n",
       " 119,\n",
       " 120,\n",
       " 121,\n",
       " 122,\n",
       " 123,\n",
       " 124,\n",
       " 125,\n",
       " 126,\n",
       " 127,\n",
       " 128,\n",
       " 129,\n",
       " 130,\n",
       " 131,\n",
       " 132,\n",
       " 133,\n",
       " 134,\n",
       " 135,\n",
       " 136,\n",
       " 137,\n",
       " 138,\n",
       " 139,\n",
       " 140,\n",
       " 141,\n",
       " 142,\n",
       " 143,\n",
       " 144,\n",
       " 145,\n",
       " 146,\n",
       " 147,\n",
       " 148,\n",
       " 149,\n",
       " 150,\n",
       " 151,\n",
       " 152,\n",
       " 153,\n",
       " 154,\n",
       " 155,\n",
       " 156,\n",
       " 157,\n",
       " 158,\n",
       " 159,\n",
       " 160,\n",
       " 161,\n",
       " 162,\n",
       " 163,\n",
       " 164,\n",
       " 165,\n",
       " 166,\n",
       " 167,\n",
       " 168,\n",
       " 169,\n",
       " 170,\n",
       " 171,\n",
       " 172,\n",
       " 173,\n",
       " 174,\n",
       " 175,\n",
       " 176,\n",
       " 177,\n",
       " 178,\n",
       " 179,\n",
       " 180,\n",
       " 181,\n",
       " 182,\n",
       " 183,\n",
       " 184,\n",
       " 185,\n",
       " 186,\n",
       " 187,\n",
       " 188,\n",
       " 189,\n",
       " 190,\n",
       " 191,\n",
       " 192,\n",
       " 193,\n",
       " 194,\n",
       " 195,\n",
       " 196,\n",
       " 197,\n",
       " 198,\n",
       " 199,\n",
       " 200,\n",
       " 201,\n",
       " 202,\n",
       " 203,\n",
       " 204,\n",
       " 205,\n",
       " 206,\n",
       " 207,\n",
       " 208,\n",
       " 209,\n",
       " 210,\n",
       " 211,\n",
       " 212,\n",
       " 213,\n",
       " 214,\n",
       " 215,\n",
       " 216,\n",
       " 217,\n",
       " 218,\n",
       " 219,\n",
       " 220,\n",
       " 221,\n",
       " 222,\n",
       " 223,\n",
       " 224,\n",
       " 225,\n",
       " 226,\n",
       " 227,\n",
       " 228,\n",
       " 229,\n",
       " 230,\n",
       " 231,\n",
       " 232,\n",
       " 233,\n",
       " 234,\n",
       " 235,\n",
       " 236,\n",
       " 237,\n",
       " 238,\n",
       " 239,\n",
       " 240,\n",
       " 241,\n",
       " 242,\n",
       " 243,\n",
       " 244,\n",
       " 245,\n",
       " 246,\n",
       " 247,\n",
       " 248,\n",
       " 249,\n",
       " 250,\n",
       " 251,\n",
       " 252,\n",
       " 253,\n",
       " 254,\n",
       " 255,\n",
       " 256,\n",
       " 257,\n",
       " 258,\n",
       " 259,\n",
       " 260,\n",
       " 261,\n",
       " 262,\n",
       " 264,\n",
       " 265,\n",
       " 266,\n",
       " 267,\n",
       " 268,\n",
       " 269,\n",
       " 270,\n",
       " 271,\n",
       " 272,\n",
       " 273,\n",
       " 274,\n",
       " 275,\n",
       " 276,\n",
       " 277,\n",
       " 278,\n",
       " 279,\n",
       " 280,\n",
       " 281,\n",
       " 282,\n",
       " 283,\n",
       " 284,\n",
       " 285,\n",
       " 286,\n",
       " 287,\n",
       " 288,\n",
       " 289,\n",
       " 290,\n",
       " 292,\n",
       " 293,\n",
       " 294,\n",
       " 295,\n",
       " 296,\n",
       " 297,\n",
       " 298,\n",
       " 299,\n",
       " 300,\n",
       " 301,\n",
       " 303,\n",
       " 304,\n",
       " 305,\n",
       " 306,\n",
       " 307,\n",
       " 308,\n",
       " 309,\n",
       " 310,\n",
       " 311,\n",
       " 313,\n",
       " 314,\n",
       " 315,\n",
       " 316,\n",
       " 318,\n",
       " 320,\n",
       " 321,\n",
       " 322,\n",
       " 323,\n",
       " 324,\n",
       " 325,\n",
       " 326,\n",
       " 327,\n",
       " 328,\n",
       " 329,\n",
       " 330,\n",
       " 331,\n",
       " 333,\n",
       " 334,\n",
       " 335,\n",
       " 336,\n",
       " 338,\n",
       " 339,\n",
       " 340,\n",
       " 341,\n",
       " 343,\n",
       " 344,\n",
       " 345,\n",
       " 346,\n",
       " 347,\n",
       " 348,\n",
       " 349,\n",
       " 350,\n",
       " 353,\n",
       " 354,\n",
       " 355,\n",
       " 356,\n",
       " 357,\n",
       " 358,\n",
       " 360,\n",
       " 362,\n",
       " 363,\n",
       " 365,\n",
       " 367,\n",
       " 368,\n",
       " 370,\n",
       " 374,\n",
       " 376,\n",
       " 379,\n",
       " 380,\n",
       " 381,\n",
       " 382,\n",
       " 385,\n",
       " 387,\n",
       " 388,\n",
       " 390,\n",
       " 392,\n",
       " 394,\n",
       " 396,\n",
       " 398,\n",
       " 399,\n",
       " 400,\n",
       " 401,\n",
       " 405,\n",
       " 408,\n",
       " 411,\n",
       " 420,\n",
       " 430,\n",
       " 431,\n",
       " 435,\n",
       " 442,\n",
       " 445,\n",
       " 449,\n",
       " 450,\n",
       " 454,\n",
       " 475,\n",
       " 476,\n",
       " 500,\n",
       " 504,\n",
       " 505,\n",
       " 507,\n",
       " 510,\n",
       " 514,\n",
       " 520,\n",
       " 521,\n",
       " 540,\n",
       " 550,\n",
       " 551,\n",
       " 572,\n",
       " 579,\n",
       " 585,\n",
       " 599,\n",
       " 600,\n",
       " 601,\n",
       " 602,\n",
       " 603,\n",
       " 604,\n",
       " 606,\n",
       " 607,\n",
       " 612,\n",
       " 650,\n",
       " 651,\n",
       " 671,\n",
       " 682,\n",
       " 685,\n",
       " 696,\n",
       " 700,\n",
       " 702,\n",
       " 703,\n",
       " 732,\n",
       " 743,\n",
       " 750,\n",
       " 771,\n",
       " 776,\n",
       " 800,\n",
       " 805,\n",
       " 808,\n",
       " 850,\n",
       " 871,\n",
       " 900,\n",
       " 901,\n",
       " 903,\n",
       " 907,\n",
       " 909,\n",
       " 923,\n",
       " 950,\n",
       " 952,\n",
       " 953,\n",
       " 999,\n",
       " 1000,\n",
       " 1001,\n",
       " 1003,\n",
       " 1005,\n",
       " 1011,\n",
       " 1012,\n",
       " 1016,\n",
       " 1017,\n",
       " 1021,\n",
       " 1024,\n",
       " 1054,\n",
       " 1055,\n",
       " 1056,\n",
       " 1062,\n",
       " 1079,\n",
       " 1082,\n",
       " 1090,\n",
       " 1100,\n",
       " 1105,\n",
       " 1115,\n",
       " 1149,\n",
       " 1151,\n",
       " 1160,\n",
       " 1162,\n",
       " 1164,\n",
       " 1199,\n",
       " 1202,\n",
       " 1221,\n",
       " 1223,\n",
       " 1240,\n",
       " 1250,\n",
       " 1252,\n",
       " 1275,\n",
       " 1299,\n",
       " 1300,\n",
       " 1317,\n",
       " 1339,\n",
       " 1351,\n",
       " 1360,\n",
       " 1362,\n",
       " 1363,\n",
       " 1367,\n",
       " 1390,\n",
       " 1394,\n",
       " 1398,\n",
       " 1399,\n",
       " 1400,\n",
       " 1401,\n",
       " 1403,\n",
       " 1405,\n",
       " 1416,\n",
       " 1432,\n",
       " 1433,\n",
       " 1436,\n",
       " 1500,\n",
       " 1501,\n",
       " 1502,\n",
       " 1503,\n",
       " 1506,\n",
       " 1521,\n",
       " 1548,\n",
       " 1595,\n",
       " 1596,\n",
       " 1597,\n",
       " 1598,\n",
       " 1600,\n",
       " 1631,\n",
       " 1653,\n",
       " 1689,\n",
       " 1700,\n",
       " 1701,\n",
       " 1704,\n",
       " 1707,\n",
       " 1753,\n",
       " 1771,\n",
       " 1779,\n",
       " 1780,\n",
       " 1781,\n",
       " 1783,\n",
       " 1793,\n",
       " 1796,\n",
       " 1800,\n",
       " 1801,\n",
       " 1870,\n",
       " 1895,\n",
       " 1896,\n",
       " 1900,\n",
       " 1920,\n",
       " 1922,\n",
       " 1933,\n",
       " 1937,\n",
       " 1968,\n",
       " 1986,\n",
       " 1992,\n",
       " 1993,\n",
       " 1995,\n",
       " 1998,\n",
       " 2000,\n",
       " 2004,\n",
       " 2005,\n",
       " 2007,\n",
       " 2009,\n",
       " 2016,\n",
       " 2017,\n",
       " 2018,\n",
       " 2172,\n",
       " 2331,\n",
       " 2340,\n",
       " 2389,\n",
       " 2402,\n",
       " 2461,\n",
       " 2598,\n",
       " 2729,\n",
       " 2792,\n",
       " 2799,\n",
       " 3199,\n",
       " 3454,\n",
       " 3500,\n",
       " 4400,\n",
       " 5411,\n",
       " 5420,\n",
       " 5809,\n",
       " 5867,\n",
       " 6006,\n",
       " 6010,\n",
       " 6011,\n",
       " 6012,\n",
       " 6045,\n",
       " 6062,\n",
       " 6226,\n",
       " 6512,\n",
       " 6920,\n",
       " 7508,\n",
       " 7511,\n",
       " 7512,\n",
       " 7515,\n",
       " 7518,\n",
       " 7529,\n",
       " 7544,\n",
       " 8259,\n",
       " 8404,\n",
       " 8500,\n",
       " 9000,\n",
       " 9007,\n",
       " 9010,\n",
       " 9011,\n",
       " 9012,\n",
       " 9013,\n",
       " 10000,\n",
       " 10110,\n",
       " 10311,\n",
       " 10520,\n",
       " 10522,\n",
       " 10710,\n",
       " 10910,\n",
       " 10912,\n",
       " 11011,\n",
       " 11025,\n",
       " 11509,\n",
       " 11530,\n",
       " 11635,\n",
       " 12012,\n",
       " 12510,\n",
       " 12512,\n",
       " 14009,\n",
       " 15001,\n",
       " 15017,\n",
       " 15020,\n",
       " 15033,\n",
       " 16011,\n",
       " 16311,\n",
       " 16312,\n",
       " 17011,\n",
       " 17410,\n",
       " 17700,\n",
       " 17932,\n",
       " 19208,\n",
       " 19211,\n",
       " 19312,\n",
       " 20000]"
      ]
     },
     "execution_count": 78,
     "metadata": {},
     "output_type": "execute_result"
    }
   ],
   "source": [
    "sorted(df_preprocessed['Power'].unique())"
   ]
  },
  {
   "cell_type": "markdown",
   "metadata": {},
   "source": [
    "Уберем явные выбросы"
   ]
  },
  {
   "cell_type": "code",
   "execution_count": 79,
   "metadata": {},
   "outputs": [],
   "source": [
    "df_preprocessed = df_preprocessed.query('Power < 500')"
   ]
  },
  {
   "cell_type": "code",
   "execution_count": 80,
   "metadata": {},
   "outputs": [
    {
     "data": {
      "text/plain": [
       "249111"
      ]
     },
     "execution_count": 80,
     "metadata": {},
     "output_type": "execute_result"
    }
   ],
   "source": [
    "df_preprocessed.shape[0]"
   ]
  },
  {
   "cell_type": "code",
   "execution_count": 81,
   "metadata": {},
   "outputs": [
    {
     "data": {
      "text/plain": [
       "<AxesSubplot: >"
      ]
     },
     "execution_count": 81,
     "metadata": {},
     "output_type": "execute_result"
    },
    {
     "data": {
      "image/png": "[encoded data removed]",
      "text/plain": [
       "<Figure size 640x480 with 1 Axes>"
      ]
     },
     "metadata": {},
     "output_type": "display_data"
    }
   ],
   "source": [
    "df_preprocessed.boxplot(column=['Power'])"
   ]
  },
  {
   "cell_type": "markdown",
   "metadata": {},
   "source": [
    "Уберем значения, выходящие за верхний ус, и значения, меньшие 50 л.с."
   ]
  },
  {
   "cell_type": "code",
   "execution_count": 82,
   "metadata": {},
   "outputs": [],
   "source": [
    "df_preprocessed = df_preprocessed.query('Power < 250 & Power > 50')"
   ]
  },
  {
   "cell_type": "code",
   "execution_count": 83,
   "metadata": {},
   "outputs": [
    {
     "data": {
      "text/plain": [
       "<AxesSubplot: >"
      ]
     },
     "execution_count": 83,
     "metadata": {},
     "output_type": "execute_result"
    },
    {
     "data": {
      "image/png": "[encoded data removed]",
      "text/plain": [
       "<Figure size 640x480 with 1 Axes>"
      ]
     },
     "metadata": {},
     "output_type": "display_data"
    }
   ],
   "source": [
    "df_preprocessed.boxplot(column=['Power'])"
   ]
  },
  {
   "cell_type": "code",
   "execution_count": 84,
   "metadata": {},
   "outputs": [
    {
     "data": {
      "text/plain": [
       "216635"
      ]
     },
     "execution_count": 84,
     "metadata": {},
     "output_type": "execute_result"
    }
   ],
   "source": [
    "df_preprocessed.shape[0]"
   ]
  },
  {
   "cell_type": "markdown",
   "metadata": {},
   "source": [
    "Столбец `Kilometer`"
   ]
  },
  {
   "cell_type": "code",
   "execution_count": 85,
   "metadata": {},
   "outputs": [
    {
     "data": {
      "text/plain": [
       "<AxesSubplot: >"
      ]
     },
     "execution_count": 85,
     "metadata": {},
     "output_type": "execute_result"
    },
    {
     "data": {
      "image/png": "[encoded data removed]",
      "text/plain": [
       "<Figure size 640x480 with 1 Axes>"
      ]
     },
     "metadata": {},
     "output_type": "display_data"
    }
   ],
   "source": [
    "df_preprocessed['Kilometer'].hist(bins=50)"
   ]
  },
  {
   "cell_type": "code",
   "execution_count": 86,
   "metadata": {},
   "outputs": [
    {
     "data": {
      "text/plain": [
       "<AxesSubplot: >"
      ]
     },
     "execution_count": 86,
     "metadata": {},
     "output_type": "execute_result"
    },
    {
     "data": {
      "image/png": "[encoded data removed]",
      "text/plain": [
       "<Figure size 640x480 with 1 Axes>"
      ]
     },
     "metadata": {},
     "output_type": "display_data"
    }
   ],
   "source": [
    "df_preprocessed.boxplot(column=['Kilometer'])"
   ]
  },
  {
   "cell_type": "code",
   "execution_count": 87,
   "metadata": {},
   "outputs": [
    {
     "data": {
      "text/plain": [
       "150000    143274\n",
       "125000     24562\n",
       "100000      9686\n",
       "90000       7792\n",
       "80000       6754\n",
       "70000       5831\n",
       "60000       4782\n",
       "50000       4028\n",
       "40000       3010\n",
       "30000       2521\n",
       "20000       2089\n",
       "5000        1796\n",
       "10000        510\n",
       "Name: Kilometer, dtype: int64"
      ]
     },
     "execution_count": 87,
     "metadata": {},
     "output_type": "execute_result"
    }
   ],
   "source": [
    "df_preprocessed['Kilometer'].value_counts()"
   ]
  },
  {
   "cell_type": "markdown",
   "metadata": {},
   "source": [
    "Cудя по представленным значениям, в анкете можно выбрать конкертный диапазон, в который укладывается пробег автомобиля."
   ]
  },
  {
   "cell_type": "markdown",
   "metadata": {},
   "source": [
    "Выбросами будем считать пробег, не укладывающийся в стандартный размах, т.е. меньший 90 000 км."
   ]
  },
  {
   "cell_type": "code",
   "execution_count": 88,
   "metadata": {},
   "outputs": [],
   "source": [
    "df_preprocessed = df_preprocessed.query('Kilometer >= 90000')"
   ]
  },
  {
   "cell_type": "code",
   "execution_count": 89,
   "metadata": {},
   "outputs": [
    {
     "data": {
      "text/plain": [
       "185314"
      ]
     },
     "execution_count": 89,
     "metadata": {},
     "output_type": "execute_result"
    }
   ],
   "source": [
    "df_preprocessed.shape[0]"
   ]
  },
  {
   "cell_type": "code",
   "execution_count": 90,
   "metadata": {},
   "outputs": [
    {
     "name": "stdout",
     "output_type": "stream",
     "text": [
      "<class 'pandas.core.frame.DataFrame'>\n",
      "Int64Index: 185314 entries, 2 to 354368\n",
      "Data columns (total 10 columns):\n",
      " #   Column            Non-Null Count   Dtype \n",
      "---  ------            --------------   ----- \n",
      " 0   Price             185314 non-null  int64 \n",
      " 1   VehicleType       185314 non-null  object\n",
      " 2   RegistrationYear  185314 non-null  int64 \n",
      " 3   Gearbox           185314 non-null  object\n",
      " 4   Power             185314 non-null  int64 \n",
      " 5   Model             185314 non-null  object\n",
      " 6   Kilometer         185314 non-null  int64 \n",
      " 7   FuelType          185314 non-null  object\n",
      " 8   Brand             185314 non-null  object\n",
      " 9   Repaired          185314 non-null  object\n",
      "dtypes: int64(4), object(6)\n",
      "memory usage: 15.6+ MB\n"
     ]
    }
   ],
   "source": [
    "df_preprocessed.info()"
   ]
  },
  {
   "cell_type": "markdown",
   "metadata": {},
   "source": [
    "**Подготовим выборки для моделей**"
   ]
  },
  {
   "cell_type": "code",
   "execution_count": 91,
   "metadata": {},
   "outputs": [],
   "source": [
    "features = df_preprocessed.drop('Price', axis=1)\n",
    "target = df_preprocessed['Price']"
   ]
  },
  {
   "cell_type": "code",
   "execution_count": 92,
   "metadata": {},
   "outputs": [],
   "source": [
    "features_train, features_tmp, target_train, target_tmp = train_test_split(\n",
    "    features, target, test_size=0.4, random_state=12345) #0.6 данных уходят в обучающую выборку, еще 0.4 \n",
    "#мы дальше поделим на тестовую и валидационную по 0.2 данных в каждой"
   ]
  },
  {
   "cell_type": "code",
   "execution_count": 93,
   "metadata": {},
   "outputs": [],
   "source": [
    "features_test, features_valid, target_test, target_valid = train_test_split(\n",
    "    features_tmp, target_tmp, test_size=0.5, random_state=12345) #Получаем тестовую и валидационную выборки"
   ]
  },
  {
   "cell_type": "markdown",
   "metadata": {},
   "source": [
    "**Масштабируем количественные признаки**"
   ]
  },
  {
   "cell_type": "code",
   "execution_count": 94,
   "metadata": {},
   "outputs": [],
   "source": [
    "# создаём скелер\n",
    "scaler = StandardScaler()"
   ]
  },
  {
   "cell_type": "code",
   "execution_count": 95,
   "metadata": {},
   "outputs": [
    {
     "data": {
      "text/plain": [
       "Index(['VehicleType', 'RegistrationYear', 'Gearbox', 'Power', 'Model',\n",
       "       'Kilometer', 'FuelType', 'Brand', 'Repaired'],\n",
       "      dtype='object')"
      ]
     },
     "execution_count": 95,
     "metadata": {},
     "output_type": "execute_result"
    }
   ],
   "source": [
    "features_train.columns"
   ]
  },
  {
   "cell_type": "markdown",
   "metadata": {},
   "source": [
    "Набор признаков, подлежащих масштабированию"
   ]
  },
  {
   "cell_type": "code",
   "execution_count": 96,
   "metadata": {},
   "outputs": [],
   "source": [
    "sc_features = ['RegistrationYear', 'Power', 'Kilometer']"
   ]
  },
  {
   "cell_type": "code",
   "execution_count": 97,
   "metadata": {},
   "outputs": [
    {
     "data": {
      "text/html": [
       "<style>#sk-container-id-1 {color: black;background-color: white;}#sk-container-id-1 pre{padding: 0;}#sk-container-id-1 div.sk-toggleable {background-color: white;}#sk-container-id-1 label.sk-toggleable__label {cursor: pointer;display: block;width: 100%;margin-bottom: 0;padding: 0.3em;box-sizing: border-box;text-align: center;}#sk-container-id-1 label.sk-toggleable__label-arrow:before {content: \"▸\";float: left;margin-right: 0.25em;color: #696969;}#sk-container-id-1 label.sk-toggleable__label-arrow:hover:before {color: black;}#sk-container-id-1 div.sk-estimator:hover label.sk-toggleable__label-arrow:before {color: black;}#sk-container-id-1 div.sk-toggleable__content {max-height: 0;max-width: 0;overflow: hidden;text-align: left;background-color: #f0f8ff;}#sk-container-id-1 div.sk-toggleable__content pre {margin: 0.2em;color: black;border-radius: 0.25em;background-color: #f0f8ff;}#sk-container-id-1 input.sk-toggleable__control:checked~div.sk-toggleable__content {max-height: 200px;max-width: 100%;overflow: auto;}#sk-container-id-1 input.sk-toggleable__control:checked~label.sk-toggleable__label-arrow:before {content: \"▾\";}#sk-container-id-1 div.sk-estimator input.sk-toggleable__control:checked~label.sk-toggleable__label {background-color: #d4ebff;}#sk-container-id-1 div.sk-label input.sk-toggleable__control:checked~label.sk-toggleable__label {background-color: #d4ebff;}#sk-container-id-1 input.sk-hidden--visually {border: 0;clip: rect(1px 1px 1px 1px);clip: rect(1px, 1px, 1px, 1px);height: 1px;margin: -1px;overflow: hidden;padding: 0;position: absolute;width: 1px;}#sk-container-id-1 div.sk-estimator {font-family: monospace;background-color: #f0f8ff;border: 1px dotted black;border-radius: 0.25em;box-sizing: border-box;margin-bottom: 0.5em;}#sk-container-id-1 div.sk-estimator:hover {background-color: #d4ebff;}#sk-container-id-1 div.sk-parallel-item::after {content: \"\";width: 100%;border-bottom: 1px solid gray;flex-grow: 1;}#sk-container-id-1 div.sk-label:hover label.sk-toggleable__label {background-color: #d4ebff;}#sk-container-id-1 div.sk-serial::before {content: \"\";position: absolute;border-left: 1px solid gray;box-sizing: border-box;top: 0;bottom: 0;left: 50%;z-index: 0;}#sk-container-id-1 div.sk-serial {display: flex;flex-direction: column;align-items: center;background-color: white;padding-right: 0.2em;padding-left: 0.2em;position: relative;}#sk-container-id-1 div.sk-item {position: relative;z-index: 1;}#sk-container-id-1 div.sk-parallel {display: flex;align-items: stretch;justify-content: center;background-color: white;position: relative;}#sk-container-id-1 div.sk-item::before, #sk-container-id-1 div.sk-parallel-item::before {content: \"\";position: absolute;border-left: 1px solid gray;box-sizing: border-box;top: 0;bottom: 0;left: 50%;z-index: -1;}#sk-container-id-1 div.sk-parallel-item {display: flex;flex-direction: column;z-index: 1;position: relative;background-color: white;}#sk-container-id-1 div.sk-parallel-item:first-child::after {align-self: flex-end;width: 50%;}#sk-container-id-1 div.sk-parallel-item:last-child::after {align-self: flex-start;width: 50%;}#sk-container-id-1 div.sk-parallel-item:only-child::after {width: 0;}#sk-container-id-1 div.sk-dashed-wrapped {border: 1px dashed gray;margin: 0 0.4em 0.5em 0.4em;box-sizing: border-box;padding-bottom: 0.4em;background-color: white;}#sk-container-id-1 div.sk-label label {font-family: monospace;font-weight: bold;display: inline-block;line-height: 1.2em;}#sk-container-id-1 div.sk-label-container {text-align: center;}#sk-container-id-1 div.sk-container {/* jupyter's `normalize.less` sets `[hidden] { display: none; }` but bootstrap.min.css set `[hidden] { display: none !important; }` so we also need the `!important` here to be able to override the default hidden behavior on the sphinx rendered scikit-learn.org. See: https://github.com/scikit-learn/scikit-learn/issues/21755 */display: inline-block !important;position: relative;}#sk-container-id-1 div.sk-text-repr-fallback {display: none;}</style><div id=\"sk-container-id-1\" class=\"sk-top-container\"><div class=\"sk-text-repr-fallback\"><pre>StandardScaler()</pre><b>In a Jupyter environment, please rerun this cell to show the HTML representation or trust the notebook. <br />On GitHub, the HTML representation is unable to render, please try loading this page with nbviewer.org.</b></div><div class=\"sk-container\" hidden><div class=\"sk-item\"><div class=\"sk-estimator sk-toggleable\"><input class=\"sk-toggleable__control sk-hidden--visually\" id=\"sk-estimator-id-1\" type=\"checkbox\" checked><label for=\"sk-estimator-id-1\" class=\"sk-toggleable__label sk-toggleable__label-arrow\">StandardScaler</label><div class=\"sk-toggleable__content\"><pre>StandardScaler()</pre></div></div></div></div></div>"
      ],
      "text/plain": [
       "StandardScaler()"
      ]
     },
     "execution_count": 97,
     "metadata": {},
     "output_type": "execute_result"
    }
   ],
   "source": [
    "# обучаем скелер на численных признаках тренировочной выборки\n",
    "scaler.fit(features_train[sc_features])"
   ]
  },
  {
   "cell_type": "code",
   "execution_count": 98,
   "metadata": {},
   "outputs": [],
   "source": [
    "# трансформируем её же\n",
    "features_train[sc_features] = scaler.transform(features_train[sc_features])"
   ]
  },
  {
   "cell_type": "code",
   "execution_count": 99,
   "metadata": {},
   "outputs": [],
   "source": [
    "#трансформируем тестовую выборку\n",
    "features_test[sc_features] = scaler.transform(features_test[sc_features])"
   ]
  },
  {
   "cell_type": "code",
   "execution_count": 100,
   "metadata": {},
   "outputs": [],
   "source": [
    "#трансформируем валидационную выборку\n",
    "features_valid[sc_features] = scaler.transform(features_valid[sc_features])"
   ]
  },
  {
   "cell_type": "code",
   "execution_count": 101,
   "metadata": {},
   "outputs": [
    {
     "data": {
      "text/html": [
       "<div>\n",
       "<style scoped>\n",
       "    .dataframe tbody tr th:only-of-type {\n",
       "        vertical-align: middle;\n",
       "    }\n",
       "\n",
       "    .dataframe tbody tr th {\n",
       "        vertical-align: top;\n",
       "    }\n",
       "\n",
       "    .dataframe thead th {\n",
       "        text-align: right;\n",
       "    }\n",
       "</style>\n",
       "<table border=\"1\" class=\"dataframe\">\n",
       "  <thead>\n",
       "    <tr style=\"text-align: right;\">\n",
       "      <th></th>\n",
       "      <th>VehicleType</th>\n",
       "      <th>RegistrationYear</th>\n",
       "      <th>Gearbox</th>\n",
       "      <th>Power</th>\n",
       "      <th>Model</th>\n",
       "      <th>Kilometer</th>\n",
       "      <th>FuelType</th>\n",
       "      <th>Brand</th>\n",
       "      <th>Repaired</th>\n",
       "    </tr>\n",
       "  </thead>\n",
       "  <tbody>\n",
       "    <tr>\n",
       "      <th>137035</th>\n",
       "      <td>sedan</td>\n",
       "      <td>0.814698</td>\n",
       "      <td>manual</td>\n",
       "      <td>1.118056</td>\n",
       "      <td>3er</td>\n",
       "      <td>0.494207</td>\n",
       "      <td>petrol</td>\n",
       "      <td>bmw</td>\n",
       "      <td>no</td>\n",
       "    </tr>\n",
       "    <tr>\n",
       "      <th>273084</th>\n",
       "      <td>small</td>\n",
       "      <td>0.994938</td>\n",
       "      <td>manual</td>\n",
       "      <td>-1.431462</td>\n",
       "      <td>punto</td>\n",
       "      <td>-0.962446</td>\n",
       "      <td>cng</td>\n",
       "      <td>fiat</td>\n",
       "      <td>no</td>\n",
       "    </tr>\n",
       "    <tr>\n",
       "      <th>101256</th>\n",
       "      <td>bus</td>\n",
       "      <td>1.175179</td>\n",
       "      <td>manual</td>\n",
       "      <td>-0.179881</td>\n",
       "      <td>other</td>\n",
       "      <td>-0.962446</td>\n",
       "      <td>gasoline</td>\n",
       "      <td>renault</td>\n",
       "      <td>no</td>\n",
       "    </tr>\n",
       "    <tr>\n",
       "      <th>297591</th>\n",
       "      <td>sedan</td>\n",
       "      <td>2.256623</td>\n",
       "      <td>manual</td>\n",
       "      <td>1.627959</td>\n",
       "      <td>3er</td>\n",
       "      <td>0.494207</td>\n",
       "      <td>petrol</td>\n",
       "      <td>bmw</td>\n",
       "      <td>no</td>\n",
       "    </tr>\n",
       "    <tr>\n",
       "      <th>20014</th>\n",
       "      <td>small</td>\n",
       "      <td>0.273976</td>\n",
       "      <td>manual</td>\n",
       "      <td>-1.431462</td>\n",
       "      <td>ka</td>\n",
       "      <td>-0.962446</td>\n",
       "      <td>petrol</td>\n",
       "      <td>ford</td>\n",
       "      <td>no</td>\n",
       "    </tr>\n",
       "  </tbody>\n",
       "</table>\n",
       "</div>"
      ],
      "text/plain": [
       "       VehicleType  RegistrationYear Gearbox     Power  Model  Kilometer  \\\n",
       "137035       sedan          0.814698  manual  1.118056    3er   0.494207   \n",
       "273084       small          0.994938  manual -1.431462  punto  -0.962446   \n",
       "101256         bus          1.175179  manual -0.179881  other  -0.962446   \n",
       "297591       sedan          2.256623  manual  1.627959    3er   0.494207   \n",
       "20014        small          0.273976  manual -1.431462     ka  -0.962446   \n",
       "\n",
       "        FuelType    Brand Repaired  \n",
       "137035    petrol      bmw       no  \n",
       "273084       cng     fiat       no  \n",
       "101256  gasoline  renault       no  \n",
       "297591    petrol      bmw       no  \n",
       "20014     petrol     ford       no  "
      ]
     },
     "execution_count": 101,
     "metadata": {},
     "output_type": "execute_result"
    }
   ],
   "source": [
    "features_test.head()"
   ]
  },
  {
   "cell_type": "markdown",
   "metadata": {},
   "source": [
    "**Выполним кодирование категориальных признаков**"
   ]
  },
  {
   "cell_type": "markdown",
   "metadata": {},
   "source": [
    "Для модели регрессии случайного леса выберем порядковое кодирование."
   ]
  },
  {
   "cell_type": "code",
   "execution_count": 102,
   "metadata": {},
   "outputs": [
    {
     "data": {
      "text/plain": [
       "['VehicleType', 'Gearbox', 'Model', 'FuelType', 'Brand', 'Repaired']"
      ]
     },
     "execution_count": 102,
     "metadata": {},
     "output_type": "execute_result"
    }
   ],
   "source": [
    "#категориальные признаки для OrdinalEncoding\n",
    "ordinal_features = features_train.select_dtypes(include='object').columns.to_list()\n",
    "ordinal_features"
   ]
  },
  {
   "cell_type": "code",
   "execution_count": 103,
   "metadata": {},
   "outputs": [],
   "source": [
    "# drop='first' удаляет первый признак из закодированных:\n",
    "# таким образом обходим dummy-ловушку\n",
    "# задаём handle_unknown='ignore':\n",
    "# игнорируется ранее невстречающиеся значения признака (при transform)\n",
    "encoder_ordinal = OrdinalEncoder(handle_unknown='use_encoded_value', unknown_value=-1)"
   ]
  },
  {
   "cell_type": "code",
   "execution_count": 104,
   "metadata": {
    "scrolled": true
   },
   "outputs": [
    {
     "data": {
      "text/html": [
       "<style>#sk-container-id-2 {color: black;background-color: white;}#sk-container-id-2 pre{padding: 0;}#sk-container-id-2 div.sk-toggleable {background-color: white;}#sk-container-id-2 label.sk-toggleable__label {cursor: pointer;display: block;width: 100%;margin-bottom: 0;padding: 0.3em;box-sizing: border-box;text-align: center;}#sk-container-id-2 label.sk-toggleable__label-arrow:before {content: \"▸\";float: left;margin-right: 0.25em;color: #696969;}#sk-container-id-2 label.sk-toggleable__label-arrow:hover:before {color: black;}#sk-container-id-2 div.sk-estimator:hover label.sk-toggleable__label-arrow:before {color: black;}#sk-container-id-2 div.sk-toggleable__content {max-height: 0;max-width: 0;overflow: hidden;text-align: left;background-color: #f0f8ff;}#sk-container-id-2 div.sk-toggleable__content pre {margin: 0.2em;color: black;border-radius: 0.25em;background-color: #f0f8ff;}#sk-container-id-2 input.sk-toggleable__control:checked~div.sk-toggleable__content {max-height: 200px;max-width: 100%;overflow: auto;}#sk-container-id-2 input.sk-toggleable__control:checked~label.sk-toggleable__label-arrow:before {content: \"▾\";}#sk-container-id-2 div.sk-estimator input.sk-toggleable__control:checked~label.sk-toggleable__label {background-color: #d4ebff;}#sk-container-id-2 div.sk-label input.sk-toggleable__control:checked~label.sk-toggleable__label {background-color: #d4ebff;}#sk-container-id-2 input.sk-hidden--visually {border: 0;clip: rect(1px 1px 1px 1px);clip: rect(1px, 1px, 1px, 1px);height: 1px;margin: -1px;overflow: hidden;padding: 0;position: absolute;width: 1px;}#sk-container-id-2 div.sk-estimator {font-family: monospace;background-color: #f0f8ff;border: 1px dotted black;border-radius: 0.25em;box-sizing: border-box;margin-bottom: 0.5em;}#sk-container-id-2 div.sk-estimator:hover {background-color: #d4ebff;}#sk-container-id-2 div.sk-parallel-item::after {content: \"\";width: 100%;border-bottom: 1px solid gray;flex-grow: 1;}#sk-container-id-2 div.sk-label:hover label.sk-toggleable__label {background-color: #d4ebff;}#sk-container-id-2 div.sk-serial::before {content: \"\";position: absolute;border-left: 1px solid gray;box-sizing: border-box;top: 0;bottom: 0;left: 50%;z-index: 0;}#sk-container-id-2 div.sk-serial {display: flex;flex-direction: column;align-items: center;background-color: white;padding-right: 0.2em;padding-left: 0.2em;position: relative;}#sk-container-id-2 div.sk-item {position: relative;z-index: 1;}#sk-container-id-2 div.sk-parallel {display: flex;align-items: stretch;justify-content: center;background-color: white;position: relative;}#sk-container-id-2 div.sk-item::before, #sk-container-id-2 div.sk-parallel-item::before {content: \"\";position: absolute;border-left: 1px solid gray;box-sizing: border-box;top: 0;bottom: 0;left: 50%;z-index: -1;}#sk-container-id-2 div.sk-parallel-item {display: flex;flex-direction: column;z-index: 1;position: relative;background-color: white;}#sk-container-id-2 div.sk-parallel-item:first-child::after {align-self: flex-end;width: 50%;}#sk-container-id-2 div.sk-parallel-item:last-child::after {align-self: flex-start;width: 50%;}#sk-container-id-2 div.sk-parallel-item:only-child::after {width: 0;}#sk-container-id-2 div.sk-dashed-wrapped {border: 1px dashed gray;margin: 0 0.4em 0.5em 0.4em;box-sizing: border-box;padding-bottom: 0.4em;background-color: white;}#sk-container-id-2 div.sk-label label {font-family: monospace;font-weight: bold;display: inline-block;line-height: 1.2em;}#sk-container-id-2 div.sk-label-container {text-align: center;}#sk-container-id-2 div.sk-container {/* jupyter's `normalize.less` sets `[hidden] { display: none; }` but bootstrap.min.css set `[hidden] { display: none !important; }` so we also need the `!important` here to be able to override the default hidden behavior on the sphinx rendered scikit-learn.org. See: https://github.com/scikit-learn/scikit-learn/issues/21755 */display: inline-block !important;position: relative;}#sk-container-id-2 div.sk-text-repr-fallback {display: none;}</style><div id=\"sk-container-id-2\" class=\"sk-top-container\"><div class=\"sk-text-repr-fallback\"><pre>OrdinalEncoder(handle_unknown=&#x27;use_encoded_value&#x27;, unknown_value=-1)</pre><b>In a Jupyter environment, please rerun this cell to show the HTML representation or trust the notebook. <br />On GitHub, the HTML representation is unable to render, please try loading this page with nbviewer.org.</b></div><div class=\"sk-container\" hidden><div class=\"sk-item\"><div class=\"sk-estimator sk-toggleable\"><input class=\"sk-toggleable__control sk-hidden--visually\" id=\"sk-estimator-id-2\" type=\"checkbox\" checked><label for=\"sk-estimator-id-2\" class=\"sk-toggleable__label sk-toggleable__label-arrow\">OrdinalEncoder</label><div class=\"sk-toggleable__content\"><pre>OrdinalEncoder(handle_unknown=&#x27;use_encoded_value&#x27;, unknown_value=-1)</pre></div></div></div></div></div>"
      ],
      "text/plain": [
       "OrdinalEncoder(handle_unknown='use_encoded_value', unknown_value=-1)"
      ]
     },
     "execution_count": 104,
     "metadata": {},
     "output_type": "execute_result"
    }
   ],
   "source": [
    "# обучаем энкодер на заданных категориальных признаках тренировочной выборки\n",
    "encoder_ordinal.fit(features_train[ordinal_features])"
   ]
  },
  {
   "cell_type": "code",
   "execution_count": 105,
   "metadata": {},
   "outputs": [],
   "source": [
    "# Создадим копии выборок для порядкового кодирования\n",
    "features_train_ordinal = features_train.copy()\n",
    "features_test_ordinal = features_test.copy()\n",
    "features_valid_ordinal = features_valid.copy()\n"
   ]
  },
  {
   "cell_type": "code",
   "execution_count": 106,
   "metadata": {},
   "outputs": [],
   "source": [
    "# добавляем закодированные признаки\n",
    "features_train_ordinal[ordinal_features] = encoder_ordinal.transform(features_train_ordinal[ordinal_features])\n",
    "features_test_ordinal[ordinal_features] = encoder_ordinal.transform(features_test_ordinal[ordinal_features])\n",
    "features_valid_ordinal[ordinal_features] = encoder_ordinal.transform(features_valid_ordinal[ordinal_features])"
   ]
  },
  {
   "cell_type": "code",
   "execution_count": 107,
   "metadata": {},
   "outputs": [
    {
     "data": {
      "text/html": [
       "<div>\n",
       "<style scoped>\n",
       "    .dataframe tbody tr th:only-of-type {\n",
       "        vertical-align: middle;\n",
       "    }\n",
       "\n",
       "    .dataframe tbody tr th {\n",
       "        vertical-align: top;\n",
       "    }\n",
       "\n",
       "    .dataframe thead th {\n",
       "        text-align: right;\n",
       "    }\n",
       "</style>\n",
       "<table border=\"1\" class=\"dataframe\">\n",
       "  <thead>\n",
       "    <tr style=\"text-align: right;\">\n",
       "      <th></th>\n",
       "      <th>VehicleType</th>\n",
       "      <th>RegistrationYear</th>\n",
       "      <th>Gearbox</th>\n",
       "      <th>Power</th>\n",
       "      <th>Model</th>\n",
       "      <th>Kilometer</th>\n",
       "      <th>FuelType</th>\n",
       "      <th>Brand</th>\n",
       "      <th>Repaired</th>\n",
       "    </tr>\n",
       "  </thead>\n",
       "  <tbody>\n",
       "    <tr>\n",
       "      <th>137035</th>\n",
       "      <td>4.0</td>\n",
       "      <td>0.814698</td>\n",
       "      <td>1.0</td>\n",
       "      <td>1.118056</td>\n",
       "      <td>11.0</td>\n",
       "      <td>0.494207</td>\n",
       "      <td>6.0</td>\n",
       "      <td>2.0</td>\n",
       "      <td>0.0</td>\n",
       "    </tr>\n",
       "    <tr>\n",
       "      <th>273084</th>\n",
       "      <td>5.0</td>\n",
       "      <td>0.994938</td>\n",
       "      <td>1.0</td>\n",
       "      <td>-1.431462</td>\n",
       "      <td>172.0</td>\n",
       "      <td>-0.962446</td>\n",
       "      <td>0.0</td>\n",
       "      <td>9.0</td>\n",
       "      <td>0.0</td>\n",
       "    </tr>\n",
       "    <tr>\n",
       "      <th>101256</th>\n",
       "      <td>0.0</td>\n",
       "      <td>1.175179</td>\n",
       "      <td>1.0</td>\n",
       "      <td>-0.179881</td>\n",
       "      <td>162.0</td>\n",
       "      <td>-0.962446</td>\n",
       "      <td>2.0</td>\n",
       "      <td>27.0</td>\n",
       "      <td>0.0</td>\n",
       "    </tr>\n",
       "    <tr>\n",
       "      <th>297591</th>\n",
       "      <td>4.0</td>\n",
       "      <td>2.256623</td>\n",
       "      <td>1.0</td>\n",
       "      <td>1.627959</td>\n",
       "      <td>11.0</td>\n",
       "      <td>0.494207</td>\n",
       "      <td>6.0</td>\n",
       "      <td>2.0</td>\n",
       "      <td>0.0</td>\n",
       "    </tr>\n",
       "    <tr>\n",
       "      <th>20014</th>\n",
       "      <td>5.0</td>\n",
       "      <td>0.273976</td>\n",
       "      <td>1.0</td>\n",
       "      <td>-1.431462</td>\n",
       "      <td>125.0</td>\n",
       "      <td>-0.962446</td>\n",
       "      <td>6.0</td>\n",
       "      <td>10.0</td>\n",
       "      <td>0.0</td>\n",
       "    </tr>\n",
       "  </tbody>\n",
       "</table>\n",
       "</div>"
      ],
      "text/plain": [
       "        VehicleType  RegistrationYear  Gearbox     Power  Model  Kilometer  \\\n",
       "137035          4.0          0.814698      1.0  1.118056   11.0   0.494207   \n",
       "273084          5.0          0.994938      1.0 -1.431462  172.0  -0.962446   \n",
       "101256          0.0          1.175179      1.0 -0.179881  162.0  -0.962446   \n",
       "297591          4.0          2.256623      1.0  1.627959   11.0   0.494207   \n",
       "20014           5.0          0.273976      1.0 -1.431462  125.0  -0.962446   \n",
       "\n",
       "        FuelType  Brand  Repaired  \n",
       "137035       6.0    2.0       0.0  \n",
       "273084       0.0    9.0       0.0  \n",
       "101256       2.0   27.0       0.0  \n",
       "297591       6.0    2.0       0.0  \n",
       "20014        6.0   10.0       0.0  "
      ]
     },
     "execution_count": 107,
     "metadata": {},
     "output_type": "execute_result"
    }
   ],
   "source": [
    "features_test_ordinal.head()"
   ]
  },
  {
   "cell_type": "markdown",
   "metadata": {},
   "source": [
    "Для моделей бустинга и линейной регрессии используем ohe."
   ]
  },
  {
   "cell_type": "code",
   "execution_count": 108,
   "metadata": {},
   "outputs": [
    {
     "data": {
      "text/plain": [
       "['VehicleType', 'Gearbox', 'Model', 'FuelType', 'Brand', 'Repaired']"
      ]
     },
     "execution_count": 108,
     "metadata": {},
     "output_type": "execute_result"
    }
   ],
   "source": [
    "#категориальные признаки для OHE \n",
    "ohe_features = features_train.select_dtypes(include='object').columns.to_list()\n",
    "ohe_features"
   ]
  },
  {
   "cell_type": "code",
   "execution_count": 109,
   "metadata": {},
   "outputs": [],
   "source": [
    "# drop='first' удаляет первый признак из закодированных:\n",
    "# таким образом обходим dummy-ловушку\n",
    "# задаём handle_unknown='ignore':\n",
    "# игнорируется ранее невстречающиеся значения признака (при transform)\n",
    "encoder_ohe = OneHotEncoder(drop='first', handle_unknown='ignore', sparse=False)"
   ]
  },
  {
   "cell_type": "code",
   "execution_count": 110,
   "metadata": {},
   "outputs": [
    {
     "data": {
      "text/html": [
       "<style>#sk-container-id-3 {color: black;background-color: white;}#sk-container-id-3 pre{padding: 0;}#sk-container-id-3 div.sk-toggleable {background-color: white;}#sk-container-id-3 label.sk-toggleable__label {cursor: pointer;display: block;width: 100%;margin-bottom: 0;padding: 0.3em;box-sizing: border-box;text-align: center;}#sk-container-id-3 label.sk-toggleable__label-arrow:before {content: \"▸\";float: left;margin-right: 0.25em;color: #696969;}#sk-container-id-3 label.sk-toggleable__label-arrow:hover:before {color: black;}#sk-container-id-3 div.sk-estimator:hover label.sk-toggleable__label-arrow:before {color: black;}#sk-container-id-3 div.sk-toggleable__content {max-height: 0;max-width: 0;overflow: hidden;text-align: left;background-color: #f0f8ff;}#sk-container-id-3 div.sk-toggleable__content pre {margin: 0.2em;color: black;border-radius: 0.25em;background-color: #f0f8ff;}#sk-container-id-3 input.sk-toggleable__control:checked~div.sk-toggleable__content {max-height: 200px;max-width: 100%;overflow: auto;}#sk-container-id-3 input.sk-toggleable__control:checked~label.sk-toggleable__label-arrow:before {content: \"▾\";}#sk-container-id-3 div.sk-estimator input.sk-toggleable__control:checked~label.sk-toggleable__label {background-color: #d4ebff;}#sk-container-id-3 div.sk-label input.sk-toggleable__control:checked~label.sk-toggleable__label {background-color: #d4ebff;}#sk-container-id-3 input.sk-hidden--visually {border: 0;clip: rect(1px 1px 1px 1px);clip: rect(1px, 1px, 1px, 1px);height: 1px;margin: -1px;overflow: hidden;padding: 0;position: absolute;width: 1px;}#sk-container-id-3 div.sk-estimator {font-family: monospace;background-color: #f0f8ff;border: 1px dotted black;border-radius: 0.25em;box-sizing: border-box;margin-bottom: 0.5em;}#sk-container-id-3 div.sk-estimator:hover {background-color: #d4ebff;}#sk-container-id-3 div.sk-parallel-item::after {content: \"\";width: 100%;border-bottom: 1px solid gray;flex-grow: 1;}#sk-container-id-3 div.sk-label:hover label.sk-toggleable__label {background-color: #d4ebff;}#sk-container-id-3 div.sk-serial::before {content: \"\";position: absolute;border-left: 1px solid gray;box-sizing: border-box;top: 0;bottom: 0;left: 50%;z-index: 0;}#sk-container-id-3 div.sk-serial {display: flex;flex-direction: column;align-items: center;background-color: white;padding-right: 0.2em;padding-left: 0.2em;position: relative;}#sk-container-id-3 div.sk-item {position: relative;z-index: 1;}#sk-container-id-3 div.sk-parallel {display: flex;align-items: stretch;justify-content: center;background-color: white;position: relative;}#sk-container-id-3 div.sk-item::before, #sk-container-id-3 div.sk-parallel-item::before {content: \"\";position: absolute;border-left: 1px solid gray;box-sizing: border-box;top: 0;bottom: 0;left: 50%;z-index: -1;}#sk-container-id-3 div.sk-parallel-item {display: flex;flex-direction: column;z-index: 1;position: relative;background-color: white;}#sk-container-id-3 div.sk-parallel-item:first-child::after {align-self: flex-end;width: 50%;}#sk-container-id-3 div.sk-parallel-item:last-child::after {align-self: flex-start;width: 50%;}#sk-container-id-3 div.sk-parallel-item:only-child::after {width: 0;}#sk-container-id-3 div.sk-dashed-wrapped {border: 1px dashed gray;margin: 0 0.4em 0.5em 0.4em;box-sizing: border-box;padding-bottom: 0.4em;background-color: white;}#sk-container-id-3 div.sk-label label {font-family: monospace;font-weight: bold;display: inline-block;line-height: 1.2em;}#sk-container-id-3 div.sk-label-container {text-align: center;}#sk-container-id-3 div.sk-container {/* jupyter's `normalize.less` sets `[hidden] { display: none; }` but bootstrap.min.css set `[hidden] { display: none !important; }` so we also need the `!important` here to be able to override the default hidden behavior on the sphinx rendered scikit-learn.org. See: https://github.com/scikit-learn/scikit-learn/issues/21755 */display: inline-block !important;position: relative;}#sk-container-id-3 div.sk-text-repr-fallback {display: none;}</style><div id=\"sk-container-id-3\" class=\"sk-top-container\"><div class=\"sk-text-repr-fallback\"><pre>OneHotEncoder(drop=&#x27;first&#x27;, handle_unknown=&#x27;ignore&#x27;, sparse=False,\n",
       "              sparse_output=False)</pre><b>In a Jupyter environment, please rerun this cell to show the HTML representation or trust the notebook. <br />On GitHub, the HTML representation is unable to render, please try loading this page with nbviewer.org.</b></div><div class=\"sk-container\" hidden><div class=\"sk-item\"><div class=\"sk-estimator sk-toggleable\"><input class=\"sk-toggleable__control sk-hidden--visually\" id=\"sk-estimator-id-3\" type=\"checkbox\" checked><label for=\"sk-estimator-id-3\" class=\"sk-toggleable__label sk-toggleable__label-arrow\">OneHotEncoder</label><div class=\"sk-toggleable__content\"><pre>OneHotEncoder(drop=&#x27;first&#x27;, handle_unknown=&#x27;ignore&#x27;, sparse=False,\n",
       "              sparse_output=False)</pre></div></div></div></div></div>"
      ],
      "text/plain": [
       "OneHotEncoder(drop='first', handle_unknown='ignore', sparse=False,\n",
       "              sparse_output=False)"
      ]
     },
     "execution_count": 110,
     "metadata": {},
     "output_type": "execute_result"
    }
   ],
   "source": [
    "# обучаем энкодер на заданных категориальных признаках тренировочной выборки\n",
    "encoder_ohe.fit(features_train[ohe_features])"
   ]
  },
  {
   "cell_type": "code",
   "execution_count": 111,
   "metadata": {},
   "outputs": [],
   "source": [
    "# добавляем закодированные признаки в features_train\n",
    "# encoder_ohe.get_feature_names_out() позволяет получить названия колонок\n",
    "features_train[\n",
    "    encoder_ohe.get_feature_names_out()\n",
    "] = encoder_ohe.transform(features_train[ohe_features]);"
   ]
  },
  {
   "cell_type": "code",
   "execution_count": 112,
   "metadata": {},
   "outputs": [],
   "source": [
    "# удаляем незакодированные категориальные признаки (изначальные колонки)\n",
    "features_train = features_train.drop(ohe_features, axis=1)"
   ]
  },
  {
   "cell_type": "code",
   "execution_count": 113,
   "metadata": {},
   "outputs": [],
   "source": [
    "# энкодером, который обучен на ТРЕНИРОВОЧНОЙ ВЫБОРКЕ, кодируем тестовую\n",
    "features_test[\n",
    "    encoder_ohe.get_feature_names_out()\n",
    "] = encoder_ohe.transform(features_test[ohe_features])\n",
    "\n",
    "features_test = features_test.drop(ohe_features, axis=1);"
   ]
  },
  {
   "cell_type": "code",
   "execution_count": 114,
   "metadata": {},
   "outputs": [],
   "source": [
    "# энкодером, который обучен на ТРЕНИРОВОЧНОЙ ВЫБОРКЕ, кодируем валидационную\n",
    "features_valid[\n",
    "    encoder_ohe.get_feature_names_out()\n",
    "] = encoder_ohe.transform(features_valid[ohe_features])\n",
    "\n",
    "features_valid = features_valid.drop(ohe_features, axis=1);"
   ]
  },
  {
   "cell_type": "code",
   "execution_count": 115,
   "metadata": {},
   "outputs": [
    {
     "data": {
      "text/plain": [
       "((111188, 295), (37063, 295), (37063, 295))"
      ]
     },
     "execution_count": 115,
     "metadata": {},
     "output_type": "execute_result"
    }
   ],
   "source": [
    "# получилось одинаковое количество признаков\n",
    "features_train.shape,  features_test.shape, features_valid.shape"
   ]
  },
  {
   "cell_type": "code",
   "execution_count": 116,
   "metadata": {},
   "outputs": [
    {
     "data": {
      "text/plain": [
       "0"
      ]
     },
     "execution_count": 116,
     "metadata": {},
     "output_type": "execute_result"
    }
   ],
   "source": [
    "# получились одинаковые признаки \n",
    "((features_train.columns != features_test.columns) | \n",
    " (features_valid.columns != features_test.columns)).sum()"
   ]
  },
  {
   "cell_type": "markdown",
   "metadata": {},
   "source": [
    "Результат кодирования и масштабирования"
   ]
  },
  {
   "cell_type": "code",
   "execution_count": 117,
   "metadata": {},
   "outputs": [
    {
     "data": {
      "text/html": [
       "<div>\n",
       "<style scoped>\n",
       "    .dataframe tbody tr th:only-of-type {\n",
       "        vertical-align: middle;\n",
       "    }\n",
       "\n",
       "    .dataframe tbody tr th {\n",
       "        vertical-align: top;\n",
       "    }\n",
       "\n",
       "    .dataframe thead th {\n",
       "        text-align: right;\n",
       "    }\n",
       "</style>\n",
       "<table border=\"1\" class=\"dataframe\">\n",
       "  <thead>\n",
       "    <tr style=\"text-align: right;\">\n",
       "      <th></th>\n",
       "      <th>RegistrationYear</th>\n",
       "      <th>Power</th>\n",
       "      <th>Kilometer</th>\n",
       "      <th>VehicleType_convertible</th>\n",
       "      <th>VehicleType_coupe</th>\n",
       "      <th>VehicleType_other</th>\n",
       "      <th>VehicleType_sedan</th>\n",
       "      <th>VehicleType_small</th>\n",
       "      <th>VehicleType_suv</th>\n",
       "      <th>VehicleType_wagon</th>\n",
       "      <th>...</th>\n",
       "      <th>Brand_seat</th>\n",
       "      <th>Brand_skoda</th>\n",
       "      <th>Brand_smart</th>\n",
       "      <th>Brand_sonstige_autos</th>\n",
       "      <th>Brand_subaru</th>\n",
       "      <th>Brand_suzuki</th>\n",
       "      <th>Brand_toyota</th>\n",
       "      <th>Brand_volkswagen</th>\n",
       "      <th>Brand_volvo</th>\n",
       "      <th>Repaired_yes</th>\n",
       "    </tr>\n",
       "  </thead>\n",
       "  <tbody>\n",
       "    <tr>\n",
       "      <th>107360</th>\n",
       "      <td>-0.807468</td>\n",
       "      <td>-0.272590</td>\n",
       "      <td>0.494207</td>\n",
       "      <td>0.0</td>\n",
       "      <td>0.0</td>\n",
       "      <td>0.0</td>\n",
       "      <td>0.0</td>\n",
       "      <td>0.0</td>\n",
       "      <td>0.0</td>\n",
       "      <td>1.0</td>\n",
       "      <td>...</td>\n",
       "      <td>0.0</td>\n",
       "      <td>0.0</td>\n",
       "      <td>0.0</td>\n",
       "      <td>0.0</td>\n",
       "      <td>0.0</td>\n",
       "      <td>0.0</td>\n",
       "      <td>0.0</td>\n",
       "      <td>1.0</td>\n",
       "      <td>0.0</td>\n",
       "      <td>0.0</td>\n",
       "    </tr>\n",
       "    <tr>\n",
       "      <th>90569</th>\n",
       "      <td>-1.528430</td>\n",
       "      <td>0.422733</td>\n",
       "      <td>0.494207</td>\n",
       "      <td>0.0</td>\n",
       "      <td>0.0</td>\n",
       "      <td>0.0</td>\n",
       "      <td>0.0</td>\n",
       "      <td>1.0</td>\n",
       "      <td>0.0</td>\n",
       "      <td>0.0</td>\n",
       "      <td>...</td>\n",
       "      <td>0.0</td>\n",
       "      <td>0.0</td>\n",
       "      <td>0.0</td>\n",
       "      <td>0.0</td>\n",
       "      <td>0.0</td>\n",
       "      <td>0.0</td>\n",
       "      <td>0.0</td>\n",
       "      <td>0.0</td>\n",
       "      <td>0.0</td>\n",
       "      <td>0.0</td>\n",
       "    </tr>\n",
       "    <tr>\n",
       "      <th>249190</th>\n",
       "      <td>0.994938</td>\n",
       "      <td>1.280298</td>\n",
       "      <td>-0.962446</td>\n",
       "      <td>0.0</td>\n",
       "      <td>0.0</td>\n",
       "      <td>0.0</td>\n",
       "      <td>1.0</td>\n",
       "      <td>0.0</td>\n",
       "      <td>0.0</td>\n",
       "      <td>0.0</td>\n",
       "      <td>...</td>\n",
       "      <td>0.0</td>\n",
       "      <td>0.0</td>\n",
       "      <td>0.0</td>\n",
       "      <td>0.0</td>\n",
       "      <td>0.0</td>\n",
       "      <td>0.0</td>\n",
       "      <td>0.0</td>\n",
       "      <td>0.0</td>\n",
       "      <td>0.0</td>\n",
       "      <td>0.0</td>\n",
       "    </tr>\n",
       "    <tr>\n",
       "      <th>312727</th>\n",
       "      <td>-0.266746</td>\n",
       "      <td>-1.315575</td>\n",
       "      <td>0.494207</td>\n",
       "      <td>0.0</td>\n",
       "      <td>0.0</td>\n",
       "      <td>0.0</td>\n",
       "      <td>0.0</td>\n",
       "      <td>0.0</td>\n",
       "      <td>0.0</td>\n",
       "      <td>0.0</td>\n",
       "      <td>...</td>\n",
       "      <td>0.0</td>\n",
       "      <td>0.0</td>\n",
       "      <td>0.0</td>\n",
       "      <td>0.0</td>\n",
       "      <td>0.0</td>\n",
       "      <td>0.0</td>\n",
       "      <td>0.0</td>\n",
       "      <td>0.0</td>\n",
       "      <td>0.0</td>\n",
       "      <td>0.0</td>\n",
       "    </tr>\n",
       "    <tr>\n",
       "      <th>93278</th>\n",
       "      <td>-0.807468</td>\n",
       "      <td>-1.431462</td>\n",
       "      <td>0.494207</td>\n",
       "      <td>0.0</td>\n",
       "      <td>0.0</td>\n",
       "      <td>0.0</td>\n",
       "      <td>0.0</td>\n",
       "      <td>1.0</td>\n",
       "      <td>0.0</td>\n",
       "      <td>0.0</td>\n",
       "      <td>...</td>\n",
       "      <td>0.0</td>\n",
       "      <td>0.0</td>\n",
       "      <td>0.0</td>\n",
       "      <td>0.0</td>\n",
       "      <td>0.0</td>\n",
       "      <td>0.0</td>\n",
       "      <td>0.0</td>\n",
       "      <td>0.0</td>\n",
       "      <td>0.0</td>\n",
       "      <td>0.0</td>\n",
       "    </tr>\n",
       "  </tbody>\n",
       "</table>\n",
       "<p>5 rows × 295 columns</p>\n",
       "</div>"
      ],
      "text/plain": [
       "        RegistrationYear     Power  Kilometer  VehicleType_convertible  \\\n",
       "107360         -0.807468 -0.272590   0.494207                      0.0   \n",
       "90569          -1.528430  0.422733   0.494207                      0.0   \n",
       "249190          0.994938  1.280298  -0.962446                      0.0   \n",
       "312727         -0.266746 -1.315575   0.494207                      0.0   \n",
       "93278          -0.807468 -1.431462   0.494207                      0.0   \n",
       "\n",
       "        VehicleType_coupe  VehicleType_other  VehicleType_sedan  \\\n",
       "107360                0.0                0.0                0.0   \n",
       "90569                 0.0                0.0                0.0   \n",
       "249190                0.0                0.0                1.0   \n",
       "312727                0.0                0.0                0.0   \n",
       "93278                 0.0                0.0                0.0   \n",
       "\n",
       "        VehicleType_small  VehicleType_suv  VehicleType_wagon  ...  \\\n",
       "107360                0.0              0.0                1.0  ...   \n",
       "90569                 1.0              0.0                0.0  ...   \n",
       "249190                0.0              0.0                0.0  ...   \n",
       "312727                0.0              0.0                0.0  ...   \n",
       "93278                 1.0              0.0                0.0  ...   \n",
       "\n",
       "        Brand_seat  Brand_skoda  Brand_smart  Brand_sonstige_autos  \\\n",
       "107360         0.0          0.0          0.0                   0.0   \n",
       "90569          0.0          0.0          0.0                   0.0   \n",
       "249190         0.0          0.0          0.0                   0.0   \n",
       "312727         0.0          0.0          0.0                   0.0   \n",
       "93278          0.0          0.0          0.0                   0.0   \n",
       "\n",
       "        Brand_subaru  Brand_suzuki  Brand_toyota  Brand_volkswagen  \\\n",
       "107360           0.0           0.0           0.0               1.0   \n",
       "90569            0.0           0.0           0.0               0.0   \n",
       "249190           0.0           0.0           0.0               0.0   \n",
       "312727           0.0           0.0           0.0               0.0   \n",
       "93278            0.0           0.0           0.0               0.0   \n",
       "\n",
       "        Brand_volvo  Repaired_yes  \n",
       "107360          0.0           0.0  \n",
       "90569           0.0           0.0  \n",
       "249190          0.0           0.0  \n",
       "312727          0.0           0.0  \n",
       "93278           0.0           0.0  \n",
       "\n",
       "[5 rows x 295 columns]"
      ]
     },
     "execution_count": 117,
     "metadata": {},
     "output_type": "execute_result"
    }
   ],
   "source": [
    "features_train.head()"
   ]
  },
  {
   "cell_type": "markdown",
   "metadata": {},
   "source": [
    "## Обучение моделей"
   ]
  },
  {
   "cell_type": "code",
   "execution_count": 118,
   "metadata": {},
   "outputs": [],
   "source": [
    "# Метрика качества\n",
    "def rmse(y_true,y_pred):\n",
    "    return mean_squared_error(y_true, y_pred, squared=False)"
   ]
  },
  {
   "cell_type": "code",
   "execution_count": 119,
   "metadata": {},
   "outputs": [],
   "source": [
    "# Создадим scorer\n",
    "rmse_scorer = make_scorer(rmse, greater_is_better=False)"
   ]
  },
  {
   "cell_type": "markdown",
   "metadata": {},
   "source": [
    "**Градиентный бустинг с момощью LightGBM**"
   ]
  },
  {
   "cell_type": "code",
   "execution_count": 120,
   "metadata": {},
   "outputs": [],
   "source": [
    "#Создаем модель регрессии\n",
    "lgb_booster = lgb.LGBMModel(objective='regression', random_state=12345)"
   ]
  },
  {
   "cell_type": "markdown",
   "metadata": {},
   "source": [
    "Создаем GridSearchCV объект"
   ]
  },
  {
   "cell_type": "code",
   "execution_count": 121,
   "metadata": {},
   "outputs": [],
   "source": [
    "GS_lgb = GridSearchCV(estimator = lgb_booster,\n",
    "                  param_grid = {'num_leaves':[x for x in range(10, 40, 10)],\n",
    "                                'learning_rate':[0.05, 0.1, 0.15, 0.2],\n",
    "                                'n_estimators':[x for x in range(80, 120, 10)]},\n",
    "                  scoring = rmse_scorer,\n",
    "                  cv=2)"
   ]
  },
  {
   "cell_type": "code",
   "execution_count": 122,
   "metadata": {},
   "outputs": [
    {
     "name": "stdout",
     "output_type": "stream",
     "text": [
      "CPU times: total: 6min 15s\n",
      "Wall time: 1min 10s\n"
     ]
    },
    {
     "data": {
      "text/html": [
       "<style>#sk-container-id-4 {color: black;background-color: white;}#sk-container-id-4 pre{padding: 0;}#sk-container-id-4 div.sk-toggleable {background-color: white;}#sk-container-id-4 label.sk-toggleable__label {cursor: pointer;display: block;width: 100%;margin-bottom: 0;padding: 0.3em;box-sizing: border-box;text-align: center;}#sk-container-id-4 label.sk-toggleable__label-arrow:before {content: \"▸\";float: left;margin-right: 0.25em;color: #696969;}#sk-container-id-4 label.sk-toggleable__label-arrow:hover:before {color: black;}#sk-container-id-4 div.sk-estimator:hover label.sk-toggleable__label-arrow:before {color: black;}#sk-container-id-4 div.sk-toggleable__content {max-height: 0;max-width: 0;overflow: hidden;text-align: left;background-color: #f0f8ff;}#sk-container-id-4 div.sk-toggleable__content pre {margin: 0.2em;color: black;border-radius: 0.25em;background-color: #f0f8ff;}#sk-container-id-4 input.sk-toggleable__control:checked~div.sk-toggleable__content {max-height: 200px;max-width: 100%;overflow: auto;}#sk-container-id-4 input.sk-toggleable__control:checked~label.sk-toggleable__label-arrow:before {content: \"▾\";}#sk-container-id-4 div.sk-estimator input.sk-toggleable__control:checked~label.sk-toggleable__label {background-color: #d4ebff;}#sk-container-id-4 div.sk-label input.sk-toggleable__control:checked~label.sk-toggleable__label {background-color: #d4ebff;}#sk-container-id-4 input.sk-hidden--visually {border: 0;clip: rect(1px 1px 1px 1px);clip: rect(1px, 1px, 1px, 1px);height: 1px;margin: -1px;overflow: hidden;padding: 0;position: absolute;width: 1px;}#sk-container-id-4 div.sk-estimator {font-family: monospace;background-color: #f0f8ff;border: 1px dotted black;border-radius: 0.25em;box-sizing: border-box;margin-bottom: 0.5em;}#sk-container-id-4 div.sk-estimator:hover {background-color: #d4ebff;}#sk-container-id-4 div.sk-parallel-item::after {content: \"\";width: 100%;border-bottom: 1px solid gray;flex-grow: 1;}#sk-container-id-4 div.sk-label:hover label.sk-toggleable__label {background-color: #d4ebff;}#sk-container-id-4 div.sk-serial::before {content: \"\";position: absolute;border-left: 1px solid gray;box-sizing: border-box;top: 0;bottom: 0;left: 50%;z-index: 0;}#sk-container-id-4 div.sk-serial {display: flex;flex-direction: column;align-items: center;background-color: white;padding-right: 0.2em;padding-left: 0.2em;position: relative;}#sk-container-id-4 div.sk-item {position: relative;z-index: 1;}#sk-container-id-4 div.sk-parallel {display: flex;align-items: stretch;justify-content: center;background-color: white;position: relative;}#sk-container-id-4 div.sk-item::before, #sk-container-id-4 div.sk-parallel-item::before {content: \"\";position: absolute;border-left: 1px solid gray;box-sizing: border-box;top: 0;bottom: 0;left: 50%;z-index: -1;}#sk-container-id-4 div.sk-parallel-item {display: flex;flex-direction: column;z-index: 1;position: relative;background-color: white;}#sk-container-id-4 div.sk-parallel-item:first-child::after {align-self: flex-end;width: 50%;}#sk-container-id-4 div.sk-parallel-item:last-child::after {align-self: flex-start;width: 50%;}#sk-container-id-4 div.sk-parallel-item:only-child::after {width: 0;}#sk-container-id-4 div.sk-dashed-wrapped {border: 1px dashed gray;margin: 0 0.4em 0.5em 0.4em;box-sizing: border-box;padding-bottom: 0.4em;background-color: white;}#sk-container-id-4 div.sk-label label {font-family: monospace;font-weight: bold;display: inline-block;line-height: 1.2em;}#sk-container-id-4 div.sk-label-container {text-align: center;}#sk-container-id-4 div.sk-container {/* jupyter's `normalize.less` sets `[hidden] { display: none; }` but bootstrap.min.css set `[hidden] { display: none !important; }` so we also need the `!important` here to be able to override the default hidden behavior on the sphinx rendered scikit-learn.org. See: https://github.com/scikit-learn/scikit-learn/issues/21755 */display: inline-block !important;position: relative;}#sk-container-id-4 div.sk-text-repr-fallback {display: none;}</style><div id=\"sk-container-id-4\" class=\"sk-top-container\"><div class=\"sk-text-repr-fallback\"><pre>GridSearchCV(cv=2,\n",
       "             estimator=LGBMModel(objective=&#x27;regression&#x27;, random_state=12345),\n",
       "             param_grid={&#x27;learning_rate&#x27;: [0.05, 0.1, 0.15, 0.2],\n",
       "                         &#x27;n_estimators&#x27;: [80, 90, 100, 110],\n",
       "                         &#x27;num_leaves&#x27;: [10, 20, 30]},\n",
       "             scoring=make_scorer(rmse, greater_is_better=False))</pre><b>In a Jupyter environment, please rerun this cell to show the HTML representation or trust the notebook. <br />On GitHub, the HTML representation is unable to render, please try loading this page with nbviewer.org.</b></div><div class=\"sk-container\" hidden><div class=\"sk-item sk-dashed-wrapped\"><div class=\"sk-label-container\"><div class=\"sk-label sk-toggleable\"><input class=\"sk-toggleable__control sk-hidden--visually\" id=\"sk-estimator-id-4\" type=\"checkbox\" ><label for=\"sk-estimator-id-4\" class=\"sk-toggleable__label sk-toggleable__label-arrow\">GridSearchCV</label><div class=\"sk-toggleable__content\"><pre>GridSearchCV(cv=2,\n",
       "             estimator=LGBMModel(objective=&#x27;regression&#x27;, random_state=12345),\n",
       "             param_grid={&#x27;learning_rate&#x27;: [0.05, 0.1, 0.15, 0.2],\n",
       "                         &#x27;n_estimators&#x27;: [80, 90, 100, 110],\n",
       "                         &#x27;num_leaves&#x27;: [10, 20, 30]},\n",
       "             scoring=make_scorer(rmse, greater_is_better=False))</pre></div></div></div><div class=\"sk-parallel\"><div class=\"sk-parallel-item\"><div class=\"sk-item\"><div class=\"sk-label-container\"><div class=\"sk-label sk-toggleable\"><input class=\"sk-toggleable__control sk-hidden--visually\" id=\"sk-estimator-id-5\" type=\"checkbox\" ><label for=\"sk-estimator-id-5\" class=\"sk-toggleable__label sk-toggleable__label-arrow\">estimator: LGBMModel</label><div class=\"sk-toggleable__content\"><pre>LGBMModel(objective=&#x27;regression&#x27;, random_state=12345)</pre></div></div></div><div class=\"sk-serial\"><div class=\"sk-item\"><div class=\"sk-estimator sk-toggleable\"><input class=\"sk-toggleable__control sk-hidden--visually\" id=\"sk-estimator-id-6\" type=\"checkbox\" ><label for=\"sk-estimator-id-6\" class=\"sk-toggleable__label sk-toggleable__label-arrow\">LGBMModel</label><div class=\"sk-toggleable__content\"><pre>LGBMModel(objective=&#x27;regression&#x27;, random_state=12345)</pre></div></div></div></div></div></div></div></div></div></div>"
      ],
      "text/plain": [
       "GridSearchCV(cv=2,\n",
       "             estimator=LGBMModel(objective='regression', random_state=12345),\n",
       "             param_grid={'learning_rate': [0.05, 0.1, 0.15, 0.2],\n",
       "                         'n_estimators': [80, 90, 100, 110],\n",
       "                         'num_leaves': [10, 20, 30]},\n",
       "             scoring=make_scorer(rmse, greater_is_better=False))"
      ]
     },
     "execution_count": 122,
     "metadata": {},
     "output_type": "execute_result"
    }
   ],
   "source": [
    "%%time\n",
    "GS_lgb.fit(features_train, target_train)"
   ]
  },
  {
   "cell_type": "code",
   "execution_count": 123,
   "metadata": {},
   "outputs": [
    {
     "data": {
      "text/plain": [
       "-1350.8787715551696"
      ]
     },
     "execution_count": 123,
     "metadata": {},
     "output_type": "execute_result"
    }
   ],
   "source": [
    "GS_lgb.best_score_ # Лучшее значение rmse для lgb_booster"
   ]
  },
  {
   "cell_type": "code",
   "execution_count": 124,
   "metadata": {},
   "outputs": [],
   "source": [
    "lgb_best = GS_lgb.best_estimator_"
   ]
  },
  {
   "cell_type": "code",
   "execution_count": 125,
   "metadata": {},
   "outputs": [
    {
     "name": "stdout",
     "output_type": "stream",
     "text": [
      "CPU times: total: 3.56 s\n",
      "Wall time: 774 ms\n"
     ]
    },
    {
     "data": {
      "text/html": [
       "<style>#sk-container-id-5 {color: black;background-color: white;}#sk-container-id-5 pre{padding: 0;}#sk-container-id-5 div.sk-toggleable {background-color: white;}#sk-container-id-5 label.sk-toggleable__label {cursor: pointer;display: block;width: 100%;margin-bottom: 0;padding: 0.3em;box-sizing: border-box;text-align: center;}#sk-container-id-5 label.sk-toggleable__label-arrow:before {content: \"▸\";float: left;margin-right: 0.25em;color: #696969;}#sk-container-id-5 label.sk-toggleable__label-arrow:hover:before {color: black;}#sk-container-id-5 div.sk-estimator:hover label.sk-toggleable__label-arrow:before {color: black;}#sk-container-id-5 div.sk-toggleable__content {max-height: 0;max-width: 0;overflow: hidden;text-align: left;background-color: #f0f8ff;}#sk-container-id-5 div.sk-toggleable__content pre {margin: 0.2em;color: black;border-radius: 0.25em;background-color: #f0f8ff;}#sk-container-id-5 input.sk-toggleable__control:checked~div.sk-toggleable__content {max-height: 200px;max-width: 100%;overflow: auto;}#sk-container-id-5 input.sk-toggleable__control:checked~label.sk-toggleable__label-arrow:before {content: \"▾\";}#sk-container-id-5 div.sk-estimator input.sk-toggleable__control:checked~label.sk-toggleable__label {background-color: #d4ebff;}#sk-container-id-5 div.sk-label input.sk-toggleable__control:checked~label.sk-toggleable__label {background-color: #d4ebff;}#sk-container-id-5 input.sk-hidden--visually {border: 0;clip: rect(1px 1px 1px 1px);clip: rect(1px, 1px, 1px, 1px);height: 1px;margin: -1px;overflow: hidden;padding: 0;position: absolute;width: 1px;}#sk-container-id-5 div.sk-estimator {font-family: monospace;background-color: #f0f8ff;border: 1px dotted black;border-radius: 0.25em;box-sizing: border-box;margin-bottom: 0.5em;}#sk-container-id-5 div.sk-estimator:hover {background-color: #d4ebff;}#sk-container-id-5 div.sk-parallel-item::after {content: \"\";width: 100%;border-bottom: 1px solid gray;flex-grow: 1;}#sk-container-id-5 div.sk-label:hover label.sk-toggleable__label {background-color: #d4ebff;}#sk-container-id-5 div.sk-serial::before {content: \"\";position: absolute;border-left: 1px solid gray;box-sizing: border-box;top: 0;bottom: 0;left: 50%;z-index: 0;}#sk-container-id-5 div.sk-serial {display: flex;flex-direction: column;align-items: center;background-color: white;padding-right: 0.2em;padding-left: 0.2em;position: relative;}#sk-container-id-5 div.sk-item {position: relative;z-index: 1;}#sk-container-id-5 div.sk-parallel {display: flex;align-items: stretch;justify-content: center;background-color: white;position: relative;}#sk-container-id-5 div.sk-item::before, #sk-container-id-5 div.sk-parallel-item::before {content: \"\";position: absolute;border-left: 1px solid gray;box-sizing: border-box;top: 0;bottom: 0;left: 50%;z-index: -1;}#sk-container-id-5 div.sk-parallel-item {display: flex;flex-direction: column;z-index: 1;position: relative;background-color: white;}#sk-container-id-5 div.sk-parallel-item:first-child::after {align-self: flex-end;width: 50%;}#sk-container-id-5 div.sk-parallel-item:last-child::after {align-self: flex-start;width: 50%;}#sk-container-id-5 div.sk-parallel-item:only-child::after {width: 0;}#sk-container-id-5 div.sk-dashed-wrapped {border: 1px dashed gray;margin: 0 0.4em 0.5em 0.4em;box-sizing: border-box;padding-bottom: 0.4em;background-color: white;}#sk-container-id-5 div.sk-label label {font-family: monospace;font-weight: bold;display: inline-block;line-height: 1.2em;}#sk-container-id-5 div.sk-label-container {text-align: center;}#sk-container-id-5 div.sk-container {/* jupyter's `normalize.less` sets `[hidden] { display: none; }` but bootstrap.min.css set `[hidden] { display: none !important; }` so we also need the `!important` here to be able to override the default hidden behavior on the sphinx rendered scikit-learn.org. See: https://github.com/scikit-learn/scikit-learn/issues/21755 */display: inline-block !important;position: relative;}#sk-container-id-5 div.sk-text-repr-fallback {display: none;}</style><div id=\"sk-container-id-5\" class=\"sk-top-container\"><div class=\"sk-text-repr-fallback\"><pre>LGBMModel(learning_rate=0.2, n_estimators=110, num_leaves=30,\n",
       "          objective=&#x27;regression&#x27;, random_state=12345)</pre><b>In a Jupyter environment, please rerun this cell to show the HTML representation or trust the notebook. <br />On GitHub, the HTML representation is unable to render, please try loading this page with nbviewer.org.</b></div><div class=\"sk-container\" hidden><div class=\"sk-item\"><div class=\"sk-estimator sk-toggleable\"><input class=\"sk-toggleable__control sk-hidden--visually\" id=\"sk-estimator-id-7\" type=\"checkbox\" checked><label for=\"sk-estimator-id-7\" class=\"sk-toggleable__label sk-toggleable__label-arrow\">LGBMModel</label><div class=\"sk-toggleable__content\"><pre>LGBMModel(learning_rate=0.2, n_estimators=110, num_leaves=30,\n",
       "          objective=&#x27;regression&#x27;, random_state=12345)</pre></div></div></div></div></div>"
      ],
      "text/plain": [
       "LGBMModel(learning_rate=0.2, n_estimators=110, num_leaves=30,\n",
       "          objective='regression', random_state=12345)"
      ]
     },
     "execution_count": 125,
     "metadata": {},
     "output_type": "execute_result"
    }
   ],
   "source": [
    "%%time\n",
    "lgb_best.fit(features_train, target_train)"
   ]
  },
  {
   "cell_type": "code",
   "execution_count": 126,
   "metadata": {},
   "outputs": [
    {
     "name": "stdout",
     "output_type": "stream",
     "text": [
      "CPU times: total: 688 ms\n",
      "Wall time: 252 ms\n"
     ]
    }
   ],
   "source": [
    "%%time\n",
    "lgb_predictions = lgb_best.predict(features_valid)"
   ]
  },
  {
   "cell_type": "code",
   "execution_count": 127,
   "metadata": {},
   "outputs": [
    {
     "data": {
      "text/plain": [
       "1344.6108255454965"
      ]
     },
     "execution_count": 127,
     "metadata": {},
     "output_type": "execute_result"
    }
   ],
   "source": [
    "# rmse по валидационной выборке\n",
    "rmse(target_valid, lgb_predictions)"
   ]
  },
  {
   "cell_type": "markdown",
   "metadata": {},
   "source": [
    "**Градиентный бустинг с момощью CatBoost**"
   ]
  },
  {
   "cell_type": "code",
   "execution_count": 128,
   "metadata": {},
   "outputs": [],
   "source": [
    "#Создаем модель регрессии\n",
    "cat_booster = CatBoostRegressor(random_state=12345)"
   ]
  },
  {
   "cell_type": "code",
   "execution_count": 129,
   "metadata": {},
   "outputs": [],
   "source": [
    "# Создаем GridSearchCV объект\n",
    "GS_cat = GridSearchCV(estimator = cat_booster,\n",
    "                  param_grid = {'learning_rate':[0.05, 0.1, 0.15, 0.2],\n",
    "                                'n_estimators':[x for x in range(80, 120, 10)]},\n",
    "                  scoring = rmse_scorer,\n",
    "                  cv=2)"
   ]
  },
  {
   "cell_type": "code",
   "execution_count": 130,
   "metadata": {},
   "outputs": [
    {
     "name": "stdout",
     "output_type": "stream",
     "text": [
      "0:\tlearn: 3243.5167536\ttotal: 160ms\tremaining: 12.6s\n",
      "1:\tlearn: 3147.9081314\ttotal: 169ms\tremaining: 6.61s\n",
      "2:\tlearn: 3059.0489380\ttotal: 179ms\tremaining: 4.59s\n",
      "3:\tlearn: 2976.7337065\ttotal: 188ms\tremaining: 3.56s\n",
      "4:\tlearn: 2897.1317910\ttotal: 197ms\tremaining: 2.96s\n",
      "5:\tlearn: 2821.2427761\ttotal: 206ms\tremaining: 2.54s\n",
      "6:\tlearn: 2750.8768325\ttotal: 215ms\tremaining: 2.24s\n",
      "7:\tlearn: 2686.8461466\ttotal: 223ms\tremaining: 2s\n",
      "8:\tlearn: 2625.7945187\ttotal: 232ms\tremaining: 1.83s\n",
      "9:\tlearn: 2568.8673303\ttotal: 240ms\tremaining: 1.68s\n",
      "10:\tlearn: 2513.4495858\ttotal: 250ms\tremaining: 1.57s\n",
      "11:\tlearn: 2462.2239096\ttotal: 258ms\tremaining: 1.46s\n",
      "12:\tlearn: 2409.8562734\ttotal: 267ms\tremaining: 1.37s\n",
      "13:\tlearn: 2365.0943044\ttotal: 276ms\tremaining: 1.3s\n",
      "14:\tlearn: 2320.3737021\ttotal: 285ms\tremaining: 1.23s\n",
      "15:\tlearn: 2279.7404209\ttotal: 294ms\tremaining: 1.18s\n",
      "16:\tlearn: 2241.0140207\ttotal: 303ms\tremaining: 1.12s\n",
      "17:\tlearn: 2203.3676450\ttotal: 313ms\tremaining: 1.08s\n",
      "18:\tlearn: 2169.4400668\ttotal: 322ms\tremaining: 1.03s\n",
      "19:\tlearn: 2138.6991871\ttotal: 332ms\tremaining: 995ms\n",
      "20:\tlearn: 2109.3727767\ttotal: 341ms\tremaining: 958ms\n",
      "21:\tlearn: 2081.2940554\ttotal: 350ms\tremaining: 924ms\n",
      "22:\tlearn: 2055.9080089\ttotal: 359ms\tremaining: 889ms\n",
      "23:\tlearn: 2031.5399350\ttotal: 369ms\tremaining: 860ms\n",
      "24:\tlearn: 2009.7839535\ttotal: 378ms\tremaining: 831ms\n",
      "25:\tlearn: 1988.6871234\ttotal: 388ms\tremaining: 805ms\n",
      "26:\tlearn: 1968.3568830\ttotal: 399ms\tremaining: 782ms\n",
      "27:\tlearn: 1949.5652303\ttotal: 407ms\tremaining: 756ms\n",
      "28:\tlearn: 1933.0772059\ttotal: 416ms\tremaining: 731ms\n",
      "29:\tlearn: 1915.0499123\ttotal: 425ms\tremaining: 708ms\n",
      "30:\tlearn: 1899.2647536\ttotal: 434ms\tremaining: 685ms\n",
      "31:\tlearn: 1883.3897438\ttotal: 443ms\tremaining: 665ms\n",
      "32:\tlearn: 1867.6325742\ttotal: 453ms\tremaining: 645ms\n",
      "33:\tlearn: 1854.5602552\ttotal: 461ms\tremaining: 623ms\n",
      "34:\tlearn: 1841.1930359\ttotal: 470ms\tremaining: 604ms\n",
      "35:\tlearn: 1828.2898017\ttotal: 479ms\tremaining: 585ms\n",
      "36:\tlearn: 1815.6330975\ttotal: 488ms\tremaining: 567ms\n",
      "37:\tlearn: 1804.5557192\ttotal: 495ms\tremaining: 548ms\n",
      "38:\tlearn: 1793.2664719\ttotal: 504ms\tremaining: 530ms\n",
      "39:\tlearn: 1782.1160668\ttotal: 513ms\tremaining: 513ms\n",
      "40:\tlearn: 1772.4913866\ttotal: 522ms\tremaining: 497ms\n",
      "41:\tlearn: 1762.9280525\ttotal: 532ms\tremaining: 481ms\n",
      "42:\tlearn: 1754.4092483\ttotal: 541ms\tremaining: 466ms\n",
      "43:\tlearn: 1746.0573212\ttotal: 550ms\tremaining: 450ms\n",
      "44:\tlearn: 1737.6311367\ttotal: 558ms\tremaining: 434ms\n",
      "45:\tlearn: 1730.0756552\ttotal: 568ms\tremaining: 420ms\n",
      "46:\tlearn: 1723.0902096\ttotal: 577ms\tremaining: 405ms\n",
      "47:\tlearn: 1714.2887357\ttotal: 586ms\tremaining: 391ms\n",
      "48:\tlearn: 1704.5228552\ttotal: 595ms\tremaining: 376ms\n",
      "49:\tlearn: 1695.1332053\ttotal: 605ms\tremaining: 363ms\n",
      "50:\tlearn: 1688.4975223\ttotal: 614ms\tremaining: 349ms\n",
      "51:\tlearn: 1682.5824469\ttotal: 622ms\tremaining: 335ms\n",
      "52:\tlearn: 1675.8027738\ttotal: 630ms\tremaining: 321ms\n",
      "53:\tlearn: 1669.4790803\ttotal: 638ms\tremaining: 307ms\n",
      "54:\tlearn: 1663.5643045\ttotal: 647ms\tremaining: 294ms\n",
      "55:\tlearn: 1655.9800852\ttotal: 656ms\tremaining: 281ms\n",
      "56:\tlearn: 1650.6421853\ttotal: 665ms\tremaining: 268ms\n",
      "57:\tlearn: 1645.9755205\ttotal: 673ms\tremaining: 255ms\n",
      "58:\tlearn: 1641.6127376\ttotal: 682ms\tremaining: 243ms\n",
      "59:\tlearn: 1636.3063493\ttotal: 690ms\tremaining: 230ms\n",
      "60:\tlearn: 1631.3767143\ttotal: 700ms\tremaining: 218ms\n",
      "61:\tlearn: 1627.4429601\ttotal: 708ms\tremaining: 206ms\n",
      "62:\tlearn: 1623.6301785\ttotal: 718ms\tremaining: 194ms\n",
      "63:\tlearn: 1619.1190841\ttotal: 726ms\tremaining: 182ms\n",
      "64:\tlearn: 1614.9561925\ttotal: 735ms\tremaining: 170ms\n",
      "65:\tlearn: 1608.9602883\ttotal: 745ms\tremaining: 158ms\n",
      "66:\tlearn: 1604.8210965\ttotal: 754ms\tremaining: 146ms\n",
      "67:\tlearn: 1601.3646104\ttotal: 763ms\tremaining: 135ms\n",
      "68:\tlearn: 1597.8516381\ttotal: 771ms\tremaining: 123ms\n",
      "69:\tlearn: 1592.8132007\ttotal: 783ms\tremaining: 112ms\n",
      "70:\tlearn: 1589.7709560\ttotal: 793ms\tremaining: 100ms\n",
      "71:\tlearn: 1585.0110121\ttotal: 801ms\tremaining: 89ms\n",
      "72:\tlearn: 1582.3731171\ttotal: 810ms\tremaining: 77.7ms\n",
      "73:\tlearn: 1579.2862198\ttotal: 818ms\tremaining: 66.4ms\n",
      "74:\tlearn: 1576.1223854\ttotal: 828ms\tremaining: 55.2ms\n",
      "75:\tlearn: 1572.9419536\ttotal: 837ms\tremaining: 44ms\n",
      "76:\tlearn: 1570.3453386\ttotal: 845ms\tremaining: 32.9ms\n",
      "77:\tlearn: 1567.2576935\ttotal: 854ms\tremaining: 21.9ms\n",
      "78:\tlearn: 1565.2302483\ttotal: 871ms\tremaining: 11ms\n",
      "79:\tlearn: 1562.9339772\ttotal: 880ms\tremaining: 0us\n",
      "0:\tlearn: 3233.3869968\ttotal: 9.04ms\tremaining: 714ms\n",
      "1:\tlearn: 3139.7097261\ttotal: 18.5ms\tremaining: 720ms\n",
      "2:\tlearn: 3052.8934286\ttotal: 28.1ms\tremaining: 721ms\n",
      "3:\tlearn: 2969.4123737\ttotal: 39.6ms\tremaining: 752ms\n",
      "4:\tlearn: 2890.6436201\ttotal: 49.1ms\tremaining: 737ms\n",
      "5:\tlearn: 2816.9473606\ttotal: 58.2ms\tremaining: 717ms\n",
      "6:\tlearn: 2748.0238684\ttotal: 67.6ms\tremaining: 705ms\n",
      "7:\tlearn: 2681.8684222\ttotal: 76.3ms\tremaining: 687ms\n",
      "8:\tlearn: 2619.1237769\ttotal: 86.3ms\tremaining: 681ms\n",
      "9:\tlearn: 2559.2992200\ttotal: 96.6ms\tremaining: 676ms\n",
      "10:\tlearn: 2507.0325200\ttotal: 106ms\tremaining: 664ms\n",
      "11:\tlearn: 2456.5986030\ttotal: 116ms\tremaining: 658ms\n",
      "12:\tlearn: 2408.4130279\ttotal: 125ms\tremaining: 644ms\n",
      "13:\tlearn: 2362.8272563\ttotal: 135ms\tremaining: 639ms\n",
      "14:\tlearn: 2318.3208257\ttotal: 146ms\tremaining: 631ms\n",
      "15:\tlearn: 2277.6282739\ttotal: 154ms\tremaining: 616ms\n",
      "16:\tlearn: 2239.5910581\ttotal: 163ms\tremaining: 606ms\n",
      "17:\tlearn: 2204.0048101\ttotal: 172ms\tremaining: 593ms\n",
      "18:\tlearn: 2171.7786457\ttotal: 182ms\tremaining: 584ms\n",
      "19:\tlearn: 2140.8267598\ttotal: 191ms\tremaining: 573ms\n",
      "20:\tlearn: 2111.5199148\ttotal: 200ms\tremaining: 563ms\n",
      "21:\tlearn: 2085.9576597\ttotal: 209ms\tremaining: 552ms\n",
      "22:\tlearn: 2059.1163729\ttotal: 218ms\tremaining: 540ms\n",
      "23:\tlearn: 2033.8490195\ttotal: 227ms\tremaining: 530ms\n",
      "24:\tlearn: 2011.4873190\ttotal: 235ms\tremaining: 517ms\n",
      "25:\tlearn: 1988.9918276\ttotal: 244ms\tremaining: 507ms\n",
      "26:\tlearn: 1967.2600579\ttotal: 253ms\tremaining: 496ms\n",
      "27:\tlearn: 1947.8469188\ttotal: 262ms\tremaining: 486ms\n",
      "28:\tlearn: 1930.9045120\ttotal: 270ms\tremaining: 474ms\n",
      "29:\tlearn: 1914.5172463\ttotal: 278ms\tremaining: 464ms\n",
      "30:\tlearn: 1898.4930435\ttotal: 286ms\tremaining: 452ms\n",
      "31:\tlearn: 1883.6438038\ttotal: 295ms\tremaining: 443ms\n",
      "32:\tlearn: 1869.6598209\ttotal: 304ms\tremaining: 433ms\n",
      "33:\tlearn: 1857.0673854\ttotal: 313ms\tremaining: 423ms\n",
      "34:\tlearn: 1843.5620777\ttotal: 323ms\tremaining: 415ms\n",
      "35:\tlearn: 1829.5554850\ttotal: 331ms\tremaining: 404ms\n",
      "36:\tlearn: 1818.8464949\ttotal: 339ms\tremaining: 394ms\n",
      "37:\tlearn: 1804.5592173\ttotal: 347ms\tremaining: 384ms\n",
      "38:\tlearn: 1793.3427123\ttotal: 356ms\tremaining: 374ms\n",
      "39:\tlearn: 1783.6416716\ttotal: 364ms\tremaining: 364ms\n",
      "40:\tlearn: 1772.8499198\ttotal: 372ms\tremaining: 354ms\n",
      "41:\tlearn: 1763.2797255\ttotal: 381ms\tremaining: 345ms\n",
      "42:\tlearn: 1753.9873608\ttotal: 391ms\tremaining: 336ms\n",
      "43:\tlearn: 1745.3231937\ttotal: 400ms\tremaining: 327ms\n",
      "44:\tlearn: 1735.4719173\ttotal: 408ms\tremaining: 317ms\n",
      "45:\tlearn: 1726.3157027\ttotal: 417ms\tremaining: 308ms\n",
      "46:\tlearn: 1716.2509158\ttotal: 426ms\tremaining: 299ms\n",
      "47:\tlearn: 1709.2161385\ttotal: 436ms\tremaining: 291ms\n",
      "48:\tlearn: 1702.7556849\ttotal: 445ms\tremaining: 281ms\n",
      "49:\tlearn: 1695.7403858\ttotal: 454ms\tremaining: 272ms\n",
      "50:\tlearn: 1688.8856344\ttotal: 462ms\tremaining: 263ms\n",
      "51:\tlearn: 1682.2978100\ttotal: 471ms\tremaining: 254ms\n",
      "52:\tlearn: 1675.9204462\ttotal: 480ms\tremaining: 245ms\n",
      "53:\tlearn: 1669.1946058\ttotal: 489ms\tremaining: 235ms\n",
      "54:\tlearn: 1663.3036332\ttotal: 498ms\tremaining: 226ms\n",
      "55:\tlearn: 1658.0943390\ttotal: 507ms\tremaining: 217ms\n",
      "56:\tlearn: 1653.4426690\ttotal: 516ms\tremaining: 208ms\n",
      "57:\tlearn: 1647.9820157\ttotal: 525ms\tremaining: 199ms\n",
      "58:\tlearn: 1643.7977946\ttotal: 534ms\tremaining: 190ms\n",
      "59:\tlearn: 1639.0110346\ttotal: 542ms\tremaining: 181ms\n",
      "60:\tlearn: 1633.9820652\ttotal: 551ms\tremaining: 172ms\n",
      "61:\tlearn: 1629.7338580\ttotal: 559ms\tremaining: 162ms\n",
      "62:\tlearn: 1625.4103321\ttotal: 569ms\tremaining: 154ms\n",
      "63:\tlearn: 1621.7163073\ttotal: 578ms\tremaining: 144ms\n",
      "64:\tlearn: 1618.1427254\ttotal: 587ms\tremaining: 135ms\n",
      "65:\tlearn: 1614.7239607\ttotal: 597ms\tremaining: 127ms\n",
      "66:\tlearn: 1609.1939456\ttotal: 606ms\tremaining: 118ms\n",
      "67:\tlearn: 1604.3452435\ttotal: 616ms\tremaining: 109ms\n",
      "68:\tlearn: 1600.1961623\ttotal: 624ms\tremaining: 99.5ms\n",
      "69:\tlearn: 1597.5213061\ttotal: 633ms\tremaining: 90.4ms\n",
      "70:\tlearn: 1594.4675166\ttotal: 642ms\tremaining: 81.4ms\n",
      "71:\tlearn: 1591.3286505\ttotal: 651ms\tremaining: 72.3ms\n",
      "72:\tlearn: 1588.0499615\ttotal: 660ms\tremaining: 63.3ms\n",
      "73:\tlearn: 1584.3565986\ttotal: 670ms\tremaining: 54.3ms\n",
      "74:\tlearn: 1581.9500574\ttotal: 680ms\tremaining: 45.4ms\n",
      "75:\tlearn: 1579.2306397\ttotal: 690ms\tremaining: 36.3ms\n",
      "76:\tlearn: 1576.0416542\ttotal: 699ms\tremaining: 27.2ms\n",
      "77:\tlearn: 1573.3392467\ttotal: 708ms\tremaining: 18.2ms\n",
      "78:\tlearn: 1571.1933184\ttotal: 717ms\tremaining: 9.08ms\n",
      "79:\tlearn: 1568.5063821\ttotal: 727ms\tremaining: 0us\n",
      "0:\tlearn: 3243.5167536\ttotal: 9.23ms\tremaining: 822ms\n",
      "1:\tlearn: 3147.9081314\ttotal: 17.6ms\tremaining: 777ms\n",
      "2:\tlearn: 3059.0489380\ttotal: 26.2ms\tremaining: 761ms\n",
      "3:\tlearn: 2976.7337065\ttotal: 34.6ms\tremaining: 743ms\n",
      "4:\tlearn: 2897.1317910\ttotal: 43.2ms\tremaining: 734ms\n",
      "5:\tlearn: 2821.2427761\ttotal: 51.3ms\tremaining: 719ms\n",
      "6:\tlearn: 2750.8768325\ttotal: 61.3ms\tremaining: 727ms\n",
      "7:\tlearn: 2686.8461466\ttotal: 69.3ms\tremaining: 711ms\n",
      "8:\tlearn: 2625.7945187\ttotal: 78.5ms\tremaining: 707ms\n",
      "9:\tlearn: 2568.8673303\ttotal: 87ms\tremaining: 696ms\n",
      "10:\tlearn: 2513.4495858\ttotal: 95.2ms\tremaining: 684ms\n",
      "11:\tlearn: 2462.2239096\ttotal: 103ms\tremaining: 671ms\n",
      "12:\tlearn: 2409.8562734\ttotal: 111ms\tremaining: 660ms\n",
      "13:\tlearn: 2365.0943044\ttotal: 120ms\tremaining: 650ms\n",
      "14:\tlearn: 2320.3737021\ttotal: 128ms\tremaining: 641ms\n",
      "15:\tlearn: 2279.7404209\ttotal: 137ms\tremaining: 635ms\n",
      "16:\tlearn: 2241.0140207\ttotal: 146ms\tremaining: 626ms\n",
      "17:\tlearn: 2203.3676450\ttotal: 154ms\tremaining: 616ms\n",
      "18:\tlearn: 2169.4400668\ttotal: 162ms\tremaining: 606ms\n",
      "19:\tlearn: 2138.6991871\ttotal: 171ms\tremaining: 597ms\n",
      "20:\tlearn: 2109.3727767\ttotal: 179ms\tremaining: 587ms\n",
      "21:\tlearn: 2081.2940554\ttotal: 188ms\tremaining: 580ms\n",
      "22:\tlearn: 2055.9080089\ttotal: 196ms\tremaining: 570ms\n",
      "23:\tlearn: 2031.5399350\ttotal: 204ms\tremaining: 560ms\n",
      "24:\tlearn: 2009.7839535\ttotal: 212ms\tremaining: 552ms\n",
      "25:\tlearn: 1988.6871234\ttotal: 221ms\tremaining: 544ms\n",
      "26:\tlearn: 1968.3568830\ttotal: 229ms\tremaining: 535ms\n",
      "27:\tlearn: 1949.5652303\ttotal: 238ms\tremaining: 527ms\n",
      "28:\tlearn: 1933.0772059\ttotal: 246ms\tremaining: 517ms\n",
      "29:\tlearn: 1915.0499123\ttotal: 254ms\tremaining: 508ms\n",
      "30:\tlearn: 1899.2647536\ttotal: 262ms\tremaining: 498ms\n",
      "31:\tlearn: 1883.3897438\ttotal: 270ms\tremaining: 489ms\n",
      "32:\tlearn: 1867.6325742\ttotal: 278ms\tremaining: 480ms\n",
      "33:\tlearn: 1854.5602552\ttotal: 286ms\tremaining: 471ms\n",
      "34:\tlearn: 1841.1930359\ttotal: 294ms\tremaining: 462ms\n",
      "35:\tlearn: 1828.2898017\ttotal: 303ms\tremaining: 454ms\n",
      "36:\tlearn: 1815.6330975\ttotal: 310ms\tremaining: 444ms\n",
      "37:\tlearn: 1804.5557192\ttotal: 318ms\tremaining: 436ms\n",
      "38:\tlearn: 1793.2664719\ttotal: 326ms\tremaining: 427ms\n",
      "39:\tlearn: 1782.1160668\ttotal: 335ms\tremaining: 418ms\n",
      "40:\tlearn: 1772.4913866\ttotal: 343ms\tremaining: 410ms\n",
      "41:\tlearn: 1762.9280525\ttotal: 352ms\tremaining: 402ms\n",
      "42:\tlearn: 1754.4092483\ttotal: 360ms\tremaining: 393ms\n",
      "43:\tlearn: 1746.0573212\ttotal: 368ms\tremaining: 385ms\n",
      "44:\tlearn: 1737.6311367\ttotal: 377ms\tremaining: 377ms\n",
      "45:\tlearn: 1730.0756552\ttotal: 386ms\tremaining: 369ms\n",
      "46:\tlearn: 1723.0902096\ttotal: 394ms\tremaining: 360ms\n",
      "47:\tlearn: 1714.2887357\ttotal: 404ms\tremaining: 353ms\n",
      "48:\tlearn: 1704.5228552\ttotal: 412ms\tremaining: 345ms\n",
      "49:\tlearn: 1695.1332053\ttotal: 421ms\tremaining: 337ms\n",
      "50:\tlearn: 1688.4975223\ttotal: 429ms\tremaining: 328ms\n",
      "51:\tlearn: 1682.5824469\ttotal: 437ms\tremaining: 319ms\n",
      "52:\tlearn: 1675.8027738\ttotal: 446ms\tremaining: 311ms\n",
      "53:\tlearn: 1669.4790803\ttotal: 453ms\tremaining: 302ms\n",
      "54:\tlearn: 1663.5643045\ttotal: 462ms\tremaining: 294ms\n",
      "55:\tlearn: 1655.9800852\ttotal: 470ms\tremaining: 286ms\n",
      "56:\tlearn: 1650.6421853\ttotal: 479ms\tremaining: 277ms\n",
      "57:\tlearn: 1645.9755205\ttotal: 486ms\tremaining: 268ms\n",
      "58:\tlearn: 1641.6127376\ttotal: 495ms\tremaining: 260ms\n",
      "59:\tlearn: 1636.3063493\ttotal: 502ms\tremaining: 251ms\n",
      "60:\tlearn: 1631.3767143\ttotal: 511ms\tremaining: 243ms\n",
      "61:\tlearn: 1627.4429601\ttotal: 520ms\tremaining: 235ms\n",
      "62:\tlearn: 1623.6301785\ttotal: 529ms\tremaining: 227ms\n",
      "63:\tlearn: 1619.1190841\ttotal: 537ms\tremaining: 218ms\n",
      "64:\tlearn: 1614.9561925\ttotal: 546ms\tremaining: 210ms\n",
      "65:\tlearn: 1608.9602883\ttotal: 554ms\tremaining: 201ms\n",
      "66:\tlearn: 1604.8210965\ttotal: 562ms\tremaining: 193ms\n",
      "67:\tlearn: 1601.3646104\ttotal: 570ms\tremaining: 184ms\n",
      "68:\tlearn: 1597.8516381\ttotal: 580ms\tremaining: 176ms\n",
      "69:\tlearn: 1592.8132007\ttotal: 589ms\tremaining: 168ms\n",
      "70:\tlearn: 1589.7709560\ttotal: 597ms\tremaining: 160ms\n",
      "71:\tlearn: 1585.0110121\ttotal: 606ms\tremaining: 151ms\n",
      "72:\tlearn: 1582.3731171\ttotal: 615ms\tremaining: 143ms\n",
      "73:\tlearn: 1579.2862198\ttotal: 624ms\tremaining: 135ms\n",
      "74:\tlearn: 1576.1223854\ttotal: 633ms\tremaining: 127ms\n",
      "75:\tlearn: 1572.9419536\ttotal: 642ms\tremaining: 118ms\n",
      "76:\tlearn: 1570.3453386\ttotal: 651ms\tremaining: 110ms\n",
      "77:\tlearn: 1567.2576935\ttotal: 660ms\tremaining: 102ms\n",
      "78:\tlearn: 1565.2302483\ttotal: 668ms\tremaining: 93ms\n",
      "79:\tlearn: 1562.9339772\ttotal: 677ms\tremaining: 84.6ms\n",
      "80:\tlearn: 1559.6525487\ttotal: 685ms\tremaining: 76.2ms\n",
      "81:\tlearn: 1557.7067244\ttotal: 694ms\tremaining: 67.7ms\n",
      "82:\tlearn: 1554.9719119\ttotal: 703ms\tremaining: 59.3ms\n",
      "83:\tlearn: 1552.0415616\ttotal: 711ms\tremaining: 50.8ms\n",
      "84:\tlearn: 1550.0345062\ttotal: 720ms\tremaining: 42.4ms\n",
      "85:\tlearn: 1548.3143864\ttotal: 729ms\tremaining: 33.9ms\n",
      "86:\tlearn: 1546.4100260\ttotal: 738ms\tremaining: 25.4ms\n",
      "87:\tlearn: 1544.3521308\ttotal: 746ms\tremaining: 16.9ms\n",
      "88:\tlearn: 1542.0098830\ttotal: 756ms\tremaining: 8.49ms\n",
      "89:\tlearn: 1540.1095183\ttotal: 764ms\tremaining: 0us\n",
      "0:\tlearn: 3233.3869968\ttotal: 8.84ms\tremaining: 787ms\n",
      "1:\tlearn: 3139.7097261\ttotal: 16.5ms\tremaining: 727ms\n",
      "2:\tlearn: 3052.8934286\ttotal: 24.8ms\tremaining: 720ms\n",
      "3:\tlearn: 2969.4123737\ttotal: 32.8ms\tremaining: 704ms\n",
      "4:\tlearn: 2890.6436201\ttotal: 41.5ms\tremaining: 705ms\n",
      "5:\tlearn: 2816.9473606\ttotal: 48.9ms\tremaining: 685ms\n",
      "6:\tlearn: 2748.0238684\ttotal: 57.9ms\tremaining: 686ms\n",
      "7:\tlearn: 2681.8684222\ttotal: 65.7ms\tremaining: 673ms\n",
      "8:\tlearn: 2619.1237769\ttotal: 74.8ms\tremaining: 673ms\n",
      "9:\tlearn: 2559.2992200\ttotal: 82.7ms\tremaining: 662ms\n",
      "10:\tlearn: 2507.0325200\ttotal: 91.6ms\tremaining: 658ms\n",
      "11:\tlearn: 2456.5986030\ttotal: 99.4ms\tremaining: 646ms\n",
      "12:\tlearn: 2408.4130279\ttotal: 108ms\tremaining: 638ms\n",
      "13:\tlearn: 2362.8272563\ttotal: 116ms\tremaining: 629ms\n",
      "14:\tlearn: 2318.3208257\ttotal: 124ms\tremaining: 620ms\n",
      "15:\tlearn: 2277.6282739\ttotal: 132ms\tremaining: 610ms\n",
      "16:\tlearn: 2239.5910581\ttotal: 140ms\tremaining: 603ms\n",
      "17:\tlearn: 2204.0048101\ttotal: 148ms\tremaining: 592ms\n",
      "18:\tlearn: 2171.7786457\ttotal: 157ms\tremaining: 585ms\n",
      "19:\tlearn: 2140.8267598\ttotal: 164ms\tremaining: 576ms\n",
      "20:\tlearn: 2111.5199148\ttotal: 173ms\tremaining: 569ms\n",
      "21:\tlearn: 2085.9576597\ttotal: 181ms\tremaining: 560ms\n",
      "22:\tlearn: 2059.1163729\ttotal: 190ms\tremaining: 552ms\n",
      "23:\tlearn: 2033.8490195\ttotal: 197ms\tremaining: 542ms\n",
      "24:\tlearn: 2011.4873190\ttotal: 205ms\tremaining: 534ms\n",
      "25:\tlearn: 1988.9918276\ttotal: 215ms\tremaining: 528ms\n",
      "26:\tlearn: 1967.2600579\ttotal: 223ms\tremaining: 520ms\n",
      "27:\tlearn: 1947.8469188\ttotal: 231ms\tremaining: 512ms\n",
      "28:\tlearn: 1930.9045120\ttotal: 239ms\tremaining: 503ms\n",
      "29:\tlearn: 1914.5172463\ttotal: 247ms\tremaining: 494ms\n",
      "30:\tlearn: 1898.4930435\ttotal: 254ms\tremaining: 484ms\n",
      "31:\tlearn: 1883.6438038\ttotal: 263ms\tremaining: 476ms\n",
      "32:\tlearn: 1869.6598209\ttotal: 270ms\tremaining: 467ms\n",
      "33:\tlearn: 1857.0673854\ttotal: 278ms\tremaining: 457ms\n",
      "34:\tlearn: 1843.5620777\ttotal: 286ms\tremaining: 450ms\n",
      "35:\tlearn: 1829.5554850\ttotal: 294ms\tremaining: 441ms\n",
      "36:\tlearn: 1818.8464949\ttotal: 302ms\tremaining: 433ms\n",
      "37:\tlearn: 1804.5592173\ttotal: 310ms\tremaining: 425ms\n",
      "38:\tlearn: 1793.3427123\ttotal: 319ms\tremaining: 417ms\n",
      "39:\tlearn: 1783.6416716\ttotal: 326ms\tremaining: 408ms\n",
      "40:\tlearn: 1772.8499198\ttotal: 335ms\tremaining: 401ms\n",
      "41:\tlearn: 1763.2797255\ttotal: 344ms\tremaining: 393ms\n",
      "42:\tlearn: 1753.9873608\ttotal: 351ms\tremaining: 383ms\n",
      "43:\tlearn: 1745.3231937\ttotal: 359ms\tremaining: 375ms\n",
      "44:\tlearn: 1735.4719173\ttotal: 367ms\tremaining: 367ms\n",
      "45:\tlearn: 1726.3157027\ttotal: 375ms\tremaining: 359ms\n",
      "46:\tlearn: 1716.2509158\ttotal: 384ms\tremaining: 351ms\n",
      "47:\tlearn: 1709.2161385\ttotal: 392ms\tremaining: 343ms\n",
      "48:\tlearn: 1702.7556849\ttotal: 400ms\tremaining: 334ms\n",
      "49:\tlearn: 1695.7403858\ttotal: 407ms\tremaining: 326ms\n",
      "50:\tlearn: 1688.8856344\ttotal: 416ms\tremaining: 318ms\n",
      "51:\tlearn: 1682.2978100\ttotal: 426ms\tremaining: 311ms\n",
      "52:\tlearn: 1675.9204462\ttotal: 435ms\tremaining: 304ms\n",
      "53:\tlearn: 1669.1946058\ttotal: 445ms\tremaining: 296ms\n",
      "54:\tlearn: 1663.3036332\ttotal: 453ms\tremaining: 288ms\n",
      "55:\tlearn: 1658.0943390\ttotal: 462ms\tremaining: 280ms\n",
      "56:\tlearn: 1653.4426690\ttotal: 470ms\tremaining: 272ms\n",
      "57:\tlearn: 1647.9820157\ttotal: 478ms\tremaining: 264ms\n",
      "58:\tlearn: 1643.7977946\ttotal: 486ms\tremaining: 255ms\n",
      "59:\tlearn: 1639.0110346\ttotal: 495ms\tremaining: 247ms\n",
      "60:\tlearn: 1633.9820652\ttotal: 503ms\tremaining: 239ms\n",
      "61:\tlearn: 1629.7338580\ttotal: 512ms\tremaining: 231ms\n",
      "62:\tlearn: 1625.4103321\ttotal: 520ms\tremaining: 223ms\n",
      "63:\tlearn: 1621.7163073\ttotal: 530ms\tremaining: 215ms\n",
      "64:\tlearn: 1618.1427254\ttotal: 539ms\tremaining: 207ms\n",
      "65:\tlearn: 1614.7239607\ttotal: 547ms\tremaining: 199ms\n",
      "66:\tlearn: 1609.1939456\ttotal: 557ms\tremaining: 191ms\n",
      "67:\tlearn: 1604.3452435\ttotal: 566ms\tremaining: 183ms\n",
      "68:\tlearn: 1600.1961623\ttotal: 574ms\tremaining: 175ms\n",
      "69:\tlearn: 1597.5213061\ttotal: 583ms\tremaining: 166ms\n",
      "70:\tlearn: 1594.4675166\ttotal: 591ms\tremaining: 158ms\n",
      "71:\tlearn: 1591.3286505\ttotal: 598ms\tremaining: 150ms\n",
      "72:\tlearn: 1588.0499615\ttotal: 607ms\tremaining: 141ms\n",
      "73:\tlearn: 1584.3565986\ttotal: 616ms\tremaining: 133ms\n",
      "74:\tlearn: 1581.9500574\ttotal: 625ms\tremaining: 125ms\n",
      "75:\tlearn: 1579.2306397\ttotal: 634ms\tremaining: 117ms\n",
      "76:\tlearn: 1576.0416542\ttotal: 643ms\tremaining: 108ms\n",
      "77:\tlearn: 1573.3392467\ttotal: 650ms\tremaining: 100ms\n",
      "78:\tlearn: 1571.1933184\ttotal: 658ms\tremaining: 91.7ms\n",
      "79:\tlearn: 1568.5063821\ttotal: 666ms\tremaining: 83.3ms\n",
      "80:\tlearn: 1565.6620710\ttotal: 675ms\tremaining: 75ms\n",
      "81:\tlearn: 1563.7388367\ttotal: 682ms\tremaining: 66.6ms\n",
      "82:\tlearn: 1560.0607666\ttotal: 691ms\tremaining: 58.3ms\n",
      "83:\tlearn: 1558.0349306\ttotal: 699ms\tremaining: 49.9ms\n",
      "84:\tlearn: 1555.8813150\ttotal: 707ms\tremaining: 41.6ms\n",
      "85:\tlearn: 1552.8925575\ttotal: 715ms\tremaining: 33.3ms\n",
      "86:\tlearn: 1551.0506656\ttotal: 723ms\tremaining: 24.9ms\n",
      "87:\tlearn: 1548.8542219\ttotal: 731ms\tremaining: 16.6ms\n",
      "88:\tlearn: 1547.0848912\ttotal: 739ms\tremaining: 8.3ms\n",
      "89:\tlearn: 1545.6825646\ttotal: 747ms\tremaining: 0us\n",
      "0:\tlearn: 3243.5167536\ttotal: 9.21ms\tremaining: 912ms\n",
      "1:\tlearn: 3147.9081314\ttotal: 18.3ms\tremaining: 896ms\n",
      "2:\tlearn: 3059.0489380\ttotal: 27ms\tremaining: 872ms\n",
      "3:\tlearn: 2976.7337065\ttotal: 35.8ms\tremaining: 860ms\n",
      "4:\tlearn: 2897.1317910\ttotal: 44.9ms\tremaining: 854ms\n",
      "5:\tlearn: 2821.2427761\ttotal: 53.4ms\tremaining: 836ms\n",
      "6:\tlearn: 2750.8768325\ttotal: 62.3ms\tremaining: 827ms\n",
      "7:\tlearn: 2686.8461466\ttotal: 69.9ms\tremaining: 804ms\n",
      "8:\tlearn: 2625.7945187\ttotal: 78.3ms\tremaining: 791ms\n",
      "9:\tlearn: 2568.8673303\ttotal: 87.3ms\tremaining: 786ms\n",
      "10:\tlearn: 2513.4495858\ttotal: 95.4ms\tremaining: 772ms\n",
      "11:\tlearn: 2462.2239096\ttotal: 104ms\tremaining: 763ms\n",
      "12:\tlearn: 2409.8562734\ttotal: 112ms\tremaining: 750ms\n",
      "13:\tlearn: 2365.0943044\ttotal: 121ms\tremaining: 744ms\n",
      "14:\tlearn: 2320.3737021\ttotal: 129ms\tremaining: 733ms\n",
      "15:\tlearn: 2279.7404209\ttotal: 138ms\tremaining: 726ms\n",
      "16:\tlearn: 2241.0140207\ttotal: 146ms\tremaining: 714ms\n",
      "17:\tlearn: 2203.3676450\ttotal: 155ms\tremaining: 707ms\n",
      "18:\tlearn: 2169.4400668\ttotal: 163ms\tremaining: 696ms\n",
      "19:\tlearn: 2138.6991871\ttotal: 172ms\tremaining: 688ms\n",
      "20:\tlearn: 2109.3727767\ttotal: 180ms\tremaining: 677ms\n",
      "21:\tlearn: 2081.2940554\ttotal: 189ms\tremaining: 670ms\n",
      "22:\tlearn: 2055.9080089\ttotal: 196ms\tremaining: 658ms\n",
      "23:\tlearn: 2031.5399350\ttotal: 205ms\tremaining: 649ms\n",
      "24:\tlearn: 2009.7839535\ttotal: 214ms\tremaining: 642ms\n",
      "25:\tlearn: 1988.6871234\ttotal: 222ms\tremaining: 633ms\n",
      "26:\tlearn: 1968.3568830\ttotal: 231ms\tremaining: 625ms\n",
      "27:\tlearn: 1949.5652303\ttotal: 239ms\tremaining: 614ms\n",
      "28:\tlearn: 1933.0772059\ttotal: 246ms\tremaining: 603ms\n",
      "29:\tlearn: 1915.0499123\ttotal: 254ms\tremaining: 594ms\n",
      "30:\tlearn: 1899.2647536\ttotal: 262ms\tremaining: 584ms\n",
      "31:\tlearn: 1883.3897438\ttotal: 271ms\tremaining: 577ms\n",
      "32:\tlearn: 1867.6325742\ttotal: 279ms\tremaining: 566ms\n",
      "33:\tlearn: 1854.5602552\ttotal: 287ms\tremaining: 557ms\n",
      "34:\tlearn: 1841.1930359\ttotal: 295ms\tremaining: 548ms\n",
      "35:\tlearn: 1828.2898017\ttotal: 304ms\tremaining: 541ms\n",
      "36:\tlearn: 1815.6330975\ttotal: 312ms\tremaining: 531ms\n",
      "37:\tlearn: 1804.5557192\ttotal: 320ms\tremaining: 523ms\n",
      "38:\tlearn: 1793.2664719\ttotal: 328ms\tremaining: 513ms\n",
      "39:\tlearn: 1782.1160668\ttotal: 337ms\tremaining: 505ms\n",
      "40:\tlearn: 1772.4913866\ttotal: 345ms\tremaining: 496ms\n",
      "41:\tlearn: 1762.9280525\ttotal: 353ms\tremaining: 488ms\n",
      "42:\tlearn: 1754.4092483\ttotal: 361ms\tremaining: 479ms\n",
      "43:\tlearn: 1746.0573212\ttotal: 368ms\tremaining: 469ms\n",
      "44:\tlearn: 1737.6311367\ttotal: 376ms\tremaining: 460ms\n",
      "45:\tlearn: 1730.0756552\ttotal: 385ms\tremaining: 452ms\n",
      "46:\tlearn: 1723.0902096\ttotal: 392ms\tremaining: 442ms\n",
      "47:\tlearn: 1714.2887357\ttotal: 401ms\tremaining: 435ms\n",
      "48:\tlearn: 1704.5228552\ttotal: 410ms\tremaining: 427ms\n",
      "49:\tlearn: 1695.1332053\ttotal: 419ms\tremaining: 419ms\n",
      "50:\tlearn: 1688.4975223\ttotal: 428ms\tremaining: 411ms\n",
      "51:\tlearn: 1682.5824469\ttotal: 436ms\tremaining: 402ms\n",
      "52:\tlearn: 1675.8027738\ttotal: 444ms\tremaining: 394ms\n",
      "53:\tlearn: 1669.4790803\ttotal: 452ms\tremaining: 385ms\n",
      "54:\tlearn: 1663.5643045\ttotal: 461ms\tremaining: 377ms\n",
      "55:\tlearn: 1655.9800852\ttotal: 469ms\tremaining: 369ms\n",
      "56:\tlearn: 1650.6421853\ttotal: 478ms\tremaining: 360ms\n",
      "57:\tlearn: 1645.9755205\ttotal: 486ms\tremaining: 352ms\n",
      "58:\tlearn: 1641.6127376\ttotal: 496ms\tremaining: 345ms\n",
      "59:\tlearn: 1636.3063493\ttotal: 505ms\tremaining: 336ms\n",
      "60:\tlearn: 1631.3767143\ttotal: 514ms\tremaining: 329ms\n",
      "61:\tlearn: 1627.4429601\ttotal: 524ms\tremaining: 321ms\n",
      "62:\tlearn: 1623.6301785\ttotal: 533ms\tremaining: 313ms\n",
      "63:\tlearn: 1619.1190841\ttotal: 541ms\tremaining: 304ms\n",
      "64:\tlearn: 1614.9561925\ttotal: 549ms\tremaining: 296ms\n",
      "65:\tlearn: 1608.9602883\ttotal: 558ms\tremaining: 288ms\n",
      "66:\tlearn: 1604.8210965\ttotal: 568ms\tremaining: 280ms\n",
      "67:\tlearn: 1601.3646104\ttotal: 576ms\tremaining: 271ms\n",
      "68:\tlearn: 1597.8516381\ttotal: 585ms\tremaining: 263ms\n",
      "69:\tlearn: 1592.8132007\ttotal: 595ms\tremaining: 255ms\n",
      "70:\tlearn: 1589.7709560\ttotal: 603ms\tremaining: 246ms\n",
      "71:\tlearn: 1585.0110121\ttotal: 613ms\tremaining: 238ms\n",
      "72:\tlearn: 1582.3731171\ttotal: 622ms\tremaining: 230ms\n",
      "73:\tlearn: 1579.2862198\ttotal: 630ms\tremaining: 221ms\n",
      "74:\tlearn: 1576.1223854\ttotal: 639ms\tremaining: 213ms\n",
      "75:\tlearn: 1572.9419536\ttotal: 647ms\tremaining: 204ms\n",
      "76:\tlearn: 1570.3453386\ttotal: 656ms\tremaining: 196ms\n",
      "77:\tlearn: 1567.2576935\ttotal: 663ms\tremaining: 187ms\n",
      "78:\tlearn: 1565.2302483\ttotal: 672ms\tremaining: 179ms\n",
      "79:\tlearn: 1562.9339772\ttotal: 681ms\tremaining: 170ms\n",
      "80:\tlearn: 1559.6525487\ttotal: 690ms\tremaining: 162ms\n",
      "81:\tlearn: 1557.7067244\ttotal: 698ms\tremaining: 153ms\n",
      "82:\tlearn: 1554.9719119\ttotal: 707ms\tremaining: 145ms\n",
      "83:\tlearn: 1552.0415616\ttotal: 716ms\tremaining: 136ms\n",
      "84:\tlearn: 1550.0345062\ttotal: 725ms\tremaining: 128ms\n",
      "85:\tlearn: 1548.3143864\ttotal: 734ms\tremaining: 119ms\n",
      "86:\tlearn: 1546.4100260\ttotal: 742ms\tremaining: 111ms\n",
      "87:\tlearn: 1544.3521308\ttotal: 751ms\tremaining: 102ms\n",
      "88:\tlearn: 1542.0098830\ttotal: 758ms\tremaining: 93.7ms\n",
      "89:\tlearn: 1540.1095183\ttotal: 767ms\tremaining: 85.2ms\n",
      "90:\tlearn: 1538.6230848\ttotal: 775ms\tremaining: 76.6ms\n",
      "91:\tlearn: 1536.9092320\ttotal: 784ms\tremaining: 68.1ms\n",
      "92:\tlearn: 1534.4765281\ttotal: 792ms\tremaining: 59.6ms\n",
      "93:\tlearn: 1532.7200759\ttotal: 800ms\tremaining: 51.1ms\n",
      "94:\tlearn: 1531.0231036\ttotal: 808ms\tremaining: 42.5ms\n",
      "95:\tlearn: 1529.2807576\ttotal: 817ms\tremaining: 34ms\n",
      "96:\tlearn: 1527.5573801\ttotal: 826ms\tremaining: 25.6ms\n",
      "97:\tlearn: 1525.4519832\ttotal: 835ms\tremaining: 17ms\n",
      "98:\tlearn: 1524.2763867\ttotal: 843ms\tremaining: 8.51ms\n",
      "99:\tlearn: 1522.8455500\ttotal: 852ms\tremaining: 0us\n",
      "0:\tlearn: 3233.3869968\ttotal: 8.59ms\tremaining: 850ms\n",
      "1:\tlearn: 3139.7097261\ttotal: 17.8ms\tremaining: 873ms\n",
      "2:\tlearn: 3052.8934286\ttotal: 26ms\tremaining: 840ms\n",
      "3:\tlearn: 2969.4123737\ttotal: 34.9ms\tremaining: 839ms\n",
      "4:\tlearn: 2890.6436201\ttotal: 44.6ms\tremaining: 847ms\n",
      "5:\tlearn: 2816.9473606\ttotal: 52.2ms\tremaining: 819ms\n",
      "6:\tlearn: 2748.0238684\ttotal: 61.1ms\tremaining: 811ms\n",
      "7:\tlearn: 2681.8684222\ttotal: 69.4ms\tremaining: 798ms\n",
      "8:\tlearn: 2619.1237769\ttotal: 78.6ms\tremaining: 795ms\n",
      "9:\tlearn: 2559.2992200\ttotal: 87.6ms\tremaining: 788ms\n",
      "10:\tlearn: 2507.0325200\ttotal: 96.6ms\tremaining: 782ms\n",
      "11:\tlearn: 2456.5986030\ttotal: 105ms\tremaining: 768ms\n",
      "12:\tlearn: 2408.4130279\ttotal: 114ms\tremaining: 763ms\n",
      "13:\tlearn: 2362.8272563\ttotal: 123ms\tremaining: 757ms\n",
      "14:\tlearn: 2318.3208257\ttotal: 133ms\tremaining: 754ms\n",
      "15:\tlearn: 2277.6282739\ttotal: 142ms\tremaining: 746ms\n",
      "16:\tlearn: 2239.5910581\ttotal: 150ms\tremaining: 735ms\n",
      "17:\tlearn: 2204.0048101\ttotal: 159ms\tremaining: 726ms\n",
      "18:\tlearn: 2171.7786457\ttotal: 168ms\tremaining: 715ms\n",
      "19:\tlearn: 2140.8267598\ttotal: 176ms\tremaining: 705ms\n",
      "20:\tlearn: 2111.5199148\ttotal: 184ms\tremaining: 693ms\n",
      "21:\tlearn: 2085.9576597\ttotal: 193ms\tremaining: 684ms\n",
      "22:\tlearn: 2059.1163729\ttotal: 201ms\tremaining: 674ms\n",
      "23:\tlearn: 2033.8490195\ttotal: 211ms\tremaining: 668ms\n",
      "24:\tlearn: 2011.4873190\ttotal: 219ms\tremaining: 656ms\n",
      "25:\tlearn: 1988.9918276\ttotal: 229ms\tremaining: 651ms\n",
      "26:\tlearn: 1967.2600579\ttotal: 238ms\tremaining: 642ms\n",
      "27:\tlearn: 1947.8469188\ttotal: 246ms\tremaining: 632ms\n",
      "28:\tlearn: 1930.9045120\ttotal: 255ms\tremaining: 624ms\n",
      "29:\tlearn: 1914.5172463\ttotal: 263ms\tremaining: 613ms\n",
      "30:\tlearn: 1898.4930435\ttotal: 272ms\tremaining: 604ms\n",
      "31:\tlearn: 1883.6438038\ttotal: 280ms\tremaining: 595ms\n",
      "32:\tlearn: 1869.6598209\ttotal: 289ms\tremaining: 586ms\n",
      "33:\tlearn: 1857.0673854\ttotal: 297ms\tremaining: 576ms\n",
      "34:\tlearn: 1843.5620777\ttotal: 306ms\tremaining: 567ms\n",
      "35:\tlearn: 1829.5554850\ttotal: 314ms\tremaining: 558ms\n",
      "36:\tlearn: 1818.8464949\ttotal: 322ms\tremaining: 549ms\n",
      "37:\tlearn: 1804.5592173\ttotal: 331ms\tremaining: 540ms\n",
      "38:\tlearn: 1793.3427123\ttotal: 340ms\tremaining: 531ms\n",
      "39:\tlearn: 1783.6416716\ttotal: 348ms\tremaining: 522ms\n",
      "40:\tlearn: 1772.8499198\ttotal: 357ms\tremaining: 513ms\n",
      "41:\tlearn: 1763.2797255\ttotal: 366ms\tremaining: 505ms\n",
      "42:\tlearn: 1753.9873608\ttotal: 374ms\tremaining: 496ms\n",
      "43:\tlearn: 1745.3231937\ttotal: 382ms\tremaining: 487ms\n",
      "44:\tlearn: 1735.4719173\ttotal: 391ms\tremaining: 478ms\n",
      "45:\tlearn: 1726.3157027\ttotal: 400ms\tremaining: 470ms\n",
      "46:\tlearn: 1716.2509158\ttotal: 409ms\tremaining: 461ms\n",
      "47:\tlearn: 1709.2161385\ttotal: 417ms\tremaining: 452ms\n",
      "48:\tlearn: 1702.7556849\ttotal: 426ms\tremaining: 443ms\n",
      "49:\tlearn: 1695.7403858\ttotal: 436ms\tremaining: 436ms\n",
      "50:\tlearn: 1688.8856344\ttotal: 444ms\tremaining: 427ms\n",
      "51:\tlearn: 1682.2978100\ttotal: 453ms\tremaining: 418ms\n",
      "52:\tlearn: 1675.9204462\ttotal: 461ms\tremaining: 409ms\n",
      "53:\tlearn: 1669.1946058\ttotal: 471ms\tremaining: 401ms\n",
      "54:\tlearn: 1663.3036332\ttotal: 482ms\tremaining: 394ms\n",
      "55:\tlearn: 1658.0943390\ttotal: 491ms\tremaining: 386ms\n",
      "56:\tlearn: 1653.4426690\ttotal: 501ms\tremaining: 378ms\n",
      "57:\tlearn: 1647.9820157\ttotal: 511ms\tremaining: 370ms\n",
      "58:\tlearn: 1643.7977946\ttotal: 520ms\tremaining: 361ms\n",
      "59:\tlearn: 1639.0110346\ttotal: 528ms\tremaining: 352ms\n",
      "60:\tlearn: 1633.9820652\ttotal: 538ms\tremaining: 344ms\n",
      "61:\tlearn: 1629.7338580\ttotal: 546ms\tremaining: 335ms\n",
      "62:\tlearn: 1625.4103321\ttotal: 555ms\tremaining: 326ms\n",
      "63:\tlearn: 1621.7163073\ttotal: 564ms\tremaining: 317ms\n",
      "64:\tlearn: 1618.1427254\ttotal: 572ms\tremaining: 308ms\n",
      "65:\tlearn: 1614.7239607\ttotal: 582ms\tremaining: 300ms\n",
      "66:\tlearn: 1609.1939456\ttotal: 591ms\tremaining: 291ms\n",
      "67:\tlearn: 1604.3452435\ttotal: 601ms\tremaining: 283ms\n",
      "68:\tlearn: 1600.1961623\ttotal: 609ms\tremaining: 274ms\n",
      "69:\tlearn: 1597.5213061\ttotal: 619ms\tremaining: 265ms\n",
      "70:\tlearn: 1594.4675166\ttotal: 628ms\tremaining: 257ms\n",
      "71:\tlearn: 1591.3286505\ttotal: 637ms\tremaining: 248ms\n",
      "72:\tlearn: 1588.0499615\ttotal: 645ms\tremaining: 239ms\n",
      "73:\tlearn: 1584.3565986\ttotal: 654ms\tremaining: 230ms\n",
      "74:\tlearn: 1581.9500574\ttotal: 663ms\tremaining: 221ms\n",
      "75:\tlearn: 1579.2306397\ttotal: 672ms\tremaining: 212ms\n",
      "76:\tlearn: 1576.0416542\ttotal: 681ms\tremaining: 203ms\n",
      "77:\tlearn: 1573.3392467\ttotal: 689ms\tremaining: 194ms\n",
      "78:\tlearn: 1571.1933184\ttotal: 698ms\tremaining: 185ms\n",
      "79:\tlearn: 1568.5063821\ttotal: 706ms\tremaining: 177ms\n",
      "80:\tlearn: 1565.6620710\ttotal: 716ms\tremaining: 168ms\n",
      "81:\tlearn: 1563.7388367\ttotal: 725ms\tremaining: 159ms\n",
      "82:\tlearn: 1560.0607666\ttotal: 733ms\tremaining: 150ms\n",
      "83:\tlearn: 1558.0349306\ttotal: 742ms\tremaining: 141ms\n",
      "84:\tlearn: 1555.8813150\ttotal: 751ms\tremaining: 132ms\n",
      "85:\tlearn: 1552.8925575\ttotal: 760ms\tremaining: 124ms\n",
      "86:\tlearn: 1551.0506656\ttotal: 768ms\tremaining: 115ms\n",
      "87:\tlearn: 1548.8542219\ttotal: 776ms\tremaining: 106ms\n",
      "88:\tlearn: 1547.0848912\ttotal: 784ms\tremaining: 96.9ms\n",
      "89:\tlearn: 1545.6825646\ttotal: 793ms\tremaining: 88.1ms\n",
      "90:\tlearn: 1543.3923417\ttotal: 801ms\tremaining: 79.2ms\n",
      "91:\tlearn: 1541.8191894\ttotal: 810ms\tremaining: 70.4ms\n",
      "92:\tlearn: 1538.8294461\ttotal: 819ms\tremaining: 61.6ms\n",
      "93:\tlearn: 1537.4104224\ttotal: 827ms\tremaining: 52.8ms\n",
      "94:\tlearn: 1535.7200820\ttotal: 836ms\tremaining: 44ms\n",
      "95:\tlearn: 1533.6857542\ttotal: 845ms\tremaining: 35.2ms\n",
      "96:\tlearn: 1531.4365789\ttotal: 854ms\tremaining: 26.4ms\n",
      "97:\tlearn: 1530.0372498\ttotal: 861ms\tremaining: 17.6ms\n",
      "98:\tlearn: 1528.6508805\ttotal: 870ms\tremaining: 8.78ms\n",
      "99:\tlearn: 1526.6181008\ttotal: 878ms\tremaining: 0us\n",
      "0:\tlearn: 3243.5167536\ttotal: 8.75ms\tremaining: 954ms\n",
      "1:\tlearn: 3147.9081314\ttotal: 16.8ms\tremaining: 906ms\n",
      "2:\tlearn: 3059.0489380\ttotal: 25.3ms\tremaining: 902ms\n",
      "3:\tlearn: 2976.7337065\ttotal: 33.2ms\tremaining: 881ms\n",
      "4:\tlearn: 2897.1317910\ttotal: 41.6ms\tremaining: 874ms\n",
      "5:\tlearn: 2821.2427761\ttotal: 50.3ms\tremaining: 872ms\n",
      "6:\tlearn: 2750.8768325\ttotal: 58.9ms\tremaining: 866ms\n",
      "7:\tlearn: 2686.8461466\ttotal: 66.3ms\tremaining: 846ms\n",
      "8:\tlearn: 2625.7945187\ttotal: 75.5ms\tremaining: 847ms\n",
      "9:\tlearn: 2568.8673303\ttotal: 83ms\tremaining: 830ms\n",
      "10:\tlearn: 2513.4495858\ttotal: 91.3ms\tremaining: 822ms\n",
      "11:\tlearn: 2462.2239096\ttotal: 98.6ms\tremaining: 806ms\n",
      "12:\tlearn: 2409.8562734\ttotal: 107ms\tremaining: 798ms\n",
      "13:\tlearn: 2365.0943044\ttotal: 115ms\tremaining: 787ms\n",
      "14:\tlearn: 2320.3737021\ttotal: 123ms\tremaining: 782ms\n",
      "15:\tlearn: 2279.7404209\ttotal: 131ms\tremaining: 771ms\n",
      "16:\tlearn: 2241.0140207\ttotal: 140ms\tremaining: 767ms\n",
      "17:\tlearn: 2203.3676450\ttotal: 148ms\tremaining: 756ms\n",
      "18:\tlearn: 2169.4400668\ttotal: 156ms\tremaining: 749ms\n",
      "19:\tlearn: 2138.6991871\ttotal: 164ms\tremaining: 738ms\n",
      "20:\tlearn: 2109.3727767\ttotal: 172ms\tremaining: 730ms\n",
      "21:\tlearn: 2081.2940554\ttotal: 180ms\tremaining: 719ms\n",
      "22:\tlearn: 2055.9080089\ttotal: 188ms\tremaining: 712ms\n",
      "23:\tlearn: 2031.5399350\ttotal: 196ms\tremaining: 701ms\n",
      "24:\tlearn: 2009.7839535\ttotal: 204ms\tremaining: 693ms\n",
      "25:\tlearn: 1988.6871234\ttotal: 212ms\tremaining: 686ms\n",
      "26:\tlearn: 1968.3568830\ttotal: 222ms\tremaining: 681ms\n",
      "27:\tlearn: 1949.5652303\ttotal: 230ms\tremaining: 674ms\n",
      "28:\tlearn: 1933.0772059\ttotal: 239ms\tremaining: 668ms\n",
      "29:\tlearn: 1915.0499123\ttotal: 248ms\tremaining: 660ms\n",
      "30:\tlearn: 1899.2647536\ttotal: 258ms\tremaining: 657ms\n",
      "31:\tlearn: 1883.3897438\ttotal: 266ms\tremaining: 648ms\n",
      "32:\tlearn: 1867.6325742\ttotal: 275ms\tremaining: 641ms\n",
      "33:\tlearn: 1854.5602552\ttotal: 282ms\tremaining: 631ms\n",
      "34:\tlearn: 1841.1930359\ttotal: 291ms\tremaining: 624ms\n",
      "35:\tlearn: 1828.2898017\ttotal: 300ms\tremaining: 616ms\n",
      "36:\tlearn: 1815.6330975\ttotal: 308ms\tremaining: 607ms\n",
      "37:\tlearn: 1804.5557192\ttotal: 316ms\tremaining: 598ms\n",
      "38:\tlearn: 1793.2664719\ttotal: 324ms\tremaining: 590ms\n",
      "39:\tlearn: 1782.1160668\ttotal: 333ms\tremaining: 583ms\n",
      "40:\tlearn: 1772.4913866\ttotal: 342ms\tremaining: 575ms\n",
      "41:\tlearn: 1762.9280525\ttotal: 350ms\tremaining: 567ms\n",
      "42:\tlearn: 1754.4092483\ttotal: 359ms\tremaining: 560ms\n",
      "43:\tlearn: 1746.0573212\ttotal: 367ms\tremaining: 551ms\n",
      "44:\tlearn: 1737.6311367\ttotal: 375ms\tremaining: 542ms\n",
      "45:\tlearn: 1730.0756552\ttotal: 383ms\tremaining: 533ms\n",
      "46:\tlearn: 1723.0902096\ttotal: 391ms\tremaining: 525ms\n",
      "47:\tlearn: 1714.2887357\ttotal: 400ms\tremaining: 516ms\n",
      "48:\tlearn: 1704.5228552\ttotal: 407ms\tremaining: 507ms\n",
      "49:\tlearn: 1695.1332053\ttotal: 416ms\tremaining: 499ms\n",
      "50:\tlearn: 1688.4975223\ttotal: 424ms\tremaining: 491ms\n",
      "51:\tlearn: 1682.5824469\ttotal: 433ms\tremaining: 483ms\n",
      "52:\tlearn: 1675.8027738\ttotal: 441ms\tremaining: 474ms\n",
      "53:\tlearn: 1669.4790803\ttotal: 450ms\tremaining: 466ms\n",
      "54:\tlearn: 1663.5643045\ttotal: 458ms\tremaining: 458ms\n",
      "55:\tlearn: 1655.9800852\ttotal: 466ms\tremaining: 449ms\n",
      "56:\tlearn: 1650.6421853\ttotal: 475ms\tremaining: 441ms\n",
      "57:\tlearn: 1645.9755205\ttotal: 483ms\tremaining: 433ms\n",
      "58:\tlearn: 1641.6127376\ttotal: 491ms\tremaining: 424ms\n",
      "59:\tlearn: 1636.3063493\ttotal: 499ms\tremaining: 416ms\n",
      "60:\tlearn: 1631.3767143\ttotal: 507ms\tremaining: 407ms\n",
      "61:\tlearn: 1627.4429601\ttotal: 516ms\tremaining: 399ms\n",
      "62:\tlearn: 1623.6301785\ttotal: 524ms\tremaining: 391ms\n",
      "63:\tlearn: 1619.1190841\ttotal: 533ms\tremaining: 383ms\n",
      "64:\tlearn: 1614.9561925\ttotal: 541ms\tremaining: 374ms\n",
      "65:\tlearn: 1608.9602883\ttotal: 550ms\tremaining: 366ms\n",
      "66:\tlearn: 1604.8210965\ttotal: 558ms\tremaining: 358ms\n",
      "67:\tlearn: 1601.3646104\ttotal: 566ms\tremaining: 350ms\n",
      "68:\tlearn: 1597.8516381\ttotal: 575ms\tremaining: 342ms\n",
      "69:\tlearn: 1592.8132007\ttotal: 583ms\tremaining: 333ms\n",
      "70:\tlearn: 1589.7709560\ttotal: 592ms\tremaining: 325ms\n",
      "71:\tlearn: 1585.0110121\ttotal: 600ms\tremaining: 317ms\n",
      "72:\tlearn: 1582.3731171\ttotal: 609ms\tremaining: 309ms\n",
      "73:\tlearn: 1579.2862198\ttotal: 617ms\tremaining: 300ms\n",
      "74:\tlearn: 1576.1223854\ttotal: 625ms\tremaining: 292ms\n",
      "75:\tlearn: 1572.9419536\ttotal: 634ms\tremaining: 284ms\n",
      "76:\tlearn: 1570.3453386\ttotal: 643ms\tremaining: 276ms\n",
      "77:\tlearn: 1567.2576935\ttotal: 652ms\tremaining: 267ms\n",
      "78:\tlearn: 1565.2302483\ttotal: 661ms\tremaining: 259ms\n",
      "79:\tlearn: 1562.9339772\ttotal: 669ms\tremaining: 251ms\n",
      "80:\tlearn: 1559.6525487\ttotal: 678ms\tremaining: 243ms\n",
      "81:\tlearn: 1557.7067244\ttotal: 687ms\tremaining: 234ms\n",
      "82:\tlearn: 1554.9719119\ttotal: 696ms\tremaining: 226ms\n",
      "83:\tlearn: 1552.0415616\ttotal: 706ms\tremaining: 218ms\n",
      "84:\tlearn: 1550.0345062\ttotal: 715ms\tremaining: 210ms\n",
      "85:\tlearn: 1548.3143864\ttotal: 724ms\tremaining: 202ms\n",
      "86:\tlearn: 1546.4100260\ttotal: 732ms\tremaining: 194ms\n",
      "87:\tlearn: 1544.3521308\ttotal: 741ms\tremaining: 185ms\n",
      "88:\tlearn: 1542.0098830\ttotal: 749ms\tremaining: 177ms\n",
      "89:\tlearn: 1540.1095183\ttotal: 759ms\tremaining: 169ms\n",
      "90:\tlearn: 1538.6230848\ttotal: 767ms\tremaining: 160ms\n",
      "91:\tlearn: 1536.9092320\ttotal: 777ms\tremaining: 152ms\n",
      "92:\tlearn: 1534.4765281\ttotal: 785ms\tremaining: 144ms\n",
      "93:\tlearn: 1532.7200759\ttotal: 795ms\tremaining: 135ms\n",
      "94:\tlearn: 1531.0231036\ttotal: 804ms\tremaining: 127ms\n",
      "95:\tlearn: 1529.2807576\ttotal: 812ms\tremaining: 118ms\n",
      "96:\tlearn: 1527.5573801\ttotal: 822ms\tremaining: 110ms\n",
      "97:\tlearn: 1525.4519832\ttotal: 830ms\tremaining: 102ms\n",
      "98:\tlearn: 1524.2763867\ttotal: 840ms\tremaining: 93.3ms\n",
      "99:\tlearn: 1522.8455500\ttotal: 848ms\tremaining: 84.8ms\n",
      "100:\tlearn: 1521.1753334\ttotal: 860ms\tremaining: 76.6ms\n",
      "101:\tlearn: 1519.9633645\ttotal: 869ms\tremaining: 68.1ms\n",
      "102:\tlearn: 1518.7880923\ttotal: 877ms\tremaining: 59.6ms\n",
      "103:\tlearn: 1517.5268946\ttotal: 885ms\tremaining: 51.1ms\n",
      "104:\tlearn: 1516.3453998\ttotal: 894ms\tremaining: 42.6ms\n",
      "105:\tlearn: 1514.7624306\ttotal: 903ms\tremaining: 34.1ms\n",
      "106:\tlearn: 1512.2862219\ttotal: 912ms\tremaining: 25.6ms\n",
      "107:\tlearn: 1510.0548369\ttotal: 922ms\tremaining: 17.1ms\n",
      "108:\tlearn: 1508.9986018\ttotal: 930ms\tremaining: 8.53ms\n",
      "109:\tlearn: 1508.0867961\ttotal: 939ms\tremaining: 0us\n",
      "0:\tlearn: 3233.3869968\ttotal: 8.56ms\tremaining: 933ms\n",
      "1:\tlearn: 3139.7097261\ttotal: 17.2ms\tremaining: 930ms\n",
      "2:\tlearn: 3052.8934286\ttotal: 25.7ms\tremaining: 918ms\n",
      "3:\tlearn: 2969.4123737\ttotal: 34.2ms\tremaining: 905ms\n",
      "4:\tlearn: 2890.6436201\ttotal: 43.4ms\tremaining: 911ms\n",
      "5:\tlearn: 2816.9473606\ttotal: 51.5ms\tremaining: 892ms\n",
      "6:\tlearn: 2748.0238684\ttotal: 61.2ms\tremaining: 900ms\n",
      "7:\tlearn: 2681.8684222\ttotal: 69.8ms\tremaining: 890ms\n",
      "8:\tlearn: 2619.1237769\ttotal: 79.1ms\tremaining: 888ms\n",
      "9:\tlearn: 2559.2992200\ttotal: 87.7ms\tremaining: 877ms\n",
      "10:\tlearn: 2507.0325200\ttotal: 96.8ms\tremaining: 871ms\n",
      "11:\tlearn: 2456.5986030\ttotal: 106ms\tremaining: 867ms\n",
      "12:\tlearn: 2408.4130279\ttotal: 114ms\tremaining: 854ms\n",
      "13:\tlearn: 2362.8272563\ttotal: 124ms\tremaining: 848ms\n",
      "14:\tlearn: 2318.3208257\ttotal: 132ms\tremaining: 839ms\n",
      "15:\tlearn: 2277.6282739\ttotal: 142ms\tremaining: 834ms\n",
      "16:\tlearn: 2239.5910581\ttotal: 151ms\tremaining: 823ms\n",
      "17:\tlearn: 2204.0048101\ttotal: 159ms\tremaining: 813ms\n",
      "18:\tlearn: 2171.7786457\ttotal: 168ms\tremaining: 803ms\n",
      "19:\tlearn: 2140.8267598\ttotal: 177ms\tremaining: 795ms\n",
      "20:\tlearn: 2111.5199148\ttotal: 185ms\tremaining: 786ms\n",
      "21:\tlearn: 2085.9576597\ttotal: 194ms\tremaining: 776ms\n",
      "22:\tlearn: 2059.1163729\ttotal: 203ms\tremaining: 766ms\n",
      "23:\tlearn: 2033.8490195\ttotal: 211ms\tremaining: 757ms\n",
      "24:\tlearn: 2011.4873190\ttotal: 220ms\tremaining: 748ms\n",
      "25:\tlearn: 1988.9918276\ttotal: 229ms\tremaining: 739ms\n",
      "26:\tlearn: 1967.2600579\ttotal: 238ms\tremaining: 731ms\n",
      "27:\tlearn: 1947.8469188\ttotal: 246ms\tremaining: 719ms\n",
      "28:\tlearn: 1930.9045120\ttotal: 254ms\tremaining: 709ms\n",
      "29:\tlearn: 1914.5172463\ttotal: 262ms\tremaining: 699ms\n",
      "30:\tlearn: 1898.4930435\ttotal: 271ms\tremaining: 691ms\n",
      "31:\tlearn: 1883.6438038\ttotal: 279ms\tremaining: 681ms\n",
      "32:\tlearn: 1869.6598209\ttotal: 288ms\tremaining: 672ms\n",
      "33:\tlearn: 1857.0673854\ttotal: 296ms\tremaining: 662ms\n",
      "34:\tlearn: 1843.5620777\ttotal: 305ms\tremaining: 653ms\n",
      "35:\tlearn: 1829.5554850\ttotal: 313ms\tremaining: 643ms\n",
      "36:\tlearn: 1818.8464949\ttotal: 322ms\tremaining: 634ms\n",
      "37:\tlearn: 1804.5592173\ttotal: 330ms\tremaining: 626ms\n",
      "38:\tlearn: 1793.3427123\ttotal: 340ms\tremaining: 618ms\n",
      "39:\tlearn: 1783.6416716\ttotal: 348ms\tremaining: 610ms\n",
      "40:\tlearn: 1772.8499198\ttotal: 356ms\tremaining: 600ms\n",
      "41:\tlearn: 1763.2797255\ttotal: 365ms\tremaining: 592ms\n",
      "42:\tlearn: 1753.9873608\ttotal: 373ms\tremaining: 581ms\n",
      "43:\tlearn: 1745.3231937\ttotal: 382ms\tremaining: 573ms\n",
      "44:\tlearn: 1735.4719173\ttotal: 390ms\tremaining: 564ms\n",
      "45:\tlearn: 1726.3157027\ttotal: 399ms\tremaining: 555ms\n",
      "46:\tlearn: 1716.2509158\ttotal: 407ms\tremaining: 546ms\n",
      "47:\tlearn: 1709.2161385\ttotal: 417ms\tremaining: 538ms\n",
      "48:\tlearn: 1702.7556849\ttotal: 425ms\tremaining: 529ms\n",
      "49:\tlearn: 1695.7403858\ttotal: 434ms\tremaining: 521ms\n",
      "50:\tlearn: 1688.8856344\ttotal: 442ms\tremaining: 512ms\n",
      "51:\tlearn: 1682.2978100\ttotal: 451ms\tremaining: 504ms\n",
      "52:\tlearn: 1675.9204462\ttotal: 460ms\tremaining: 495ms\n",
      "53:\tlearn: 1669.1946058\ttotal: 468ms\tremaining: 486ms\n",
      "54:\tlearn: 1663.3036332\ttotal: 477ms\tremaining: 477ms\n",
      "55:\tlearn: 1658.0943390\ttotal: 485ms\tremaining: 468ms\n",
      "56:\tlearn: 1653.4426690\ttotal: 493ms\tremaining: 459ms\n",
      "57:\tlearn: 1647.9820157\ttotal: 502ms\tremaining: 450ms\n",
      "58:\tlearn: 1643.7977946\ttotal: 510ms\tremaining: 440ms\n",
      "59:\tlearn: 1639.0110346\ttotal: 518ms\tremaining: 432ms\n",
      "60:\tlearn: 1633.9820652\ttotal: 527ms\tremaining: 423ms\n",
      "61:\tlearn: 1629.7338580\ttotal: 535ms\tremaining: 414ms\n",
      "62:\tlearn: 1625.4103321\ttotal: 543ms\tremaining: 405ms\n",
      "63:\tlearn: 1621.7163073\ttotal: 551ms\tremaining: 396ms\n",
      "64:\tlearn: 1618.1427254\ttotal: 560ms\tremaining: 387ms\n",
      "65:\tlearn: 1614.7239607\ttotal: 568ms\tremaining: 379ms\n",
      "66:\tlearn: 1609.1939456\ttotal: 577ms\tremaining: 370ms\n",
      "67:\tlearn: 1604.3452435\ttotal: 585ms\tremaining: 362ms\n",
      "68:\tlearn: 1600.1961623\ttotal: 594ms\tremaining: 353ms\n",
      "69:\tlearn: 1597.5213061\ttotal: 602ms\tremaining: 344ms\n",
      "70:\tlearn: 1594.4675166\ttotal: 611ms\tremaining: 336ms\n",
      "71:\tlearn: 1591.3286505\ttotal: 619ms\tremaining: 327ms\n",
      "72:\tlearn: 1588.0499615\ttotal: 629ms\tremaining: 319ms\n",
      "73:\tlearn: 1584.3565986\ttotal: 637ms\tremaining: 310ms\n",
      "74:\tlearn: 1581.9500574\ttotal: 646ms\tremaining: 302ms\n",
      "75:\tlearn: 1579.2306397\ttotal: 655ms\tremaining: 293ms\n",
      "76:\tlearn: 1576.0416542\ttotal: 663ms\tremaining: 284ms\n",
      "77:\tlearn: 1573.3392467\ttotal: 671ms\tremaining: 275ms\n",
      "78:\tlearn: 1571.1933184\ttotal: 679ms\tremaining: 266ms\n",
      "79:\tlearn: 1568.5063821\ttotal: 687ms\tremaining: 258ms\n",
      "80:\tlearn: 1565.6620710\ttotal: 696ms\tremaining: 249ms\n",
      "81:\tlearn: 1563.7388367\ttotal: 704ms\tremaining: 240ms\n",
      "82:\tlearn: 1560.0607666\ttotal: 713ms\tremaining: 232ms\n",
      "83:\tlearn: 1558.0349306\ttotal: 722ms\tremaining: 223ms\n",
      "84:\tlearn: 1555.8813150\ttotal: 731ms\tremaining: 215ms\n",
      "85:\tlearn: 1552.8925575\ttotal: 739ms\tremaining: 206ms\n",
      "86:\tlearn: 1551.0506656\ttotal: 747ms\tremaining: 197ms\n",
      "87:\tlearn: 1548.8542219\ttotal: 755ms\tremaining: 189ms\n",
      "88:\tlearn: 1547.0848912\ttotal: 763ms\tremaining: 180ms\n",
      "89:\tlearn: 1545.6825646\ttotal: 772ms\tremaining: 172ms\n",
      "90:\tlearn: 1543.3923417\ttotal: 780ms\tremaining: 163ms\n",
      "91:\tlearn: 1541.8191894\ttotal: 789ms\tremaining: 154ms\n",
      "92:\tlearn: 1538.8294461\ttotal: 797ms\tremaining: 146ms\n",
      "93:\tlearn: 1537.4104224\ttotal: 806ms\tremaining: 137ms\n",
      "94:\tlearn: 1535.7200820\ttotal: 814ms\tremaining: 129ms\n",
      "95:\tlearn: 1533.6857542\ttotal: 824ms\tremaining: 120ms\n",
      "96:\tlearn: 1531.4365789\ttotal: 832ms\tremaining: 112ms\n",
      "97:\tlearn: 1530.0372498\ttotal: 841ms\tremaining: 103ms\n",
      "98:\tlearn: 1528.6508805\ttotal: 850ms\tremaining: 94.5ms\n",
      "99:\tlearn: 1526.6181008\ttotal: 860ms\tremaining: 86ms\n",
      "100:\tlearn: 1525.1738840\ttotal: 868ms\tremaining: 77.4ms\n",
      "101:\tlearn: 1524.1965330\ttotal: 876ms\tremaining: 68.7ms\n",
      "102:\tlearn: 1523.1210821\ttotal: 885ms\tremaining: 60.2ms\n",
      "103:\tlearn: 1521.5074182\ttotal: 894ms\tremaining: 51.6ms\n",
      "104:\tlearn: 1520.3070636\ttotal: 904ms\tremaining: 43.1ms\n",
      "105:\tlearn: 1519.1106697\ttotal: 913ms\tremaining: 34.4ms\n",
      "106:\tlearn: 1517.6188605\ttotal: 922ms\tremaining: 25.9ms\n",
      "107:\tlearn: 1516.4093543\ttotal: 931ms\tremaining: 17.2ms\n",
      "108:\tlearn: 1514.9902519\ttotal: 939ms\tremaining: 8.61ms\n",
      "109:\tlearn: 1513.6045394\ttotal: 947ms\tremaining: 0us\n",
      "0:\tlearn: 3145.9936443\ttotal: 8.53ms\tremaining: 674ms\n",
      "1:\tlearn: 2974.5528312\ttotal: 16.9ms\tremaining: 658ms\n",
      "2:\tlearn: 2817.0220112\ttotal: 25.4ms\tremaining: 652ms\n",
      "3:\tlearn: 2679.7573211\ttotal: 34ms\tremaining: 646ms\n",
      "4:\tlearn: 2564.8285394\ttotal: 41.7ms\tremaining: 626ms\n",
      "5:\tlearn: 2453.5563563\ttotal: 50.4ms\tremaining: 621ms\n",
      "6:\tlearn: 2351.5315285\ttotal: 59.1ms\tremaining: 616ms\n",
      "7:\tlearn: 2265.5061423\ttotal: 67.9ms\tremaining: 612ms\n",
      "8:\tlearn: 2192.9655661\ttotal: 75.8ms\tremaining: 598ms\n",
      "9:\tlearn: 2130.8448016\ttotal: 84.8ms\tremaining: 593ms\n",
      "10:\tlearn: 2070.4486394\ttotal: 92.6ms\tremaining: 581ms\n",
      "11:\tlearn: 2020.9153018\ttotal: 101ms\tremaining: 574ms\n",
      "12:\tlearn: 1975.1106708\ttotal: 109ms\tremaining: 563ms\n",
      "13:\tlearn: 1936.5353332\ttotal: 118ms\tremaining: 557ms\n",
      "14:\tlearn: 1902.8386386\ttotal: 127ms\tremaining: 552ms\n",
      "15:\tlearn: 1871.7591306\ttotal: 137ms\tremaining: 547ms\n",
      "16:\tlearn: 1842.8396683\ttotal: 146ms\tremaining: 539ms\n",
      "17:\tlearn: 1818.3833512\ttotal: 154ms\tremaining: 530ms\n",
      "18:\tlearn: 1796.4235621\ttotal: 163ms\tremaining: 522ms\n",
      "19:\tlearn: 1775.1704118\ttotal: 171ms\tremaining: 512ms\n",
      "20:\tlearn: 1751.5472303\ttotal: 179ms\tremaining: 504ms\n",
      "21:\tlearn: 1735.6972134\ttotal: 187ms\tremaining: 493ms\n",
      "22:\tlearn: 1718.2939011\ttotal: 195ms\tremaining: 484ms\n",
      "23:\tlearn: 1697.5942762\ttotal: 203ms\tremaining: 475ms\n",
      "24:\tlearn: 1683.0753849\ttotal: 213ms\tremaining: 470ms\n",
      "25:\tlearn: 1670.0399633\ttotal: 222ms\tremaining: 461ms\n",
      "26:\tlearn: 1657.9661189\ttotal: 232ms\tremaining: 455ms\n",
      "27:\tlearn: 1643.1075356\ttotal: 241ms\tremaining: 447ms\n",
      "28:\tlearn: 1634.2421413\ttotal: 249ms\tremaining: 438ms\n",
      "29:\tlearn: 1624.5684546\ttotal: 258ms\tremaining: 430ms\n",
      "30:\tlearn: 1616.5888534\ttotal: 266ms\tremaining: 420ms\n",
      "31:\tlearn: 1606.5348744\ttotal: 275ms\tremaining: 412ms\n",
      "32:\tlearn: 1599.2910416\ttotal: 284ms\tremaining: 404ms\n",
      "33:\tlearn: 1593.2718102\ttotal: 293ms\tremaining: 396ms\n",
      "34:\tlearn: 1587.4752755\ttotal: 301ms\tremaining: 388ms\n",
      "35:\tlearn: 1580.7693649\ttotal: 312ms\tremaining: 381ms\n",
      "36:\tlearn: 1573.2747779\ttotal: 322ms\tremaining: 374ms\n",
      "37:\tlearn: 1567.2767189\ttotal: 331ms\tremaining: 366ms\n",
      "38:\tlearn: 1563.5121849\ttotal: 340ms\tremaining: 358ms\n",
      "39:\tlearn: 1557.1166295\ttotal: 349ms\tremaining: 349ms\n",
      "40:\tlearn: 1553.5412021\ttotal: 359ms\tremaining: 342ms\n",
      "41:\tlearn: 1548.2662948\ttotal: 368ms\tremaining: 333ms\n",
      "42:\tlearn: 1545.1545742\ttotal: 378ms\tremaining: 325ms\n",
      "43:\tlearn: 1541.8429171\ttotal: 387ms\tremaining: 317ms\n",
      "44:\tlearn: 1539.0969660\ttotal: 396ms\tremaining: 308ms\n",
      "45:\tlearn: 1535.6724418\ttotal: 405ms\tremaining: 299ms\n",
      "46:\tlearn: 1532.1757992\ttotal: 412ms\tremaining: 289ms\n",
      "47:\tlearn: 1529.6215366\ttotal: 422ms\tremaining: 281ms\n",
      "48:\tlearn: 1526.5016921\ttotal: 430ms\tremaining: 272ms\n",
      "49:\tlearn: 1523.0509707\ttotal: 439ms\tremaining: 264ms\n",
      "50:\tlearn: 1520.2591516\ttotal: 447ms\tremaining: 254ms\n",
      "51:\tlearn: 1517.1528796\ttotal: 456ms\tremaining: 245ms\n",
      "52:\tlearn: 1514.7873986\ttotal: 464ms\tremaining: 237ms\n",
      "53:\tlearn: 1513.1490391\ttotal: 473ms\tremaining: 228ms\n",
      "54:\tlearn: 1508.6155915\ttotal: 482ms\tremaining: 219ms\n",
      "55:\tlearn: 1505.7029753\ttotal: 490ms\tremaining: 210ms\n",
      "56:\tlearn: 1501.5775757\ttotal: 500ms\tremaining: 202ms\n",
      "57:\tlearn: 1499.8531900\ttotal: 509ms\tremaining: 193ms\n",
      "58:\tlearn: 1497.6403038\ttotal: 518ms\tremaining: 184ms\n",
      "59:\tlearn: 1494.6424904\ttotal: 527ms\tremaining: 176ms\n",
      "60:\tlearn: 1492.6393605\ttotal: 536ms\tremaining: 167ms\n",
      "61:\tlearn: 1490.7012671\ttotal: 544ms\tremaining: 158ms\n",
      "62:\tlearn: 1489.1156155\ttotal: 553ms\tremaining: 149ms\n",
      "63:\tlearn: 1487.5926738\ttotal: 562ms\tremaining: 140ms\n",
      "64:\tlearn: 1485.6778904\ttotal: 570ms\tremaining: 132ms\n",
      "65:\tlearn: 1484.1902685\ttotal: 580ms\tremaining: 123ms\n",
      "66:\tlearn: 1482.9277564\ttotal: 589ms\tremaining: 114ms\n",
      "67:\tlearn: 1481.1188087\ttotal: 599ms\tremaining: 106ms\n",
      "68:\tlearn: 1479.5791337\ttotal: 608ms\tremaining: 97ms\n",
      "69:\tlearn: 1476.9722473\ttotal: 619ms\tremaining: 88.4ms\n",
      "70:\tlearn: 1475.9490051\ttotal: 627ms\tremaining: 79.5ms\n",
      "71:\tlearn: 1474.1673490\ttotal: 638ms\tremaining: 70.8ms\n",
      "72:\tlearn: 1473.2312358\ttotal: 647ms\tremaining: 62.1ms\n",
      "73:\tlearn: 1472.0049926\ttotal: 655ms\tremaining: 53.1ms\n",
      "74:\tlearn: 1470.7339131\ttotal: 665ms\tremaining: 44.3ms\n",
      "75:\tlearn: 1469.6484539\ttotal: 673ms\tremaining: 35.4ms\n",
      "76:\tlearn: 1468.5853979\ttotal: 682ms\tremaining: 26.6ms\n",
      "77:\tlearn: 1466.4857812\ttotal: 691ms\tremaining: 17.7ms\n",
      "78:\tlearn: 1465.5026953\ttotal: 699ms\tremaining: 8.85ms\n",
      "79:\tlearn: 1464.4596823\ttotal: 707ms\tremaining: 0us\n",
      "0:\tlearn: 3137.2613428\ttotal: 8.06ms\tremaining: 637ms\n",
      "1:\tlearn: 2962.7476779\ttotal: 16.8ms\tremaining: 655ms\n",
      "2:\tlearn: 2812.4800015\ttotal: 26.1ms\tremaining: 670ms\n",
      "3:\tlearn: 2676.4523200\ttotal: 35.8ms\tremaining: 681ms\n",
      "4:\tlearn: 2556.8131697\ttotal: 45.6ms\tremaining: 685ms\n",
      "5:\tlearn: 2445.9039617\ttotal: 54ms\tremaining: 666ms\n",
      "6:\tlearn: 2355.7314300\ttotal: 62.4ms\tremaining: 651ms\n",
      "7:\tlearn: 2269.8595186\ttotal: 70.3ms\tremaining: 633ms\n",
      "8:\tlearn: 2197.5593277\ttotal: 79.2ms\tremaining: 624ms\n",
      "9:\tlearn: 2131.6110017\ttotal: 87.4ms\tremaining: 612ms\n",
      "10:\tlearn: 2079.3804155\ttotal: 95.4ms\tremaining: 598ms\n",
      "11:\tlearn: 2025.3070686\ttotal: 103ms\tremaining: 583ms\n",
      "12:\tlearn: 1980.6323564\ttotal: 111ms\tremaining: 572ms\n",
      "13:\tlearn: 1941.8830093\ttotal: 119ms\tremaining: 562ms\n",
      "14:\tlearn: 1909.9606691\ttotal: 127ms\tremaining: 552ms\n",
      "15:\tlearn: 1876.8600967\ttotal: 135ms\tremaining: 541ms\n",
      "16:\tlearn: 1851.8953210\ttotal: 144ms\tremaining: 534ms\n",
      "17:\tlearn: 1827.4822521\ttotal: 153ms\tremaining: 525ms\n",
      "18:\tlearn: 1806.7621648\ttotal: 162ms\tremaining: 519ms\n",
      "19:\tlearn: 1783.5072771\ttotal: 170ms\tremaining: 509ms\n",
      "20:\tlearn: 1757.2909382\ttotal: 179ms\tremaining: 503ms\n",
      "21:\tlearn: 1738.8108323\ttotal: 188ms\tremaining: 496ms\n",
      "22:\tlearn: 1718.5315862\ttotal: 197ms\tremaining: 488ms\n",
      "23:\tlearn: 1704.4877415\ttotal: 204ms\tremaining: 476ms\n",
      "24:\tlearn: 1690.0425358\ttotal: 215ms\tremaining: 472ms\n",
      "25:\tlearn: 1674.3437909\ttotal: 225ms\tremaining: 467ms\n",
      "26:\tlearn: 1663.0855681\ttotal: 233ms\tremaining: 458ms\n",
      "27:\tlearn: 1653.2427672\ttotal: 243ms\tremaining: 451ms\n",
      "28:\tlearn: 1643.5412169\ttotal: 252ms\tremaining: 444ms\n",
      "29:\tlearn: 1633.1237339\ttotal: 262ms\tremaining: 436ms\n",
      "30:\tlearn: 1625.9945404\ttotal: 271ms\tremaining: 428ms\n",
      "31:\tlearn: 1618.4621631\ttotal: 279ms\tremaining: 418ms\n",
      "32:\tlearn: 1610.0942816\ttotal: 288ms\tremaining: 410ms\n",
      "33:\tlearn: 1602.5695103\ttotal: 296ms\tremaining: 401ms\n",
      "34:\tlearn: 1594.8786811\ttotal: 306ms\tremaining: 393ms\n",
      "35:\tlearn: 1589.0184930\ttotal: 314ms\tremaining: 384ms\n",
      "36:\tlearn: 1583.1178607\ttotal: 323ms\tremaining: 375ms\n",
      "37:\tlearn: 1577.9238256\ttotal: 331ms\tremaining: 366ms\n",
      "38:\tlearn: 1570.0728221\ttotal: 340ms\tremaining: 358ms\n",
      "39:\tlearn: 1564.6134699\ttotal: 349ms\tremaining: 349ms\n",
      "40:\tlearn: 1559.5193483\ttotal: 358ms\tremaining: 340ms\n",
      "41:\tlearn: 1556.1789240\ttotal: 365ms\tremaining: 330ms\n",
      "42:\tlearn: 1551.3650262\ttotal: 374ms\tremaining: 322ms\n",
      "43:\tlearn: 1547.5333630\ttotal: 382ms\tremaining: 312ms\n",
      "44:\tlearn: 1544.4298411\ttotal: 391ms\tremaining: 304ms\n",
      "45:\tlearn: 1542.0305908\ttotal: 399ms\tremaining: 295ms\n",
      "46:\tlearn: 1538.6925539\ttotal: 408ms\tremaining: 286ms\n",
      "47:\tlearn: 1534.8145520\ttotal: 416ms\tremaining: 277ms\n",
      "48:\tlearn: 1532.3525837\ttotal: 426ms\tremaining: 269ms\n",
      "49:\tlearn: 1529.4428689\ttotal: 434ms\tremaining: 261ms\n",
      "50:\tlearn: 1525.7101735\ttotal: 442ms\tremaining: 252ms\n",
      "51:\tlearn: 1522.8693724\ttotal: 452ms\tremaining: 243ms\n",
      "52:\tlearn: 1520.5665057\ttotal: 460ms\tremaining: 234ms\n",
      "53:\tlearn: 1517.7596724\ttotal: 468ms\tremaining: 226ms\n",
      "54:\tlearn: 1515.8925696\ttotal: 476ms\tremaining: 216ms\n",
      "55:\tlearn: 1513.7783362\ttotal: 485ms\tremaining: 208ms\n",
      "56:\tlearn: 1510.5322090\ttotal: 493ms\tremaining: 199ms\n",
      "57:\tlearn: 1508.1998211\ttotal: 502ms\tremaining: 190ms\n",
      "58:\tlearn: 1506.5086875\ttotal: 510ms\tremaining: 182ms\n",
      "59:\tlearn: 1503.4428301\ttotal: 519ms\tremaining: 173ms\n",
      "60:\tlearn: 1501.5330486\ttotal: 528ms\tremaining: 165ms\n",
      "61:\tlearn: 1499.3017013\ttotal: 538ms\tremaining: 156ms\n",
      "62:\tlearn: 1497.3779049\ttotal: 546ms\tremaining: 147ms\n",
      "63:\tlearn: 1495.4177622\ttotal: 555ms\tremaining: 139ms\n",
      "64:\tlearn: 1492.8059646\ttotal: 563ms\tremaining: 130ms\n",
      "65:\tlearn: 1491.4960053\ttotal: 570ms\tremaining: 121ms\n",
      "66:\tlearn: 1489.6159547\ttotal: 579ms\tremaining: 112ms\n",
      "67:\tlearn: 1487.5895494\ttotal: 587ms\tremaining: 104ms\n",
      "68:\tlearn: 1486.1015384\ttotal: 595ms\tremaining: 94.9ms\n",
      "69:\tlearn: 1484.5899546\ttotal: 603ms\tremaining: 86.2ms\n",
      "70:\tlearn: 1483.0340453\ttotal: 611ms\tremaining: 77.4ms\n",
      "71:\tlearn: 1480.9478089\ttotal: 620ms\tremaining: 68.9ms\n",
      "72:\tlearn: 1479.0662236\ttotal: 629ms\tremaining: 60.3ms\n",
      "73:\tlearn: 1477.7516655\ttotal: 638ms\tremaining: 51.7ms\n",
      "74:\tlearn: 1476.2112851\ttotal: 647ms\tremaining: 43.1ms\n",
      "75:\tlearn: 1473.8505131\ttotal: 654ms\tremaining: 34.4ms\n",
      "76:\tlearn: 1472.7024452\ttotal: 662ms\tremaining: 25.8ms\n",
      "77:\tlearn: 1471.0612400\ttotal: 670ms\tremaining: 17.2ms\n",
      "78:\tlearn: 1470.0142249\ttotal: 678ms\tremaining: 8.58ms\n",
      "79:\tlearn: 1468.5760243\ttotal: 685ms\tremaining: 0us\n",
      "0:\tlearn: 3145.9936443\ttotal: 9.37ms\tremaining: 834ms\n",
      "1:\tlearn: 2974.5528312\ttotal: 17.6ms\tremaining: 773ms\n",
      "2:\tlearn: 2817.0220112\ttotal: 25.7ms\tremaining: 745ms\n",
      "3:\tlearn: 2679.7573211\ttotal: 33.9ms\tremaining: 730ms\n",
      "4:\tlearn: 2564.8285394\ttotal: 41.7ms\tremaining: 709ms\n",
      "5:\tlearn: 2453.5563563\ttotal: 50ms\tremaining: 700ms\n",
      "6:\tlearn: 2351.5315285\ttotal: 59.3ms\tremaining: 704ms\n",
      "7:\tlearn: 2265.5061423\ttotal: 69ms\tremaining: 707ms\n",
      "8:\tlearn: 2192.9655661\ttotal: 77.2ms\tremaining: 695ms\n",
      "9:\tlearn: 2130.8448016\ttotal: 86ms\tremaining: 688ms\n",
      "10:\tlearn: 2070.4486394\ttotal: 93.5ms\tremaining: 671ms\n",
      "11:\tlearn: 2020.9153018\ttotal: 102ms\tremaining: 661ms\n",
      "12:\tlearn: 1975.1106708\ttotal: 109ms\tremaining: 648ms\n",
      "13:\tlearn: 1936.5353332\ttotal: 118ms\tremaining: 639ms\n",
      "14:\tlearn: 1902.8386386\ttotal: 126ms\tremaining: 628ms\n",
      "15:\tlearn: 1871.7591306\ttotal: 134ms\tremaining: 622ms\n",
      "16:\tlearn: 1842.8396683\ttotal: 143ms\tremaining: 612ms\n",
      "17:\tlearn: 1818.3833512\ttotal: 152ms\tremaining: 609ms\n",
      "18:\tlearn: 1796.4235621\ttotal: 162ms\tremaining: 604ms\n",
      "19:\tlearn: 1775.1704118\ttotal: 171ms\tremaining: 597ms\n",
      "20:\tlearn: 1751.5472303\ttotal: 182ms\tremaining: 597ms\n",
      "21:\tlearn: 1735.6972134\ttotal: 192ms\tremaining: 593ms\n",
      "22:\tlearn: 1718.2939011\ttotal: 201ms\tremaining: 586ms\n",
      "23:\tlearn: 1697.5942762\ttotal: 212ms\tremaining: 582ms\n",
      "24:\tlearn: 1683.0753849\ttotal: 221ms\tremaining: 573ms\n",
      "25:\tlearn: 1670.0399633\ttotal: 231ms\tremaining: 568ms\n",
      "26:\tlearn: 1657.9661189\ttotal: 240ms\tremaining: 559ms\n",
      "27:\tlearn: 1643.1075356\ttotal: 249ms\tremaining: 552ms\n",
      "28:\tlearn: 1634.2421413\ttotal: 258ms\tremaining: 542ms\n",
      "29:\tlearn: 1624.5684546\ttotal: 266ms\tremaining: 531ms\n",
      "30:\tlearn: 1616.5888534\ttotal: 274ms\tremaining: 521ms\n",
      "31:\tlearn: 1606.5348744\ttotal: 283ms\tremaining: 513ms\n",
      "32:\tlearn: 1599.2910416\ttotal: 292ms\tremaining: 504ms\n",
      "33:\tlearn: 1593.2718102\ttotal: 301ms\tremaining: 495ms\n",
      "34:\tlearn: 1587.4752755\ttotal: 309ms\tremaining: 485ms\n",
      "35:\tlearn: 1580.7693649\ttotal: 317ms\tremaining: 475ms\n",
      "36:\tlearn: 1573.2747779\ttotal: 325ms\tremaining: 466ms\n",
      "37:\tlearn: 1567.2767189\ttotal: 334ms\tremaining: 456ms\n",
      "38:\tlearn: 1563.5121849\ttotal: 342ms\tremaining: 447ms\n",
      "39:\tlearn: 1557.1166295\ttotal: 350ms\tremaining: 437ms\n",
      "40:\tlearn: 1553.5412021\ttotal: 359ms\tremaining: 429ms\n",
      "41:\tlearn: 1548.2662948\ttotal: 367ms\tremaining: 420ms\n",
      "42:\tlearn: 1545.1545742\ttotal: 376ms\tremaining: 411ms\n",
      "43:\tlearn: 1541.8429171\ttotal: 384ms\tremaining: 402ms\n",
      "44:\tlearn: 1539.0969660\ttotal: 394ms\tremaining: 394ms\n",
      "45:\tlearn: 1535.6724418\ttotal: 402ms\tremaining: 385ms\n",
      "46:\tlearn: 1532.1757992\ttotal: 410ms\tremaining: 375ms\n",
      "47:\tlearn: 1529.6215366\ttotal: 419ms\tremaining: 367ms\n",
      "48:\tlearn: 1526.5016921\ttotal: 428ms\tremaining: 358ms\n",
      "49:\tlearn: 1523.0509707\ttotal: 438ms\tremaining: 351ms\n",
      "50:\tlearn: 1520.2591516\ttotal: 446ms\tremaining: 341ms\n",
      "51:\tlearn: 1517.1528796\ttotal: 455ms\tremaining: 332ms\n",
      "52:\tlearn: 1514.7873986\ttotal: 463ms\tremaining: 324ms\n",
      "53:\tlearn: 1513.1490391\ttotal: 472ms\tremaining: 315ms\n",
      "54:\tlearn: 1508.6155915\ttotal: 481ms\tremaining: 306ms\n",
      "55:\tlearn: 1505.7029753\ttotal: 490ms\tremaining: 297ms\n",
      "56:\tlearn: 1501.5775757\ttotal: 498ms\tremaining: 288ms\n",
      "57:\tlearn: 1499.8531900\ttotal: 507ms\tremaining: 280ms\n",
      "58:\tlearn: 1497.6403038\ttotal: 516ms\tremaining: 271ms\n",
      "59:\tlearn: 1494.6424904\ttotal: 525ms\tremaining: 262ms\n",
      "60:\tlearn: 1492.6393605\ttotal: 533ms\tremaining: 253ms\n",
      "61:\tlearn: 1490.7012671\ttotal: 543ms\tremaining: 245ms\n",
      "62:\tlearn: 1489.1156155\ttotal: 552ms\tremaining: 237ms\n",
      "63:\tlearn: 1487.5926738\ttotal: 561ms\tremaining: 228ms\n",
      "64:\tlearn: 1485.6778904\ttotal: 569ms\tremaining: 219ms\n",
      "65:\tlearn: 1484.1902685\ttotal: 578ms\tremaining: 210ms\n",
      "66:\tlearn: 1482.9277564\ttotal: 587ms\tremaining: 201ms\n",
      "67:\tlearn: 1481.1188087\ttotal: 595ms\tremaining: 193ms\n",
      "68:\tlearn: 1479.5791337\ttotal: 604ms\tremaining: 184ms\n",
      "69:\tlearn: 1476.9722473\ttotal: 613ms\tremaining: 175ms\n",
      "70:\tlearn: 1475.9490051\ttotal: 622ms\tremaining: 166ms\n",
      "71:\tlearn: 1474.1673490\ttotal: 631ms\tremaining: 158ms\n",
      "72:\tlearn: 1473.2312358\ttotal: 640ms\tremaining: 149ms\n",
      "73:\tlearn: 1472.0049926\ttotal: 649ms\tremaining: 140ms\n",
      "74:\tlearn: 1470.7339131\ttotal: 656ms\tremaining: 131ms\n",
      "75:\tlearn: 1469.6484539\ttotal: 665ms\tremaining: 123ms\n",
      "76:\tlearn: 1468.5853979\ttotal: 673ms\tremaining: 114ms\n",
      "77:\tlearn: 1466.4857812\ttotal: 681ms\tremaining: 105ms\n",
      "78:\tlearn: 1465.5026953\ttotal: 689ms\tremaining: 95.9ms\n",
      "79:\tlearn: 1464.4596823\ttotal: 698ms\tremaining: 87.2ms\n",
      "80:\tlearn: 1463.5847502\ttotal: 705ms\tremaining: 78.4ms\n",
      "81:\tlearn: 1462.3936692\ttotal: 714ms\tremaining: 69.7ms\n",
      "82:\tlearn: 1461.2485380\ttotal: 722ms\tremaining: 60.9ms\n",
      "83:\tlearn: 1458.8086273\ttotal: 731ms\tremaining: 52.2ms\n",
      "84:\tlearn: 1457.3559173\ttotal: 739ms\tremaining: 43.5ms\n",
      "85:\tlearn: 1456.4921733\ttotal: 748ms\tremaining: 34.8ms\n",
      "86:\tlearn: 1455.6728224\ttotal: 756ms\tremaining: 26.1ms\n",
      "87:\tlearn: 1454.7821730\ttotal: 765ms\tremaining: 17.4ms\n",
      "88:\tlearn: 1453.2610583\ttotal: 773ms\tremaining: 8.69ms\n",
      "89:\tlearn: 1451.9718420\ttotal: 782ms\tremaining: 0us\n",
      "0:\tlearn: 3137.2613428\ttotal: 8.49ms\tremaining: 756ms\n",
      "1:\tlearn: 2962.7476779\ttotal: 17.4ms\tremaining: 764ms\n",
      "2:\tlearn: 2812.4800015\ttotal: 26.4ms\tremaining: 767ms\n",
      "3:\tlearn: 2676.4523200\ttotal: 35.2ms\tremaining: 756ms\n",
      "4:\tlearn: 2556.8131697\ttotal: 44.1ms\tremaining: 749ms\n",
      "5:\tlearn: 2445.9039617\ttotal: 52.2ms\tremaining: 731ms\n",
      "6:\tlearn: 2355.7314300\ttotal: 61.4ms\tremaining: 728ms\n",
      "7:\tlearn: 2269.8595186\ttotal: 69.9ms\tremaining: 716ms\n",
      "8:\tlearn: 2197.5593277\ttotal: 78.8ms\tremaining: 709ms\n",
      "9:\tlearn: 2131.6110017\ttotal: 87.3ms\tremaining: 698ms\n",
      "10:\tlearn: 2079.3804155\ttotal: 96.1ms\tremaining: 690ms\n",
      "11:\tlearn: 2025.3070686\ttotal: 105ms\tremaining: 681ms\n",
      "12:\tlearn: 1980.6323564\ttotal: 114ms\tremaining: 672ms\n",
      "13:\tlearn: 1941.8830093\ttotal: 123ms\tremaining: 667ms\n",
      "14:\tlearn: 1909.9606691\ttotal: 131ms\tremaining: 653ms\n",
      "15:\tlearn: 1876.8600967\ttotal: 139ms\tremaining: 644ms\n",
      "16:\tlearn: 1851.8953210\ttotal: 147ms\tremaining: 631ms\n",
      "17:\tlearn: 1827.4822521\ttotal: 155ms\tremaining: 619ms\n",
      "18:\tlearn: 1806.7621648\ttotal: 162ms\tremaining: 606ms\n",
      "19:\tlearn: 1783.5072771\ttotal: 170ms\tremaining: 595ms\n",
      "20:\tlearn: 1757.2909382\ttotal: 178ms\tremaining: 585ms\n",
      "21:\tlearn: 1738.8108323\ttotal: 187ms\tremaining: 578ms\n",
      "22:\tlearn: 1718.5315862\ttotal: 195ms\tremaining: 567ms\n",
      "23:\tlearn: 1704.4877415\ttotal: 203ms\tremaining: 559ms\n",
      "24:\tlearn: 1690.0425358\ttotal: 211ms\tremaining: 550ms\n",
      "25:\tlearn: 1674.3437909\ttotal: 221ms\tremaining: 545ms\n",
      "26:\tlearn: 1663.0855681\ttotal: 230ms\tremaining: 536ms\n",
      "27:\tlearn: 1653.2427672\ttotal: 239ms\tremaining: 528ms\n",
      "28:\tlearn: 1643.5412169\ttotal: 247ms\tremaining: 519ms\n",
      "29:\tlearn: 1633.1237339\ttotal: 255ms\tremaining: 510ms\n",
      "30:\tlearn: 1625.9945404\ttotal: 263ms\tremaining: 500ms\n",
      "31:\tlearn: 1618.4621631\ttotal: 271ms\tremaining: 491ms\n",
      "32:\tlearn: 1610.0942816\ttotal: 279ms\tremaining: 482ms\n",
      "33:\tlearn: 1602.5695103\ttotal: 287ms\tremaining: 473ms\n",
      "34:\tlearn: 1594.8786811\ttotal: 296ms\tremaining: 465ms\n",
      "35:\tlearn: 1589.0184930\ttotal: 304ms\tremaining: 457ms\n",
      "36:\tlearn: 1583.1178607\ttotal: 312ms\tremaining: 447ms\n",
      "37:\tlearn: 1577.9238256\ttotal: 321ms\tremaining: 439ms\n",
      "38:\tlearn: 1570.0728221\ttotal: 329ms\tremaining: 430ms\n",
      "39:\tlearn: 1564.6134699\ttotal: 338ms\tremaining: 422ms\n",
      "40:\tlearn: 1559.5193483\ttotal: 346ms\tremaining: 413ms\n",
      "41:\tlearn: 1556.1789240\ttotal: 354ms\tremaining: 405ms\n",
      "42:\tlearn: 1551.3650262\ttotal: 362ms\tremaining: 396ms\n",
      "43:\tlearn: 1547.5333630\ttotal: 371ms\tremaining: 387ms\n",
      "44:\tlearn: 1544.4298411\ttotal: 378ms\tremaining: 378ms\n",
      "45:\tlearn: 1542.0305908\ttotal: 387ms\tremaining: 370ms\n",
      "46:\tlearn: 1538.6925539\ttotal: 395ms\tremaining: 361ms\n",
      "47:\tlearn: 1534.8145520\ttotal: 404ms\tremaining: 354ms\n",
      "48:\tlearn: 1532.3525837\ttotal: 413ms\tremaining: 345ms\n",
      "49:\tlearn: 1529.4428689\ttotal: 420ms\tremaining: 336ms\n",
      "50:\tlearn: 1525.7101735\ttotal: 429ms\tremaining: 328ms\n",
      "51:\tlearn: 1522.8693724\ttotal: 438ms\tremaining: 320ms\n",
      "52:\tlearn: 1520.5665057\ttotal: 446ms\tremaining: 312ms\n",
      "53:\tlearn: 1517.7596724\ttotal: 454ms\tremaining: 303ms\n",
      "54:\tlearn: 1515.8925696\ttotal: 463ms\tremaining: 294ms\n",
      "55:\tlearn: 1513.7783362\ttotal: 471ms\tremaining: 286ms\n",
      "56:\tlearn: 1510.5322090\ttotal: 480ms\tremaining: 278ms\n",
      "57:\tlearn: 1508.1998211\ttotal: 488ms\tremaining: 269ms\n",
      "58:\tlearn: 1506.5086875\ttotal: 497ms\tremaining: 261ms\n",
      "59:\tlearn: 1503.4428301\ttotal: 506ms\tremaining: 253ms\n",
      "60:\tlearn: 1501.5330486\ttotal: 515ms\tremaining: 245ms\n",
      "61:\tlearn: 1499.3017013\ttotal: 523ms\tremaining: 236ms\n",
      "62:\tlearn: 1497.3779049\ttotal: 532ms\tremaining: 228ms\n",
      "63:\tlearn: 1495.4177622\ttotal: 540ms\tremaining: 219ms\n",
      "64:\tlearn: 1492.8059646\ttotal: 548ms\tremaining: 211ms\n",
      "65:\tlearn: 1491.4960053\ttotal: 556ms\tremaining: 202ms\n",
      "66:\tlearn: 1489.6159547\ttotal: 565ms\tremaining: 194ms\n",
      "67:\tlearn: 1487.5895494\ttotal: 573ms\tremaining: 185ms\n",
      "68:\tlearn: 1486.1015384\ttotal: 581ms\tremaining: 177ms\n",
      "69:\tlearn: 1484.5899546\ttotal: 589ms\tremaining: 168ms\n",
      "70:\tlearn: 1483.0340453\ttotal: 598ms\tremaining: 160ms\n",
      "71:\tlearn: 1480.9478089\ttotal: 607ms\tremaining: 152ms\n",
      "72:\tlearn: 1479.0662236\ttotal: 615ms\tremaining: 143ms\n",
      "73:\tlearn: 1477.7516655\ttotal: 624ms\tremaining: 135ms\n",
      "74:\tlearn: 1476.2112851\ttotal: 633ms\tremaining: 127ms\n",
      "75:\tlearn: 1473.8505131\ttotal: 641ms\tremaining: 118ms\n",
      "76:\tlearn: 1472.7024452\ttotal: 650ms\tremaining: 110ms\n",
      "77:\tlearn: 1471.0612400\ttotal: 659ms\tremaining: 101ms\n",
      "78:\tlearn: 1470.0142249\ttotal: 666ms\tremaining: 92.7ms\n",
      "79:\tlearn: 1468.5760243\ttotal: 675ms\tremaining: 84.3ms\n",
      "80:\tlearn: 1466.4487548\ttotal: 683ms\tremaining: 75.9ms\n",
      "81:\tlearn: 1465.5572341\ttotal: 692ms\tremaining: 67.5ms\n",
      "82:\tlearn: 1464.1658801\ttotal: 700ms\tremaining: 59.1ms\n",
      "83:\tlearn: 1463.2656901\ttotal: 708ms\tremaining: 50.6ms\n",
      "84:\tlearn: 1462.4129870\ttotal: 716ms\tremaining: 42.1ms\n",
      "85:\tlearn: 1460.0361175\ttotal: 725ms\tremaining: 33.7ms\n",
      "86:\tlearn: 1459.0192388\ttotal: 733ms\tremaining: 25.3ms\n",
      "87:\tlearn: 1458.2283794\ttotal: 741ms\tremaining: 16.8ms\n",
      "88:\tlearn: 1456.9808684\ttotal: 749ms\tremaining: 8.41ms\n",
      "89:\tlearn: 1455.7310063\ttotal: 758ms\tremaining: 0us\n",
      "0:\tlearn: 3145.9936443\ttotal: 8.84ms\tremaining: 876ms\n",
      "1:\tlearn: 2974.5528312\ttotal: 18.1ms\tremaining: 889ms\n",
      "2:\tlearn: 2817.0220112\ttotal: 27.2ms\tremaining: 879ms\n",
      "3:\tlearn: 2679.7573211\ttotal: 36.1ms\tremaining: 866ms\n",
      "4:\tlearn: 2564.8285394\ttotal: 44.1ms\tremaining: 838ms\n",
      "5:\tlearn: 2453.5563563\ttotal: 53.8ms\tremaining: 842ms\n",
      "6:\tlearn: 2351.5315285\ttotal: 61.8ms\tremaining: 821ms\n",
      "7:\tlearn: 2265.5061423\ttotal: 70.8ms\tremaining: 815ms\n",
      "8:\tlearn: 2192.9655661\ttotal: 78.8ms\tremaining: 797ms\n",
      "9:\tlearn: 2130.8448016\ttotal: 87.5ms\tremaining: 788ms\n",
      "10:\tlearn: 2070.4486394\ttotal: 96ms\tremaining: 777ms\n",
      "11:\tlearn: 2020.9153018\ttotal: 104ms\tremaining: 761ms\n",
      "12:\tlearn: 1975.1106708\ttotal: 112ms\tremaining: 752ms\n",
      "13:\tlearn: 1936.5353332\ttotal: 120ms\tremaining: 740ms\n",
      "14:\tlearn: 1902.8386386\ttotal: 129ms\tremaining: 733ms\n",
      "15:\tlearn: 1871.7591306\ttotal: 137ms\tremaining: 721ms\n",
      "16:\tlearn: 1842.8396683\ttotal: 146ms\tremaining: 713ms\n",
      "17:\tlearn: 1818.3833512\ttotal: 155ms\tremaining: 705ms\n",
      "18:\tlearn: 1796.4235621\ttotal: 164ms\tremaining: 697ms\n",
      "19:\tlearn: 1775.1704118\ttotal: 172ms\tremaining: 688ms\n",
      "20:\tlearn: 1751.5472303\ttotal: 181ms\tremaining: 680ms\n",
      "21:\tlearn: 1735.6972134\ttotal: 189ms\tremaining: 670ms\n",
      "22:\tlearn: 1718.2939011\ttotal: 197ms\tremaining: 661ms\n",
      "23:\tlearn: 1697.5942762\ttotal: 206ms\tremaining: 652ms\n",
      "24:\tlearn: 1683.0753849\ttotal: 214ms\tremaining: 642ms\n",
      "25:\tlearn: 1670.0399633\ttotal: 224ms\tremaining: 636ms\n",
      "26:\tlearn: 1657.9661189\ttotal: 232ms\tremaining: 628ms\n",
      "27:\tlearn: 1643.1075356\ttotal: 241ms\tremaining: 619ms\n",
      "28:\tlearn: 1634.2421413\ttotal: 249ms\tremaining: 609ms\n",
      "29:\tlearn: 1624.5684546\ttotal: 256ms\tremaining: 598ms\n",
      "30:\tlearn: 1616.5888534\ttotal: 265ms\tremaining: 590ms\n",
      "31:\tlearn: 1606.5348744\ttotal: 274ms\tremaining: 582ms\n",
      "32:\tlearn: 1599.2910416\ttotal: 283ms\tremaining: 574ms\n",
      "33:\tlearn: 1593.2718102\ttotal: 292ms\tremaining: 567ms\n",
      "34:\tlearn: 1587.4752755\ttotal: 300ms\tremaining: 557ms\n",
      "35:\tlearn: 1580.7693649\ttotal: 308ms\tremaining: 548ms\n",
      "36:\tlearn: 1573.2747779\ttotal: 316ms\tremaining: 539ms\n",
      "37:\tlearn: 1567.2767189\ttotal: 325ms\tremaining: 531ms\n",
      "38:\tlearn: 1563.5121849\ttotal: 333ms\tremaining: 521ms\n",
      "39:\tlearn: 1557.1166295\ttotal: 342ms\tremaining: 513ms\n",
      "40:\tlearn: 1553.5412021\ttotal: 350ms\tremaining: 504ms\n",
      "41:\tlearn: 1548.2662948\ttotal: 358ms\tremaining: 495ms\n",
      "42:\tlearn: 1545.1545742\ttotal: 366ms\tremaining: 486ms\n",
      "43:\tlearn: 1541.8429171\ttotal: 375ms\tremaining: 477ms\n",
      "44:\tlearn: 1539.0969660\ttotal: 383ms\tremaining: 468ms\n",
      "45:\tlearn: 1535.6724418\ttotal: 392ms\tremaining: 460ms\n",
      "46:\tlearn: 1532.1757992\ttotal: 400ms\tremaining: 451ms\n",
      "47:\tlearn: 1529.6215366\ttotal: 409ms\tremaining: 443ms\n",
      "48:\tlearn: 1526.5016921\ttotal: 417ms\tremaining: 434ms\n",
      "49:\tlearn: 1523.0509707\ttotal: 426ms\tremaining: 426ms\n",
      "50:\tlearn: 1520.2591516\ttotal: 436ms\tremaining: 419ms\n",
      "51:\tlearn: 1517.1528796\ttotal: 445ms\tremaining: 410ms\n",
      "52:\tlearn: 1514.7873986\ttotal: 453ms\tremaining: 402ms\n",
      "53:\tlearn: 1513.1490391\ttotal: 461ms\tremaining: 393ms\n",
      "54:\tlearn: 1508.6155915\ttotal: 470ms\tremaining: 385ms\n",
      "55:\tlearn: 1505.7029753\ttotal: 478ms\tremaining: 376ms\n",
      "56:\tlearn: 1501.5775757\ttotal: 486ms\tremaining: 367ms\n",
      "57:\tlearn: 1499.8531900\ttotal: 495ms\tremaining: 359ms\n",
      "58:\tlearn: 1497.6403038\ttotal: 504ms\tremaining: 350ms\n",
      "59:\tlearn: 1494.6424904\ttotal: 512ms\tremaining: 342ms\n",
      "60:\tlearn: 1492.6393605\ttotal: 521ms\tremaining: 333ms\n",
      "61:\tlearn: 1490.7012671\ttotal: 530ms\tremaining: 325ms\n",
      "62:\tlearn: 1489.1156155\ttotal: 539ms\tremaining: 317ms\n",
      "63:\tlearn: 1487.5926738\ttotal: 548ms\tremaining: 308ms\n",
      "64:\tlearn: 1485.6778904\ttotal: 556ms\tremaining: 300ms\n",
      "65:\tlearn: 1484.1902685\ttotal: 566ms\tremaining: 291ms\n",
      "66:\tlearn: 1482.9277564\ttotal: 575ms\tremaining: 283ms\n",
      "67:\tlearn: 1481.1188087\ttotal: 585ms\tremaining: 275ms\n",
      "68:\tlearn: 1479.5791337\ttotal: 594ms\tremaining: 267ms\n",
      "69:\tlearn: 1476.9722473\ttotal: 603ms\tremaining: 258ms\n",
      "70:\tlearn: 1475.9490051\ttotal: 611ms\tremaining: 249ms\n",
      "71:\tlearn: 1474.1673490\ttotal: 619ms\tremaining: 241ms\n",
      "72:\tlearn: 1473.2312358\ttotal: 627ms\tremaining: 232ms\n",
      "73:\tlearn: 1472.0049926\ttotal: 637ms\tremaining: 224ms\n",
      "74:\tlearn: 1470.7339131\ttotal: 647ms\tremaining: 216ms\n",
      "75:\tlearn: 1469.6484539\ttotal: 657ms\tremaining: 207ms\n",
      "76:\tlearn: 1468.5853979\ttotal: 665ms\tremaining: 199ms\n",
      "77:\tlearn: 1466.4857812\ttotal: 674ms\tremaining: 190ms\n",
      "78:\tlearn: 1465.5026953\ttotal: 683ms\tremaining: 182ms\n",
      "79:\tlearn: 1464.4596823\ttotal: 692ms\tremaining: 173ms\n",
      "80:\tlearn: 1463.5847502\ttotal: 701ms\tremaining: 164ms\n",
      "81:\tlearn: 1462.3936692\ttotal: 709ms\tremaining: 156ms\n",
      "82:\tlearn: 1461.2485380\ttotal: 718ms\tremaining: 147ms\n",
      "83:\tlearn: 1458.8086273\ttotal: 726ms\tremaining: 138ms\n",
      "84:\tlearn: 1457.3559173\ttotal: 736ms\tremaining: 130ms\n",
      "85:\tlearn: 1456.4921733\ttotal: 744ms\tremaining: 121ms\n",
      "86:\tlearn: 1455.6728224\ttotal: 753ms\tremaining: 112ms\n",
      "87:\tlearn: 1454.7821730\ttotal: 761ms\tremaining: 104ms\n",
      "88:\tlearn: 1453.2610583\ttotal: 770ms\tremaining: 95.2ms\n",
      "89:\tlearn: 1451.9718420\ttotal: 779ms\tremaining: 86.6ms\n",
      "90:\tlearn: 1451.1500298\ttotal: 787ms\tremaining: 77.8ms\n",
      "91:\tlearn: 1450.5062663\ttotal: 796ms\tremaining: 69.2ms\n",
      "92:\tlearn: 1449.6127642\ttotal: 804ms\tremaining: 60.5ms\n",
      "93:\tlearn: 1447.6457352\ttotal: 812ms\tremaining: 51.9ms\n",
      "94:\tlearn: 1446.4290197\ttotal: 821ms\tremaining: 43.2ms\n",
      "95:\tlearn: 1445.5699832\ttotal: 829ms\tremaining: 34.5ms\n",
      "96:\tlearn: 1444.9408473\ttotal: 836ms\tremaining: 25.9ms\n",
      "97:\tlearn: 1444.1087031\ttotal: 846ms\tremaining: 17.3ms\n",
      "98:\tlearn: 1443.3653716\ttotal: 855ms\tremaining: 8.64ms\n",
      "99:\tlearn: 1442.5749589\ttotal: 866ms\tremaining: 0us\n",
      "0:\tlearn: 3137.2613428\ttotal: 8.97ms\tremaining: 888ms\n",
      "1:\tlearn: 2962.7476779\ttotal: 17.1ms\tremaining: 840ms\n",
      "2:\tlearn: 2812.4800015\ttotal: 26.2ms\tremaining: 847ms\n",
      "3:\tlearn: 2676.4523200\ttotal: 34.4ms\tremaining: 825ms\n",
      "4:\tlearn: 2556.8131697\ttotal: 43.6ms\tremaining: 828ms\n",
      "5:\tlearn: 2445.9039617\ttotal: 51.8ms\tremaining: 812ms\n",
      "6:\tlearn: 2355.7314300\ttotal: 60.9ms\tremaining: 809ms\n",
      "7:\tlearn: 2269.8595186\ttotal: 70.2ms\tremaining: 807ms\n",
      "8:\tlearn: 2197.5593277\ttotal: 78.1ms\tremaining: 789ms\n",
      "9:\tlearn: 2131.6110017\ttotal: 86.7ms\tremaining: 781ms\n",
      "10:\tlearn: 2079.3804155\ttotal: 94.9ms\tremaining: 767ms\n",
      "11:\tlearn: 2025.3070686\ttotal: 104ms\tremaining: 760ms\n",
      "12:\tlearn: 1980.6323564\ttotal: 111ms\tremaining: 745ms\n",
      "13:\tlearn: 1941.8830093\ttotal: 120ms\tremaining: 740ms\n",
      "14:\tlearn: 1909.9606691\ttotal: 128ms\tremaining: 726ms\n",
      "15:\tlearn: 1876.8600967\ttotal: 137ms\tremaining: 719ms\n",
      "16:\tlearn: 1851.8953210\ttotal: 145ms\tremaining: 708ms\n",
      "17:\tlearn: 1827.4822521\ttotal: 153ms\tremaining: 699ms\n",
      "18:\tlearn: 1806.7621648\ttotal: 161ms\tremaining: 687ms\n",
      "19:\tlearn: 1783.5072771\ttotal: 169ms\tremaining: 678ms\n",
      "20:\tlearn: 1757.2909382\ttotal: 178ms\tremaining: 668ms\n",
      "21:\tlearn: 1738.8108323\ttotal: 187ms\tremaining: 662ms\n",
      "22:\tlearn: 1718.5315862\ttotal: 195ms\tremaining: 654ms\n",
      "23:\tlearn: 1704.4877415\ttotal: 204ms\tremaining: 644ms\n",
      "24:\tlearn: 1690.0425358\ttotal: 213ms\tremaining: 639ms\n",
      "25:\tlearn: 1674.3437909\ttotal: 222ms\tremaining: 633ms\n",
      "26:\tlearn: 1663.0855681\ttotal: 231ms\tremaining: 626ms\n",
      "27:\tlearn: 1653.2427672\ttotal: 240ms\tremaining: 617ms\n",
      "28:\tlearn: 1643.5412169\ttotal: 249ms\tremaining: 611ms\n",
      "29:\tlearn: 1633.1237339\ttotal: 258ms\tremaining: 601ms\n",
      "30:\tlearn: 1625.9945404\ttotal: 266ms\tremaining: 593ms\n",
      "31:\tlearn: 1618.4621631\ttotal: 274ms\tremaining: 583ms\n",
      "32:\tlearn: 1610.0942816\ttotal: 285ms\tremaining: 578ms\n",
      "33:\tlearn: 1602.5695103\ttotal: 293ms\tremaining: 569ms\n",
      "34:\tlearn: 1594.8786811\ttotal: 303ms\tremaining: 562ms\n",
      "35:\tlearn: 1589.0184930\ttotal: 312ms\tremaining: 554ms\n",
      "36:\tlearn: 1583.1178607\ttotal: 321ms\tremaining: 546ms\n",
      "37:\tlearn: 1577.9238256\ttotal: 329ms\tremaining: 537ms\n",
      "38:\tlearn: 1570.0728221\ttotal: 339ms\tremaining: 530ms\n",
      "39:\tlearn: 1564.6134699\ttotal: 348ms\tremaining: 522ms\n",
      "40:\tlearn: 1559.5193483\ttotal: 356ms\tremaining: 513ms\n",
      "41:\tlearn: 1556.1789240\ttotal: 365ms\tremaining: 504ms\n",
      "42:\tlearn: 1551.3650262\ttotal: 374ms\tremaining: 496ms\n",
      "43:\tlearn: 1547.5333630\ttotal: 383ms\tremaining: 487ms\n",
      "44:\tlearn: 1544.4298411\ttotal: 392ms\tremaining: 479ms\n",
      "45:\tlearn: 1542.0305908\ttotal: 401ms\tremaining: 471ms\n",
      "46:\tlearn: 1538.6925539\ttotal: 410ms\tremaining: 463ms\n",
      "47:\tlearn: 1534.8145520\ttotal: 419ms\tremaining: 454ms\n",
      "48:\tlearn: 1532.3525837\ttotal: 430ms\tremaining: 448ms\n",
      "49:\tlearn: 1529.4428689\ttotal: 438ms\tremaining: 438ms\n",
      "50:\tlearn: 1525.7101735\ttotal: 447ms\tremaining: 430ms\n",
      "51:\tlearn: 1522.8693724\ttotal: 457ms\tremaining: 422ms\n",
      "52:\tlearn: 1520.5665057\ttotal: 467ms\tremaining: 414ms\n",
      "53:\tlearn: 1517.7596724\ttotal: 476ms\tremaining: 406ms\n",
      "54:\tlearn: 1515.8925696\ttotal: 485ms\tremaining: 397ms\n",
      "55:\tlearn: 1513.7783362\ttotal: 495ms\tremaining: 389ms\n",
      "56:\tlearn: 1510.5322090\ttotal: 504ms\tremaining: 380ms\n",
      "57:\tlearn: 1508.1998211\ttotal: 513ms\tremaining: 371ms\n",
      "58:\tlearn: 1506.5086875\ttotal: 522ms\tremaining: 362ms\n",
      "59:\tlearn: 1503.4428301\ttotal: 532ms\tremaining: 354ms\n",
      "60:\tlearn: 1501.5330486\ttotal: 541ms\tremaining: 346ms\n",
      "61:\tlearn: 1499.3017013\ttotal: 549ms\tremaining: 337ms\n",
      "62:\tlearn: 1497.3779049\ttotal: 558ms\tremaining: 328ms\n",
      "63:\tlearn: 1495.4177622\ttotal: 566ms\tremaining: 318ms\n",
      "64:\tlearn: 1492.8059646\ttotal: 575ms\tremaining: 310ms\n",
      "65:\tlearn: 1491.4960053\ttotal: 584ms\tremaining: 301ms\n",
      "66:\tlearn: 1489.6159547\ttotal: 593ms\tremaining: 292ms\n",
      "67:\tlearn: 1487.5895494\ttotal: 602ms\tremaining: 283ms\n",
      "68:\tlearn: 1486.1015384\ttotal: 612ms\tremaining: 275ms\n",
      "69:\tlearn: 1484.5899546\ttotal: 621ms\tremaining: 266ms\n",
      "70:\tlearn: 1483.0340453\ttotal: 630ms\tremaining: 257ms\n",
      "71:\tlearn: 1480.9478089\ttotal: 641ms\tremaining: 249ms\n",
      "72:\tlearn: 1479.0662236\ttotal: 651ms\tremaining: 241ms\n",
      "73:\tlearn: 1477.7516655\ttotal: 660ms\tremaining: 232ms\n",
      "74:\tlearn: 1476.2112851\ttotal: 670ms\tremaining: 223ms\n",
      "75:\tlearn: 1473.8505131\ttotal: 679ms\tremaining: 214ms\n",
      "76:\tlearn: 1472.7024452\ttotal: 688ms\tremaining: 205ms\n",
      "77:\tlearn: 1471.0612400\ttotal: 697ms\tremaining: 197ms\n",
      "78:\tlearn: 1470.0142249\ttotal: 706ms\tremaining: 188ms\n",
      "79:\tlearn: 1468.5760243\ttotal: 714ms\tremaining: 178ms\n",
      "80:\tlearn: 1466.4487548\ttotal: 722ms\tremaining: 169ms\n",
      "81:\tlearn: 1465.5572341\ttotal: 731ms\tremaining: 160ms\n",
      "82:\tlearn: 1464.1658801\ttotal: 740ms\tremaining: 152ms\n",
      "83:\tlearn: 1463.2656901\ttotal: 748ms\tremaining: 143ms\n",
      "84:\tlearn: 1462.4129870\ttotal: 758ms\tremaining: 134ms\n",
      "85:\tlearn: 1460.0361175\ttotal: 766ms\tremaining: 125ms\n",
      "86:\tlearn: 1459.0192388\ttotal: 776ms\tremaining: 116ms\n",
      "87:\tlearn: 1458.2283794\ttotal: 785ms\tremaining: 107ms\n",
      "88:\tlearn: 1456.9808684\ttotal: 794ms\tremaining: 98.1ms\n",
      "89:\tlearn: 1455.7310063\ttotal: 803ms\tremaining: 89.2ms\n",
      "90:\tlearn: 1454.5140182\ttotal: 812ms\tremaining: 80.3ms\n",
      "91:\tlearn: 1453.1079356\ttotal: 822ms\tremaining: 71.5ms\n",
      "92:\tlearn: 1451.4061780\ttotal: 831ms\tremaining: 62.6ms\n",
      "93:\tlearn: 1450.4917277\ttotal: 841ms\tremaining: 53.7ms\n",
      "94:\tlearn: 1448.8016244\ttotal: 851ms\tremaining: 44.8ms\n",
      "95:\tlearn: 1447.4994229\ttotal: 860ms\tremaining: 35.8ms\n",
      "96:\tlearn: 1446.7539947\ttotal: 870ms\tremaining: 26.9ms\n",
      "97:\tlearn: 1445.6774385\ttotal: 879ms\tremaining: 17.9ms\n",
      "98:\tlearn: 1444.0697276\ttotal: 888ms\tremaining: 8.97ms\n",
      "99:\tlearn: 1442.9629560\ttotal: 898ms\tremaining: 0us\n",
      "0:\tlearn: 3145.9936443\ttotal: 9.24ms\tremaining: 1.01s\n",
      "1:\tlearn: 2974.5528312\ttotal: 17.9ms\tremaining: 969ms\n",
      "2:\tlearn: 2817.0220112\ttotal: 28ms\tremaining: 1000ms\n",
      "3:\tlearn: 2679.7573211\ttotal: 40.3ms\tremaining: 1.07s\n",
      "4:\tlearn: 2564.8285394\ttotal: 49.1ms\tremaining: 1.03s\n",
      "5:\tlearn: 2453.5563563\ttotal: 58.2ms\tremaining: 1.01s\n",
      "6:\tlearn: 2351.5315285\ttotal: 67.3ms\tremaining: 990ms\n",
      "7:\tlearn: 2265.5061423\ttotal: 76.7ms\tremaining: 978ms\n",
      "8:\tlearn: 2192.9655661\ttotal: 85.6ms\tremaining: 960ms\n",
      "9:\tlearn: 2130.8448016\ttotal: 94ms\tremaining: 940ms\n",
      "10:\tlearn: 2070.4486394\ttotal: 103ms\tremaining: 931ms\n",
      "11:\tlearn: 2020.9153018\ttotal: 111ms\tremaining: 907ms\n",
      "12:\tlearn: 1975.1106708\ttotal: 120ms\tremaining: 897ms\n",
      "13:\tlearn: 1936.5353332\ttotal: 129ms\tremaining: 885ms\n",
      "14:\tlearn: 1902.8386386\ttotal: 139ms\tremaining: 878ms\n",
      "15:\tlearn: 1871.7591306\ttotal: 147ms\tremaining: 864ms\n",
      "16:\tlearn: 1842.8396683\ttotal: 156ms\tremaining: 854ms\n",
      "17:\tlearn: 1818.3833512\ttotal: 166ms\tremaining: 846ms\n",
      "18:\tlearn: 1796.4235621\ttotal: 175ms\tremaining: 837ms\n",
      "19:\tlearn: 1775.1704118\ttotal: 183ms\tremaining: 825ms\n",
      "20:\tlearn: 1751.5472303\ttotal: 191ms\tremaining: 811ms\n",
      "21:\tlearn: 1735.6972134\ttotal: 200ms\tremaining: 800ms\n",
      "22:\tlearn: 1718.2939011\ttotal: 209ms\tremaining: 789ms\n",
      "23:\tlearn: 1697.5942762\ttotal: 219ms\tremaining: 783ms\n",
      "24:\tlearn: 1683.0753849\ttotal: 227ms\tremaining: 773ms\n",
      "25:\tlearn: 1670.0399633\ttotal: 237ms\tremaining: 767ms\n",
      "26:\tlearn: 1657.9661189\ttotal: 246ms\tremaining: 756ms\n",
      "27:\tlearn: 1643.1075356\ttotal: 255ms\tremaining: 747ms\n",
      "28:\tlearn: 1634.2421413\ttotal: 263ms\tremaining: 735ms\n",
      "29:\tlearn: 1624.5684546\ttotal: 272ms\tremaining: 726ms\n",
      "30:\tlearn: 1616.5888534\ttotal: 281ms\tremaining: 715ms\n",
      "31:\tlearn: 1606.5348744\ttotal: 290ms\tremaining: 707ms\n",
      "32:\tlearn: 1599.2910416\ttotal: 298ms\tremaining: 696ms\n",
      "33:\tlearn: 1593.2718102\ttotal: 307ms\tremaining: 687ms\n",
      "34:\tlearn: 1587.4752755\ttotal: 316ms\tremaining: 677ms\n",
      "35:\tlearn: 1580.7693649\ttotal: 324ms\tremaining: 666ms\n",
      "36:\tlearn: 1573.2747779\ttotal: 334ms\tremaining: 658ms\n",
      "37:\tlearn: 1567.2767189\ttotal: 343ms\tremaining: 649ms\n",
      "38:\tlearn: 1563.5121849\ttotal: 352ms\tremaining: 640ms\n",
      "39:\tlearn: 1557.1166295\ttotal: 361ms\tremaining: 631ms\n",
      "40:\tlearn: 1553.5412021\ttotal: 370ms\tremaining: 622ms\n",
      "41:\tlearn: 1548.2662948\ttotal: 378ms\tremaining: 613ms\n",
      "42:\tlearn: 1545.1545742\ttotal: 387ms\tremaining: 603ms\n",
      "43:\tlearn: 1541.8429171\ttotal: 395ms\tremaining: 593ms\n",
      "44:\tlearn: 1539.0969660\ttotal: 404ms\tremaining: 584ms\n",
      "45:\tlearn: 1535.6724418\ttotal: 413ms\tremaining: 574ms\n",
      "46:\tlearn: 1532.1757992\ttotal: 421ms\tremaining: 565ms\n",
      "47:\tlearn: 1529.6215366\ttotal: 431ms\tremaining: 556ms\n",
      "48:\tlearn: 1526.5016921\ttotal: 439ms\tremaining: 547ms\n",
      "49:\tlearn: 1523.0509707\ttotal: 448ms\tremaining: 537ms\n",
      "50:\tlearn: 1520.2591516\ttotal: 455ms\tremaining: 527ms\n",
      "51:\tlearn: 1517.1528796\ttotal: 464ms\tremaining: 518ms\n",
      "52:\tlearn: 1514.7873986\ttotal: 473ms\tremaining: 509ms\n",
      "53:\tlearn: 1513.1490391\ttotal: 480ms\tremaining: 498ms\n",
      "54:\tlearn: 1508.6155915\ttotal: 489ms\tremaining: 489ms\n",
      "55:\tlearn: 1505.7029753\ttotal: 498ms\tremaining: 480ms\n",
      "56:\tlearn: 1501.5775757\ttotal: 507ms\tremaining: 471ms\n",
      "57:\tlearn: 1499.8531900\ttotal: 515ms\tremaining: 462ms\n",
      "58:\tlearn: 1497.6403038\ttotal: 524ms\tremaining: 453ms\n",
      "59:\tlearn: 1494.6424904\ttotal: 532ms\tremaining: 443ms\n",
      "60:\tlearn: 1492.6393605\ttotal: 540ms\tremaining: 434ms\n",
      "61:\tlearn: 1490.7012671\ttotal: 548ms\tremaining: 425ms\n",
      "62:\tlearn: 1489.1156155\ttotal: 557ms\tremaining: 415ms\n",
      "63:\tlearn: 1487.5926738\ttotal: 565ms\tremaining: 406ms\n",
      "64:\tlearn: 1485.6778904\ttotal: 573ms\tremaining: 397ms\n",
      "65:\tlearn: 1484.1902685\ttotal: 581ms\tremaining: 388ms\n",
      "66:\tlearn: 1482.9277564\ttotal: 590ms\tremaining: 379ms\n",
      "67:\tlearn: 1481.1188087\ttotal: 599ms\tremaining: 370ms\n",
      "68:\tlearn: 1479.5791337\ttotal: 608ms\tremaining: 361ms\n",
      "69:\tlearn: 1476.9722473\ttotal: 617ms\tremaining: 352ms\n",
      "70:\tlearn: 1475.9490051\ttotal: 626ms\tremaining: 344ms\n",
      "71:\tlearn: 1474.1673490\ttotal: 636ms\tremaining: 336ms\n",
      "72:\tlearn: 1473.2312358\ttotal: 644ms\tremaining: 327ms\n",
      "73:\tlearn: 1472.0049926\ttotal: 653ms\tremaining: 318ms\n",
      "74:\tlearn: 1470.7339131\ttotal: 661ms\tremaining: 309ms\n",
      "75:\tlearn: 1469.6484539\ttotal: 670ms\tremaining: 300ms\n",
      "76:\tlearn: 1468.5853979\ttotal: 677ms\tremaining: 290ms\n",
      "77:\tlearn: 1466.4857812\ttotal: 686ms\tremaining: 282ms\n",
      "78:\tlearn: 1465.5026953\ttotal: 694ms\tremaining: 272ms\n",
      "79:\tlearn: 1464.4596823\ttotal: 703ms\tremaining: 264ms\n",
      "80:\tlearn: 1463.5847502\ttotal: 711ms\tremaining: 254ms\n",
      "81:\tlearn: 1462.3936692\ttotal: 720ms\tremaining: 246ms\n",
      "82:\tlearn: 1461.2485380\ttotal: 728ms\tremaining: 237ms\n",
      "83:\tlearn: 1458.8086273\ttotal: 737ms\tremaining: 228ms\n",
      "84:\tlearn: 1457.3559173\ttotal: 745ms\tremaining: 219ms\n",
      "85:\tlearn: 1456.4921733\ttotal: 753ms\tremaining: 210ms\n",
      "86:\tlearn: 1455.6728224\ttotal: 762ms\tremaining: 201ms\n",
      "87:\tlearn: 1454.7821730\ttotal: 770ms\tremaining: 192ms\n",
      "88:\tlearn: 1453.2610583\ttotal: 778ms\tremaining: 184ms\n",
      "89:\tlearn: 1451.9718420\ttotal: 787ms\tremaining: 175ms\n",
      "90:\tlearn: 1451.1500298\ttotal: 795ms\tremaining: 166ms\n",
      "91:\tlearn: 1450.5062663\ttotal: 804ms\tremaining: 157ms\n",
      "92:\tlearn: 1449.6127642\ttotal: 813ms\tremaining: 149ms\n",
      "93:\tlearn: 1447.6457352\ttotal: 821ms\tremaining: 140ms\n",
      "94:\tlearn: 1446.4290197\ttotal: 831ms\tremaining: 131ms\n",
      "95:\tlearn: 1445.5699832\ttotal: 838ms\tremaining: 122ms\n",
      "96:\tlearn: 1444.9408473\ttotal: 848ms\tremaining: 114ms\n",
      "97:\tlearn: 1444.1087031\ttotal: 856ms\tremaining: 105ms\n",
      "98:\tlearn: 1443.3653716\ttotal: 865ms\tremaining: 96.1ms\n",
      "99:\tlearn: 1442.5749589\ttotal: 873ms\tremaining: 87.3ms\n",
      "100:\tlearn: 1441.4641120\ttotal: 882ms\tremaining: 78.6ms\n",
      "101:\tlearn: 1440.7851375\ttotal: 890ms\tremaining: 69.8ms\n",
      "102:\tlearn: 1439.3969889\ttotal: 900ms\tremaining: 61.2ms\n",
      "103:\tlearn: 1438.2479020\ttotal: 909ms\tremaining: 52.4ms\n",
      "104:\tlearn: 1437.3548474\ttotal: 917ms\tremaining: 43.7ms\n",
      "105:\tlearn: 1436.5879271\ttotal: 926ms\tremaining: 34.9ms\n",
      "106:\tlearn: 1435.4803280\ttotal: 934ms\tremaining: 26.2ms\n",
      "107:\tlearn: 1434.2151655\ttotal: 944ms\tremaining: 17.5ms\n",
      "108:\tlearn: 1433.3429732\ttotal: 953ms\tremaining: 8.74ms\n",
      "109:\tlearn: 1432.6924998\ttotal: 961ms\tremaining: 0us\n",
      "0:\tlearn: 3137.2613428\ttotal: 9.77ms\tremaining: 1.06s\n",
      "1:\tlearn: 2962.7476779\ttotal: 18.8ms\tremaining: 1.01s\n",
      "2:\tlearn: 2812.4800015\ttotal: 27.8ms\tremaining: 991ms\n",
      "3:\tlearn: 2676.4523200\ttotal: 36.8ms\tremaining: 976ms\n",
      "4:\tlearn: 2556.8131697\ttotal: 46ms\tremaining: 966ms\n",
      "5:\tlearn: 2445.9039617\ttotal: 55.1ms\tremaining: 955ms\n",
      "6:\tlearn: 2355.7314300\ttotal: 63.7ms\tremaining: 938ms\n",
      "7:\tlearn: 2269.8595186\ttotal: 73.3ms\tremaining: 934ms\n",
      "8:\tlearn: 2197.5593277\ttotal: 82.1ms\tremaining: 922ms\n",
      "9:\tlearn: 2131.6110017\ttotal: 91.6ms\tremaining: 916ms\n",
      "10:\tlearn: 2079.3804155\ttotal: 101ms\tremaining: 910ms\n",
      "11:\tlearn: 2025.3070686\ttotal: 110ms\tremaining: 901ms\n",
      "12:\tlearn: 1980.6323564\ttotal: 119ms\tremaining: 891ms\n",
      "13:\tlearn: 1941.8830093\ttotal: 129ms\tremaining: 882ms\n",
      "14:\tlearn: 1909.9606691\ttotal: 138ms\tremaining: 871ms\n",
      "15:\tlearn: 1876.8600967\ttotal: 147ms\tremaining: 861ms\n",
      "16:\tlearn: 1851.8953210\ttotal: 156ms\tremaining: 851ms\n",
      "17:\tlearn: 1827.4822521\ttotal: 164ms\tremaining: 838ms\n",
      "18:\tlearn: 1806.7621648\ttotal: 173ms\tremaining: 827ms\n",
      "19:\tlearn: 1783.5072771\ttotal: 182ms\tremaining: 817ms\n",
      "20:\tlearn: 1757.2909382\ttotal: 191ms\tremaining: 810ms\n",
      "21:\tlearn: 1738.8108323\ttotal: 201ms\tremaining: 804ms\n",
      "22:\tlearn: 1718.5315862\ttotal: 210ms\tremaining: 794ms\n",
      "23:\tlearn: 1704.4877415\ttotal: 220ms\tremaining: 787ms\n",
      "24:\tlearn: 1690.0425358\ttotal: 229ms\tremaining: 777ms\n",
      "25:\tlearn: 1674.3437909\ttotal: 239ms\tremaining: 771ms\n",
      "26:\tlearn: 1663.0855681\ttotal: 248ms\tremaining: 763ms\n",
      "27:\tlearn: 1653.2427672\ttotal: 257ms\tremaining: 751ms\n",
      "28:\tlearn: 1643.5412169\ttotal: 266ms\tremaining: 743ms\n",
      "29:\tlearn: 1633.1237339\ttotal: 275ms\tremaining: 733ms\n",
      "30:\tlearn: 1625.9945404\ttotal: 284ms\tremaining: 723ms\n",
      "31:\tlearn: 1618.4621631\ttotal: 292ms\tremaining: 712ms\n",
      "32:\tlearn: 1610.0942816\ttotal: 302ms\tremaining: 704ms\n",
      "33:\tlearn: 1602.5695103\ttotal: 311ms\tremaining: 694ms\n",
      "34:\tlearn: 1594.8786811\ttotal: 321ms\tremaining: 688ms\n",
      "35:\tlearn: 1589.0184930\ttotal: 330ms\tremaining: 679ms\n",
      "36:\tlearn: 1583.1178607\ttotal: 339ms\tremaining: 669ms\n",
      "37:\tlearn: 1577.9238256\ttotal: 348ms\tremaining: 660ms\n",
      "38:\tlearn: 1570.0728221\ttotal: 358ms\tremaining: 651ms\n",
      "39:\tlearn: 1564.6134699\ttotal: 368ms\tremaining: 644ms\n",
      "40:\tlearn: 1559.5193483\ttotal: 378ms\tremaining: 636ms\n",
      "41:\tlearn: 1556.1789240\ttotal: 387ms\tremaining: 626ms\n",
      "42:\tlearn: 1551.3650262\ttotal: 397ms\tremaining: 618ms\n",
      "43:\tlearn: 1547.5333630\ttotal: 406ms\tremaining: 609ms\n",
      "44:\tlearn: 1544.4298411\ttotal: 416ms\tremaining: 600ms\n",
      "45:\tlearn: 1542.0305908\ttotal: 424ms\tremaining: 590ms\n",
      "46:\tlearn: 1538.6925539\ttotal: 434ms\tremaining: 582ms\n",
      "47:\tlearn: 1534.8145520\ttotal: 443ms\tremaining: 573ms\n",
      "48:\tlearn: 1532.3525837\ttotal: 453ms\tremaining: 564ms\n",
      "49:\tlearn: 1529.4428689\ttotal: 462ms\tremaining: 554ms\n",
      "50:\tlearn: 1525.7101735\ttotal: 470ms\tremaining: 544ms\n",
      "51:\tlearn: 1522.8693724\ttotal: 480ms\tremaining: 535ms\n",
      "52:\tlearn: 1520.5665057\ttotal: 488ms\tremaining: 525ms\n",
      "53:\tlearn: 1517.7596724\ttotal: 497ms\tremaining: 515ms\n",
      "54:\tlearn: 1515.8925696\ttotal: 504ms\tremaining: 504ms\n",
      "55:\tlearn: 1513.7783362\ttotal: 514ms\tremaining: 495ms\n",
      "56:\tlearn: 1510.5322090\ttotal: 522ms\tremaining: 486ms\n",
      "57:\tlearn: 1508.1998211\ttotal: 531ms\tremaining: 476ms\n",
      "58:\tlearn: 1506.5086875\ttotal: 540ms\tremaining: 467ms\n",
      "59:\tlearn: 1503.4428301\ttotal: 549ms\tremaining: 458ms\n",
      "60:\tlearn: 1501.5330486\ttotal: 558ms\tremaining: 448ms\n",
      "61:\tlearn: 1499.3017013\ttotal: 567ms\tremaining: 439ms\n",
      "62:\tlearn: 1497.3779049\ttotal: 577ms\tremaining: 430ms\n",
      "63:\tlearn: 1495.4177622\ttotal: 585ms\tremaining: 421ms\n",
      "64:\tlearn: 1492.8059646\ttotal: 594ms\tremaining: 411ms\n",
      "65:\tlearn: 1491.4960053\ttotal: 603ms\tremaining: 402ms\n",
      "66:\tlearn: 1489.6159547\ttotal: 613ms\tremaining: 394ms\n",
      "67:\tlearn: 1487.5895494\ttotal: 623ms\tremaining: 385ms\n",
      "68:\tlearn: 1486.1015384\ttotal: 632ms\tremaining: 376ms\n",
      "69:\tlearn: 1484.5899546\ttotal: 641ms\tremaining: 366ms\n",
      "70:\tlearn: 1483.0340453\ttotal: 649ms\tremaining: 357ms\n",
      "71:\tlearn: 1480.9478089\ttotal: 659ms\tremaining: 348ms\n",
      "72:\tlearn: 1479.0662236\ttotal: 668ms\tremaining: 338ms\n",
      "73:\tlearn: 1477.7516655\ttotal: 677ms\tremaining: 329ms\n",
      "74:\tlearn: 1476.2112851\ttotal: 686ms\tremaining: 320ms\n",
      "75:\tlearn: 1473.8505131\ttotal: 696ms\tremaining: 311ms\n",
      "76:\tlearn: 1472.7024452\ttotal: 704ms\tremaining: 302ms\n",
      "77:\tlearn: 1471.0612400\ttotal: 713ms\tremaining: 293ms\n",
      "78:\tlearn: 1470.0142249\ttotal: 722ms\tremaining: 283ms\n",
      "79:\tlearn: 1468.5760243\ttotal: 730ms\tremaining: 274ms\n",
      "80:\tlearn: 1466.4487548\ttotal: 740ms\tremaining: 265ms\n",
      "81:\tlearn: 1465.5572341\ttotal: 749ms\tremaining: 256ms\n",
      "82:\tlearn: 1464.1658801\ttotal: 758ms\tremaining: 247ms\n",
      "83:\tlearn: 1463.2656901\ttotal: 768ms\tremaining: 238ms\n",
      "84:\tlearn: 1462.4129870\ttotal: 777ms\tremaining: 228ms\n",
      "85:\tlearn: 1460.0361175\ttotal: 787ms\tremaining: 220ms\n",
      "86:\tlearn: 1459.0192388\ttotal: 796ms\tremaining: 210ms\n",
      "87:\tlearn: 1458.2283794\ttotal: 806ms\tremaining: 201ms\n",
      "88:\tlearn: 1456.9808684\ttotal: 816ms\tremaining: 193ms\n",
      "89:\tlearn: 1455.7310063\ttotal: 825ms\tremaining: 183ms\n",
      "90:\tlearn: 1454.5140182\ttotal: 835ms\tremaining: 174ms\n",
      "91:\tlearn: 1453.1079356\ttotal: 844ms\tremaining: 165ms\n",
      "92:\tlearn: 1451.4061780\ttotal: 854ms\tremaining: 156ms\n",
      "93:\tlearn: 1450.4917277\ttotal: 863ms\tremaining: 147ms\n",
      "94:\tlearn: 1448.8016244\ttotal: 873ms\tremaining: 138ms\n",
      "95:\tlearn: 1447.4994229\ttotal: 883ms\tremaining: 129ms\n",
      "96:\tlearn: 1446.7539947\ttotal: 891ms\tremaining: 119ms\n",
      "97:\tlearn: 1445.6774385\ttotal: 901ms\tremaining: 110ms\n",
      "98:\tlearn: 1444.0697276\ttotal: 910ms\tremaining: 101ms\n",
      "99:\tlearn: 1442.9629560\ttotal: 919ms\tremaining: 91.9ms\n",
      "100:\tlearn: 1441.9288270\ttotal: 928ms\tremaining: 82.7ms\n",
      "101:\tlearn: 1441.3016148\ttotal: 937ms\tremaining: 73.5ms\n",
      "102:\tlearn: 1440.6431940\ttotal: 946ms\tremaining: 64.3ms\n",
      "103:\tlearn: 1439.9462238\ttotal: 955ms\tremaining: 55.1ms\n",
      "104:\tlearn: 1439.1998229\ttotal: 964ms\tremaining: 45.9ms\n",
      "105:\tlearn: 1438.2419488\ttotal: 972ms\tremaining: 36.7ms\n",
      "106:\tlearn: 1437.3272255\ttotal: 982ms\tremaining: 27.5ms\n",
      "107:\tlearn: 1436.4467420\ttotal: 990ms\tremaining: 18.3ms\n",
      "108:\tlearn: 1435.5597307\ttotal: 999ms\tremaining: 9.16ms\n",
      "109:\tlearn: 1434.5824494\ttotal: 1.01s\tremaining: 0us\n",
      "0:\tlearn: 3050.8687181\ttotal: 9.27ms\tremaining: 732ms\n",
      "1:\tlearn: 2798.0311029\ttotal: 17.5ms\tremaining: 683ms\n",
      "2:\tlearn: 2594.9803635\ttotal: 26.8ms\tremaining: 688ms\n",
      "3:\tlearn: 2426.6989768\ttotal: 35.4ms\tremaining: 672ms\n",
      "4:\tlearn: 2285.5344193\ttotal: 44.4ms\tremaining: 665ms\n",
      "5:\tlearn: 2180.3625565\ttotal: 52.4ms\tremaining: 646ms\n",
      "6:\tlearn: 2086.8143498\ttotal: 60.9ms\tremaining: 635ms\n",
      "7:\tlearn: 2010.2396476\ttotal: 68.9ms\tremaining: 620ms\n",
      "8:\tlearn: 1947.3687053\ttotal: 78.1ms\tremaining: 616ms\n",
      "9:\tlearn: 1898.2063028\ttotal: 86.1ms\tremaining: 603ms\n",
      "10:\tlearn: 1850.9635180\ttotal: 95ms\tremaining: 596ms\n",
      "11:\tlearn: 1816.8025774\ttotal: 103ms\tremaining: 583ms\n",
      "12:\tlearn: 1774.9927276\ttotal: 112ms\tremaining: 578ms\n",
      "13:\tlearn: 1747.8150619\ttotal: 121ms\tremaining: 569ms\n",
      "14:\tlearn: 1716.9469356\ttotal: 129ms\tremaining: 559ms\n",
      "15:\tlearn: 1689.1294222\ttotal: 138ms\tremaining: 551ms\n",
      "16:\tlearn: 1669.7735112\ttotal: 146ms\tremaining: 542ms\n",
      "17:\tlearn: 1653.2260364\ttotal: 155ms\tremaining: 533ms\n",
      "18:\tlearn: 1635.5905195\ttotal: 163ms\tremaining: 523ms\n",
      "19:\tlearn: 1620.5941949\ttotal: 172ms\tremaining: 515ms\n",
      "20:\tlearn: 1609.2705780\ttotal: 180ms\tremaining: 507ms\n",
      "21:\tlearn: 1597.9003498\ttotal: 189ms\tremaining: 498ms\n",
      "22:\tlearn: 1588.5928525\ttotal: 198ms\tremaining: 490ms\n",
      "23:\tlearn: 1575.3315032\ttotal: 207ms\tremaining: 483ms\n",
      "24:\tlearn: 1566.5686126\ttotal: 216ms\tremaining: 474ms\n",
      "25:\tlearn: 1558.5507879\ttotal: 226ms\tremaining: 469ms\n",
      "26:\tlearn: 1551.2933201\ttotal: 236ms\tremaining: 463ms\n",
      "27:\tlearn: 1546.1538122\ttotal: 244ms\tremaining: 454ms\n",
      "28:\tlearn: 1539.6010875\ttotal: 253ms\tremaining: 445ms\n",
      "29:\tlearn: 1534.5804976\ttotal: 263ms\tremaining: 438ms\n",
      "30:\tlearn: 1529.4223034\ttotal: 272ms\tremaining: 429ms\n",
      "31:\tlearn: 1525.1075122\ttotal: 280ms\tremaining: 420ms\n",
      "32:\tlearn: 1519.9425782\ttotal: 289ms\tremaining: 411ms\n",
      "33:\tlearn: 1516.8142444\ttotal: 297ms\tremaining: 402ms\n",
      "34:\tlearn: 1513.3241611\ttotal: 306ms\tremaining: 394ms\n",
      "35:\tlearn: 1509.2228029\ttotal: 315ms\tremaining: 385ms\n",
      "36:\tlearn: 1505.2246134\ttotal: 324ms\tremaining: 376ms\n",
      "37:\tlearn: 1502.2472717\ttotal: 333ms\tremaining: 368ms\n",
      "38:\tlearn: 1499.6523825\ttotal: 342ms\tremaining: 360ms\n",
      "39:\tlearn: 1495.0224298\ttotal: 351ms\tremaining: 351ms\n",
      "40:\tlearn: 1492.5984154\ttotal: 360ms\tremaining: 342ms\n",
      "41:\tlearn: 1489.8860495\ttotal: 369ms\tremaining: 334ms\n",
      "42:\tlearn: 1487.8315440\ttotal: 378ms\tremaining: 325ms\n",
      "43:\tlearn: 1485.1789960\ttotal: 387ms\tremaining: 317ms\n",
      "44:\tlearn: 1483.1665947\ttotal: 397ms\tremaining: 308ms\n",
      "45:\tlearn: 1481.4078238\ttotal: 406ms\tremaining: 300ms\n",
      "46:\tlearn: 1479.6789381\ttotal: 416ms\tremaining: 292ms\n",
      "47:\tlearn: 1478.0411221\ttotal: 424ms\tremaining: 283ms\n",
      "48:\tlearn: 1476.2260062\ttotal: 434ms\tremaining: 274ms\n",
      "49:\tlearn: 1474.1508582\ttotal: 443ms\tremaining: 266ms\n",
      "50:\tlearn: 1471.4798092\ttotal: 452ms\tremaining: 257ms\n",
      "51:\tlearn: 1468.7357279\ttotal: 461ms\tremaining: 248ms\n",
      "52:\tlearn: 1467.0186222\ttotal: 470ms\tremaining: 240ms\n",
      "53:\tlearn: 1465.2776860\ttotal: 480ms\tremaining: 231ms\n",
      "54:\tlearn: 1463.5534464\ttotal: 489ms\tremaining: 222ms\n",
      "55:\tlearn: 1461.9834273\ttotal: 499ms\tremaining: 214ms\n",
      "56:\tlearn: 1459.5847435\ttotal: 510ms\tremaining: 206ms\n",
      "57:\tlearn: 1457.9025499\ttotal: 520ms\tremaining: 197ms\n",
      "58:\tlearn: 1456.7269014\ttotal: 530ms\tremaining: 189ms\n",
      "59:\tlearn: 1454.2611738\ttotal: 540ms\tremaining: 180ms\n",
      "60:\tlearn: 1452.5677891\ttotal: 550ms\tremaining: 171ms\n",
      "61:\tlearn: 1451.3857446\ttotal: 561ms\tremaining: 163ms\n",
      "62:\tlearn: 1449.8414431\ttotal: 570ms\tremaining: 154ms\n",
      "63:\tlearn: 1446.7544388\ttotal: 580ms\tremaining: 145ms\n",
      "64:\tlearn: 1444.5757377\ttotal: 589ms\tremaining: 136ms\n",
      "65:\tlearn: 1442.9027034\ttotal: 599ms\tremaining: 127ms\n",
      "66:\tlearn: 1441.3426784\ttotal: 609ms\tremaining: 118ms\n",
      "67:\tlearn: 1440.3203133\ttotal: 618ms\tremaining: 109ms\n",
      "68:\tlearn: 1438.7649260\ttotal: 628ms\tremaining: 100ms\n",
      "69:\tlearn: 1437.6250314\ttotal: 637ms\tremaining: 91ms\n",
      "70:\tlearn: 1436.7993016\ttotal: 646ms\tremaining: 81.9ms\n",
      "71:\tlearn: 1435.5879053\ttotal: 655ms\tremaining: 72.8ms\n",
      "72:\tlearn: 1434.2273550\ttotal: 665ms\tremaining: 63.7ms\n",
      "73:\tlearn: 1433.2608547\ttotal: 674ms\tremaining: 54.7ms\n",
      "74:\tlearn: 1431.5331652\ttotal: 683ms\tremaining: 45.5ms\n",
      "75:\tlearn: 1430.2402346\ttotal: 692ms\tremaining: 36.4ms\n",
      "76:\tlearn: 1429.5313323\ttotal: 701ms\tremaining: 27.3ms\n",
      "77:\tlearn: 1428.6777723\ttotal: 710ms\tremaining: 18.2ms\n",
      "78:\tlearn: 1427.5736561\ttotal: 720ms\tremaining: 9.11ms\n",
      "79:\tlearn: 1426.3220785\ttotal: 729ms\tremaining: 0us\n",
      "0:\tlearn: 3043.5249304\ttotal: 8.09ms\tremaining: 639ms\n",
      "1:\tlearn: 2803.4640418\ttotal: 16.6ms\tremaining: 649ms\n",
      "2:\tlearn: 2603.6388709\ttotal: 24.6ms\tremaining: 633ms\n",
      "3:\tlearn: 2427.5989121\ttotal: 32.6ms\tremaining: 620ms\n",
      "4:\tlearn: 2292.7728975\ttotal: 40.4ms\tremaining: 606ms\n",
      "5:\tlearn: 2175.6372756\ttotal: 48.6ms\tremaining: 599ms\n",
      "6:\tlearn: 2089.5112380\ttotal: 56.5ms\tremaining: 589ms\n",
      "7:\tlearn: 2012.9301395\ttotal: 65ms\tremaining: 585ms\n",
      "8:\tlearn: 1945.6740129\ttotal: 72.5ms\tremaining: 572ms\n",
      "9:\tlearn: 1895.1478628\ttotal: 80.9ms\tremaining: 566ms\n",
      "10:\tlearn: 1852.1107065\ttotal: 88.3ms\tremaining: 554ms\n",
      "11:\tlearn: 1815.7962687\ttotal: 97.4ms\tremaining: 552ms\n",
      "12:\tlearn: 1776.1704559\ttotal: 105ms\tremaining: 543ms\n",
      "13:\tlearn: 1746.4780999\ttotal: 114ms\tremaining: 536ms\n",
      "14:\tlearn: 1723.8596654\ttotal: 121ms\tremaining: 524ms\n",
      "15:\tlearn: 1699.6226100\ttotal: 130ms\tremaining: 519ms\n",
      "16:\tlearn: 1681.2103706\ttotal: 138ms\tremaining: 511ms\n",
      "17:\tlearn: 1661.3765502\ttotal: 147ms\tremaining: 506ms\n",
      "18:\tlearn: 1643.4588536\ttotal: 154ms\tremaining: 494ms\n",
      "19:\tlearn: 1629.8284828\ttotal: 162ms\tremaining: 487ms\n",
      "20:\tlearn: 1615.4291475\ttotal: 171ms\tremaining: 479ms\n",
      "21:\tlearn: 1604.4477803\ttotal: 180ms\tremaining: 473ms\n",
      "22:\tlearn: 1593.0248893\ttotal: 188ms\tremaining: 467ms\n",
      "23:\tlearn: 1585.1080366\ttotal: 197ms\tremaining: 459ms\n",
      "24:\tlearn: 1575.4913962\ttotal: 205ms\tremaining: 451ms\n",
      "25:\tlearn: 1566.8457850\ttotal: 213ms\tremaining: 443ms\n",
      "26:\tlearn: 1560.8362221\ttotal: 222ms\tremaining: 436ms\n",
      "27:\tlearn: 1553.8493475\ttotal: 231ms\tremaining: 428ms\n",
      "28:\tlearn: 1549.2081733\ttotal: 239ms\tremaining: 421ms\n",
      "29:\tlearn: 1542.3004521\ttotal: 248ms\tremaining: 413ms\n",
      "30:\tlearn: 1537.8263202\ttotal: 257ms\tremaining: 407ms\n",
      "31:\tlearn: 1532.6448522\ttotal: 266ms\tremaining: 399ms\n",
      "32:\tlearn: 1527.8281851\ttotal: 276ms\tremaining: 392ms\n",
      "33:\tlearn: 1522.5547466\ttotal: 284ms\tremaining: 384ms\n",
      "34:\tlearn: 1518.0380360\ttotal: 293ms\tremaining: 377ms\n",
      "35:\tlearn: 1514.0344030\ttotal: 301ms\tremaining: 368ms\n",
      "36:\tlearn: 1509.1311128\ttotal: 310ms\tremaining: 360ms\n",
      "37:\tlearn: 1504.9759758\ttotal: 319ms\tremaining: 353ms\n",
      "38:\tlearn: 1501.3166434\ttotal: 329ms\tremaining: 346ms\n",
      "39:\tlearn: 1498.3818374\ttotal: 337ms\tremaining: 337ms\n",
      "40:\tlearn: 1493.9097641\ttotal: 346ms\tremaining: 329ms\n",
      "41:\tlearn: 1491.6912978\ttotal: 353ms\tremaining: 320ms\n",
      "42:\tlearn: 1488.5749240\ttotal: 362ms\tremaining: 312ms\n",
      "43:\tlearn: 1485.7246811\ttotal: 370ms\tremaining: 303ms\n",
      "44:\tlearn: 1483.7076673\ttotal: 378ms\tremaining: 294ms\n",
      "45:\tlearn: 1481.9659043\ttotal: 387ms\tremaining: 286ms\n",
      "46:\tlearn: 1479.1397254\ttotal: 397ms\tremaining: 279ms\n",
      "47:\tlearn: 1477.2661394\ttotal: 405ms\tremaining: 270ms\n",
      "48:\tlearn: 1475.2088678\ttotal: 414ms\tremaining: 262ms\n",
      "49:\tlearn: 1473.6057101\ttotal: 423ms\tremaining: 254ms\n",
      "50:\tlearn: 1470.6467171\ttotal: 432ms\tremaining: 246ms\n",
      "51:\tlearn: 1469.0345217\ttotal: 441ms\tremaining: 238ms\n",
      "52:\tlearn: 1466.7160087\ttotal: 452ms\tremaining: 230ms\n",
      "53:\tlearn: 1464.1698082\ttotal: 460ms\tremaining: 221ms\n",
      "54:\tlearn: 1461.7174147\ttotal: 468ms\tremaining: 213ms\n",
      "55:\tlearn: 1460.2608949\ttotal: 477ms\tremaining: 204ms\n",
      "56:\tlearn: 1458.2366276\ttotal: 485ms\tremaining: 196ms\n",
      "57:\tlearn: 1456.5674053\ttotal: 494ms\tremaining: 188ms\n",
      "58:\tlearn: 1455.2394093\ttotal: 503ms\tremaining: 179ms\n",
      "59:\tlearn: 1453.4307711\ttotal: 512ms\tremaining: 171ms\n",
      "60:\tlearn: 1451.9285767\ttotal: 520ms\tremaining: 162ms\n",
      "61:\tlearn: 1450.1220401\ttotal: 528ms\tremaining: 153ms\n",
      "62:\tlearn: 1449.0492106\ttotal: 536ms\tremaining: 145ms\n",
      "63:\tlearn: 1446.2065634\ttotal: 545ms\tremaining: 136ms\n",
      "64:\tlearn: 1444.9509508\ttotal: 554ms\tremaining: 128ms\n",
      "65:\tlearn: 1443.3412291\ttotal: 561ms\tremaining: 119ms\n",
      "66:\tlearn: 1441.9018970\ttotal: 570ms\tremaining: 111ms\n",
      "67:\tlearn: 1440.8912952\ttotal: 578ms\tremaining: 102ms\n",
      "68:\tlearn: 1439.2337714\ttotal: 587ms\tremaining: 93.6ms\n",
      "69:\tlearn: 1438.3624991\ttotal: 595ms\tremaining: 85ms\n",
      "70:\tlearn: 1436.4991045\ttotal: 604ms\tremaining: 76.6ms\n",
      "71:\tlearn: 1435.4798891\ttotal: 612ms\tremaining: 67.9ms\n",
      "72:\tlearn: 1433.2577213\ttotal: 620ms\tremaining: 59.4ms\n",
      "73:\tlearn: 1431.6152526\ttotal: 628ms\tremaining: 50.9ms\n",
      "74:\tlearn: 1430.8590495\ttotal: 636ms\tremaining: 42.4ms\n",
      "75:\tlearn: 1429.8330715\ttotal: 644ms\tremaining: 33.9ms\n",
      "76:\tlearn: 1428.8412829\ttotal: 653ms\tremaining: 25.4ms\n",
      "77:\tlearn: 1426.6917088\ttotal: 662ms\tremaining: 17ms\n",
      "78:\tlearn: 1425.9885929\ttotal: 670ms\tremaining: 8.48ms\n",
      "79:\tlearn: 1424.7946350\ttotal: 679ms\tremaining: 0us\n",
      "0:\tlearn: 3050.8687181\ttotal: 9.35ms\tremaining: 832ms\n",
      "1:\tlearn: 2798.0311029\ttotal: 17.3ms\tremaining: 762ms\n",
      "2:\tlearn: 2594.9803635\ttotal: 27.8ms\tremaining: 807ms\n",
      "3:\tlearn: 2426.6989768\ttotal: 36.4ms\tremaining: 782ms\n",
      "4:\tlearn: 2285.5344193\ttotal: 45.6ms\tremaining: 775ms\n",
      "5:\tlearn: 2180.3625565\ttotal: 53.6ms\tremaining: 751ms\n",
      "6:\tlearn: 2086.8143498\ttotal: 61.6ms\tremaining: 731ms\n",
      "7:\tlearn: 2010.2396476\ttotal: 69.7ms\tremaining: 714ms\n",
      "8:\tlearn: 1947.3687053\ttotal: 77.4ms\tremaining: 697ms\n",
      "9:\tlearn: 1898.2063028\ttotal: 85.8ms\tremaining: 686ms\n",
      "10:\tlearn: 1850.9635180\ttotal: 93.8ms\tremaining: 674ms\n",
      "11:\tlearn: 1816.8025774\ttotal: 102ms\tremaining: 665ms\n",
      "12:\tlearn: 1774.9927276\ttotal: 111ms\tremaining: 655ms\n",
      "13:\tlearn: 1747.8150619\ttotal: 119ms\tremaining: 646ms\n",
      "14:\tlearn: 1716.9469356\ttotal: 127ms\tremaining: 635ms\n",
      "15:\tlearn: 1689.1294222\ttotal: 136ms\tremaining: 628ms\n",
      "16:\tlearn: 1669.7735112\ttotal: 144ms\tremaining: 618ms\n",
      "17:\tlearn: 1653.2260364\ttotal: 152ms\tremaining: 607ms\n",
      "18:\tlearn: 1635.5905195\ttotal: 159ms\tremaining: 596ms\n",
      "19:\tlearn: 1620.5941949\ttotal: 167ms\tremaining: 586ms\n",
      "20:\tlearn: 1609.2705780\ttotal: 176ms\tremaining: 579ms\n",
      "21:\tlearn: 1597.9003498\ttotal: 184ms\tremaining: 569ms\n",
      "22:\tlearn: 1588.5928525\ttotal: 192ms\tremaining: 560ms\n",
      "23:\tlearn: 1575.3315032\ttotal: 201ms\tremaining: 552ms\n",
      "24:\tlearn: 1566.5686126\ttotal: 209ms\tremaining: 542ms\n",
      "25:\tlearn: 1558.5507879\ttotal: 218ms\tremaining: 537ms\n",
      "26:\tlearn: 1551.2933201\ttotal: 226ms\tremaining: 527ms\n",
      "27:\tlearn: 1546.1538122\ttotal: 235ms\tremaining: 520ms\n",
      "28:\tlearn: 1539.6010875\ttotal: 243ms\tremaining: 510ms\n",
      "29:\tlearn: 1534.5804976\ttotal: 251ms\tremaining: 503ms\n",
      "30:\tlearn: 1529.4223034\ttotal: 259ms\tremaining: 493ms\n",
      "31:\tlearn: 1525.1075122\ttotal: 267ms\tremaining: 484ms\n",
      "32:\tlearn: 1519.9425782\ttotal: 275ms\tremaining: 475ms\n",
      "33:\tlearn: 1516.8142444\ttotal: 283ms\tremaining: 466ms\n",
      "34:\tlearn: 1513.3241611\ttotal: 292ms\tremaining: 458ms\n",
      "35:\tlearn: 1509.2228029\ttotal: 300ms\tremaining: 450ms\n",
      "36:\tlearn: 1505.2246134\ttotal: 308ms\tremaining: 441ms\n",
      "37:\tlearn: 1502.2472717\ttotal: 316ms\tremaining: 433ms\n",
      "38:\tlearn: 1499.6523825\ttotal: 324ms\tremaining: 424ms\n",
      "39:\tlearn: 1495.0224298\ttotal: 333ms\tremaining: 417ms\n",
      "40:\tlearn: 1492.5984154\ttotal: 342ms\tremaining: 408ms\n",
      "41:\tlearn: 1489.8860495\ttotal: 351ms\tremaining: 401ms\n",
      "42:\tlearn: 1487.8315440\ttotal: 359ms\tremaining: 392ms\n",
      "43:\tlearn: 1485.1789960\ttotal: 368ms\tremaining: 385ms\n",
      "44:\tlearn: 1483.1665947\ttotal: 377ms\tremaining: 377ms\n",
      "45:\tlearn: 1481.4078238\ttotal: 385ms\tremaining: 368ms\n",
      "46:\tlearn: 1479.6789381\ttotal: 394ms\tremaining: 360ms\n",
      "47:\tlearn: 1478.0411221\ttotal: 401ms\tremaining: 351ms\n",
      "48:\tlearn: 1476.2260062\ttotal: 410ms\tremaining: 343ms\n",
      "49:\tlearn: 1474.1508582\ttotal: 420ms\tremaining: 336ms\n",
      "50:\tlearn: 1471.4798092\ttotal: 429ms\tremaining: 328ms\n",
      "51:\tlearn: 1468.7357279\ttotal: 438ms\tremaining: 320ms\n",
      "52:\tlearn: 1467.0186222\ttotal: 446ms\tremaining: 312ms\n",
      "53:\tlearn: 1465.2776860\ttotal: 455ms\tremaining: 303ms\n",
      "54:\tlearn: 1463.5534464\ttotal: 463ms\tremaining: 295ms\n",
      "55:\tlearn: 1461.9834273\ttotal: 471ms\tremaining: 286ms\n",
      "56:\tlearn: 1459.5847435\ttotal: 480ms\tremaining: 278ms\n",
      "57:\tlearn: 1457.9025499\ttotal: 488ms\tremaining: 269ms\n",
      "58:\tlearn: 1456.7269014\ttotal: 497ms\tremaining: 261ms\n",
      "59:\tlearn: 1454.2611738\ttotal: 506ms\tremaining: 253ms\n",
      "60:\tlearn: 1452.5677891\ttotal: 514ms\tremaining: 244ms\n",
      "61:\tlearn: 1451.3857446\ttotal: 522ms\tremaining: 236ms\n",
      "62:\tlearn: 1449.8414431\ttotal: 531ms\tremaining: 227ms\n",
      "63:\tlearn: 1446.7544388\ttotal: 555ms\tremaining: 225ms\n",
      "64:\tlearn: 1444.5757377\ttotal: 563ms\tremaining: 216ms\n",
      "65:\tlearn: 1442.9027034\ttotal: 572ms\tremaining: 208ms\n",
      "66:\tlearn: 1441.3426784\ttotal: 580ms\tremaining: 199ms\n",
      "67:\tlearn: 1440.3203133\ttotal: 589ms\tremaining: 190ms\n",
      "68:\tlearn: 1438.7649260\ttotal: 597ms\tremaining: 182ms\n",
      "69:\tlearn: 1437.6250314\ttotal: 605ms\tremaining: 173ms\n",
      "70:\tlearn: 1436.7993016\ttotal: 614ms\tremaining: 164ms\n",
      "71:\tlearn: 1435.5879053\ttotal: 622ms\tremaining: 156ms\n",
      "72:\tlearn: 1434.2273550\ttotal: 631ms\tremaining: 147ms\n",
      "73:\tlearn: 1433.2608547\ttotal: 639ms\tremaining: 138ms\n",
      "74:\tlearn: 1431.5331652\ttotal: 649ms\tremaining: 130ms\n",
      "75:\tlearn: 1430.2402346\ttotal: 658ms\tremaining: 121ms\n",
      "76:\tlearn: 1429.5313323\ttotal: 666ms\tremaining: 112ms\n",
      "77:\tlearn: 1428.6777723\ttotal: 674ms\tremaining: 104ms\n",
      "78:\tlearn: 1427.5736561\ttotal: 682ms\tremaining: 95ms\n",
      "79:\tlearn: 1426.3220785\ttotal: 692ms\tremaining: 86.5ms\n",
      "80:\tlearn: 1424.8228392\ttotal: 700ms\tremaining: 77.8ms\n",
      "81:\tlearn: 1423.4981894\ttotal: 709ms\tremaining: 69.2ms\n",
      "82:\tlearn: 1422.5494777\ttotal: 718ms\tremaining: 60.5ms\n",
      "83:\tlearn: 1420.6503466\ttotal: 726ms\tremaining: 51.9ms\n",
      "84:\tlearn: 1419.9109427\ttotal: 734ms\tremaining: 43.2ms\n",
      "85:\tlearn: 1418.9960843\ttotal: 742ms\tremaining: 34.5ms\n",
      "86:\tlearn: 1417.6218020\ttotal: 751ms\tremaining: 25.9ms\n",
      "87:\tlearn: 1416.8935683\ttotal: 759ms\tremaining: 17.2ms\n",
      "88:\tlearn: 1415.4595828\ttotal: 767ms\tremaining: 8.62ms\n",
      "89:\tlearn: 1414.0605623\ttotal: 775ms\tremaining: 0us\n",
      "0:\tlearn: 3043.5249304\ttotal: 9.04ms\tremaining: 805ms\n",
      "1:\tlearn: 2803.4640418\ttotal: 18.3ms\tremaining: 804ms\n",
      "2:\tlearn: 2603.6388709\ttotal: 26.8ms\tremaining: 778ms\n",
      "3:\tlearn: 2427.5989121\ttotal: 35.9ms\tremaining: 772ms\n",
      "4:\tlearn: 2292.7728975\ttotal: 44.3ms\tremaining: 753ms\n",
      "5:\tlearn: 2175.6372756\ttotal: 52.9ms\tremaining: 741ms\n",
      "6:\tlearn: 2089.5112380\ttotal: 61.2ms\tremaining: 726ms\n",
      "7:\tlearn: 2012.9301395\ttotal: 70.4ms\tremaining: 721ms\n",
      "8:\tlearn: 1945.6740129\ttotal: 78ms\tremaining: 702ms\n",
      "9:\tlearn: 1895.1478628\ttotal: 86.5ms\tremaining: 692ms\n",
      "10:\tlearn: 1852.1107065\ttotal: 94.3ms\tremaining: 677ms\n",
      "11:\tlearn: 1815.7962687\ttotal: 104ms\tremaining: 673ms\n",
      "12:\tlearn: 1776.1704559\ttotal: 112ms\tremaining: 664ms\n",
      "13:\tlearn: 1746.4780999\ttotal: 121ms\tremaining: 657ms\n",
      "14:\tlearn: 1723.8596654\ttotal: 129ms\tremaining: 644ms\n",
      "15:\tlearn: 1699.6226100\ttotal: 138ms\tremaining: 639ms\n",
      "16:\tlearn: 1681.2103706\ttotal: 147ms\tremaining: 633ms\n",
      "17:\tlearn: 1661.3765502\ttotal: 156ms\tremaining: 623ms\n",
      "18:\tlearn: 1643.4588536\ttotal: 164ms\tremaining: 612ms\n",
      "19:\tlearn: 1629.8284828\ttotal: 172ms\tremaining: 600ms\n",
      "20:\tlearn: 1615.4291475\ttotal: 180ms\tremaining: 592ms\n",
      "21:\tlearn: 1604.4477803\ttotal: 189ms\tremaining: 585ms\n",
      "22:\tlearn: 1593.0248893\ttotal: 198ms\tremaining: 577ms\n",
      "23:\tlearn: 1585.1080366\ttotal: 207ms\tremaining: 571ms\n",
      "24:\tlearn: 1575.4913962\ttotal: 217ms\tremaining: 565ms\n",
      "25:\tlearn: 1566.8457850\ttotal: 227ms\tremaining: 560ms\n",
      "26:\tlearn: 1560.8362221\ttotal: 236ms\tremaining: 550ms\n",
      "27:\tlearn: 1553.8493475\ttotal: 246ms\tremaining: 545ms\n",
      "28:\tlearn: 1549.2081733\ttotal: 255ms\tremaining: 536ms\n",
      "29:\tlearn: 1542.3004521\ttotal: 264ms\tremaining: 527ms\n",
      "30:\tlearn: 1537.8263202\ttotal: 272ms\tremaining: 518ms\n",
      "31:\tlearn: 1532.6448522\ttotal: 281ms\tremaining: 509ms\n",
      "32:\tlearn: 1527.8281851\ttotal: 290ms\tremaining: 501ms\n",
      "33:\tlearn: 1522.5547466\ttotal: 299ms\tremaining: 492ms\n",
      "34:\tlearn: 1518.0380360\ttotal: 308ms\tremaining: 484ms\n",
      "35:\tlearn: 1514.0344030\ttotal: 316ms\tremaining: 475ms\n",
      "36:\tlearn: 1509.1311128\ttotal: 325ms\tremaining: 465ms\n",
      "37:\tlearn: 1504.9759758\ttotal: 334ms\tremaining: 457ms\n",
      "38:\tlearn: 1501.3166434\ttotal: 344ms\tremaining: 450ms\n",
      "39:\tlearn: 1498.3818374\ttotal: 353ms\tremaining: 441ms\n",
      "40:\tlearn: 1493.9097641\ttotal: 361ms\tremaining: 432ms\n",
      "41:\tlearn: 1491.6912978\ttotal: 370ms\tremaining: 423ms\n",
      "42:\tlearn: 1488.5749240\ttotal: 379ms\tremaining: 414ms\n",
      "43:\tlearn: 1485.7246811\ttotal: 387ms\tremaining: 405ms\n",
      "44:\tlearn: 1483.7076673\ttotal: 396ms\tremaining: 396ms\n",
      "45:\tlearn: 1481.9659043\ttotal: 404ms\tremaining: 387ms\n",
      "46:\tlearn: 1479.1397254\ttotal: 415ms\tremaining: 379ms\n",
      "47:\tlearn: 1477.2661394\ttotal: 423ms\tremaining: 371ms\n",
      "48:\tlearn: 1475.2088678\ttotal: 432ms\tremaining: 362ms\n",
      "49:\tlearn: 1473.6057101\ttotal: 441ms\tremaining: 353ms\n",
      "50:\tlearn: 1470.6467171\ttotal: 449ms\tremaining: 343ms\n",
      "51:\tlearn: 1469.0345217\ttotal: 458ms\tremaining: 334ms\n",
      "52:\tlearn: 1466.7160087\ttotal: 466ms\tremaining: 325ms\n",
      "53:\tlearn: 1464.1698082\ttotal: 475ms\tremaining: 316ms\n",
      "54:\tlearn: 1461.7174147\ttotal: 483ms\tremaining: 307ms\n",
      "55:\tlearn: 1460.2608949\ttotal: 492ms\tremaining: 299ms\n",
      "56:\tlearn: 1458.2366276\ttotal: 500ms\tremaining: 289ms\n",
      "57:\tlearn: 1456.5674053\ttotal: 509ms\tremaining: 281ms\n",
      "58:\tlearn: 1455.2394093\ttotal: 517ms\tremaining: 272ms\n",
      "59:\tlearn: 1453.4307711\ttotal: 526ms\tremaining: 263ms\n",
      "60:\tlearn: 1451.9285767\ttotal: 535ms\tremaining: 254ms\n",
      "61:\tlearn: 1450.1220401\ttotal: 543ms\tremaining: 245ms\n",
      "62:\tlearn: 1449.0492106\ttotal: 552ms\tremaining: 237ms\n",
      "63:\tlearn: 1446.2065634\ttotal: 561ms\tremaining: 228ms\n",
      "64:\tlearn: 1444.9509508\ttotal: 569ms\tremaining: 219ms\n",
      "65:\tlearn: 1443.3412291\ttotal: 577ms\tremaining: 210ms\n",
      "66:\tlearn: 1441.9018970\ttotal: 586ms\tremaining: 201ms\n",
      "67:\tlearn: 1440.8912952\ttotal: 594ms\tremaining: 192ms\n",
      "68:\tlearn: 1439.2337714\ttotal: 602ms\tremaining: 183ms\n",
      "69:\tlearn: 1438.3624991\ttotal: 611ms\tremaining: 175ms\n",
      "70:\tlearn: 1436.4991045\ttotal: 619ms\tremaining: 166ms\n",
      "71:\tlearn: 1435.4798891\ttotal: 628ms\tremaining: 157ms\n",
      "72:\tlearn: 1433.2577213\ttotal: 636ms\tremaining: 148ms\n",
      "73:\tlearn: 1431.6152526\ttotal: 645ms\tremaining: 140ms\n",
      "74:\tlearn: 1430.8590495\ttotal: 654ms\tremaining: 131ms\n",
      "75:\tlearn: 1429.8330715\ttotal: 662ms\tremaining: 122ms\n",
      "76:\tlearn: 1428.8412829\ttotal: 670ms\tremaining: 113ms\n",
      "77:\tlearn: 1426.6917088\ttotal: 678ms\tremaining: 104ms\n",
      "78:\tlearn: 1425.9885929\ttotal: 686ms\tremaining: 95.6ms\n",
      "79:\tlearn: 1424.7946350\ttotal: 695ms\tremaining: 86.8ms\n",
      "80:\tlearn: 1423.4464398\ttotal: 704ms\tremaining: 78.2ms\n",
      "81:\tlearn: 1422.0969669\ttotal: 713ms\tremaining: 69.5ms\n",
      "82:\tlearn: 1421.3470470\ttotal: 721ms\tremaining: 60.8ms\n",
      "83:\tlearn: 1420.6619648\ttotal: 729ms\tremaining: 52.1ms\n",
      "84:\tlearn: 1419.8298996\ttotal: 738ms\tremaining: 43.4ms\n",
      "85:\tlearn: 1418.2180738\ttotal: 746ms\tremaining: 34.7ms\n",
      "86:\tlearn: 1417.1019524\ttotal: 754ms\tremaining: 26ms\n",
      "87:\tlearn: 1415.4912044\ttotal: 763ms\tremaining: 17.3ms\n",
      "88:\tlearn: 1414.9529302\ttotal: 771ms\tremaining: 8.66ms\n",
      "89:\tlearn: 1414.1512588\ttotal: 779ms\tremaining: 0us\n",
      "0:\tlearn: 3050.8687181\ttotal: 9.31ms\tremaining: 922ms\n",
      "1:\tlearn: 2798.0311029\ttotal: 17.8ms\tremaining: 870ms\n",
      "2:\tlearn: 2594.9803635\ttotal: 27.5ms\tremaining: 889ms\n",
      "3:\tlearn: 2426.6989768\ttotal: 36.3ms\tremaining: 870ms\n",
      "4:\tlearn: 2285.5344193\ttotal: 46.3ms\tremaining: 880ms\n",
      "5:\tlearn: 2180.3625565\ttotal: 54.6ms\tremaining: 855ms\n",
      "6:\tlearn: 2086.8143498\ttotal: 63.5ms\tremaining: 843ms\n",
      "7:\tlearn: 2010.2396476\ttotal: 71.8ms\tremaining: 826ms\n",
      "8:\tlearn: 1947.3687053\ttotal: 80.5ms\tremaining: 814ms\n",
      "9:\tlearn: 1898.2063028\ttotal: 88.7ms\tremaining: 798ms\n",
      "10:\tlearn: 1850.9635180\ttotal: 97.8ms\tremaining: 791ms\n",
      "11:\tlearn: 1816.8025774\ttotal: 106ms\tremaining: 776ms\n",
      "12:\tlearn: 1774.9927276\ttotal: 115ms\tremaining: 770ms\n",
      "13:\tlearn: 1747.8150619\ttotal: 123ms\tremaining: 753ms\n",
      "14:\tlearn: 1716.9469356\ttotal: 131ms\tremaining: 745ms\n",
      "15:\tlearn: 1689.1294222\ttotal: 140ms\tremaining: 734ms\n",
      "16:\tlearn: 1669.7735112\ttotal: 149ms\tremaining: 725ms\n",
      "17:\tlearn: 1653.2260364\ttotal: 158ms\tremaining: 718ms\n",
      "18:\tlearn: 1635.5905195\ttotal: 165ms\tremaining: 703ms\n",
      "19:\tlearn: 1620.5941949\ttotal: 173ms\tremaining: 692ms\n",
      "20:\tlearn: 1609.2705780\ttotal: 182ms\tremaining: 685ms\n",
      "21:\tlearn: 1597.9003498\ttotal: 190ms\tremaining: 675ms\n",
      "22:\tlearn: 1588.5928525\ttotal: 199ms\tremaining: 666ms\n",
      "23:\tlearn: 1575.3315032\ttotal: 208ms\tremaining: 659ms\n",
      "24:\tlearn: 1566.5686126\ttotal: 216ms\tremaining: 649ms\n",
      "25:\tlearn: 1558.5507879\ttotal: 226ms\tremaining: 643ms\n",
      "26:\tlearn: 1551.2933201\ttotal: 234ms\tremaining: 634ms\n",
      "27:\tlearn: 1546.1538122\ttotal: 244ms\tremaining: 626ms\n",
      "28:\tlearn: 1539.6010875\ttotal: 252ms\tremaining: 617ms\n",
      "29:\tlearn: 1534.5804976\ttotal: 261ms\tremaining: 609ms\n",
      "30:\tlearn: 1529.4223034\ttotal: 270ms\tremaining: 602ms\n",
      "31:\tlearn: 1525.1075122\ttotal: 278ms\tremaining: 591ms\n",
      "32:\tlearn: 1519.9425782\ttotal: 287ms\tremaining: 583ms\n",
      "33:\tlearn: 1516.8142444\ttotal: 296ms\tremaining: 574ms\n",
      "34:\tlearn: 1513.3241611\ttotal: 304ms\tremaining: 565ms\n",
      "35:\tlearn: 1509.2228029\ttotal: 313ms\tremaining: 556ms\n",
      "36:\tlearn: 1505.2246134\ttotal: 321ms\tremaining: 547ms\n",
      "37:\tlearn: 1502.2472717\ttotal: 329ms\tremaining: 537ms\n",
      "38:\tlearn: 1499.6523825\ttotal: 338ms\tremaining: 528ms\n",
      "39:\tlearn: 1495.0224298\ttotal: 346ms\tremaining: 520ms\n",
      "40:\tlearn: 1492.5984154\ttotal: 355ms\tremaining: 511ms\n",
      "41:\tlearn: 1489.8860495\ttotal: 363ms\tremaining: 502ms\n",
      "42:\tlearn: 1487.8315440\ttotal: 373ms\tremaining: 494ms\n",
      "43:\tlearn: 1485.1789960\ttotal: 380ms\tremaining: 484ms\n",
      "44:\tlearn: 1483.1665947\ttotal: 389ms\tremaining: 476ms\n",
      "45:\tlearn: 1481.4078238\ttotal: 398ms\tremaining: 467ms\n",
      "46:\tlearn: 1479.6789381\ttotal: 406ms\tremaining: 458ms\n",
      "47:\tlearn: 1478.0411221\ttotal: 414ms\tremaining: 448ms\n",
      "48:\tlearn: 1476.2260062\ttotal: 422ms\tremaining: 440ms\n",
      "49:\tlearn: 1474.1508582\ttotal: 431ms\tremaining: 431ms\n",
      "50:\tlearn: 1471.4798092\ttotal: 441ms\tremaining: 423ms\n",
      "51:\tlearn: 1468.7357279\ttotal: 450ms\tremaining: 415ms\n",
      "52:\tlearn: 1467.0186222\ttotal: 458ms\tremaining: 406ms\n",
      "53:\tlearn: 1465.2776860\ttotal: 467ms\tremaining: 398ms\n",
      "54:\tlearn: 1463.5534464\ttotal: 476ms\tremaining: 389ms\n",
      "55:\tlearn: 1461.9834273\ttotal: 485ms\tremaining: 381ms\n",
      "56:\tlearn: 1459.5847435\ttotal: 493ms\tremaining: 372ms\n",
      "57:\tlearn: 1457.9025499\ttotal: 502ms\tremaining: 363ms\n",
      "58:\tlearn: 1456.7269014\ttotal: 510ms\tremaining: 355ms\n",
      "59:\tlearn: 1454.2611738\ttotal: 519ms\tremaining: 346ms\n",
      "60:\tlearn: 1452.5677891\ttotal: 527ms\tremaining: 337ms\n",
      "61:\tlearn: 1451.3857446\ttotal: 535ms\tremaining: 328ms\n",
      "62:\tlearn: 1449.8414431\ttotal: 544ms\tremaining: 320ms\n",
      "63:\tlearn: 1446.7544388\ttotal: 553ms\tremaining: 311ms\n",
      "64:\tlearn: 1444.5757377\ttotal: 562ms\tremaining: 303ms\n",
      "65:\tlearn: 1442.9027034\ttotal: 571ms\tremaining: 294ms\n",
      "66:\tlearn: 1441.3426784\ttotal: 580ms\tremaining: 285ms\n",
      "67:\tlearn: 1440.3203133\ttotal: 588ms\tremaining: 277ms\n",
      "68:\tlearn: 1438.7649260\ttotal: 597ms\tremaining: 268ms\n",
      "69:\tlearn: 1437.6250314\ttotal: 605ms\tremaining: 259ms\n",
      "70:\tlearn: 1436.7993016\ttotal: 614ms\tremaining: 251ms\n",
      "71:\tlearn: 1435.5879053\ttotal: 623ms\tremaining: 242ms\n",
      "72:\tlearn: 1434.2273550\ttotal: 632ms\tremaining: 234ms\n",
      "73:\tlearn: 1433.2608547\ttotal: 640ms\tremaining: 225ms\n",
      "74:\tlearn: 1431.5331652\ttotal: 650ms\tremaining: 217ms\n",
      "75:\tlearn: 1430.2402346\ttotal: 661ms\tremaining: 209ms\n",
      "76:\tlearn: 1429.5313323\ttotal: 670ms\tremaining: 200ms\n",
      "77:\tlearn: 1428.6777723\ttotal: 679ms\tremaining: 191ms\n",
      "78:\tlearn: 1427.5736561\ttotal: 688ms\tremaining: 183ms\n",
      "79:\tlearn: 1426.3220785\ttotal: 697ms\tremaining: 174ms\n",
      "80:\tlearn: 1424.8228392\ttotal: 705ms\tremaining: 165ms\n",
      "81:\tlearn: 1423.4981894\ttotal: 714ms\tremaining: 157ms\n",
      "82:\tlearn: 1422.5494777\ttotal: 723ms\tremaining: 148ms\n",
      "83:\tlearn: 1420.6503466\ttotal: 732ms\tremaining: 140ms\n",
      "84:\tlearn: 1419.9109427\ttotal: 741ms\tremaining: 131ms\n",
      "85:\tlearn: 1418.9960843\ttotal: 750ms\tremaining: 122ms\n",
      "86:\tlearn: 1417.6218020\ttotal: 759ms\tremaining: 113ms\n",
      "87:\tlearn: 1416.8935683\ttotal: 777ms\tremaining: 106ms\n",
      "88:\tlearn: 1415.4595828\ttotal: 791ms\tremaining: 97.8ms\n",
      "89:\tlearn: 1414.0605623\ttotal: 802ms\tremaining: 89.2ms\n",
      "90:\tlearn: 1413.3267831\ttotal: 812ms\tremaining: 80.3ms\n",
      "91:\tlearn: 1412.7681025\ttotal: 821ms\tremaining: 71.4ms\n",
      "92:\tlearn: 1411.8205776\ttotal: 831ms\tremaining: 62.5ms\n",
      "93:\tlearn: 1411.1060475\ttotal: 839ms\tremaining: 53.6ms\n",
      "94:\tlearn: 1408.7976564\ttotal: 848ms\tremaining: 44.6ms\n",
      "95:\tlearn: 1407.4187863\ttotal: 858ms\tremaining: 35.7ms\n",
      "96:\tlearn: 1406.8562041\ttotal: 866ms\tremaining: 26.8ms\n",
      "97:\tlearn: 1406.2403868\ttotal: 876ms\tremaining: 17.9ms\n",
      "98:\tlearn: 1405.7221400\ttotal: 885ms\tremaining: 8.94ms\n",
      "99:\tlearn: 1404.0688314\ttotal: 894ms\tremaining: 0us\n",
      "0:\tlearn: 3043.5249304\ttotal: 9.74ms\tremaining: 965ms\n",
      "1:\tlearn: 2803.4640418\ttotal: 17.8ms\tremaining: 874ms\n",
      "2:\tlearn: 2603.6388709\ttotal: 26.1ms\tremaining: 846ms\n",
      "3:\tlearn: 2427.5989121\ttotal: 34.4ms\tremaining: 826ms\n",
      "4:\tlearn: 2292.7728975\ttotal: 42.8ms\tremaining: 813ms\n",
      "5:\tlearn: 2175.6372756\ttotal: 51.2ms\tremaining: 802ms\n",
      "6:\tlearn: 2089.5112380\ttotal: 59.4ms\tremaining: 789ms\n",
      "7:\tlearn: 2012.9301395\ttotal: 68.4ms\tremaining: 787ms\n",
      "8:\tlearn: 1945.6740129\ttotal: 76.8ms\tremaining: 777ms\n",
      "9:\tlearn: 1895.1478628\ttotal: 85.7ms\tremaining: 771ms\n",
      "10:\tlearn: 1852.1107065\ttotal: 93.7ms\tremaining: 758ms\n",
      "11:\tlearn: 1815.7962687\ttotal: 103ms\tremaining: 754ms\n",
      "12:\tlearn: 1776.1704559\ttotal: 111ms\tremaining: 743ms\n",
      "13:\tlearn: 1746.4780999\ttotal: 120ms\tremaining: 735ms\n",
      "14:\tlearn: 1723.8596654\ttotal: 127ms\tremaining: 722ms\n",
      "15:\tlearn: 1699.6226100\ttotal: 137ms\tremaining: 718ms\n",
      "16:\tlearn: 1681.2103706\ttotal: 145ms\tremaining: 708ms\n",
      "17:\tlearn: 1661.3765502\ttotal: 154ms\tremaining: 703ms\n",
      "18:\tlearn: 1643.4588536\ttotal: 162ms\tremaining: 689ms\n",
      "19:\tlearn: 1629.8284828\ttotal: 171ms\tremaining: 683ms\n",
      "20:\tlearn: 1615.4291475\ttotal: 179ms\tremaining: 672ms\n",
      "21:\tlearn: 1604.4477803\ttotal: 188ms\tremaining: 666ms\n",
      "22:\tlearn: 1593.0248893\ttotal: 196ms\tremaining: 656ms\n",
      "23:\tlearn: 1585.1080366\ttotal: 205ms\tremaining: 650ms\n",
      "24:\tlearn: 1575.4913962\ttotal: 214ms\tremaining: 643ms\n",
      "25:\tlearn: 1566.8457850\ttotal: 223ms\tremaining: 633ms\n",
      "26:\tlearn: 1560.8362221\ttotal: 231ms\tremaining: 625ms\n",
      "27:\tlearn: 1553.8493475\ttotal: 240ms\tremaining: 617ms\n",
      "28:\tlearn: 1549.2081733\ttotal: 249ms\tremaining: 609ms\n",
      "29:\tlearn: 1542.3004521\ttotal: 257ms\tremaining: 599ms\n",
      "30:\tlearn: 1537.8263202\ttotal: 265ms\tremaining: 591ms\n",
      "31:\tlearn: 1532.6448522\ttotal: 274ms\tremaining: 582ms\n",
      "32:\tlearn: 1527.8281851\ttotal: 283ms\tremaining: 576ms\n",
      "33:\tlearn: 1522.5547466\ttotal: 292ms\tremaining: 566ms\n",
      "34:\tlearn: 1518.0380360\ttotal: 301ms\tremaining: 559ms\n",
      "35:\tlearn: 1514.0344030\ttotal: 311ms\tremaining: 553ms\n",
      "36:\tlearn: 1509.1311128\ttotal: 319ms\tremaining: 544ms\n",
      "37:\tlearn: 1504.9759758\ttotal: 329ms\tremaining: 536ms\n",
      "38:\tlearn: 1501.3166434\ttotal: 337ms\tremaining: 527ms\n",
      "39:\tlearn: 1498.3818374\ttotal: 346ms\tremaining: 518ms\n",
      "40:\tlearn: 1493.9097641\ttotal: 354ms\tremaining: 509ms\n",
      "41:\tlearn: 1491.6912978\ttotal: 362ms\tremaining: 500ms\n",
      "42:\tlearn: 1488.5749240\ttotal: 371ms\tremaining: 491ms\n",
      "43:\tlearn: 1485.7246811\ttotal: 379ms\tremaining: 483ms\n",
      "44:\tlearn: 1483.7076673\ttotal: 387ms\tremaining: 473ms\n",
      "45:\tlearn: 1481.9659043\ttotal: 396ms\tremaining: 465ms\n",
      "46:\tlearn: 1479.1397254\ttotal: 404ms\tremaining: 456ms\n",
      "47:\tlearn: 1477.2661394\ttotal: 414ms\tremaining: 448ms\n",
      "48:\tlearn: 1475.2088678\ttotal: 422ms\tremaining: 439ms\n",
      "49:\tlearn: 1473.6057101\ttotal: 431ms\tremaining: 431ms\n",
      "50:\tlearn: 1470.6467171\ttotal: 440ms\tremaining: 423ms\n",
      "51:\tlearn: 1469.0345217\ttotal: 448ms\tremaining: 414ms\n",
      "52:\tlearn: 1466.7160087\ttotal: 458ms\tremaining: 406ms\n",
      "53:\tlearn: 1464.1698082\ttotal: 466ms\tremaining: 397ms\n",
      "54:\tlearn: 1461.7174147\ttotal: 475ms\tremaining: 389ms\n",
      "55:\tlearn: 1460.2608949\ttotal: 483ms\tremaining: 380ms\n",
      "56:\tlearn: 1458.2366276\ttotal: 493ms\tremaining: 372ms\n",
      "57:\tlearn: 1456.5674053\ttotal: 501ms\tremaining: 363ms\n",
      "58:\tlearn: 1455.2394093\ttotal: 511ms\tremaining: 355ms\n",
      "59:\tlearn: 1453.4307711\ttotal: 519ms\tremaining: 346ms\n",
      "60:\tlearn: 1451.9285767\ttotal: 528ms\tremaining: 337ms\n",
      "61:\tlearn: 1450.1220401\ttotal: 537ms\tremaining: 329ms\n",
      "62:\tlearn: 1449.0492106\ttotal: 545ms\tremaining: 320ms\n",
      "63:\tlearn: 1446.2065634\ttotal: 555ms\tremaining: 312ms\n",
      "64:\tlearn: 1444.9509508\ttotal: 563ms\tremaining: 303ms\n",
      "65:\tlearn: 1443.3412291\ttotal: 572ms\tremaining: 295ms\n",
      "66:\tlearn: 1441.9018970\ttotal: 581ms\tremaining: 286ms\n",
      "67:\tlearn: 1440.8912952\ttotal: 589ms\tremaining: 277ms\n",
      "68:\tlearn: 1439.2337714\ttotal: 597ms\tremaining: 268ms\n",
      "69:\tlearn: 1438.3624991\ttotal: 607ms\tremaining: 260ms\n",
      "70:\tlearn: 1436.4991045\ttotal: 617ms\tremaining: 252ms\n",
      "71:\tlearn: 1435.4798891\ttotal: 626ms\tremaining: 243ms\n",
      "72:\tlearn: 1433.2577213\ttotal: 636ms\tremaining: 235ms\n",
      "73:\tlearn: 1431.6152526\ttotal: 645ms\tremaining: 227ms\n",
      "74:\tlearn: 1430.8590495\ttotal: 655ms\tremaining: 218ms\n",
      "75:\tlearn: 1429.8330715\ttotal: 665ms\tremaining: 210ms\n",
      "76:\tlearn: 1428.8412829\ttotal: 675ms\tremaining: 202ms\n",
      "77:\tlearn: 1426.6917088\ttotal: 684ms\tremaining: 193ms\n",
      "78:\tlearn: 1425.9885929\ttotal: 692ms\tremaining: 184ms\n",
      "79:\tlearn: 1424.7946350\ttotal: 702ms\tremaining: 176ms\n",
      "80:\tlearn: 1423.4464398\ttotal: 711ms\tremaining: 167ms\n",
      "81:\tlearn: 1422.0969669\ttotal: 720ms\tremaining: 158ms\n",
      "82:\tlearn: 1421.3470470\ttotal: 728ms\tremaining: 149ms\n",
      "83:\tlearn: 1420.6619648\ttotal: 737ms\tremaining: 140ms\n",
      "84:\tlearn: 1419.8298996\ttotal: 745ms\tremaining: 132ms\n",
      "85:\tlearn: 1418.2180738\ttotal: 754ms\tremaining: 123ms\n",
      "86:\tlearn: 1417.1019524\ttotal: 763ms\tremaining: 114ms\n",
      "87:\tlearn: 1415.4912044\ttotal: 773ms\tremaining: 105ms\n",
      "88:\tlearn: 1414.9529302\ttotal: 782ms\tremaining: 96.6ms\n",
      "89:\tlearn: 1414.1512588\ttotal: 790ms\tremaining: 87.8ms\n",
      "90:\tlearn: 1412.7749236\ttotal: 800ms\tremaining: 79.1ms\n",
      "91:\tlearn: 1411.7604524\ttotal: 808ms\tremaining: 70.3ms\n",
      "92:\tlearn: 1410.2318160\ttotal: 818ms\tremaining: 61.6ms\n",
      "93:\tlearn: 1409.0894331\ttotal: 827ms\tremaining: 52.8ms\n",
      "94:\tlearn: 1408.2210901\ttotal: 836ms\tremaining: 44ms\n",
      "95:\tlearn: 1407.5447620\ttotal: 846ms\tremaining: 35.2ms\n",
      "96:\tlearn: 1405.8567334\ttotal: 855ms\tremaining: 26.4ms\n",
      "97:\tlearn: 1403.7589438\ttotal: 864ms\tremaining: 17.6ms\n",
      "98:\tlearn: 1402.1697173\ttotal: 873ms\tremaining: 8.81ms\n",
      "99:\tlearn: 1401.2847814\ttotal: 882ms\tremaining: 0us\n",
      "0:\tlearn: 3050.8687181\ttotal: 8.69ms\tremaining: 947ms\n",
      "1:\tlearn: 2798.0311029\ttotal: 17ms\tremaining: 920ms\n",
      "2:\tlearn: 2594.9803635\ttotal: 26.4ms\tremaining: 941ms\n",
      "3:\tlearn: 2426.6989768\ttotal: 35.9ms\tremaining: 951ms\n",
      "4:\tlearn: 2285.5344193\ttotal: 45ms\tremaining: 946ms\n",
      "5:\tlearn: 2180.3625565\ttotal: 52.7ms\tremaining: 914ms\n",
      "6:\tlearn: 2086.8143498\ttotal: 61.7ms\tremaining: 908ms\n",
      "7:\tlearn: 2010.2396476\ttotal: 69.6ms\tremaining: 887ms\n",
      "8:\tlearn: 1947.3687053\ttotal: 78.3ms\tremaining: 879ms\n",
      "9:\tlearn: 1898.2063028\ttotal: 86.9ms\tremaining: 869ms\n",
      "10:\tlearn: 1850.9635180\ttotal: 95.7ms\tremaining: 862ms\n",
      "11:\tlearn: 1816.8025774\ttotal: 104ms\tremaining: 848ms\n",
      "12:\tlearn: 1774.9927276\ttotal: 114ms\tremaining: 848ms\n",
      "13:\tlearn: 1747.8150619\ttotal: 122ms\tremaining: 837ms\n",
      "14:\tlearn: 1716.9469356\ttotal: 131ms\tremaining: 829ms\n",
      "15:\tlearn: 1689.1294222\ttotal: 140ms\tremaining: 820ms\n",
      "16:\tlearn: 1669.7735112\ttotal: 148ms\tremaining: 811ms\n",
      "17:\tlearn: 1653.2260364\ttotal: 156ms\tremaining: 799ms\n",
      "18:\tlearn: 1635.5905195\ttotal: 165ms\tremaining: 789ms\n",
      "19:\tlearn: 1620.5941949\ttotal: 173ms\tremaining: 777ms\n",
      "20:\tlearn: 1609.2705780\ttotal: 181ms\tremaining: 767ms\n",
      "21:\tlearn: 1597.9003498\ttotal: 189ms\tremaining: 757ms\n",
      "22:\tlearn: 1588.5928525\ttotal: 198ms\tremaining: 748ms\n",
      "23:\tlearn: 1575.3315032\ttotal: 207ms\tremaining: 741ms\n",
      "24:\tlearn: 1566.5686126\ttotal: 216ms\tremaining: 734ms\n",
      "25:\tlearn: 1558.5507879\ttotal: 225ms\tremaining: 728ms\n",
      "26:\tlearn: 1551.2933201\ttotal: 234ms\tremaining: 718ms\n",
      "27:\tlearn: 1546.1538122\ttotal: 242ms\tremaining: 709ms\n",
      "28:\tlearn: 1539.6010875\ttotal: 250ms\tremaining: 699ms\n",
      "29:\tlearn: 1534.5804976\ttotal: 260ms\tremaining: 693ms\n",
      "30:\tlearn: 1529.4223034\ttotal: 268ms\tremaining: 682ms\n",
      "31:\tlearn: 1525.1075122\ttotal: 276ms\tremaining: 673ms\n",
      "32:\tlearn: 1519.9425782\ttotal: 284ms\tremaining: 663ms\n",
      "33:\tlearn: 1516.8142444\ttotal: 293ms\tremaining: 655ms\n",
      "34:\tlearn: 1513.3241611\ttotal: 302ms\tremaining: 648ms\n",
      "35:\tlearn: 1509.2228029\ttotal: 311ms\tremaining: 639ms\n",
      "36:\tlearn: 1505.2246134\ttotal: 319ms\tremaining: 629ms\n",
      "37:\tlearn: 1502.2472717\ttotal: 328ms\tremaining: 622ms\n",
      "38:\tlearn: 1499.6523825\ttotal: 337ms\tremaining: 614ms\n",
      "39:\tlearn: 1495.0224298\ttotal: 346ms\tremaining: 606ms\n",
      "40:\tlearn: 1492.5984154\ttotal: 356ms\tremaining: 599ms\n",
      "41:\tlearn: 1489.8860495\ttotal: 365ms\tremaining: 590ms\n",
      "42:\tlearn: 1487.8315440\ttotal: 373ms\tremaining: 581ms\n",
      "43:\tlearn: 1485.1789960\ttotal: 382ms\tremaining: 572ms\n",
      "44:\tlearn: 1483.1665947\ttotal: 391ms\tremaining: 565ms\n",
      "45:\tlearn: 1481.4078238\ttotal: 400ms\tremaining: 557ms\n",
      "46:\tlearn: 1479.6789381\ttotal: 409ms\tremaining: 548ms\n",
      "47:\tlearn: 1478.0411221\ttotal: 418ms\tremaining: 540ms\n",
      "48:\tlearn: 1476.2260062\ttotal: 428ms\tremaining: 533ms\n",
      "49:\tlearn: 1474.1508582\ttotal: 437ms\tremaining: 524ms\n",
      "50:\tlearn: 1471.4798092\ttotal: 446ms\tremaining: 516ms\n",
      "51:\tlearn: 1468.7357279\ttotal: 454ms\tremaining: 506ms\n",
      "52:\tlearn: 1467.0186222\ttotal: 462ms\tremaining: 497ms\n",
      "53:\tlearn: 1465.2776860\ttotal: 471ms\tremaining: 488ms\n",
      "54:\tlearn: 1463.5534464\ttotal: 479ms\tremaining: 479ms\n",
      "55:\tlearn: 1461.9834273\ttotal: 487ms\tremaining: 470ms\n",
      "56:\tlearn: 1459.5847435\ttotal: 496ms\tremaining: 461ms\n",
      "57:\tlearn: 1457.9025499\ttotal: 505ms\tremaining: 452ms\n",
      "58:\tlearn: 1456.7269014\ttotal: 513ms\tremaining: 444ms\n",
      "59:\tlearn: 1454.2611738\ttotal: 522ms\tremaining: 435ms\n",
      "60:\tlearn: 1452.5677891\ttotal: 530ms\tremaining: 426ms\n",
      "61:\tlearn: 1451.3857446\ttotal: 539ms\tremaining: 417ms\n",
      "62:\tlearn: 1449.8414431\ttotal: 547ms\tremaining: 408ms\n",
      "63:\tlearn: 1446.7544388\ttotal: 557ms\tremaining: 400ms\n",
      "64:\tlearn: 1444.5757377\ttotal: 565ms\tremaining: 391ms\n",
      "65:\tlearn: 1442.9027034\ttotal: 574ms\tremaining: 383ms\n",
      "66:\tlearn: 1441.3426784\ttotal: 583ms\tremaining: 374ms\n",
      "67:\tlearn: 1440.3203133\ttotal: 591ms\tremaining: 365ms\n",
      "68:\tlearn: 1438.7649260\ttotal: 600ms\tremaining: 357ms\n",
      "69:\tlearn: 1437.6250314\ttotal: 609ms\tremaining: 348ms\n",
      "70:\tlearn: 1436.7993016\ttotal: 618ms\tremaining: 339ms\n",
      "71:\tlearn: 1435.5879053\ttotal: 626ms\tremaining: 330ms\n",
      "72:\tlearn: 1434.2273550\ttotal: 634ms\tremaining: 322ms\n",
      "73:\tlearn: 1433.2608547\ttotal: 642ms\tremaining: 313ms\n",
      "74:\tlearn: 1431.5331652\ttotal: 651ms\tremaining: 304ms\n",
      "75:\tlearn: 1430.2402346\ttotal: 659ms\tremaining: 295ms\n",
      "76:\tlearn: 1429.5313323\ttotal: 668ms\tremaining: 286ms\n",
      "77:\tlearn: 1428.6777723\ttotal: 675ms\tremaining: 277ms\n",
      "78:\tlearn: 1427.5736561\ttotal: 684ms\tremaining: 268ms\n",
      "79:\tlearn: 1426.3220785\ttotal: 692ms\tremaining: 259ms\n",
      "80:\tlearn: 1424.8228392\ttotal: 700ms\tremaining: 251ms\n",
      "81:\tlearn: 1423.4981894\ttotal: 708ms\tremaining: 242ms\n",
      "82:\tlearn: 1422.5494777\ttotal: 717ms\tremaining: 233ms\n",
      "83:\tlearn: 1420.6503466\ttotal: 725ms\tremaining: 224ms\n",
      "84:\tlearn: 1419.9109427\ttotal: 733ms\tremaining: 215ms\n",
      "85:\tlearn: 1418.9960843\ttotal: 741ms\tremaining: 207ms\n",
      "86:\tlearn: 1417.6218020\ttotal: 749ms\tremaining: 198ms\n",
      "87:\tlearn: 1416.8935683\ttotal: 757ms\tremaining: 189ms\n",
      "88:\tlearn: 1415.4595828\ttotal: 766ms\tremaining: 181ms\n",
      "89:\tlearn: 1414.0605623\ttotal: 774ms\tremaining: 172ms\n",
      "90:\tlearn: 1413.3267831\ttotal: 782ms\tremaining: 163ms\n",
      "91:\tlearn: 1412.7681025\ttotal: 789ms\tremaining: 154ms\n",
      "92:\tlearn: 1411.8205776\ttotal: 798ms\tremaining: 146ms\n",
      "93:\tlearn: 1411.1060475\ttotal: 806ms\tremaining: 137ms\n",
      "94:\tlearn: 1408.7976564\ttotal: 814ms\tremaining: 129ms\n",
      "95:\tlearn: 1407.4187863\ttotal: 822ms\tremaining: 120ms\n",
      "96:\tlearn: 1406.8562041\ttotal: 830ms\tremaining: 111ms\n",
      "97:\tlearn: 1406.2403868\ttotal: 839ms\tremaining: 103ms\n",
      "98:\tlearn: 1405.7221400\ttotal: 847ms\tremaining: 94.1ms\n",
      "99:\tlearn: 1404.0688314\ttotal: 856ms\tremaining: 85.6ms\n",
      "100:\tlearn: 1402.7742586\ttotal: 865ms\tremaining: 77.1ms\n",
      "101:\tlearn: 1401.6588189\ttotal: 873ms\tremaining: 68.5ms\n",
      "102:\tlearn: 1401.1447611\ttotal: 881ms\tremaining: 59.9ms\n",
      "103:\tlearn: 1399.8139496\ttotal: 890ms\tremaining: 51.3ms\n",
      "104:\tlearn: 1398.7481485\ttotal: 898ms\tremaining: 42.8ms\n",
      "105:\tlearn: 1398.0773697\ttotal: 906ms\tremaining: 34.2ms\n",
      "106:\tlearn: 1396.6261928\ttotal: 916ms\tremaining: 25.7ms\n",
      "107:\tlearn: 1395.5245272\ttotal: 925ms\tremaining: 17.1ms\n",
      "108:\tlearn: 1394.2778713\ttotal: 933ms\tremaining: 8.56ms\n",
      "109:\tlearn: 1393.6721163\ttotal: 943ms\tremaining: 0us\n",
      "0:\tlearn: 3043.5249304\ttotal: 9.84ms\tremaining: 1.07s\n",
      "1:\tlearn: 2803.4640418\ttotal: 18.9ms\tremaining: 1.02s\n",
      "2:\tlearn: 2603.6388709\ttotal: 27.5ms\tremaining: 982ms\n",
      "3:\tlearn: 2427.5989121\ttotal: 37ms\tremaining: 981ms\n",
      "4:\tlearn: 2292.7728975\ttotal: 45.5ms\tremaining: 956ms\n",
      "5:\tlearn: 2175.6372756\ttotal: 54.6ms\tremaining: 947ms\n",
      "6:\tlearn: 2089.5112380\ttotal: 63.5ms\tremaining: 935ms\n",
      "7:\tlearn: 2012.9301395\ttotal: 72.9ms\tremaining: 930ms\n",
      "8:\tlearn: 1945.6740129\ttotal: 81.2ms\tremaining: 912ms\n",
      "9:\tlearn: 1895.1478628\ttotal: 90.5ms\tremaining: 905ms\n",
      "10:\tlearn: 1852.1107065\ttotal: 98.3ms\tremaining: 885ms\n",
      "11:\tlearn: 1815.7962687\ttotal: 108ms\tremaining: 881ms\n",
      "12:\tlearn: 1776.1704559\ttotal: 118ms\tremaining: 878ms\n",
      "13:\tlearn: 1746.4780999\ttotal: 126ms\tremaining: 866ms\n",
      "14:\tlearn: 1723.8596654\ttotal: 135ms\tremaining: 856ms\n",
      "15:\tlearn: 1699.6226100\ttotal: 144ms\tremaining: 847ms\n",
      "16:\tlearn: 1681.2103706\ttotal: 154ms\tremaining: 841ms\n",
      "17:\tlearn: 1661.3765502\ttotal: 163ms\tremaining: 833ms\n",
      "18:\tlearn: 1643.4588536\ttotal: 172ms\tremaining: 822ms\n",
      "19:\tlearn: 1629.8284828\ttotal: 180ms\tremaining: 809ms\n",
      "20:\tlearn: 1615.4291475\ttotal: 189ms\tremaining: 801ms\n",
      "21:\tlearn: 1604.4477803\ttotal: 198ms\tremaining: 794ms\n",
      "22:\tlearn: 1593.0248893\ttotal: 206ms\tremaining: 781ms\n",
      "23:\tlearn: 1585.1080366\ttotal: 216ms\tremaining: 773ms\n",
      "24:\tlearn: 1575.4913962\ttotal: 225ms\tremaining: 764ms\n",
      "25:\tlearn: 1566.8457850\ttotal: 234ms\tremaining: 756ms\n",
      "26:\tlearn: 1560.8362221\ttotal: 243ms\tremaining: 747ms\n",
      "27:\tlearn: 1553.8493475\ttotal: 253ms\tremaining: 740ms\n",
      "28:\tlearn: 1549.2081733\ttotal: 261ms\tremaining: 730ms\n",
      "29:\tlearn: 1542.3004521\ttotal: 270ms\tremaining: 720ms\n",
      "30:\tlearn: 1537.8263202\ttotal: 280ms\tremaining: 712ms\n",
      "31:\tlearn: 1532.6448522\ttotal: 288ms\tremaining: 701ms\n",
      "32:\tlearn: 1527.8281851\ttotal: 297ms\tremaining: 693ms\n",
      "33:\tlearn: 1522.5547466\ttotal: 305ms\tremaining: 682ms\n",
      "34:\tlearn: 1518.0380360\ttotal: 315ms\tremaining: 675ms\n",
      "35:\tlearn: 1514.0344030\ttotal: 323ms\tremaining: 665ms\n",
      "36:\tlearn: 1509.1311128\ttotal: 333ms\tremaining: 656ms\n",
      "37:\tlearn: 1504.9759758\ttotal: 341ms\tremaining: 647ms\n",
      "38:\tlearn: 1501.3166434\ttotal: 351ms\tremaining: 639ms\n",
      "39:\tlearn: 1498.3818374\ttotal: 359ms\tremaining: 629ms\n",
      "40:\tlearn: 1493.9097641\ttotal: 368ms\tremaining: 619ms\n",
      "41:\tlearn: 1491.6912978\ttotal: 377ms\tremaining: 611ms\n",
      "42:\tlearn: 1488.5749240\ttotal: 386ms\tremaining: 602ms\n",
      "43:\tlearn: 1485.7246811\ttotal: 395ms\tremaining: 593ms\n",
      "44:\tlearn: 1483.7076673\ttotal: 403ms\tremaining: 582ms\n",
      "45:\tlearn: 1481.9659043\ttotal: 412ms\tremaining: 573ms\n",
      "46:\tlearn: 1479.1397254\ttotal: 421ms\tremaining: 565ms\n",
      "47:\tlearn: 1477.2661394\ttotal: 431ms\tremaining: 556ms\n",
      "48:\tlearn: 1475.2088678\ttotal: 440ms\tremaining: 548ms\n",
      "49:\tlearn: 1473.6057101\ttotal: 448ms\tremaining: 538ms\n",
      "50:\tlearn: 1470.6467171\ttotal: 457ms\tremaining: 529ms\n",
      "51:\tlearn: 1469.0345217\ttotal: 466ms\tremaining: 520ms\n",
      "52:\tlearn: 1466.7160087\ttotal: 475ms\tremaining: 511ms\n",
      "53:\tlearn: 1464.1698082\ttotal: 483ms\tremaining: 501ms\n",
      "54:\tlearn: 1461.7174147\ttotal: 492ms\tremaining: 492ms\n",
      "55:\tlearn: 1460.2608949\ttotal: 500ms\tremaining: 483ms\n",
      "56:\tlearn: 1458.2366276\ttotal: 509ms\tremaining: 474ms\n",
      "57:\tlearn: 1456.5674053\ttotal: 519ms\tremaining: 465ms\n",
      "58:\tlearn: 1455.2394093\ttotal: 528ms\tremaining: 457ms\n",
      "59:\tlearn: 1453.4307711\ttotal: 537ms\tremaining: 448ms\n",
      "60:\tlearn: 1451.9285767\ttotal: 547ms\tremaining: 439ms\n",
      "61:\tlearn: 1450.1220401\ttotal: 556ms\tremaining: 430ms\n",
      "62:\tlearn: 1449.0492106\ttotal: 565ms\tremaining: 421ms\n",
      "63:\tlearn: 1446.2065634\ttotal: 574ms\tremaining: 413ms\n",
      "64:\tlearn: 1444.9509508\ttotal: 582ms\tremaining: 403ms\n",
      "65:\tlearn: 1443.3412291\ttotal: 592ms\tremaining: 394ms\n",
      "66:\tlearn: 1441.9018970\ttotal: 600ms\tremaining: 385ms\n",
      "67:\tlearn: 1440.8912952\ttotal: 609ms\tremaining: 376ms\n",
      "68:\tlearn: 1439.2337714\ttotal: 618ms\tremaining: 367ms\n",
      "69:\tlearn: 1438.3624991\ttotal: 627ms\tremaining: 359ms\n",
      "70:\tlearn: 1436.4991045\ttotal: 637ms\tremaining: 350ms\n",
      "71:\tlearn: 1435.4798891\ttotal: 647ms\tremaining: 342ms\n",
      "72:\tlearn: 1433.2577213\ttotal: 656ms\tremaining: 332ms\n",
      "73:\tlearn: 1431.6152526\ttotal: 665ms\tremaining: 323ms\n",
      "74:\tlearn: 1430.8590495\ttotal: 673ms\tremaining: 314ms\n",
      "75:\tlearn: 1429.8330715\ttotal: 683ms\tremaining: 305ms\n",
      "76:\tlearn: 1428.8412829\ttotal: 692ms\tremaining: 296ms\n",
      "77:\tlearn: 1426.6917088\ttotal: 701ms\tremaining: 288ms\n",
      "78:\tlearn: 1425.9885929\ttotal: 709ms\tremaining: 278ms\n",
      "79:\tlearn: 1424.7946350\ttotal: 718ms\tremaining: 269ms\n",
      "80:\tlearn: 1423.4464398\ttotal: 727ms\tremaining: 260ms\n",
      "81:\tlearn: 1422.0969669\ttotal: 736ms\tremaining: 251ms\n",
      "82:\tlearn: 1421.3470470\ttotal: 744ms\tremaining: 242ms\n",
      "83:\tlearn: 1420.6619648\ttotal: 754ms\tremaining: 234ms\n",
      "84:\tlearn: 1419.8298996\ttotal: 764ms\tremaining: 225ms\n",
      "85:\tlearn: 1418.2180738\ttotal: 773ms\tremaining: 216ms\n",
      "86:\tlearn: 1417.1019524\ttotal: 782ms\tremaining: 207ms\n",
      "87:\tlearn: 1415.4912044\ttotal: 791ms\tremaining: 198ms\n",
      "88:\tlearn: 1414.9529302\ttotal: 800ms\tremaining: 189ms\n",
      "89:\tlearn: 1414.1512588\ttotal: 808ms\tremaining: 180ms\n",
      "90:\tlearn: 1412.7749236\ttotal: 817ms\tremaining: 171ms\n",
      "91:\tlearn: 1411.7604524\ttotal: 827ms\tremaining: 162ms\n",
      "92:\tlearn: 1410.2318160\ttotal: 836ms\tremaining: 153ms\n",
      "93:\tlearn: 1409.0894331\ttotal: 845ms\tremaining: 144ms\n",
      "94:\tlearn: 1408.2210901\ttotal: 854ms\tremaining: 135ms\n",
      "95:\tlearn: 1407.5447620\ttotal: 863ms\tremaining: 126ms\n",
      "96:\tlearn: 1405.8567334\ttotal: 872ms\tremaining: 117ms\n",
      "97:\tlearn: 1403.7589438\ttotal: 882ms\tremaining: 108ms\n",
      "98:\tlearn: 1402.1697173\ttotal: 890ms\tremaining: 98.9ms\n",
      "99:\tlearn: 1401.2847814\ttotal: 900ms\tremaining: 90ms\n",
      "100:\tlearn: 1400.5344840\ttotal: 910ms\tremaining: 81.1ms\n",
      "101:\tlearn: 1399.7691897\ttotal: 919ms\tremaining: 72.1ms\n",
      "102:\tlearn: 1398.8224360\ttotal: 928ms\tremaining: 63.1ms\n",
      "103:\tlearn: 1398.1288114\ttotal: 937ms\tremaining: 54.1ms\n",
      "104:\tlearn: 1397.2501128\ttotal: 947ms\tremaining: 45.1ms\n",
      "105:\tlearn: 1396.4822025\ttotal: 957ms\tremaining: 36.1ms\n",
      "106:\tlearn: 1395.8153665\ttotal: 966ms\tremaining: 27.1ms\n",
      "107:\tlearn: 1395.2140867\ttotal: 975ms\tremaining: 18.1ms\n",
      "108:\tlearn: 1394.1333932\ttotal: 985ms\tremaining: 9.03ms\n",
      "109:\tlearn: 1393.0421493\ttotal: 994ms\tremaining: 0us\n",
      "0:\tlearn: 2958.3733424\ttotal: 8.77ms\tremaining: 693ms\n",
      "1:\tlearn: 2657.2879930\ttotal: 17ms\tremaining: 664ms\n",
      "2:\tlearn: 2429.5870815\ttotal: 25.7ms\tremaining: 658ms\n",
      "3:\tlearn: 2247.1846749\ttotal: 35ms\tremaining: 665ms\n",
      "4:\tlearn: 2104.3677987\ttotal: 42.8ms\tremaining: 642ms\n",
      "5:\tlearn: 1998.4347143\ttotal: 52.3ms\tremaining: 645ms\n",
      "6:\tlearn: 1915.4332167\ttotal: 60.2ms\tremaining: 627ms\n",
      "7:\tlearn: 1854.9954735\ttotal: 68.9ms\tremaining: 620ms\n",
      "8:\tlearn: 1805.7336825\ttotal: 77.4ms\tremaining: 611ms\n",
      "9:\tlearn: 1749.5391350\ttotal: 86.8ms\tremaining: 607ms\n",
      "10:\tlearn: 1713.3673131\ttotal: 95.1ms\tremaining: 596ms\n",
      "11:\tlearn: 1683.7276121\ttotal: 104ms\tremaining: 591ms\n",
      "12:\tlearn: 1649.7177469\ttotal: 112ms\tremaining: 579ms\n",
      "13:\tlearn: 1630.8201480\ttotal: 122ms\tremaining: 574ms\n",
      "14:\tlearn: 1614.2578330\ttotal: 130ms\tremaining: 562ms\n",
      "15:\tlearn: 1598.0880989\ttotal: 139ms\tremaining: 558ms\n",
      "16:\tlearn: 1581.4210455\ttotal: 148ms\tremaining: 548ms\n",
      "17:\tlearn: 1567.7021483\ttotal: 156ms\tremaining: 538ms\n",
      "18:\tlearn: 1558.7205484\ttotal: 165ms\tremaining: 531ms\n",
      "19:\tlearn: 1549.3540282\ttotal: 174ms\tremaining: 522ms\n",
      "20:\tlearn: 1540.6580211\ttotal: 183ms\tremaining: 516ms\n",
      "21:\tlearn: 1535.5972826\ttotal: 192ms\tremaining: 506ms\n",
      "22:\tlearn: 1530.3608277\ttotal: 201ms\tremaining: 498ms\n",
      "23:\tlearn: 1525.7937463\ttotal: 209ms\tremaining: 487ms\n",
      "24:\tlearn: 1519.9772767\ttotal: 218ms\tremaining: 479ms\n",
      "25:\tlearn: 1514.7080167\ttotal: 227ms\tremaining: 471ms\n",
      "26:\tlearn: 1508.5850311\ttotal: 237ms\tremaining: 465ms\n",
      "27:\tlearn: 1503.7395544\ttotal: 246ms\tremaining: 457ms\n",
      "28:\tlearn: 1500.4480930\ttotal: 255ms\tremaining: 448ms\n",
      "29:\tlearn: 1494.5332123\ttotal: 265ms\tremaining: 441ms\n",
      "30:\tlearn: 1490.5701955\ttotal: 273ms\tremaining: 432ms\n",
      "31:\tlearn: 1488.2958087\ttotal: 282ms\tremaining: 423ms\n",
      "32:\tlearn: 1484.1983374\ttotal: 290ms\tremaining: 414ms\n",
      "33:\tlearn: 1479.8795866\ttotal: 299ms\tremaining: 405ms\n",
      "34:\tlearn: 1475.7117233\ttotal: 308ms\tremaining: 396ms\n",
      "35:\tlearn: 1473.7762671\ttotal: 318ms\tremaining: 389ms\n",
      "36:\tlearn: 1470.4296430\ttotal: 327ms\tremaining: 380ms\n",
      "37:\tlearn: 1468.1524489\ttotal: 336ms\tremaining: 371ms\n",
      "38:\tlearn: 1466.1656999\ttotal: 345ms\tremaining: 362ms\n",
      "39:\tlearn: 1463.4869287\ttotal: 353ms\tremaining: 353ms\n",
      "40:\tlearn: 1460.9606756\ttotal: 362ms\tremaining: 344ms\n",
      "41:\tlearn: 1458.7380595\ttotal: 371ms\tremaining: 335ms\n",
      "42:\tlearn: 1456.5499705\ttotal: 409ms\tremaining: 352ms\n",
      "43:\tlearn: 1454.6448982\ttotal: 441ms\tremaining: 361ms\n",
      "44:\tlearn: 1453.1930395\ttotal: 453ms\tremaining: 353ms\n",
      "45:\tlearn: 1450.6132480\ttotal: 469ms\tremaining: 347ms\n",
      "46:\tlearn: 1448.4615478\ttotal: 480ms\tremaining: 337ms\n",
      "47:\tlearn: 1446.8795279\ttotal: 488ms\tremaining: 326ms\n",
      "48:\tlearn: 1445.4680846\ttotal: 497ms\tremaining: 314ms\n",
      "49:\tlearn: 1444.0393529\ttotal: 506ms\tremaining: 303ms\n",
      "50:\tlearn: 1441.9720975\ttotal: 513ms\tremaining: 292ms\n",
      "51:\tlearn: 1439.7180051\ttotal: 521ms\tremaining: 281ms\n",
      "52:\tlearn: 1438.3275531\ttotal: 529ms\tremaining: 269ms\n",
      "53:\tlearn: 1437.1743541\ttotal: 537ms\tremaining: 259ms\n",
      "54:\tlearn: 1435.8787265\ttotal: 545ms\tremaining: 248ms\n",
      "55:\tlearn: 1434.6856454\ttotal: 553ms\tremaining: 237ms\n",
      "56:\tlearn: 1432.8383031\ttotal: 561ms\tremaining: 227ms\n",
      "57:\tlearn: 1430.2317870\ttotal: 570ms\tremaining: 216ms\n",
      "58:\tlearn: 1428.8078131\ttotal: 579ms\tremaining: 206ms\n",
      "59:\tlearn: 1427.1713091\ttotal: 588ms\tremaining: 196ms\n",
      "60:\tlearn: 1422.9960548\ttotal: 597ms\tremaining: 186ms\n",
      "61:\tlearn: 1422.0063004\ttotal: 606ms\tremaining: 176ms\n",
      "62:\tlearn: 1419.8111160\ttotal: 616ms\tremaining: 166ms\n",
      "63:\tlearn: 1418.7578177\ttotal: 625ms\tremaining: 156ms\n",
      "64:\tlearn: 1416.4413930\ttotal: 634ms\tremaining: 146ms\n",
      "65:\tlearn: 1414.7267702\ttotal: 643ms\tremaining: 136ms\n",
      "66:\tlearn: 1413.5989144\ttotal: 652ms\tremaining: 126ms\n",
      "67:\tlearn: 1412.7513642\ttotal: 660ms\tremaining: 116ms\n",
      "68:\tlearn: 1411.3443170\ttotal: 670ms\tremaining: 107ms\n",
      "69:\tlearn: 1410.2435022\ttotal: 678ms\tremaining: 96.9ms\n",
      "70:\tlearn: 1409.5145997\ttotal: 687ms\tremaining: 87.1ms\n",
      "71:\tlearn: 1408.6076256\ttotal: 696ms\tremaining: 77.3ms\n",
      "72:\tlearn: 1406.8742163\ttotal: 706ms\tremaining: 67.7ms\n",
      "73:\tlearn: 1405.1665220\ttotal: 715ms\tremaining: 58ms\n",
      "74:\tlearn: 1403.3414511\ttotal: 723ms\tremaining: 48.2ms\n",
      "75:\tlearn: 1402.5718548\ttotal: 731ms\tremaining: 38.5ms\n",
      "76:\tlearn: 1401.3891615\ttotal: 740ms\tremaining: 28.8ms\n",
      "77:\tlearn: 1399.7635120\ttotal: 749ms\tremaining: 19.2ms\n",
      "78:\tlearn: 1398.7272158\ttotal: 757ms\tremaining: 9.59ms\n",
      "79:\tlearn: 1396.9817410\ttotal: 766ms\tremaining: 0us\n",
      "0:\tlearn: 2952.4053590\ttotal: 10.6ms\tremaining: 837ms\n",
      "1:\tlearn: 2657.2263160\ttotal: 20ms\tremaining: 781ms\n",
      "2:\tlearn: 2415.8871165\ttotal: 28.3ms\tremaining: 726ms\n",
      "3:\tlearn: 2236.0802192\ttotal: 37.1ms\tremaining: 706ms\n",
      "4:\tlearn: 2101.8325727\ttotal: 45.6ms\tremaining: 683ms\n",
      "5:\tlearn: 2000.1106425\ttotal: 54.1ms\tremaining: 668ms\n",
      "6:\tlearn: 1919.6288004\ttotal: 62.4ms\tremaining: 651ms\n",
      "7:\tlearn: 1859.8178762\ttotal: 71.4ms\tremaining: 643ms\n",
      "8:\tlearn: 1810.0864226\ttotal: 79.5ms\tremaining: 627ms\n",
      "9:\tlearn: 1755.9649088\ttotal: 88.7ms\tremaining: 621ms\n",
      "10:\tlearn: 1724.2343874\ttotal: 97ms\tremaining: 608ms\n",
      "11:\tlearn: 1689.1735780\ttotal: 106ms\tremaining: 602ms\n",
      "12:\tlearn: 1667.6748277\ttotal: 114ms\tremaining: 588ms\n",
      "13:\tlearn: 1643.5141413\ttotal: 123ms\tremaining: 582ms\n",
      "14:\tlearn: 1623.4469999\ttotal: 132ms\tremaining: 571ms\n",
      "15:\tlearn: 1609.5988585\ttotal: 142ms\tremaining: 568ms\n",
      "16:\tlearn: 1596.8573587\ttotal: 152ms\tremaining: 562ms\n",
      "17:\tlearn: 1587.3889126\ttotal: 160ms\tremaining: 552ms\n",
      "18:\tlearn: 1578.7076084\ttotal: 169ms\tremaining: 542ms\n",
      "19:\tlearn: 1571.7626482\ttotal: 177ms\tremaining: 530ms\n",
      "20:\tlearn: 1563.7359477\ttotal: 186ms\tremaining: 522ms\n",
      "21:\tlearn: 1551.9482471\ttotal: 194ms\tremaining: 513ms\n",
      "22:\tlearn: 1540.7885758\ttotal: 204ms\tremaining: 506ms\n",
      "23:\tlearn: 1533.8263873\ttotal: 212ms\tremaining: 495ms\n",
      "24:\tlearn: 1528.6273808\ttotal: 222ms\tremaining: 488ms\n",
      "25:\tlearn: 1522.3427383\ttotal: 231ms\tremaining: 479ms\n",
      "26:\tlearn: 1515.4149266\ttotal: 239ms\tremaining: 470ms\n",
      "27:\tlearn: 1511.6183847\ttotal: 248ms\tremaining: 461ms\n",
      "28:\tlearn: 1508.7872311\ttotal: 257ms\tremaining: 453ms\n",
      "29:\tlearn: 1505.0017296\ttotal: 267ms\tremaining: 444ms\n",
      "30:\tlearn: 1501.5965936\ttotal: 275ms\tremaining: 434ms\n",
      "31:\tlearn: 1497.9247632\ttotal: 284ms\tremaining: 425ms\n",
      "32:\tlearn: 1494.2578046\ttotal: 292ms\tremaining: 416ms\n",
      "33:\tlearn: 1490.4773818\ttotal: 300ms\tremaining: 406ms\n",
      "34:\tlearn: 1486.8661153\ttotal: 309ms\tremaining: 397ms\n",
      "35:\tlearn: 1483.8826606\ttotal: 318ms\tremaining: 389ms\n",
      "36:\tlearn: 1480.2932517\ttotal: 328ms\tremaining: 381ms\n",
      "37:\tlearn: 1476.7695546\ttotal: 338ms\tremaining: 373ms\n",
      "38:\tlearn: 1474.3021937\ttotal: 346ms\tremaining: 364ms\n",
      "39:\tlearn: 1471.8852758\ttotal: 354ms\tremaining: 354ms\n",
      "40:\tlearn: 1469.0364398\ttotal: 363ms\tremaining: 345ms\n",
      "41:\tlearn: 1464.4327667\ttotal: 371ms\tremaining: 336ms\n",
      "42:\tlearn: 1462.5233990\ttotal: 380ms\tremaining: 327ms\n",
      "43:\tlearn: 1459.9880178\ttotal: 389ms\tremaining: 318ms\n",
      "44:\tlearn: 1457.1862109\ttotal: 398ms\tremaining: 310ms\n",
      "45:\tlearn: 1455.6494298\ttotal: 407ms\tremaining: 300ms\n",
      "46:\tlearn: 1452.3750357\ttotal: 414ms\tremaining: 291ms\n",
      "47:\tlearn: 1449.5277482\ttotal: 424ms\tremaining: 283ms\n",
      "48:\tlearn: 1447.8013690\ttotal: 434ms\tremaining: 275ms\n",
      "49:\tlearn: 1446.2803607\ttotal: 444ms\tremaining: 266ms\n",
      "50:\tlearn: 1443.6376401\ttotal: 453ms\tremaining: 258ms\n",
      "51:\tlearn: 1441.3611482\ttotal: 462ms\tremaining: 249ms\n",
      "52:\tlearn: 1440.0561577\ttotal: 470ms\tremaining: 239ms\n",
      "53:\tlearn: 1438.2877304\ttotal: 479ms\tremaining: 231ms\n",
      "54:\tlearn: 1436.2673453\ttotal: 487ms\tremaining: 221ms\n",
      "55:\tlearn: 1434.9054338\ttotal: 496ms\tremaining: 213ms\n",
      "56:\tlearn: 1433.9237424\ttotal: 504ms\tremaining: 203ms\n",
      "57:\tlearn: 1431.4766710\ttotal: 513ms\tremaining: 195ms\n",
      "58:\tlearn: 1430.1266081\ttotal: 523ms\tremaining: 186ms\n",
      "59:\tlearn: 1428.3300469\ttotal: 532ms\tremaining: 177ms\n",
      "60:\tlearn: 1427.0651025\ttotal: 541ms\tremaining: 168ms\n",
      "61:\tlearn: 1425.1681961\ttotal: 549ms\tremaining: 159ms\n",
      "62:\tlearn: 1424.1487919\ttotal: 558ms\tremaining: 151ms\n",
      "63:\tlearn: 1423.1046670\ttotal: 566ms\tremaining: 142ms\n",
      "64:\tlearn: 1422.0119321\ttotal: 575ms\tremaining: 133ms\n",
      "65:\tlearn: 1421.1247690\ttotal: 584ms\tremaining: 124ms\n",
      "66:\tlearn: 1420.0270417\ttotal: 593ms\tremaining: 115ms\n",
      "67:\tlearn: 1417.3945993\ttotal: 600ms\tremaining: 106ms\n",
      "68:\tlearn: 1416.0282148\ttotal: 609ms\tremaining: 97.1ms\n",
      "69:\tlearn: 1414.6198564\ttotal: 618ms\tremaining: 88.2ms\n",
      "70:\tlearn: 1413.6179082\ttotal: 628ms\tremaining: 79.6ms\n",
      "71:\tlearn: 1412.9469247\ttotal: 637ms\tremaining: 70.8ms\n",
      "72:\tlearn: 1411.5576691\ttotal: 645ms\tremaining: 61.8ms\n",
      "73:\tlearn: 1409.8239242\ttotal: 654ms\tremaining: 53ms\n",
      "74:\tlearn: 1408.9369695\ttotal: 662ms\tremaining: 44.1ms\n",
      "75:\tlearn: 1406.8730485\ttotal: 670ms\tremaining: 35.3ms\n",
      "76:\tlearn: 1405.4855515\ttotal: 678ms\tremaining: 26.4ms\n",
      "77:\tlearn: 1404.0280350\ttotal: 686ms\tremaining: 17.6ms\n",
      "78:\tlearn: 1403.2922205\ttotal: 694ms\tremaining: 8.78ms\n",
      "79:\tlearn: 1401.5660694\ttotal: 702ms\tremaining: 0us\n",
      "0:\tlearn: 2958.3733424\ttotal: 8.29ms\tremaining: 738ms\n",
      "1:\tlearn: 2657.2879930\ttotal: 17.1ms\tremaining: 755ms\n",
      "2:\tlearn: 2429.5870815\ttotal: 25.7ms\tremaining: 746ms\n",
      "3:\tlearn: 2247.1846749\ttotal: 34.9ms\tremaining: 750ms\n",
      "4:\tlearn: 2104.3677987\ttotal: 43.1ms\tremaining: 733ms\n",
      "5:\tlearn: 1998.4347143\ttotal: 52.2ms\tremaining: 731ms\n",
      "6:\tlearn: 1915.4332167\ttotal: 60.9ms\tremaining: 722ms\n",
      "7:\tlearn: 1854.9954735\ttotal: 70.5ms\tremaining: 722ms\n",
      "8:\tlearn: 1805.7336825\ttotal: 79.5ms\tremaining: 716ms\n",
      "9:\tlearn: 1749.5391350\ttotal: 88ms\tremaining: 704ms\n",
      "10:\tlearn: 1713.3673131\ttotal: 96.6ms\tremaining: 694ms\n",
      "11:\tlearn: 1683.7276121\ttotal: 105ms\tremaining: 682ms\n",
      "12:\tlearn: 1649.7177469\ttotal: 114ms\tremaining: 674ms\n",
      "13:\tlearn: 1630.8201480\ttotal: 122ms\tremaining: 663ms\n",
      "14:\tlearn: 1614.2578330\ttotal: 131ms\tremaining: 654ms\n",
      "15:\tlearn: 1598.0880989\ttotal: 139ms\tremaining: 644ms\n",
      "16:\tlearn: 1581.4210455\ttotal: 148ms\tremaining: 635ms\n",
      "17:\tlearn: 1567.7021483\ttotal: 155ms\tremaining: 622ms\n",
      "18:\tlearn: 1558.7205484\ttotal: 165ms\tremaining: 617ms\n",
      "19:\tlearn: 1549.3540282\ttotal: 173ms\tremaining: 604ms\n",
      "20:\tlearn: 1540.6580211\ttotal: 182ms\tremaining: 597ms\n",
      "21:\tlearn: 1535.5972826\ttotal: 190ms\tremaining: 586ms\n",
      "22:\tlearn: 1530.3608277\ttotal: 198ms\tremaining: 578ms\n",
      "23:\tlearn: 1525.7937463\ttotal: 207ms\tremaining: 569ms\n",
      "24:\tlearn: 1519.9772767\ttotal: 215ms\tremaining: 560ms\n",
      "25:\tlearn: 1514.7080167\ttotal: 225ms\tremaining: 553ms\n",
      "26:\tlearn: 1508.5850311\ttotal: 233ms\tremaining: 543ms\n",
      "27:\tlearn: 1503.7395544\ttotal: 242ms\tremaining: 535ms\n",
      "28:\tlearn: 1500.4480930\ttotal: 250ms\tremaining: 525ms\n",
      "29:\tlearn: 1494.5332123\ttotal: 259ms\tremaining: 517ms\n",
      "30:\tlearn: 1490.5701955\ttotal: 267ms\tremaining: 508ms\n",
      "31:\tlearn: 1488.2958087\ttotal: 275ms\tremaining: 498ms\n",
      "32:\tlearn: 1484.1983374\ttotal: 283ms\tremaining: 490ms\n",
      "33:\tlearn: 1479.8795866\ttotal: 292ms\tremaining: 481ms\n",
      "34:\tlearn: 1475.7117233\ttotal: 300ms\tremaining: 472ms\n",
      "35:\tlearn: 1473.7762671\ttotal: 309ms\tremaining: 463ms\n",
      "36:\tlearn: 1470.4296430\ttotal: 318ms\tremaining: 455ms\n",
      "37:\tlearn: 1468.1524489\ttotal: 327ms\tremaining: 448ms\n",
      "38:\tlearn: 1466.1656999\ttotal: 337ms\tremaining: 440ms\n",
      "39:\tlearn: 1463.4869287\ttotal: 345ms\tremaining: 432ms\n",
      "40:\tlearn: 1460.9606756\ttotal: 355ms\tremaining: 424ms\n",
      "41:\tlearn: 1458.7380595\ttotal: 363ms\tremaining: 415ms\n",
      "42:\tlearn: 1456.5499705\ttotal: 372ms\tremaining: 406ms\n",
      "43:\tlearn: 1454.6448982\ttotal: 381ms\tremaining: 398ms\n",
      "44:\tlearn: 1453.1930395\ttotal: 389ms\tremaining: 389ms\n",
      "45:\tlearn: 1450.6132480\ttotal: 397ms\tremaining: 380ms\n",
      "46:\tlearn: 1448.4615478\ttotal: 407ms\tremaining: 372ms\n",
      "47:\tlearn: 1446.8795279\ttotal: 415ms\tremaining: 363ms\n",
      "48:\tlearn: 1445.4680846\ttotal: 424ms\tremaining: 355ms\n",
      "49:\tlearn: 1444.0393529\ttotal: 432ms\tremaining: 346ms\n",
      "50:\tlearn: 1441.9720975\ttotal: 441ms\tremaining: 337ms\n",
      "51:\tlearn: 1439.7180051\ttotal: 449ms\tremaining: 328ms\n",
      "52:\tlearn: 1438.3275531\ttotal: 457ms\tremaining: 319ms\n",
      "53:\tlearn: 1437.1743541\ttotal: 466ms\tremaining: 310ms\n",
      "54:\tlearn: 1435.8787265\ttotal: 474ms\tremaining: 302ms\n",
      "55:\tlearn: 1434.6856454\ttotal: 482ms\tremaining: 293ms\n",
      "56:\tlearn: 1432.8383031\ttotal: 490ms\tremaining: 284ms\n",
      "57:\tlearn: 1430.2317870\ttotal: 499ms\tremaining: 275ms\n",
      "58:\tlearn: 1428.8078131\ttotal: 507ms\tremaining: 266ms\n",
      "59:\tlearn: 1427.1713091\ttotal: 516ms\tremaining: 258ms\n",
      "60:\tlearn: 1422.9960548\ttotal: 524ms\tremaining: 249ms\n",
      "61:\tlearn: 1422.0063004\ttotal: 532ms\tremaining: 240ms\n",
      "62:\tlearn: 1419.8111160\ttotal: 541ms\tremaining: 232ms\n",
      "63:\tlearn: 1418.7578177\ttotal: 549ms\tremaining: 223ms\n",
      "64:\tlearn: 1416.4413930\ttotal: 557ms\tremaining: 214ms\n",
      "65:\tlearn: 1414.7267702\ttotal: 566ms\tremaining: 206ms\n",
      "66:\tlearn: 1413.5989144\ttotal: 574ms\tremaining: 197ms\n",
      "67:\tlearn: 1412.7513642\ttotal: 582ms\tremaining: 188ms\n",
      "68:\tlearn: 1411.3443170\ttotal: 590ms\tremaining: 180ms\n",
      "69:\tlearn: 1410.2435022\ttotal: 599ms\tremaining: 171ms\n",
      "70:\tlearn: 1409.5145997\ttotal: 607ms\tremaining: 162ms\n",
      "71:\tlearn: 1408.6076256\ttotal: 615ms\tremaining: 154ms\n",
      "72:\tlearn: 1406.8742163\ttotal: 624ms\tremaining: 145ms\n",
      "73:\tlearn: 1405.1665220\ttotal: 633ms\tremaining: 137ms\n",
      "74:\tlearn: 1403.3414511\ttotal: 641ms\tremaining: 128ms\n",
      "75:\tlearn: 1402.5718548\ttotal: 649ms\tremaining: 120ms\n",
      "76:\tlearn: 1401.3891615\ttotal: 657ms\tremaining: 111ms\n",
      "77:\tlearn: 1399.7635120\ttotal: 666ms\tremaining: 103ms\n",
      "78:\tlearn: 1398.7272158\ttotal: 674ms\tremaining: 93.9ms\n",
      "79:\tlearn: 1396.9817410\ttotal: 683ms\tremaining: 85.4ms\n",
      "80:\tlearn: 1395.9108143\ttotal: 692ms\tremaining: 76.9ms\n",
      "81:\tlearn: 1394.0724983\ttotal: 700ms\tremaining: 68.3ms\n",
      "82:\tlearn: 1392.5839567\ttotal: 709ms\tremaining: 59.8ms\n",
      "83:\tlearn: 1391.7986325\ttotal: 717ms\tremaining: 51.2ms\n",
      "84:\tlearn: 1390.4808592\ttotal: 725ms\tremaining: 42.7ms\n",
      "85:\tlearn: 1389.4734870\ttotal: 734ms\tremaining: 34.1ms\n",
      "86:\tlearn: 1388.0917631\ttotal: 742ms\tremaining: 25.6ms\n",
      "87:\tlearn: 1387.1743114\ttotal: 750ms\tremaining: 17.1ms\n",
      "88:\tlearn: 1386.6225294\ttotal: 759ms\tremaining: 8.52ms\n",
      "89:\tlearn: 1385.0252204\ttotal: 767ms\tremaining: 0us\n",
      "0:\tlearn: 2952.4053590\ttotal: 8.35ms\tremaining: 743ms\n",
      "1:\tlearn: 2657.2263160\ttotal: 16.8ms\tremaining: 737ms\n",
      "2:\tlearn: 2415.8871165\ttotal: 25.2ms\tremaining: 731ms\n",
      "3:\tlearn: 2236.0802192\ttotal: 33.4ms\tremaining: 719ms\n",
      "4:\tlearn: 2101.8325727\ttotal: 42.2ms\tremaining: 717ms\n",
      "5:\tlearn: 2000.1106425\ttotal: 50.8ms\tremaining: 711ms\n",
      "6:\tlearn: 1919.6288004\ttotal: 58.9ms\tremaining: 699ms\n",
      "7:\tlearn: 1859.8178762\ttotal: 66.8ms\tremaining: 684ms\n",
      "8:\tlearn: 1810.0864226\ttotal: 75.1ms\tremaining: 676ms\n",
      "9:\tlearn: 1755.9649088\ttotal: 83.5ms\tremaining: 668ms\n",
      "10:\tlearn: 1724.2343874\ttotal: 91.9ms\tremaining: 660ms\n",
      "11:\tlearn: 1689.1735780\ttotal: 100ms\tremaining: 650ms\n",
      "12:\tlearn: 1667.6748277\ttotal: 109ms\tremaining: 645ms\n",
      "13:\tlearn: 1643.5141413\ttotal: 117ms\tremaining: 636ms\n",
      "14:\tlearn: 1623.4469999\ttotal: 126ms\tremaining: 628ms\n",
      "15:\tlearn: 1609.5988585\ttotal: 134ms\tremaining: 619ms\n",
      "16:\tlearn: 1596.8573587\ttotal: 142ms\tremaining: 611ms\n",
      "17:\tlearn: 1587.3889126\ttotal: 150ms\tremaining: 600ms\n",
      "18:\tlearn: 1578.7076084\ttotal: 158ms\tremaining: 591ms\n",
      "19:\tlearn: 1571.7626482\ttotal: 167ms\tremaining: 584ms\n",
      "20:\tlearn: 1563.7359477\ttotal: 176ms\tremaining: 579ms\n",
      "21:\tlearn: 1551.9482471\ttotal: 185ms\tremaining: 572ms\n",
      "22:\tlearn: 1540.7885758\ttotal: 195ms\tremaining: 567ms\n",
      "23:\tlearn: 1533.8263873\ttotal: 203ms\tremaining: 559ms\n",
      "24:\tlearn: 1528.6273808\ttotal: 212ms\tremaining: 550ms\n",
      "25:\tlearn: 1522.3427383\ttotal: 221ms\tremaining: 543ms\n",
      "26:\tlearn: 1515.4149266\ttotal: 228ms\tremaining: 533ms\n",
      "27:\tlearn: 1511.6183847\ttotal: 238ms\tremaining: 526ms\n",
      "28:\tlearn: 1508.7872311\ttotal: 246ms\tremaining: 517ms\n",
      "29:\tlearn: 1505.0017296\ttotal: 254ms\tremaining: 509ms\n",
      "30:\tlearn: 1501.5965936\ttotal: 262ms\tremaining: 500ms\n",
      "31:\tlearn: 1497.9247632\ttotal: 271ms\tremaining: 491ms\n",
      "32:\tlearn: 1494.2578046\ttotal: 279ms\tremaining: 482ms\n",
      "33:\tlearn: 1490.4773818\ttotal: 288ms\tremaining: 474ms\n",
      "34:\tlearn: 1486.8661153\ttotal: 296ms\tremaining: 465ms\n",
      "35:\tlearn: 1483.8826606\ttotal: 304ms\tremaining: 456ms\n",
      "36:\tlearn: 1480.2932517\ttotal: 313ms\tremaining: 448ms\n",
      "37:\tlearn: 1476.7695546\ttotal: 322ms\tremaining: 441ms\n",
      "38:\tlearn: 1474.3021937\ttotal: 330ms\tremaining: 432ms\n",
      "39:\tlearn: 1471.8852758\ttotal: 338ms\tremaining: 423ms\n",
      "40:\tlearn: 1469.0364398\ttotal: 346ms\tremaining: 414ms\n",
      "41:\tlearn: 1464.4327667\ttotal: 355ms\tremaining: 406ms\n",
      "42:\tlearn: 1462.5233990\ttotal: 363ms\tremaining: 397ms\n",
      "43:\tlearn: 1459.9880178\ttotal: 372ms\tremaining: 389ms\n",
      "44:\tlearn: 1457.1862109\ttotal: 381ms\tremaining: 381ms\n",
      "45:\tlearn: 1455.6494298\ttotal: 389ms\tremaining: 372ms\n",
      "46:\tlearn: 1452.3750357\ttotal: 397ms\tremaining: 363ms\n",
      "47:\tlearn: 1449.5277482\ttotal: 405ms\tremaining: 355ms\n",
      "48:\tlearn: 1447.8013690\ttotal: 414ms\tremaining: 346ms\n",
      "49:\tlearn: 1446.2803607\ttotal: 422ms\tremaining: 337ms\n",
      "50:\tlearn: 1443.6376401\ttotal: 432ms\tremaining: 330ms\n",
      "51:\tlearn: 1441.3611482\ttotal: 440ms\tremaining: 322ms\n",
      "52:\tlearn: 1440.0561577\ttotal: 449ms\tremaining: 314ms\n",
      "53:\tlearn: 1438.2877304\ttotal: 457ms\tremaining: 305ms\n",
      "54:\tlearn: 1436.2673453\ttotal: 466ms\tremaining: 297ms\n",
      "55:\tlearn: 1434.9054338\ttotal: 475ms\tremaining: 288ms\n",
      "56:\tlearn: 1433.9237424\ttotal: 483ms\tremaining: 280ms\n",
      "57:\tlearn: 1431.4766710\ttotal: 492ms\tremaining: 271ms\n",
      "58:\tlearn: 1430.1266081\ttotal: 501ms\tremaining: 263ms\n",
      "59:\tlearn: 1428.3300469\ttotal: 513ms\tremaining: 256ms\n",
      "60:\tlearn: 1427.0651025\ttotal: 524ms\tremaining: 249ms\n",
      "61:\tlearn: 1425.1681961\ttotal: 534ms\tremaining: 241ms\n",
      "62:\tlearn: 1424.1487919\ttotal: 544ms\tremaining: 233ms\n",
      "63:\tlearn: 1423.1046670\ttotal: 553ms\tremaining: 224ms\n",
      "64:\tlearn: 1422.0119321\ttotal: 562ms\tremaining: 216ms\n",
      "65:\tlearn: 1421.1247690\ttotal: 571ms\tremaining: 208ms\n",
      "66:\tlearn: 1420.0270417\ttotal: 581ms\tremaining: 199ms\n",
      "67:\tlearn: 1417.3945993\ttotal: 589ms\tremaining: 191ms\n",
      "68:\tlearn: 1416.0282148\ttotal: 599ms\tremaining: 182ms\n",
      "69:\tlearn: 1414.6198564\ttotal: 608ms\tremaining: 174ms\n",
      "70:\tlearn: 1413.6179082\ttotal: 616ms\tremaining: 165ms\n",
      "71:\tlearn: 1412.9469247\ttotal: 624ms\tremaining: 156ms\n",
      "72:\tlearn: 1411.5576691\ttotal: 633ms\tremaining: 147ms\n",
      "73:\tlearn: 1409.8239242\ttotal: 642ms\tremaining: 139ms\n",
      "74:\tlearn: 1408.9369695\ttotal: 651ms\tremaining: 130ms\n",
      "75:\tlearn: 1406.8730485\ttotal: 660ms\tremaining: 122ms\n",
      "76:\tlearn: 1405.4855515\ttotal: 668ms\tremaining: 113ms\n",
      "77:\tlearn: 1404.0280350\ttotal: 677ms\tremaining: 104ms\n",
      "78:\tlearn: 1403.2922205\ttotal: 685ms\tremaining: 95.4ms\n",
      "79:\tlearn: 1401.5660694\ttotal: 694ms\tremaining: 86.8ms\n",
      "80:\tlearn: 1399.9364782\ttotal: 702ms\tremaining: 78ms\n",
      "81:\tlearn: 1398.0178109\ttotal: 711ms\tremaining: 69.3ms\n",
      "82:\tlearn: 1397.0928726\ttotal: 718ms\tremaining: 60.6ms\n",
      "83:\tlearn: 1396.4987304\ttotal: 727ms\tremaining: 51.9ms\n",
      "84:\tlearn: 1394.7170544\ttotal: 736ms\tremaining: 43.3ms\n",
      "85:\tlearn: 1393.4556026\ttotal: 745ms\tremaining: 34.6ms\n",
      "86:\tlearn: 1392.8091328\ttotal: 753ms\tremaining: 26ms\n",
      "87:\tlearn: 1391.5349960\ttotal: 761ms\tremaining: 17.3ms\n",
      "88:\tlearn: 1391.0569373\ttotal: 769ms\tremaining: 8.64ms\n",
      "89:\tlearn: 1389.6345778\ttotal: 777ms\tremaining: 0us\n",
      "0:\tlearn: 2958.3733424\ttotal: 9.59ms\tremaining: 950ms\n",
      "1:\tlearn: 2657.2879930\ttotal: 19.2ms\tremaining: 939ms\n",
      "2:\tlearn: 2429.5870815\ttotal: 29.1ms\tremaining: 941ms\n",
      "3:\tlearn: 2247.1846749\ttotal: 38.4ms\tremaining: 922ms\n",
      "4:\tlearn: 2104.3677987\ttotal: 48.4ms\tremaining: 920ms\n",
      "5:\tlearn: 1998.4347143\ttotal: 56.8ms\tremaining: 890ms\n",
      "6:\tlearn: 1915.4332167\ttotal: 65.4ms\tremaining: 869ms\n",
      "7:\tlearn: 1854.9954735\ttotal: 73.8ms\tremaining: 849ms\n",
      "8:\tlearn: 1805.7336825\ttotal: 82.5ms\tremaining: 835ms\n",
      "9:\tlearn: 1749.5391350\ttotal: 91.1ms\tremaining: 820ms\n",
      "10:\tlearn: 1713.3673131\ttotal: 100ms\tremaining: 811ms\n",
      "11:\tlearn: 1683.7276121\ttotal: 109ms\tremaining: 802ms\n",
      "12:\tlearn: 1649.7177469\ttotal: 118ms\tremaining: 787ms\n",
      "13:\tlearn: 1630.8201480\ttotal: 127ms\tremaining: 783ms\n",
      "14:\tlearn: 1614.2578330\ttotal: 136ms\tremaining: 771ms\n",
      "15:\tlearn: 1598.0880989\ttotal: 146ms\tremaining: 765ms\n",
      "16:\tlearn: 1581.4210455\ttotal: 154ms\tremaining: 752ms\n",
      "17:\tlearn: 1567.7021483\ttotal: 163ms\tremaining: 742ms\n",
      "18:\tlearn: 1558.7205484\ttotal: 172ms\tremaining: 733ms\n",
      "19:\tlearn: 1549.3540282\ttotal: 181ms\tremaining: 722ms\n",
      "20:\tlearn: 1540.6580211\ttotal: 190ms\tremaining: 715ms\n",
      "21:\tlearn: 1535.5972826\ttotal: 199ms\tremaining: 704ms\n",
      "22:\tlearn: 1530.3608277\ttotal: 208ms\tremaining: 697ms\n",
      "23:\tlearn: 1525.7937463\ttotal: 217ms\tremaining: 687ms\n",
      "24:\tlearn: 1519.9772767\ttotal: 227ms\tremaining: 680ms\n",
      "25:\tlearn: 1514.7080167\ttotal: 235ms\tremaining: 670ms\n",
      "26:\tlearn: 1508.5850311\ttotal: 244ms\tremaining: 660ms\n",
      "27:\tlearn: 1503.7395544\ttotal: 252ms\tremaining: 649ms\n",
      "28:\tlearn: 1500.4480930\ttotal: 261ms\tremaining: 640ms\n",
      "29:\tlearn: 1494.5332123\ttotal: 270ms\tremaining: 630ms\n",
      "30:\tlearn: 1490.5701955\ttotal: 278ms\tremaining: 619ms\n",
      "31:\tlearn: 1488.2958087\ttotal: 287ms\tremaining: 610ms\n",
      "32:\tlearn: 1484.1983374\ttotal: 296ms\tremaining: 601ms\n",
      "33:\tlearn: 1479.8795866\ttotal: 304ms\tremaining: 591ms\n",
      "34:\tlearn: 1475.7117233\ttotal: 314ms\tremaining: 583ms\n",
      "35:\tlearn: 1473.7762671\ttotal: 323ms\tremaining: 574ms\n",
      "36:\tlearn: 1470.4296430\ttotal: 331ms\tremaining: 563ms\n",
      "37:\tlearn: 1468.1524489\ttotal: 340ms\tremaining: 555ms\n",
      "38:\tlearn: 1466.1656999\ttotal: 347ms\tremaining: 544ms\n",
      "39:\tlearn: 1463.4869287\ttotal: 356ms\tremaining: 535ms\n",
      "40:\tlearn: 1460.9606756\ttotal: 366ms\tremaining: 526ms\n",
      "41:\tlearn: 1458.7380595\ttotal: 374ms\tremaining: 517ms\n",
      "42:\tlearn: 1456.5499705\ttotal: 383ms\tremaining: 508ms\n",
      "43:\tlearn: 1454.6448982\ttotal: 392ms\tremaining: 499ms\n",
      "44:\tlearn: 1453.1930395\ttotal: 401ms\tremaining: 490ms\n",
      "45:\tlearn: 1450.6132480\ttotal: 410ms\tremaining: 481ms\n",
      "46:\tlearn: 1448.4615478\ttotal: 419ms\tremaining: 472ms\n",
      "47:\tlearn: 1446.8795279\ttotal: 427ms\tremaining: 463ms\n",
      "48:\tlearn: 1445.4680846\ttotal: 436ms\tremaining: 454ms\n",
      "49:\tlearn: 1444.0393529\ttotal: 446ms\tremaining: 446ms\n",
      "50:\tlearn: 1441.9720975\ttotal: 455ms\tremaining: 437ms\n",
      "51:\tlearn: 1439.7180051\ttotal: 463ms\tremaining: 428ms\n",
      "52:\tlearn: 1438.3275531\ttotal: 473ms\tremaining: 419ms\n",
      "53:\tlearn: 1437.1743541\ttotal: 481ms\tremaining: 410ms\n",
      "54:\tlearn: 1435.8787265\ttotal: 490ms\tremaining: 401ms\n",
      "55:\tlearn: 1434.6856454\ttotal: 499ms\tremaining: 392ms\n",
      "56:\tlearn: 1432.8383031\ttotal: 508ms\tremaining: 383ms\n",
      "57:\tlearn: 1430.2317870\ttotal: 517ms\tremaining: 374ms\n",
      "58:\tlearn: 1428.8078131\ttotal: 525ms\tremaining: 365ms\n",
      "59:\tlearn: 1427.1713091\ttotal: 535ms\tremaining: 357ms\n",
      "60:\tlearn: 1422.9960548\ttotal: 543ms\tremaining: 347ms\n",
      "61:\tlearn: 1422.0063004\ttotal: 552ms\tremaining: 338ms\n",
      "62:\tlearn: 1419.8111160\ttotal: 561ms\tremaining: 329ms\n",
      "63:\tlearn: 1418.7578177\ttotal: 570ms\tremaining: 321ms\n",
      "64:\tlearn: 1416.4413930\ttotal: 579ms\tremaining: 312ms\n",
      "65:\tlearn: 1414.7267702\ttotal: 588ms\tremaining: 303ms\n",
      "66:\tlearn: 1413.5989144\ttotal: 597ms\tremaining: 294ms\n",
      "67:\tlearn: 1412.7513642\ttotal: 605ms\tremaining: 285ms\n",
      "68:\tlearn: 1411.3443170\ttotal: 614ms\tremaining: 276ms\n",
      "69:\tlearn: 1410.2435022\ttotal: 623ms\tremaining: 267ms\n",
      "70:\tlearn: 1409.5145997\ttotal: 632ms\tremaining: 258ms\n",
      "71:\tlearn: 1408.6076256\ttotal: 642ms\tremaining: 250ms\n",
      "72:\tlearn: 1406.8742163\ttotal: 652ms\tremaining: 241ms\n",
      "73:\tlearn: 1405.1665220\ttotal: 661ms\tremaining: 232ms\n",
      "74:\tlearn: 1403.3414511\ttotal: 670ms\tremaining: 223ms\n",
      "75:\tlearn: 1402.5718548\ttotal: 678ms\tremaining: 214ms\n",
      "76:\tlearn: 1401.3891615\ttotal: 687ms\tremaining: 205ms\n",
      "77:\tlearn: 1399.7635120\ttotal: 696ms\tremaining: 196ms\n",
      "78:\tlearn: 1398.7272158\ttotal: 704ms\tremaining: 187ms\n",
      "79:\tlearn: 1396.9817410\ttotal: 714ms\tremaining: 178ms\n",
      "80:\tlearn: 1395.9108143\ttotal: 722ms\tremaining: 169ms\n",
      "81:\tlearn: 1394.0724983\ttotal: 731ms\tremaining: 161ms\n",
      "82:\tlearn: 1392.5839567\ttotal: 740ms\tremaining: 152ms\n",
      "83:\tlearn: 1391.7986325\ttotal: 749ms\tremaining: 143ms\n",
      "84:\tlearn: 1390.4808592\ttotal: 758ms\tremaining: 134ms\n",
      "85:\tlearn: 1389.4734870\ttotal: 767ms\tremaining: 125ms\n",
      "86:\tlearn: 1388.0917631\ttotal: 777ms\tremaining: 116ms\n",
      "87:\tlearn: 1387.1743114\ttotal: 785ms\tremaining: 107ms\n",
      "88:\tlearn: 1386.6225294\ttotal: 795ms\tremaining: 98.3ms\n",
      "89:\tlearn: 1385.0252204\ttotal: 805ms\tremaining: 89.5ms\n",
      "90:\tlearn: 1383.8877020\ttotal: 814ms\tremaining: 80.5ms\n",
      "91:\tlearn: 1383.2156105\ttotal: 824ms\tremaining: 71.6ms\n",
      "92:\tlearn: 1382.5398542\ttotal: 832ms\tremaining: 62.7ms\n",
      "93:\tlearn: 1381.8803377\ttotal: 842ms\tremaining: 53.8ms\n",
      "94:\tlearn: 1381.2662540\ttotal: 850ms\tremaining: 44.8ms\n",
      "95:\tlearn: 1380.4702898\ttotal: 860ms\tremaining: 35.8ms\n",
      "96:\tlearn: 1379.1957641\ttotal: 869ms\tremaining: 26.9ms\n",
      "97:\tlearn: 1377.8360824\ttotal: 878ms\tremaining: 17.9ms\n",
      "98:\tlearn: 1376.9395906\ttotal: 887ms\tremaining: 8.96ms\n",
      "99:\tlearn: 1376.0861189\ttotal: 895ms\tremaining: 0us\n",
      "0:\tlearn: 2952.4053590\ttotal: 8.1ms\tremaining: 802ms\n",
      "1:\tlearn: 2657.2263160\ttotal: 16.7ms\tremaining: 820ms\n",
      "2:\tlearn: 2415.8871165\ttotal: 24.5ms\tremaining: 791ms\n",
      "3:\tlearn: 2236.0802192\ttotal: 32.7ms\tremaining: 785ms\n",
      "4:\tlearn: 2101.8325727\ttotal: 40.6ms\tremaining: 771ms\n",
      "5:\tlearn: 2000.1106425\ttotal: 48.9ms\tremaining: 766ms\n",
      "6:\tlearn: 1919.6288004\ttotal: 56.2ms\tremaining: 746ms\n",
      "7:\tlearn: 1859.8178762\ttotal: 64.4ms\tremaining: 741ms\n",
      "8:\tlearn: 1810.0864226\ttotal: 71.7ms\tremaining: 725ms\n",
      "9:\tlearn: 1755.9649088\ttotal: 79.9ms\tremaining: 719ms\n",
      "10:\tlearn: 1724.2343874\ttotal: 87.2ms\tremaining: 706ms\n",
      "11:\tlearn: 1689.1735780\ttotal: 95.8ms\tremaining: 702ms\n",
      "12:\tlearn: 1667.6748277\ttotal: 103ms\tremaining: 690ms\n",
      "13:\tlearn: 1643.5141413\ttotal: 111ms\tremaining: 684ms\n",
      "14:\tlearn: 1623.4469999\ttotal: 119ms\tremaining: 674ms\n",
      "15:\tlearn: 1609.5988585\ttotal: 127ms\tremaining: 669ms\n",
      "16:\tlearn: 1596.8573587\ttotal: 135ms\tremaining: 659ms\n",
      "17:\tlearn: 1587.3889126\ttotal: 144ms\tremaining: 655ms\n",
      "18:\tlearn: 1578.7076084\ttotal: 151ms\tremaining: 645ms\n",
      "19:\tlearn: 1571.7626482\ttotal: 159ms\tremaining: 637ms\n",
      "20:\tlearn: 1563.7359477\ttotal: 167ms\tremaining: 628ms\n",
      "21:\tlearn: 1551.9482471\ttotal: 175ms\tremaining: 622ms\n",
      "22:\tlearn: 1540.7885758\ttotal: 184ms\tremaining: 615ms\n",
      "23:\tlearn: 1533.8263873\ttotal: 191ms\tremaining: 606ms\n",
      "24:\tlearn: 1528.6273808\ttotal: 199ms\tremaining: 598ms\n",
      "25:\tlearn: 1522.3427383\ttotal: 208ms\tremaining: 591ms\n",
      "26:\tlearn: 1515.4149266\ttotal: 216ms\tremaining: 583ms\n",
      "27:\tlearn: 1511.6183847\ttotal: 224ms\tremaining: 575ms\n",
      "28:\tlearn: 1508.7872311\ttotal: 232ms\tremaining: 569ms\n",
      "29:\tlearn: 1505.0017296\ttotal: 241ms\tremaining: 562ms\n",
      "30:\tlearn: 1501.5965936\ttotal: 249ms\tremaining: 554ms\n",
      "31:\tlearn: 1497.9247632\ttotal: 257ms\tremaining: 547ms\n",
      "32:\tlearn: 1494.2578046\ttotal: 265ms\tremaining: 539ms\n",
      "33:\tlearn: 1490.4773818\ttotal: 274ms\tremaining: 532ms\n",
      "34:\tlearn: 1486.8661153\ttotal: 282ms\tremaining: 523ms\n",
      "35:\tlearn: 1483.8826606\ttotal: 290ms\tremaining: 515ms\n",
      "36:\tlearn: 1480.2932517\ttotal: 298ms\tremaining: 507ms\n",
      "37:\tlearn: 1476.7695546\ttotal: 307ms\tremaining: 501ms\n",
      "38:\tlearn: 1474.3021937\ttotal: 315ms\tremaining: 492ms\n",
      "39:\tlearn: 1471.8852758\ttotal: 323ms\tremaining: 484ms\n",
      "40:\tlearn: 1469.0364398\ttotal: 331ms\tremaining: 476ms\n",
      "41:\tlearn: 1464.4327667\ttotal: 340ms\tremaining: 469ms\n",
      "42:\tlearn: 1462.5233990\ttotal: 347ms\tremaining: 460ms\n",
      "43:\tlearn: 1459.9880178\ttotal: 356ms\tremaining: 453ms\n",
      "44:\tlearn: 1457.1862109\ttotal: 364ms\tremaining: 444ms\n",
      "45:\tlearn: 1455.6494298\ttotal: 372ms\tremaining: 436ms\n",
      "46:\tlearn: 1452.3750357\ttotal: 379ms\tremaining: 427ms\n",
      "47:\tlearn: 1449.5277482\ttotal: 388ms\tremaining: 420ms\n",
      "48:\tlearn: 1447.8013690\ttotal: 395ms\tremaining: 412ms\n",
      "49:\tlearn: 1446.2803607\ttotal: 404ms\tremaining: 404ms\n",
      "50:\tlearn: 1443.6376401\ttotal: 413ms\tremaining: 397ms\n",
      "51:\tlearn: 1441.3611482\ttotal: 422ms\tremaining: 389ms\n",
      "52:\tlearn: 1440.0561577\ttotal: 430ms\tremaining: 381ms\n",
      "53:\tlearn: 1438.2877304\ttotal: 439ms\tremaining: 374ms\n",
      "54:\tlearn: 1436.2673453\ttotal: 447ms\tremaining: 366ms\n",
      "55:\tlearn: 1434.9054338\ttotal: 456ms\tremaining: 358ms\n",
      "56:\tlearn: 1433.9237424\ttotal: 463ms\tremaining: 349ms\n",
      "57:\tlearn: 1431.4766710\ttotal: 472ms\tremaining: 342ms\n",
      "58:\tlearn: 1430.1266081\ttotal: 481ms\tremaining: 334ms\n",
      "59:\tlearn: 1428.3300469\ttotal: 490ms\tremaining: 326ms\n",
      "60:\tlearn: 1427.0651025\ttotal: 498ms\tremaining: 318ms\n",
      "61:\tlearn: 1425.1681961\ttotal: 506ms\tremaining: 310ms\n",
      "62:\tlearn: 1424.1487919\ttotal: 515ms\tremaining: 302ms\n",
      "63:\tlearn: 1423.1046670\ttotal: 523ms\tremaining: 294ms\n",
      "64:\tlearn: 1422.0119321\ttotal: 531ms\tremaining: 286ms\n",
      "65:\tlearn: 1421.1247690\ttotal: 540ms\tremaining: 278ms\n",
      "66:\tlearn: 1420.0270417\ttotal: 548ms\tremaining: 270ms\n",
      "67:\tlearn: 1417.3945993\ttotal: 556ms\tremaining: 262ms\n",
      "68:\tlearn: 1416.0282148\ttotal: 565ms\tremaining: 254ms\n",
      "69:\tlearn: 1414.6198564\ttotal: 573ms\tremaining: 246ms\n",
      "70:\tlearn: 1413.6179082\ttotal: 582ms\tremaining: 238ms\n",
      "71:\tlearn: 1412.9469247\ttotal: 589ms\tremaining: 229ms\n",
      "72:\tlearn: 1411.5576691\ttotal: 598ms\tremaining: 221ms\n",
      "73:\tlearn: 1409.8239242\ttotal: 606ms\tremaining: 213ms\n",
      "74:\tlearn: 1408.9369695\ttotal: 614ms\tremaining: 205ms\n",
      "75:\tlearn: 1406.8730485\ttotal: 622ms\tremaining: 196ms\n",
      "76:\tlearn: 1405.4855515\ttotal: 631ms\tremaining: 189ms\n",
      "77:\tlearn: 1404.0280350\ttotal: 639ms\tremaining: 180ms\n",
      "78:\tlearn: 1403.2922205\ttotal: 648ms\tremaining: 172ms\n",
      "79:\tlearn: 1401.5660694\ttotal: 657ms\tremaining: 164ms\n",
      "80:\tlearn: 1399.9364782\ttotal: 666ms\tremaining: 156ms\n",
      "81:\tlearn: 1398.0178109\ttotal: 675ms\tremaining: 148ms\n",
      "82:\tlearn: 1397.0928726\ttotal: 684ms\tremaining: 140ms\n",
      "83:\tlearn: 1396.4987304\ttotal: 693ms\tremaining: 132ms\n",
      "84:\tlearn: 1394.7170544\ttotal: 701ms\tremaining: 124ms\n",
      "85:\tlearn: 1393.4556026\ttotal: 710ms\tremaining: 116ms\n",
      "86:\tlearn: 1392.8091328\ttotal: 718ms\tremaining: 107ms\n",
      "87:\tlearn: 1391.5349960\ttotal: 726ms\tremaining: 99ms\n",
      "88:\tlearn: 1391.0569373\ttotal: 734ms\tremaining: 90.7ms\n",
      "89:\tlearn: 1389.6345778\ttotal: 742ms\tremaining: 82.5ms\n",
      "90:\tlearn: 1387.2559284\ttotal: 750ms\tremaining: 74.2ms\n",
      "91:\tlearn: 1385.8841600\ttotal: 759ms\tremaining: 66ms\n",
      "92:\tlearn: 1384.9303486\ttotal: 767ms\tremaining: 57.7ms\n",
      "93:\tlearn: 1383.6963988\ttotal: 775ms\tremaining: 49.5ms\n",
      "94:\tlearn: 1382.8654799\ttotal: 783ms\tremaining: 41.2ms\n",
      "95:\tlearn: 1381.8416153\ttotal: 792ms\tremaining: 33ms\n",
      "96:\tlearn: 1381.1717887\ttotal: 800ms\tremaining: 24.7ms\n",
      "97:\tlearn: 1380.7718259\ttotal: 808ms\tremaining: 16.5ms\n",
      "98:\tlearn: 1379.5544963\ttotal: 816ms\tremaining: 8.24ms\n",
      "99:\tlearn: 1378.2078310\ttotal: 825ms\tremaining: 0us\n",
      "0:\tlearn: 2958.3733424\ttotal: 8.49ms\tremaining: 926ms\n",
      "1:\tlearn: 2657.2879930\ttotal: 16.7ms\tremaining: 902ms\n",
      "2:\tlearn: 2429.5870815\ttotal: 24.9ms\tremaining: 889ms\n",
      "3:\tlearn: 2247.1846749\ttotal: 32.9ms\tremaining: 872ms\n",
      "4:\tlearn: 2104.3677987\ttotal: 41.2ms\tremaining: 865ms\n",
      "5:\tlearn: 1998.4347143\ttotal: 48.9ms\tremaining: 848ms\n",
      "6:\tlearn: 1915.4332167\ttotal: 56.6ms\tremaining: 833ms\n",
      "7:\tlearn: 1854.9954735\ttotal: 65.2ms\tremaining: 831ms\n",
      "8:\tlearn: 1805.7336825\ttotal: 73.3ms\tremaining: 822ms\n",
      "9:\tlearn: 1749.5391350\ttotal: 81.4ms\tremaining: 814ms\n",
      "10:\tlearn: 1713.3673131\ttotal: 89.6ms\tremaining: 807ms\n",
      "11:\tlearn: 1683.7276121\ttotal: 97.4ms\tremaining: 795ms\n",
      "12:\tlearn: 1649.7177469\ttotal: 106ms\tremaining: 791ms\n",
      "13:\tlearn: 1630.8201480\ttotal: 114ms\tremaining: 782ms\n",
      "14:\tlearn: 1614.2578330\ttotal: 122ms\tremaining: 774ms\n",
      "15:\tlearn: 1598.0880989\ttotal: 131ms\tremaining: 768ms\n",
      "16:\tlearn: 1581.4210455\ttotal: 139ms\tremaining: 763ms\n",
      "17:\tlearn: 1567.7021483\ttotal: 147ms\tremaining: 749ms\n",
      "18:\tlearn: 1558.7205484\ttotal: 155ms\tremaining: 742ms\n",
      "19:\tlearn: 1549.3540282\ttotal: 162ms\tremaining: 731ms\n",
      "20:\tlearn: 1540.6580211\ttotal: 170ms\tremaining: 723ms\n",
      "21:\tlearn: 1535.5972826\ttotal: 178ms\tremaining: 714ms\n",
      "22:\tlearn: 1530.3608277\ttotal: 187ms\tremaining: 706ms\n",
      "23:\tlearn: 1525.7937463\ttotal: 194ms\tremaining: 695ms\n",
      "24:\tlearn: 1519.9772767\ttotal: 202ms\tremaining: 687ms\n",
      "25:\tlearn: 1514.7080167\ttotal: 212ms\tremaining: 683ms\n",
      "26:\tlearn: 1508.5850311\ttotal: 220ms\tremaining: 676ms\n",
      "27:\tlearn: 1503.7395544\ttotal: 228ms\tremaining: 668ms\n",
      "28:\tlearn: 1500.4480930\ttotal: 237ms\tremaining: 663ms\n",
      "29:\tlearn: 1494.5332123\ttotal: 245ms\tremaining: 654ms\n",
      "30:\tlearn: 1490.5701955\ttotal: 254ms\tremaining: 647ms\n",
      "31:\tlearn: 1488.2958087\ttotal: 262ms\tremaining: 638ms\n",
      "32:\tlearn: 1484.1983374\ttotal: 270ms\tremaining: 630ms\n",
      "33:\tlearn: 1479.8795866\ttotal: 278ms\tremaining: 621ms\n",
      "34:\tlearn: 1475.7117233\ttotal: 286ms\tremaining: 614ms\n",
      "35:\tlearn: 1473.7762671\ttotal: 294ms\tremaining: 604ms\n",
      "36:\tlearn: 1470.4296430\ttotal: 302ms\tremaining: 596ms\n",
      "37:\tlearn: 1468.1524489\ttotal: 310ms\tremaining: 588ms\n",
      "38:\tlearn: 1466.1656999\ttotal: 318ms\tremaining: 579ms\n",
      "39:\tlearn: 1463.4869287\ttotal: 326ms\tremaining: 570ms\n",
      "40:\tlearn: 1460.9606756\ttotal: 334ms\tremaining: 563ms\n",
      "41:\tlearn: 1458.7380595\ttotal: 342ms\tremaining: 554ms\n",
      "42:\tlearn: 1456.5499705\ttotal: 350ms\tremaining: 546ms\n",
      "43:\tlearn: 1454.6448982\ttotal: 358ms\tremaining: 538ms\n",
      "44:\tlearn: 1453.1930395\ttotal: 367ms\tremaining: 530ms\n",
      "45:\tlearn: 1450.6132480\ttotal: 375ms\tremaining: 521ms\n",
      "46:\tlearn: 1448.4615478\ttotal: 383ms\tremaining: 514ms\n",
      "47:\tlearn: 1446.8795279\ttotal: 391ms\tremaining: 505ms\n",
      "48:\tlearn: 1445.4680846\ttotal: 398ms\tremaining: 496ms\n",
      "49:\tlearn: 1444.0393529\ttotal: 406ms\tremaining: 487ms\n",
      "50:\tlearn: 1441.9720975\ttotal: 415ms\tremaining: 480ms\n",
      "51:\tlearn: 1439.7180051\ttotal: 423ms\tremaining: 472ms\n",
      "52:\tlearn: 1438.3275531\ttotal: 432ms\tremaining: 465ms\n",
      "53:\tlearn: 1437.1743541\ttotal: 441ms\tremaining: 457ms\n",
      "54:\tlearn: 1435.8787265\ttotal: 451ms\tremaining: 451ms\n",
      "55:\tlearn: 1434.6856454\ttotal: 459ms\tremaining: 443ms\n",
      "56:\tlearn: 1432.8383031\ttotal: 469ms\tremaining: 436ms\n",
      "57:\tlearn: 1430.2317870\ttotal: 479ms\tremaining: 429ms\n",
      "58:\tlearn: 1428.8078131\ttotal: 488ms\tremaining: 422ms\n",
      "59:\tlearn: 1427.1713091\ttotal: 497ms\tremaining: 414ms\n",
      "60:\tlearn: 1422.9960548\ttotal: 505ms\tremaining: 406ms\n",
      "61:\tlearn: 1422.0063004\ttotal: 514ms\tremaining: 398ms\n",
      "62:\tlearn: 1419.8111160\ttotal: 523ms\tremaining: 390ms\n",
      "63:\tlearn: 1418.7578177\ttotal: 531ms\tremaining: 382ms\n",
      "64:\tlearn: 1416.4413930\ttotal: 540ms\tremaining: 374ms\n",
      "65:\tlearn: 1414.7267702\ttotal: 549ms\tremaining: 366ms\n",
      "66:\tlearn: 1413.5989144\ttotal: 557ms\tremaining: 357ms\n",
      "67:\tlearn: 1412.7513642\ttotal: 565ms\tremaining: 349ms\n",
      "68:\tlearn: 1411.3443170\ttotal: 575ms\tremaining: 341ms\n",
      "69:\tlearn: 1410.2435022\ttotal: 584ms\tremaining: 334ms\n",
      "70:\tlearn: 1409.5145997\ttotal: 593ms\tremaining: 326ms\n",
      "71:\tlearn: 1408.6076256\ttotal: 601ms\tremaining: 317ms\n",
      "72:\tlearn: 1406.8742163\ttotal: 610ms\tremaining: 309ms\n",
      "73:\tlearn: 1405.1665220\ttotal: 618ms\tremaining: 301ms\n",
      "74:\tlearn: 1403.3414511\ttotal: 628ms\tremaining: 293ms\n",
      "75:\tlearn: 1402.5718548\ttotal: 635ms\tremaining: 284ms\n",
      "76:\tlearn: 1401.3891615\ttotal: 645ms\tremaining: 276ms\n",
      "77:\tlearn: 1399.7635120\ttotal: 653ms\tremaining: 268ms\n",
      "78:\tlearn: 1398.7272158\ttotal: 661ms\tremaining: 259ms\n",
      "79:\tlearn: 1396.9817410\ttotal: 669ms\tremaining: 251ms\n",
      "80:\tlearn: 1395.9108143\ttotal: 678ms\tremaining: 243ms\n",
      "81:\tlearn: 1394.0724983\ttotal: 686ms\tremaining: 234ms\n",
      "82:\tlearn: 1392.5839567\ttotal: 695ms\tremaining: 226ms\n",
      "83:\tlearn: 1391.7986325\ttotal: 703ms\tremaining: 218ms\n",
      "84:\tlearn: 1390.4808592\ttotal: 712ms\tremaining: 209ms\n",
      "85:\tlearn: 1389.4734870\ttotal: 720ms\tremaining: 201ms\n",
      "86:\tlearn: 1388.0917631\ttotal: 729ms\tremaining: 193ms\n",
      "87:\tlearn: 1387.1743114\ttotal: 737ms\tremaining: 184ms\n",
      "88:\tlearn: 1386.6225294\ttotal: 745ms\tremaining: 176ms\n",
      "89:\tlearn: 1385.0252204\ttotal: 754ms\tremaining: 168ms\n",
      "90:\tlearn: 1383.8877020\ttotal: 763ms\tremaining: 159ms\n",
      "91:\tlearn: 1383.2156105\ttotal: 771ms\tremaining: 151ms\n",
      "92:\tlearn: 1382.5398542\ttotal: 779ms\tremaining: 142ms\n",
      "93:\tlearn: 1381.8803377\ttotal: 788ms\tremaining: 134ms\n",
      "94:\tlearn: 1381.2662540\ttotal: 796ms\tremaining: 126ms\n",
      "95:\tlearn: 1380.4702898\ttotal: 804ms\tremaining: 117ms\n",
      "96:\tlearn: 1379.1957641\ttotal: 812ms\tremaining: 109ms\n",
      "97:\tlearn: 1377.8360824\ttotal: 821ms\tremaining: 101ms\n",
      "98:\tlearn: 1376.9395906\ttotal: 830ms\tremaining: 92.2ms\n",
      "99:\tlearn: 1376.0861189\ttotal: 839ms\tremaining: 83.9ms\n",
      "100:\tlearn: 1374.5716605\ttotal: 847ms\tremaining: 75.5ms\n",
      "101:\tlearn: 1373.3324646\ttotal: 856ms\tremaining: 67.2ms\n",
      "102:\tlearn: 1372.7197021\ttotal: 865ms\tremaining: 58.8ms\n",
      "103:\tlearn: 1371.3614241\ttotal: 874ms\tremaining: 50.4ms\n",
      "104:\tlearn: 1370.8102821\ttotal: 883ms\tremaining: 42ms\n",
      "105:\tlearn: 1370.3110512\ttotal: 892ms\tremaining: 33.6ms\n",
      "106:\tlearn: 1369.1728524\ttotal: 900ms\tremaining: 25.2ms\n",
      "107:\tlearn: 1368.0258210\ttotal: 909ms\tremaining: 16.8ms\n",
      "108:\tlearn: 1367.0844909\ttotal: 918ms\tremaining: 8.42ms\n",
      "109:\tlearn: 1366.5266382\ttotal: 926ms\tremaining: 0us\n",
      "0:\tlearn: 2952.4053590\ttotal: 8.84ms\tremaining: 964ms\n",
      "1:\tlearn: 2657.2263160\ttotal: 17.8ms\tremaining: 960ms\n",
      "2:\tlearn: 2415.8871165\ttotal: 26.1ms\tremaining: 931ms\n",
      "3:\tlearn: 2236.0802192\ttotal: 35.2ms\tremaining: 932ms\n",
      "4:\tlearn: 2101.8325727\ttotal: 43.6ms\tremaining: 915ms\n",
      "5:\tlearn: 2000.1106425\ttotal: 53ms\tremaining: 920ms\n",
      "6:\tlearn: 1919.6288004\ttotal: 61ms\tremaining: 897ms\n",
      "7:\tlearn: 1859.8178762\ttotal: 69.9ms\tremaining: 891ms\n",
      "8:\tlearn: 1810.0864226\ttotal: 77.6ms\tremaining: 870ms\n",
      "9:\tlearn: 1755.9649088\ttotal: 86.4ms\tremaining: 864ms\n",
      "10:\tlearn: 1724.2343874\ttotal: 94.6ms\tremaining: 851ms\n",
      "11:\tlearn: 1689.1735780\ttotal: 104ms\tremaining: 847ms\n",
      "12:\tlearn: 1667.6748277\ttotal: 111ms\tremaining: 832ms\n",
      "13:\tlearn: 1643.5141413\ttotal: 120ms\tremaining: 825ms\n",
      "14:\tlearn: 1623.4469999\ttotal: 129ms\tremaining: 817ms\n",
      "15:\tlearn: 1609.5988585\ttotal: 139ms\tremaining: 816ms\n",
      "16:\tlearn: 1596.8573587\ttotal: 148ms\tremaining: 810ms\n",
      "17:\tlearn: 1587.3889126\ttotal: 157ms\tremaining: 801ms\n",
      "18:\tlearn: 1578.7076084\ttotal: 165ms\tremaining: 791ms\n",
      "19:\tlearn: 1571.7626482\ttotal: 173ms\tremaining: 779ms\n",
      "20:\tlearn: 1563.7359477\ttotal: 183ms\tremaining: 773ms\n",
      "21:\tlearn: 1551.9482471\ttotal: 191ms\tremaining: 763ms\n",
      "22:\tlearn: 1540.7885758\ttotal: 200ms\tremaining: 756ms\n",
      "23:\tlearn: 1533.8263873\ttotal: 208ms\tremaining: 744ms\n",
      "24:\tlearn: 1528.6273808\ttotal: 217ms\tremaining: 737ms\n",
      "25:\tlearn: 1522.3427383\ttotal: 224ms\tremaining: 725ms\n",
      "26:\tlearn: 1515.4149266\ttotal: 233ms\tremaining: 718ms\n",
      "27:\tlearn: 1511.6183847\ttotal: 242ms\tremaining: 708ms\n",
      "28:\tlearn: 1508.7872311\ttotal: 250ms\tremaining: 699ms\n",
      "29:\tlearn: 1505.0017296\ttotal: 258ms\tremaining: 689ms\n",
      "30:\tlearn: 1501.5965936\ttotal: 267ms\tremaining: 680ms\n",
      "31:\tlearn: 1497.9247632\ttotal: 275ms\tremaining: 671ms\n",
      "32:\tlearn: 1494.2578046\ttotal: 284ms\tremaining: 662ms\n",
      "33:\tlearn: 1490.4773818\ttotal: 292ms\tremaining: 653ms\n",
      "34:\tlearn: 1486.8661153\ttotal: 300ms\tremaining: 644ms\n",
      "35:\tlearn: 1483.8826606\ttotal: 309ms\tremaining: 635ms\n",
      "36:\tlearn: 1480.2932517\ttotal: 317ms\tremaining: 626ms\n",
      "37:\tlearn: 1476.7695546\ttotal: 326ms\tremaining: 618ms\n",
      "38:\tlearn: 1474.3021937\ttotal: 336ms\tremaining: 611ms\n",
      "39:\tlearn: 1471.8852758\ttotal: 344ms\tremaining: 602ms\n",
      "40:\tlearn: 1469.0364398\ttotal: 352ms\tremaining: 592ms\n",
      "41:\tlearn: 1464.4327667\ttotal: 361ms\tremaining: 584ms\n",
      "42:\tlearn: 1462.5233990\ttotal: 369ms\tremaining: 575ms\n",
      "43:\tlearn: 1459.9880178\ttotal: 378ms\tremaining: 566ms\n",
      "44:\tlearn: 1457.1862109\ttotal: 386ms\tremaining: 557ms\n",
      "45:\tlearn: 1455.6494298\ttotal: 395ms\tremaining: 549ms\n",
      "46:\tlearn: 1452.3750357\ttotal: 402ms\tremaining: 539ms\n",
      "47:\tlearn: 1449.5277482\ttotal: 411ms\tremaining: 531ms\n",
      "48:\tlearn: 1447.8013690\ttotal: 419ms\tremaining: 522ms\n",
      "49:\tlearn: 1446.2803607\ttotal: 429ms\tremaining: 515ms\n",
      "50:\tlearn: 1443.6376401\ttotal: 439ms\tremaining: 508ms\n",
      "51:\tlearn: 1441.3611482\ttotal: 449ms\tremaining: 500ms\n",
      "52:\tlearn: 1440.0561577\ttotal: 457ms\tremaining: 492ms\n",
      "53:\tlearn: 1438.2877304\ttotal: 466ms\tremaining: 483ms\n",
      "54:\tlearn: 1436.2673453\ttotal: 474ms\tremaining: 474ms\n",
      "55:\tlearn: 1434.9054338\ttotal: 483ms\tremaining: 466ms\n",
      "56:\tlearn: 1433.9237424\ttotal: 493ms\tremaining: 458ms\n",
      "57:\tlearn: 1431.4766710\ttotal: 502ms\tremaining: 450ms\n",
      "58:\tlearn: 1430.1266081\ttotal: 511ms\tremaining: 442ms\n",
      "59:\tlearn: 1428.3300469\ttotal: 521ms\tremaining: 434ms\n",
      "60:\tlearn: 1427.0651025\ttotal: 530ms\tremaining: 425ms\n",
      "61:\tlearn: 1425.1681961\ttotal: 539ms\tremaining: 417ms\n",
      "62:\tlearn: 1424.1487919\ttotal: 547ms\tremaining: 408ms\n",
      "63:\tlearn: 1423.1046670\ttotal: 556ms\tremaining: 400ms\n",
      "64:\tlearn: 1422.0119321\ttotal: 565ms\tremaining: 391ms\n",
      "65:\tlearn: 1421.1247690\ttotal: 575ms\tremaining: 383ms\n",
      "66:\tlearn: 1420.0270417\ttotal: 583ms\tremaining: 374ms\n",
      "67:\tlearn: 1417.3945993\ttotal: 592ms\tremaining: 365ms\n",
      "68:\tlearn: 1416.0282148\ttotal: 601ms\tremaining: 357ms\n",
      "69:\tlearn: 1414.6198564\ttotal: 610ms\tremaining: 348ms\n",
      "70:\tlearn: 1413.6179082\ttotal: 619ms\tremaining: 340ms\n",
      "71:\tlearn: 1412.9469247\ttotal: 628ms\tremaining: 332ms\n",
      "72:\tlearn: 1411.5576691\ttotal: 637ms\tremaining: 323ms\n",
      "73:\tlearn: 1409.8239242\ttotal: 646ms\tremaining: 314ms\n",
      "74:\tlearn: 1408.9369695\ttotal: 655ms\tremaining: 305ms\n",
      "75:\tlearn: 1406.8730485\ttotal: 663ms\tremaining: 296ms\n",
      "76:\tlearn: 1405.4855515\ttotal: 671ms\tremaining: 288ms\n",
      "77:\tlearn: 1404.0280350\ttotal: 680ms\tremaining: 279ms\n",
      "78:\tlearn: 1403.2922205\ttotal: 688ms\tremaining: 270ms\n",
      "79:\tlearn: 1401.5660694\ttotal: 697ms\tremaining: 261ms\n",
      "80:\tlearn: 1399.9364782\ttotal: 706ms\tremaining: 253ms\n",
      "81:\tlearn: 1398.0178109\ttotal: 715ms\tremaining: 244ms\n",
      "82:\tlearn: 1397.0928726\ttotal: 723ms\tremaining: 235ms\n",
      "83:\tlearn: 1396.4987304\ttotal: 731ms\tremaining: 226ms\n",
      "84:\tlearn: 1394.7170544\ttotal: 743ms\tremaining: 218ms\n",
      "85:\tlearn: 1393.4556026\ttotal: 754ms\tremaining: 210ms\n",
      "86:\tlearn: 1392.8091328\ttotal: 765ms\tremaining: 202ms\n",
      "87:\tlearn: 1391.5349960\ttotal: 772ms\tremaining: 193ms\n",
      "88:\tlearn: 1391.0569373\ttotal: 780ms\tremaining: 184ms\n",
      "89:\tlearn: 1389.6345778\ttotal: 788ms\tremaining: 175ms\n",
      "90:\tlearn: 1387.2559284\ttotal: 796ms\tremaining: 166ms\n",
      "91:\tlearn: 1385.8841600\ttotal: 804ms\tremaining: 157ms\n",
      "92:\tlearn: 1384.9303486\ttotal: 813ms\tremaining: 149ms\n",
      "93:\tlearn: 1383.6963988\ttotal: 821ms\tremaining: 140ms\n",
      "94:\tlearn: 1382.8654799\ttotal: 830ms\tremaining: 131ms\n",
      "95:\tlearn: 1381.8416153\ttotal: 839ms\tremaining: 122ms\n",
      "96:\tlearn: 1381.1717887\ttotal: 847ms\tremaining: 114ms\n",
      "97:\tlearn: 1380.7718259\ttotal: 856ms\tremaining: 105ms\n",
      "98:\tlearn: 1379.5544963\ttotal: 864ms\tremaining: 96ms\n",
      "99:\tlearn: 1378.2078310\ttotal: 872ms\tremaining: 87.2ms\n",
      "100:\tlearn: 1377.1692825\ttotal: 881ms\tremaining: 78.5ms\n",
      "101:\tlearn: 1375.9672573\ttotal: 890ms\tremaining: 69.8ms\n",
      "102:\tlearn: 1374.9061865\ttotal: 899ms\tremaining: 61.1ms\n",
      "103:\tlearn: 1374.0259529\ttotal: 908ms\tremaining: 52.4ms\n",
      "104:\tlearn: 1373.4588480\ttotal: 916ms\tremaining: 43.6ms\n",
      "105:\tlearn: 1372.5511544\ttotal: 924ms\tremaining: 34.9ms\n",
      "106:\tlearn: 1372.1894476\ttotal: 932ms\tremaining: 26.1ms\n",
      "107:\tlearn: 1370.9966302\ttotal: 941ms\tremaining: 17.4ms\n",
      "108:\tlearn: 1370.3992977\ttotal: 948ms\tremaining: 8.7ms\n",
      "109:\tlearn: 1369.9864698\ttotal: 957ms\tremaining: 0us\n",
      "0:\tlearn: 2945.2697436\ttotal: 13.8ms\tremaining: 1.5s\n",
      "1:\tlearn: 2641.1470541\ttotal: 28.2ms\tremaining: 1.52s\n",
      "2:\tlearn: 2410.9032115\ttotal: 43.3ms\tremaining: 1.54s\n",
      "3:\tlearn: 2243.0448954\ttotal: 57.4ms\tremaining: 1.52s\n",
      "4:\tlearn: 2101.7883501\ttotal: 70.7ms\tremaining: 1.48s\n",
      "5:\tlearn: 2010.1351266\ttotal: 83ms\tremaining: 1.44s\n",
      "6:\tlearn: 1922.4252539\ttotal: 96.4ms\tremaining: 1.42s\n",
      "7:\tlearn: 1859.7170793\ttotal: 109ms\tremaining: 1.39s\n",
      "8:\tlearn: 1805.5999039\ttotal: 123ms\tremaining: 1.38s\n",
      "9:\tlearn: 1754.3880427\ttotal: 136ms\tremaining: 1.36s\n",
      "10:\tlearn: 1715.3107991\ttotal: 150ms\tremaining: 1.34s\n",
      "11:\tlearn: 1686.3760097\ttotal: 163ms\tremaining: 1.33s\n",
      "12:\tlearn: 1662.6877139\ttotal: 176ms\tremaining: 1.31s\n",
      "13:\tlearn: 1638.4548473\ttotal: 190ms\tremaining: 1.3s\n",
      "14:\tlearn: 1618.6632280\ttotal: 204ms\tremaining: 1.29s\n",
      "15:\tlearn: 1603.7324286\ttotal: 217ms\tremaining: 1.28s\n",
      "16:\tlearn: 1588.6602591\ttotal: 232ms\tremaining: 1.27s\n",
      "17:\tlearn: 1576.2269634\ttotal: 245ms\tremaining: 1.25s\n",
      "18:\tlearn: 1568.8370728\ttotal: 257ms\tremaining: 1.23s\n",
      "19:\tlearn: 1561.5835078\ttotal: 270ms\tremaining: 1.21s\n",
      "20:\tlearn: 1549.8394623\ttotal: 282ms\tremaining: 1.2s\n",
      "21:\tlearn: 1538.4929272\ttotal: 296ms\tremaining: 1.18s\n",
      "22:\tlearn: 1533.3707534\ttotal: 310ms\tremaining: 1.17s\n",
      "23:\tlearn: 1527.1550652\ttotal: 323ms\tremaining: 1.16s\n",
      "24:\tlearn: 1520.3167453\ttotal: 337ms\tremaining: 1.15s\n",
      "25:\tlearn: 1515.4547915\ttotal: 351ms\tremaining: 1.13s\n",
      "26:\tlearn: 1511.5823852\ttotal: 365ms\tremaining: 1.12s\n",
      "27:\tlearn: 1507.1880988\ttotal: 378ms\tremaining: 1.11s\n",
      "28:\tlearn: 1500.7445933\ttotal: 393ms\tremaining: 1.1s\n",
      "29:\tlearn: 1496.6234708\ttotal: 407ms\tremaining: 1.09s\n",
      "30:\tlearn: 1493.3389054\ttotal: 420ms\tremaining: 1.07s\n",
      "31:\tlearn: 1489.5614190\ttotal: 434ms\tremaining: 1.06s\n",
      "32:\tlearn: 1485.9431211\ttotal: 447ms\tremaining: 1.04s\n",
      "33:\tlearn: 1483.6308983\ttotal: 460ms\tremaining: 1.03s\n",
      "34:\tlearn: 1480.8248591\ttotal: 475ms\tremaining: 1.02s\n",
      "35:\tlearn: 1478.7720722\ttotal: 488ms\tremaining: 1s\n",
      "36:\tlearn: 1475.6542210\ttotal: 503ms\tremaining: 993ms\n",
      "37:\tlearn: 1472.7352486\ttotal: 517ms\tremaining: 980ms\n",
      "38:\tlearn: 1469.1774434\ttotal: 531ms\tremaining: 967ms\n",
      "39:\tlearn: 1466.5003181\ttotal: 545ms\tremaining: 954ms\n",
      "40:\tlearn: 1464.0374627\ttotal: 558ms\tremaining: 939ms\n",
      "41:\tlearn: 1461.6238199\ttotal: 572ms\tremaining: 926ms\n",
      "42:\tlearn: 1458.6943071\ttotal: 585ms\tremaining: 912ms\n",
      "43:\tlearn: 1457.2684179\ttotal: 597ms\tremaining: 896ms\n",
      "44:\tlearn: 1455.8578301\ttotal: 611ms\tremaining: 882ms\n",
      "45:\tlearn: 1453.7121263\ttotal: 624ms\tremaining: 869ms\n",
      "46:\tlearn: 1452.3230243\ttotal: 637ms\tremaining: 854ms\n",
      "47:\tlearn: 1449.8919026\ttotal: 651ms\tremaining: 840ms\n",
      "48:\tlearn: 1448.5800423\ttotal: 664ms\tremaining: 827ms\n",
      "49:\tlearn: 1447.0923515\ttotal: 677ms\tremaining: 812ms\n",
      "50:\tlearn: 1443.5183451\ttotal: 689ms\tremaining: 797ms\n",
      "51:\tlearn: 1441.0640811\ttotal: 702ms\tremaining: 783ms\n",
      "52:\tlearn: 1439.1800490\ttotal: 716ms\tremaining: 770ms\n",
      "53:\tlearn: 1436.8347243\ttotal: 731ms\tremaining: 758ms\n",
      "54:\tlearn: 1434.8998930\ttotal: 745ms\tremaining: 745ms\n",
      "55:\tlearn: 1433.1688947\ttotal: 759ms\tremaining: 732ms\n",
      "56:\tlearn: 1429.8092884\ttotal: 772ms\tremaining: 718ms\n",
      "57:\tlearn: 1428.1928816\ttotal: 784ms\tremaining: 703ms\n",
      "58:\tlearn: 1426.4864728\ttotal: 797ms\tremaining: 689ms\n",
      "59:\tlearn: 1425.2043856\ttotal: 809ms\tremaining: 675ms\n",
      "60:\tlearn: 1423.5685852\ttotal: 823ms\tremaining: 661ms\n",
      "61:\tlearn: 1422.5639340\ttotal: 836ms\tremaining: 647ms\n",
      "62:\tlearn: 1421.3863125\ttotal: 848ms\tremaining: 633ms\n",
      "63:\tlearn: 1419.7880338\ttotal: 862ms\tremaining: 619ms\n",
      "64:\tlearn: 1418.5227173\ttotal: 875ms\tremaining: 606ms\n",
      "65:\tlearn: 1416.8034930\ttotal: 889ms\tremaining: 592ms\n",
      "66:\tlearn: 1415.5046684\ttotal: 901ms\tremaining: 578ms\n",
      "67:\tlearn: 1414.6413160\ttotal: 914ms\tremaining: 565ms\n",
      "68:\tlearn: 1413.2452301\ttotal: 928ms\tremaining: 551ms\n",
      "69:\tlearn: 1412.2680722\ttotal: 941ms\tremaining: 538ms\n",
      "70:\tlearn: 1410.8841054\ttotal: 955ms\tremaining: 525ms\n",
      "71:\tlearn: 1409.5250109\ttotal: 970ms\tremaining: 512ms\n",
      "72:\tlearn: 1408.4537740\ttotal: 983ms\tremaining: 498ms\n",
      "73:\tlearn: 1407.0146046\ttotal: 997ms\tremaining: 485ms\n",
      "74:\tlearn: 1406.0095006\ttotal: 1.01s\tremaining: 472ms\n",
      "75:\tlearn: 1405.3281388\ttotal: 1.02s\tremaining: 458ms\n",
      "76:\tlearn: 1404.3343389\ttotal: 1.03s\tremaining: 444ms\n",
      "77:\tlearn: 1402.9120763\ttotal: 1.05s\tremaining: 431ms\n",
      "78:\tlearn: 1402.0966215\ttotal: 1.06s\tremaining: 417ms\n",
      "79:\tlearn: 1401.0533709\ttotal: 1.08s\tremaining: 404ms\n",
      "80:\tlearn: 1400.0215534\ttotal: 1.09s\tremaining: 391ms\n",
      "81:\tlearn: 1398.1855437\ttotal: 1.1s\tremaining: 377ms\n",
      "82:\tlearn: 1395.6510021\ttotal: 1.12s\tremaining: 364ms\n",
      "83:\tlearn: 1394.4702051\ttotal: 1.13s\tremaining: 350ms\n",
      "84:\tlearn: 1393.3394986\ttotal: 1.14s\tremaining: 337ms\n",
      "85:\tlearn: 1392.8001998\ttotal: 1.16s\tremaining: 323ms\n",
      "86:\tlearn: 1391.7987962\ttotal: 1.17s\tremaining: 309ms\n",
      "87:\tlearn: 1391.1696014\ttotal: 1.18s\tremaining: 296ms\n",
      "88:\tlearn: 1389.9752665\ttotal: 1.2s\tremaining: 283ms\n",
      "89:\tlearn: 1388.7935985\ttotal: 1.21s\tremaining: 269ms\n",
      "90:\tlearn: 1387.8102434\ttotal: 1.23s\tremaining: 256ms\n",
      "91:\tlearn: 1386.6348436\ttotal: 1.24s\tremaining: 243ms\n",
      "92:\tlearn: 1385.8064652\ttotal: 1.25s\tremaining: 229ms\n",
      "93:\tlearn: 1384.9968699\ttotal: 1.26s\tremaining: 215ms\n",
      "94:\tlearn: 1384.3460325\ttotal: 1.28s\tremaining: 202ms\n",
      "95:\tlearn: 1383.8790737\ttotal: 1.29s\tremaining: 188ms\n",
      "96:\tlearn: 1383.3091463\ttotal: 1.3s\tremaining: 175ms\n",
      "97:\tlearn: 1382.3002826\ttotal: 1.32s\tremaining: 161ms\n",
      "98:\tlearn: 1381.5723016\ttotal: 1.33s\tremaining: 148ms\n",
      "99:\tlearn: 1381.1007297\ttotal: 1.34s\tremaining: 134ms\n",
      "100:\tlearn: 1380.5070306\ttotal: 1.36s\tremaining: 121ms\n",
      "101:\tlearn: 1378.7218005\ttotal: 1.37s\tremaining: 107ms\n",
      "102:\tlearn: 1378.0525520\ttotal: 1.38s\tremaining: 93.9ms\n",
      "103:\tlearn: 1377.0976242\ttotal: 1.39s\tremaining: 80.5ms\n",
      "104:\tlearn: 1376.1897303\ttotal: 1.41s\tremaining: 67ms\n",
      "105:\tlearn: 1375.1863984\ttotal: 1.42s\tremaining: 53.6ms\n",
      "106:\tlearn: 1374.3294428\ttotal: 1.43s\tremaining: 40.2ms\n",
      "107:\tlearn: 1373.8801545\ttotal: 1.45s\tremaining: 26.8ms\n",
      "108:\tlearn: 1373.3545015\ttotal: 1.46s\tremaining: 13.4ms\n",
      "109:\tlearn: 1372.7072327\ttotal: 1.47s\tremaining: 0us\n",
      "CPU times: total: 3min 23s\n",
      "Wall time: 41.6 s\n"
     ]
    },
    {
     "data": {
      "text/html": [
       "<style>#sk-container-id-6 {color: black;background-color: white;}#sk-container-id-6 pre{padding: 0;}#sk-container-id-6 div.sk-toggleable {background-color: white;}#sk-container-id-6 label.sk-toggleable__label {cursor: pointer;display: block;width: 100%;margin-bottom: 0;padding: 0.3em;box-sizing: border-box;text-align: center;}#sk-container-id-6 label.sk-toggleable__label-arrow:before {content: \"▸\";float: left;margin-right: 0.25em;color: #696969;}#sk-container-id-6 label.sk-toggleable__label-arrow:hover:before {color: black;}#sk-container-id-6 div.sk-estimator:hover label.sk-toggleable__label-arrow:before {color: black;}#sk-container-id-6 div.sk-toggleable__content {max-height: 0;max-width: 0;overflow: hidden;text-align: left;background-color: #f0f8ff;}#sk-container-id-6 div.sk-toggleable__content pre {margin: 0.2em;color: black;border-radius: 0.25em;background-color: #f0f8ff;}#sk-container-id-6 input.sk-toggleable__control:checked~div.sk-toggleable__content {max-height: 200px;max-width: 100%;overflow: auto;}#sk-container-id-6 input.sk-toggleable__control:checked~label.sk-toggleable__label-arrow:before {content: \"▾\";}#sk-container-id-6 div.sk-estimator input.sk-toggleable__control:checked~label.sk-toggleable__label {background-color: #d4ebff;}#sk-container-id-6 div.sk-label input.sk-toggleable__control:checked~label.sk-toggleable__label {background-color: #d4ebff;}#sk-container-id-6 input.sk-hidden--visually {border: 0;clip: rect(1px 1px 1px 1px);clip: rect(1px, 1px, 1px, 1px);height: 1px;margin: -1px;overflow: hidden;padding: 0;position: absolute;width: 1px;}#sk-container-id-6 div.sk-estimator {font-family: monospace;background-color: #f0f8ff;border: 1px dotted black;border-radius: 0.25em;box-sizing: border-box;margin-bottom: 0.5em;}#sk-container-id-6 div.sk-estimator:hover {background-color: #d4ebff;}#sk-container-id-6 div.sk-parallel-item::after {content: \"\";width: 100%;border-bottom: 1px solid gray;flex-grow: 1;}#sk-container-id-6 div.sk-label:hover label.sk-toggleable__label {background-color: #d4ebff;}#sk-container-id-6 div.sk-serial::before {content: \"\";position: absolute;border-left: 1px solid gray;box-sizing: border-box;top: 0;bottom: 0;left: 50%;z-index: 0;}#sk-container-id-6 div.sk-serial {display: flex;flex-direction: column;align-items: center;background-color: white;padding-right: 0.2em;padding-left: 0.2em;position: relative;}#sk-container-id-6 div.sk-item {position: relative;z-index: 1;}#sk-container-id-6 div.sk-parallel {display: flex;align-items: stretch;justify-content: center;background-color: white;position: relative;}#sk-container-id-6 div.sk-item::before, #sk-container-id-6 div.sk-parallel-item::before {content: \"\";position: absolute;border-left: 1px solid gray;box-sizing: border-box;top: 0;bottom: 0;left: 50%;z-index: -1;}#sk-container-id-6 div.sk-parallel-item {display: flex;flex-direction: column;z-index: 1;position: relative;background-color: white;}#sk-container-id-6 div.sk-parallel-item:first-child::after {align-self: flex-end;width: 50%;}#sk-container-id-6 div.sk-parallel-item:last-child::after {align-self: flex-start;width: 50%;}#sk-container-id-6 div.sk-parallel-item:only-child::after {width: 0;}#sk-container-id-6 div.sk-dashed-wrapped {border: 1px dashed gray;margin: 0 0.4em 0.5em 0.4em;box-sizing: border-box;padding-bottom: 0.4em;background-color: white;}#sk-container-id-6 div.sk-label label {font-family: monospace;font-weight: bold;display: inline-block;line-height: 1.2em;}#sk-container-id-6 div.sk-label-container {text-align: center;}#sk-container-id-6 div.sk-container {/* jupyter's `normalize.less` sets `[hidden] { display: none; }` but bootstrap.min.css set `[hidden] { display: none !important; }` so we also need the `!important` here to be able to override the default hidden behavior on the sphinx rendered scikit-learn.org. See: https://github.com/scikit-learn/scikit-learn/issues/21755 */display: inline-block !important;position: relative;}#sk-container-id-6 div.sk-text-repr-fallback {display: none;}</style><div id=\"sk-container-id-6\" class=\"sk-top-container\"><div class=\"sk-text-repr-fallback\"><pre>GridSearchCV(cv=2,\n",
       "             estimator=&lt;catboost.core.CatBoostRegressor object at 0x0000018D33A7E730&gt;,\n",
       "             param_grid={&#x27;learning_rate&#x27;: [0.05, 0.1, 0.15, 0.2],\n",
       "                         &#x27;n_estimators&#x27;: [80, 90, 100, 110]},\n",
       "             scoring=make_scorer(rmse, greater_is_better=False))</pre><b>In a Jupyter environment, please rerun this cell to show the HTML representation or trust the notebook. <br />On GitHub, the HTML representation is unable to render, please try loading this page with nbviewer.org.</b></div><div class=\"sk-container\" hidden><div class=\"sk-item sk-dashed-wrapped\"><div class=\"sk-label-container\"><div class=\"sk-label sk-toggleable\"><input class=\"sk-toggleable__control sk-hidden--visually\" id=\"sk-estimator-id-8\" type=\"checkbox\" ><label for=\"sk-estimator-id-8\" class=\"sk-toggleable__label sk-toggleable__label-arrow\">GridSearchCV</label><div class=\"sk-toggleable__content\"><pre>GridSearchCV(cv=2,\n",
       "             estimator=&lt;catboost.core.CatBoostRegressor object at 0x0000018D33A7E730&gt;,\n",
       "             param_grid={&#x27;learning_rate&#x27;: [0.05, 0.1, 0.15, 0.2],\n",
       "                         &#x27;n_estimators&#x27;: [80, 90, 100, 110]},\n",
       "             scoring=make_scorer(rmse, greater_is_better=False))</pre></div></div></div><div class=\"sk-parallel\"><div class=\"sk-parallel-item\"><div class=\"sk-item\"><div class=\"sk-label-container\"><div class=\"sk-label sk-toggleable\"><input class=\"sk-toggleable__control sk-hidden--visually\" id=\"sk-estimator-id-9\" type=\"checkbox\" ><label for=\"sk-estimator-id-9\" class=\"sk-toggleable__label sk-toggleable__label-arrow\">estimator: CatBoostRegressor</label><div class=\"sk-toggleable__content\"><pre>&lt;catboost.core.CatBoostRegressor object at 0x0000018D33A7E730&gt;</pre></div></div></div><div class=\"sk-serial\"><div class=\"sk-item\"><div class=\"sk-estimator sk-toggleable\"><input class=\"sk-toggleable__control sk-hidden--visually\" id=\"sk-estimator-id-10\" type=\"checkbox\" ><label for=\"sk-estimator-id-10\" class=\"sk-toggleable__label sk-toggleable__label-arrow\">CatBoostRegressor</label><div class=\"sk-toggleable__content\"><pre>&lt;catboost.core.CatBoostRegressor object at 0x0000018D33A7E730&gt;</pre></div></div></div></div></div></div></div></div></div></div>"
      ],
      "text/plain": [
       "GridSearchCV(cv=2,\n",
       "             estimator=<catboost.core.CatBoostRegressor object at 0x0000018D33A7E730>,\n",
       "             param_grid={'learning_rate': [0.05, 0.1, 0.15, 0.2],\n",
       "                         'n_estimators': [80, 90, 100, 110]},\n",
       "             scoring=make_scorer(rmse, greater_is_better=False))"
      ]
     },
     "execution_count": 130,
     "metadata": {},
     "output_type": "execute_result"
    }
   ],
   "source": [
    "%%time\n",
    "GS_cat.fit(features_train, target_train)"
   ]
  },
  {
   "cell_type": "code",
   "execution_count": 131,
   "metadata": {},
   "outputs": [
    {
     "data": {
      "text/plain": [
       "-1395.66981957721"
      ]
     },
     "execution_count": 131,
     "metadata": {},
     "output_type": "execute_result"
    }
   ],
   "source": [
    "GS_cat.best_score_ # Лучшее значение rmse для lgb_booster"
   ]
  },
  {
   "cell_type": "code",
   "execution_count": 132,
   "metadata": {},
   "outputs": [],
   "source": [
    "GS_cat_best = GS_cat.best_estimator_"
   ]
  },
  {
   "cell_type": "code",
   "execution_count": 133,
   "metadata": {},
   "outputs": [
    {
     "name": "stdout",
     "output_type": "stream",
     "text": [
      "0:\tlearn: 2945.2697436\ttotal: 15.5ms\tremaining: 1.69s\n",
      "1:\tlearn: 2641.1470541\ttotal: 30.1ms\tremaining: 1.63s\n",
      "2:\tlearn: 2410.9032115\ttotal: 44.5ms\tremaining: 1.59s\n",
      "3:\tlearn: 2243.0448954\ttotal: 58.3ms\tremaining: 1.54s\n",
      "4:\tlearn: 2101.7883501\ttotal: 70.8ms\tremaining: 1.49s\n",
      "5:\tlearn: 2010.1351266\ttotal: 83.6ms\tremaining: 1.45s\n",
      "6:\tlearn: 1922.4252539\ttotal: 97.1ms\tremaining: 1.43s\n",
      "7:\tlearn: 1859.7170793\ttotal: 110ms\tremaining: 1.4s\n",
      "8:\tlearn: 1805.5999039\ttotal: 123ms\tremaining: 1.38s\n",
      "9:\tlearn: 1754.3880427\ttotal: 136ms\tremaining: 1.36s\n",
      "10:\tlearn: 1715.3107991\ttotal: 150ms\tremaining: 1.35s\n",
      "11:\tlearn: 1686.3760097\ttotal: 163ms\tremaining: 1.33s\n",
      "12:\tlearn: 1662.6877139\ttotal: 175ms\tremaining: 1.3s\n",
      "13:\tlearn: 1638.4548473\ttotal: 189ms\tremaining: 1.29s\n",
      "14:\tlearn: 1618.6632280\ttotal: 201ms\tremaining: 1.27s\n",
      "15:\tlearn: 1603.7324286\ttotal: 216ms\tremaining: 1.27s\n",
      "16:\tlearn: 1588.6602591\ttotal: 232ms\tremaining: 1.27s\n",
      "17:\tlearn: 1576.2269634\ttotal: 251ms\tremaining: 1.28s\n",
      "18:\tlearn: 1568.8370728\ttotal: 264ms\tremaining: 1.26s\n",
      "19:\tlearn: 1561.5835078\ttotal: 277ms\tremaining: 1.25s\n",
      "20:\tlearn: 1549.8394623\ttotal: 290ms\tremaining: 1.23s\n",
      "21:\tlearn: 1538.4929272\ttotal: 303ms\tremaining: 1.21s\n",
      "22:\tlearn: 1533.3707534\ttotal: 315ms\tremaining: 1.19s\n",
      "23:\tlearn: 1527.1550652\ttotal: 329ms\tremaining: 1.18s\n",
      "24:\tlearn: 1520.3167453\ttotal: 343ms\tremaining: 1.17s\n",
      "25:\tlearn: 1515.4547915\ttotal: 357ms\tremaining: 1.15s\n",
      "26:\tlearn: 1511.5823852\ttotal: 370ms\tremaining: 1.14s\n",
      "27:\tlearn: 1507.1880988\ttotal: 384ms\tremaining: 1.12s\n",
      "28:\tlearn: 1500.7445933\ttotal: 397ms\tremaining: 1.11s\n",
      "29:\tlearn: 1496.6234708\ttotal: 412ms\tremaining: 1.1s\n",
      "30:\tlearn: 1493.3389054\ttotal: 424ms\tremaining: 1.08s\n",
      "31:\tlearn: 1489.5614190\ttotal: 439ms\tremaining: 1.07s\n",
      "32:\tlearn: 1485.9431211\ttotal: 454ms\tremaining: 1.06s\n",
      "33:\tlearn: 1483.6308983\ttotal: 469ms\tremaining: 1.05s\n",
      "34:\tlearn: 1480.8248591\ttotal: 486ms\tremaining: 1.04s\n",
      "35:\tlearn: 1478.7720722\ttotal: 500ms\tremaining: 1.03s\n",
      "36:\tlearn: 1475.6542210\ttotal: 515ms\tremaining: 1.02s\n",
      "37:\tlearn: 1472.7352486\ttotal: 529ms\tremaining: 1s\n",
      "38:\tlearn: 1469.1774434\ttotal: 545ms\tremaining: 993ms\n",
      "39:\tlearn: 1466.5003181\ttotal: 561ms\tremaining: 981ms\n",
      "40:\tlearn: 1464.0374627\ttotal: 575ms\tremaining: 967ms\n",
      "41:\tlearn: 1461.6238199\ttotal: 591ms\tremaining: 956ms\n",
      "42:\tlearn: 1458.6943071\ttotal: 605ms\tremaining: 943ms\n",
      "43:\tlearn: 1457.2684179\ttotal: 619ms\tremaining: 929ms\n",
      "44:\tlearn: 1455.8578301\ttotal: 634ms\tremaining: 915ms\n",
      "45:\tlearn: 1453.7121263\ttotal: 650ms\tremaining: 904ms\n",
      "46:\tlearn: 1452.3230243\ttotal: 663ms\tremaining: 889ms\n",
      "47:\tlearn: 1449.8919026\ttotal: 679ms\tremaining: 876ms\n",
      "48:\tlearn: 1448.5800423\ttotal: 693ms\tremaining: 863ms\n",
      "49:\tlearn: 1447.0923515\ttotal: 707ms\tremaining: 848ms\n",
      "50:\tlearn: 1443.5183451\ttotal: 721ms\tremaining: 834ms\n",
      "51:\tlearn: 1441.0640811\ttotal: 733ms\tremaining: 818ms\n",
      "52:\tlearn: 1439.1800490\ttotal: 747ms\tremaining: 803ms\n",
      "53:\tlearn: 1436.8347243\ttotal: 761ms\tremaining: 789ms\n",
      "54:\tlearn: 1434.8998930\ttotal: 774ms\tremaining: 774ms\n",
      "55:\tlearn: 1433.1688947\ttotal: 787ms\tremaining: 759ms\n",
      "56:\tlearn: 1429.8092884\ttotal: 801ms\tremaining: 745ms\n",
      "57:\tlearn: 1428.1928816\ttotal: 815ms\tremaining: 730ms\n",
      "58:\tlearn: 1426.4864728\ttotal: 829ms\tremaining: 716ms\n",
      "59:\tlearn: 1425.2043856\ttotal: 843ms\tremaining: 703ms\n",
      "60:\tlearn: 1423.5685852\ttotal: 857ms\tremaining: 689ms\n",
      "61:\tlearn: 1422.5639340\ttotal: 870ms\tremaining: 674ms\n",
      "62:\tlearn: 1421.3863125\ttotal: 884ms\tremaining: 660ms\n",
      "63:\tlearn: 1419.7880338\ttotal: 898ms\tremaining: 646ms\n",
      "64:\tlearn: 1418.5227173\ttotal: 911ms\tremaining: 631ms\n",
      "65:\tlearn: 1416.8034930\ttotal: 924ms\tremaining: 616ms\n",
      "66:\tlearn: 1415.5046684\ttotal: 937ms\tremaining: 601ms\n",
      "67:\tlearn: 1414.6413160\ttotal: 950ms\tremaining: 587ms\n",
      "68:\tlearn: 1413.2452301\ttotal: 963ms\tremaining: 572ms\n",
      "69:\tlearn: 1412.2680722\ttotal: 977ms\tremaining: 558ms\n",
      "70:\tlearn: 1410.8841054\ttotal: 991ms\tremaining: 544ms\n",
      "71:\tlearn: 1409.5250109\ttotal: 1s\tremaining: 531ms\n",
      "72:\tlearn: 1408.4537740\ttotal: 1.02s\tremaining: 516ms\n",
      "73:\tlearn: 1407.0146046\ttotal: 1.03s\tremaining: 503ms\n",
      "74:\tlearn: 1406.0095006\ttotal: 1.05s\tremaining: 488ms\n",
      "75:\tlearn: 1405.3281388\ttotal: 1.06s\tremaining: 474ms\n",
      "76:\tlearn: 1404.3343389\ttotal: 1.07s\tremaining: 460ms\n",
      "77:\tlearn: 1402.9120763\ttotal: 1.09s\tremaining: 447ms\n",
      "78:\tlearn: 1402.0966215\ttotal: 1.1s\tremaining: 433ms\n",
      "79:\tlearn: 1401.0533709\ttotal: 1.12s\tremaining: 419ms\n",
      "80:\tlearn: 1400.0215534\ttotal: 1.13s\tremaining: 404ms\n",
      "81:\tlearn: 1398.1855437\ttotal: 1.14s\tremaining: 391ms\n",
      "82:\tlearn: 1395.6510021\ttotal: 1.16s\tremaining: 377ms\n",
      "83:\tlearn: 1394.4702051\ttotal: 1.17s\tremaining: 363ms\n",
      "84:\tlearn: 1393.3394986\ttotal: 1.19s\tremaining: 349ms\n",
      "85:\tlearn: 1392.8001998\ttotal: 1.2s\tremaining: 335ms\n",
      "86:\tlearn: 1391.7987962\ttotal: 1.22s\tremaining: 321ms\n",
      "87:\tlearn: 1391.1696014\ttotal: 1.23s\tremaining: 307ms\n",
      "88:\tlearn: 1389.9752665\ttotal: 1.24s\tremaining: 293ms\n",
      "89:\tlearn: 1388.7935985\ttotal: 1.26s\tremaining: 279ms\n",
      "90:\tlearn: 1387.8102434\ttotal: 1.27s\tremaining: 265ms\n",
      "91:\tlearn: 1386.6348436\ttotal: 1.28s\tremaining: 251ms\n",
      "92:\tlearn: 1385.8064652\ttotal: 1.3s\tremaining: 237ms\n",
      "93:\tlearn: 1384.9968699\ttotal: 1.31s\tremaining: 223ms\n",
      "94:\tlearn: 1384.3460325\ttotal: 1.32s\tremaining: 209ms\n",
      "95:\tlearn: 1383.8790737\ttotal: 1.33s\tremaining: 195ms\n",
      "96:\tlearn: 1383.3091463\ttotal: 1.35s\tremaining: 181ms\n",
      "97:\tlearn: 1382.3002826\ttotal: 1.36s\tremaining: 167ms\n",
      "98:\tlearn: 1381.5723016\ttotal: 1.37s\tremaining: 153ms\n",
      "99:\tlearn: 1381.1007297\ttotal: 1.39s\tremaining: 139ms\n",
      "100:\tlearn: 1380.5070306\ttotal: 1.4s\tremaining: 125ms\n",
      "101:\tlearn: 1378.7218005\ttotal: 1.41s\tremaining: 111ms\n",
      "102:\tlearn: 1378.0525520\ttotal: 1.42s\tremaining: 96.8ms\n",
      "103:\tlearn: 1377.0976242\ttotal: 1.44s\tremaining: 83ms\n",
      "104:\tlearn: 1376.1897303\ttotal: 1.45s\tremaining: 69.2ms\n",
      "105:\tlearn: 1375.1863984\ttotal: 1.47s\tremaining: 55.4ms\n",
      "106:\tlearn: 1374.3294428\ttotal: 1.48s\tremaining: 41.5ms\n",
      "107:\tlearn: 1373.8801545\ttotal: 1.5s\tremaining: 27.7ms\n",
      "108:\tlearn: 1373.3545015\ttotal: 1.51s\tremaining: 13.9ms\n",
      "109:\tlearn: 1372.7072327\ttotal: 1.52s\tremaining: 0us\n",
      "CPU times: total: 10.8 s\n",
      "Wall time: 1.91 s\n"
     ]
    },
    {
     "data": {
      "text/plain": [
       "<catboost.core.CatBoostRegressor at 0x18d32eab880>"
      ]
     },
     "execution_count": 133,
     "metadata": {},
     "output_type": "execute_result"
    }
   ],
   "source": [
    "%%time\n",
    "GS_cat_best.fit(features_train, target_train)"
   ]
  },
  {
   "cell_type": "code",
   "execution_count": 134,
   "metadata": {},
   "outputs": [
    {
     "name": "stdout",
     "output_type": "stream",
     "text": [
      "CPU times: total: 203 ms\n",
      "Wall time: 166 ms\n"
     ]
    }
   ],
   "source": [
    "%%time\n",
    "cat_predictions = GS_cat_best.predict(features_valid)"
   ]
  },
  {
   "cell_type": "code",
   "execution_count": 135,
   "metadata": {},
   "outputs": [
    {
     "data": {
      "text/plain": [
       "1396.7925732917204"
      ]
     },
     "execution_count": 135,
     "metadata": {},
     "output_type": "execute_result"
    }
   ],
   "source": [
    "# rmse по валидационной выборке\n",
    "rmse(target_valid, cat_predictions)"
   ]
  },
  {
   "cell_type": "markdown",
   "metadata": {},
   "source": [
    "**Модель регрессии случайного леса**"
   ]
  },
  {
   "cell_type": "code",
   "execution_count": 136,
   "metadata": {},
   "outputs": [],
   "source": [
    "forest_model = RandomForestRegressor(random_state=12345)"
   ]
  },
  {
   "cell_type": "markdown",
   "metadata": {},
   "source": [
    "Создаем GridSearchCV объект"
   ]
  },
  {
   "cell_type": "code",
   "execution_count": 137,
   "metadata": {},
   "outputs": [],
   "source": [
    "#x for x in range(10, 60, 10)\n",
    "GS_forest = GridSearchCV(estimator = forest_model,\n",
    "                  param_grid = {'max_depth':[5],\n",
    "                  'n_estimators':[10, 20, 30]},\n",
    "                  scoring = rmse_scorer,\n",
    "                  cv=2\n",
    "                  )"
   ]
  },
  {
   "cell_type": "code",
   "execution_count": 138,
   "metadata": {},
   "outputs": [
    {
     "name": "stdout",
     "output_type": "stream",
     "text": [
      "CPU times: total: 5.73 s\n",
      "Wall time: 5.92 s\n"
     ]
    },
    {
     "data": {
      "text/html": [
       "<style>#sk-container-id-7 {color: black;background-color: white;}#sk-container-id-7 pre{padding: 0;}#sk-container-id-7 div.sk-toggleable {background-color: white;}#sk-container-id-7 label.sk-toggleable__label {cursor: pointer;display: block;width: 100%;margin-bottom: 0;padding: 0.3em;box-sizing: border-box;text-align: center;}#sk-container-id-7 label.sk-toggleable__label-arrow:before {content: \"▸\";float: left;margin-right: 0.25em;color: #696969;}#sk-container-id-7 label.sk-toggleable__label-arrow:hover:before {color: black;}#sk-container-id-7 div.sk-estimator:hover label.sk-toggleable__label-arrow:before {color: black;}#sk-container-id-7 div.sk-toggleable__content {max-height: 0;max-width: 0;overflow: hidden;text-align: left;background-color: #f0f8ff;}#sk-container-id-7 div.sk-toggleable__content pre {margin: 0.2em;color: black;border-radius: 0.25em;background-color: #f0f8ff;}#sk-container-id-7 input.sk-toggleable__control:checked~div.sk-toggleable__content {max-height: 200px;max-width: 100%;overflow: auto;}#sk-container-id-7 input.sk-toggleable__control:checked~label.sk-toggleable__label-arrow:before {content: \"▾\";}#sk-container-id-7 div.sk-estimator input.sk-toggleable__control:checked~label.sk-toggleable__label {background-color: #d4ebff;}#sk-container-id-7 div.sk-label input.sk-toggleable__control:checked~label.sk-toggleable__label {background-color: #d4ebff;}#sk-container-id-7 input.sk-hidden--visually {border: 0;clip: rect(1px 1px 1px 1px);clip: rect(1px, 1px, 1px, 1px);height: 1px;margin: -1px;overflow: hidden;padding: 0;position: absolute;width: 1px;}#sk-container-id-7 div.sk-estimator {font-family: monospace;background-color: #f0f8ff;border: 1px dotted black;border-radius: 0.25em;box-sizing: border-box;margin-bottom: 0.5em;}#sk-container-id-7 div.sk-estimator:hover {background-color: #d4ebff;}#sk-container-id-7 div.sk-parallel-item::after {content: \"\";width: 100%;border-bottom: 1px solid gray;flex-grow: 1;}#sk-container-id-7 div.sk-label:hover label.sk-toggleable__label {background-color: #d4ebff;}#sk-container-id-7 div.sk-serial::before {content: \"\";position: absolute;border-left: 1px solid gray;box-sizing: border-box;top: 0;bottom: 0;left: 50%;z-index: 0;}#sk-container-id-7 div.sk-serial {display: flex;flex-direction: column;align-items: center;background-color: white;padding-right: 0.2em;padding-left: 0.2em;position: relative;}#sk-container-id-7 div.sk-item {position: relative;z-index: 1;}#sk-container-id-7 div.sk-parallel {display: flex;align-items: stretch;justify-content: center;background-color: white;position: relative;}#sk-container-id-7 div.sk-item::before, #sk-container-id-7 div.sk-parallel-item::before {content: \"\";position: absolute;border-left: 1px solid gray;box-sizing: border-box;top: 0;bottom: 0;left: 50%;z-index: -1;}#sk-container-id-7 div.sk-parallel-item {display: flex;flex-direction: column;z-index: 1;position: relative;background-color: white;}#sk-container-id-7 div.sk-parallel-item:first-child::after {align-self: flex-end;width: 50%;}#sk-container-id-7 div.sk-parallel-item:last-child::after {align-self: flex-start;width: 50%;}#sk-container-id-7 div.sk-parallel-item:only-child::after {width: 0;}#sk-container-id-7 div.sk-dashed-wrapped {border: 1px dashed gray;margin: 0 0.4em 0.5em 0.4em;box-sizing: border-box;padding-bottom: 0.4em;background-color: white;}#sk-container-id-7 div.sk-label label {font-family: monospace;font-weight: bold;display: inline-block;line-height: 1.2em;}#sk-container-id-7 div.sk-label-container {text-align: center;}#sk-container-id-7 div.sk-container {/* jupyter's `normalize.less` sets `[hidden] { display: none; }` but bootstrap.min.css set `[hidden] { display: none !important; }` so we also need the `!important` here to be able to override the default hidden behavior on the sphinx rendered scikit-learn.org. See: https://github.com/scikit-learn/scikit-learn/issues/21755 */display: inline-block !important;position: relative;}#sk-container-id-7 div.sk-text-repr-fallback {display: none;}</style><div id=\"sk-container-id-7\" class=\"sk-top-container\"><div class=\"sk-text-repr-fallback\"><pre>GridSearchCV(cv=2, estimator=RandomForestRegressor(random_state=12345),\n",
       "             param_grid={&#x27;max_depth&#x27;: [5], &#x27;n_estimators&#x27;: [10, 20, 30]},\n",
       "             scoring=make_scorer(rmse, greater_is_better=False))</pre><b>In a Jupyter environment, please rerun this cell to show the HTML representation or trust the notebook. <br />On GitHub, the HTML representation is unable to render, please try loading this page with nbviewer.org.</b></div><div class=\"sk-container\" hidden><div class=\"sk-item sk-dashed-wrapped\"><div class=\"sk-label-container\"><div class=\"sk-label sk-toggleable\"><input class=\"sk-toggleable__control sk-hidden--visually\" id=\"sk-estimator-id-11\" type=\"checkbox\" ><label for=\"sk-estimator-id-11\" class=\"sk-toggleable__label sk-toggleable__label-arrow\">GridSearchCV</label><div class=\"sk-toggleable__content\"><pre>GridSearchCV(cv=2, estimator=RandomForestRegressor(random_state=12345),\n",
       "             param_grid={&#x27;max_depth&#x27;: [5], &#x27;n_estimators&#x27;: [10, 20, 30]},\n",
       "             scoring=make_scorer(rmse, greater_is_better=False))</pre></div></div></div><div class=\"sk-parallel\"><div class=\"sk-parallel-item\"><div class=\"sk-item\"><div class=\"sk-label-container\"><div class=\"sk-label sk-toggleable\"><input class=\"sk-toggleable__control sk-hidden--visually\" id=\"sk-estimator-id-12\" type=\"checkbox\" ><label for=\"sk-estimator-id-12\" class=\"sk-toggleable__label sk-toggleable__label-arrow\">estimator: RandomForestRegressor</label><div class=\"sk-toggleable__content\"><pre>RandomForestRegressor(random_state=12345)</pre></div></div></div><div class=\"sk-serial\"><div class=\"sk-item\"><div class=\"sk-estimator sk-toggleable\"><input class=\"sk-toggleable__control sk-hidden--visually\" id=\"sk-estimator-id-13\" type=\"checkbox\" ><label for=\"sk-estimator-id-13\" class=\"sk-toggleable__label sk-toggleable__label-arrow\">RandomForestRegressor</label><div class=\"sk-toggleable__content\"><pre>RandomForestRegressor(random_state=12345)</pre></div></div></div></div></div></div></div></div></div></div>"
      ],
      "text/plain": [
       "GridSearchCV(cv=2, estimator=RandomForestRegressor(random_state=12345),\n",
       "             param_grid={'max_depth': [5], 'n_estimators': [10, 20, 30]},\n",
       "             scoring=make_scorer(rmse, greater_is_better=False))"
      ]
     },
     "execution_count": 138,
     "metadata": {},
     "output_type": "execute_result"
    }
   ],
   "source": [
    "%%time\n",
    "GS_forest.fit(features_train_ordinal, target_train)"
   ]
  },
  {
   "cell_type": "code",
   "execution_count": 139,
   "metadata": {},
   "outputs": [
    {
     "data": {
      "text/plain": [
       "-1881.5332996854654"
      ]
     },
     "execution_count": 139,
     "metadata": {},
     "output_type": "execute_result"
    }
   ],
   "source": [
    "GS_forest.best_score_ # Лучшее значение rmse для lgb_booster"
   ]
  },
  {
   "cell_type": "code",
   "execution_count": 140,
   "metadata": {},
   "outputs": [],
   "source": [
    "GS_forest_best = GS_forest.best_estimator_"
   ]
  },
  {
   "cell_type": "code",
   "execution_count": 141,
   "metadata": {},
   "outputs": [
    {
     "name": "stdout",
     "output_type": "stream",
     "text": [
      "CPU times: total: 953 ms\n",
      "Wall time: 980 ms\n"
     ]
    },
    {
     "data": {
      "text/html": [
       "<style>#sk-container-id-8 {color: black;background-color: white;}#sk-container-id-8 pre{padding: 0;}#sk-container-id-8 div.sk-toggleable {background-color: white;}#sk-container-id-8 label.sk-toggleable__label {cursor: pointer;display: block;width: 100%;margin-bottom: 0;padding: 0.3em;box-sizing: border-box;text-align: center;}#sk-container-id-8 label.sk-toggleable__label-arrow:before {content: \"▸\";float: left;margin-right: 0.25em;color: #696969;}#sk-container-id-8 label.sk-toggleable__label-arrow:hover:before {color: black;}#sk-container-id-8 div.sk-estimator:hover label.sk-toggleable__label-arrow:before {color: black;}#sk-container-id-8 div.sk-toggleable__content {max-height: 0;max-width: 0;overflow: hidden;text-align: left;background-color: #f0f8ff;}#sk-container-id-8 div.sk-toggleable__content pre {margin: 0.2em;color: black;border-radius: 0.25em;background-color: #f0f8ff;}#sk-container-id-8 input.sk-toggleable__control:checked~div.sk-toggleable__content {max-height: 200px;max-width: 100%;overflow: auto;}#sk-container-id-8 input.sk-toggleable__control:checked~label.sk-toggleable__label-arrow:before {content: \"▾\";}#sk-container-id-8 div.sk-estimator input.sk-toggleable__control:checked~label.sk-toggleable__label {background-color: #d4ebff;}#sk-container-id-8 div.sk-label input.sk-toggleable__control:checked~label.sk-toggleable__label {background-color: #d4ebff;}#sk-container-id-8 input.sk-hidden--visually {border: 0;clip: rect(1px 1px 1px 1px);clip: rect(1px, 1px, 1px, 1px);height: 1px;margin: -1px;overflow: hidden;padding: 0;position: absolute;width: 1px;}#sk-container-id-8 div.sk-estimator {font-family: monospace;background-color: #f0f8ff;border: 1px dotted black;border-radius: 0.25em;box-sizing: border-box;margin-bottom: 0.5em;}#sk-container-id-8 div.sk-estimator:hover {background-color: #d4ebff;}#sk-container-id-8 div.sk-parallel-item::after {content: \"\";width: 100%;border-bottom: 1px solid gray;flex-grow: 1;}#sk-container-id-8 div.sk-label:hover label.sk-toggleable__label {background-color: #d4ebff;}#sk-container-id-8 div.sk-serial::before {content: \"\";position: absolute;border-left: 1px solid gray;box-sizing: border-box;top: 0;bottom: 0;left: 50%;z-index: 0;}#sk-container-id-8 div.sk-serial {display: flex;flex-direction: column;align-items: center;background-color: white;padding-right: 0.2em;padding-left: 0.2em;position: relative;}#sk-container-id-8 div.sk-item {position: relative;z-index: 1;}#sk-container-id-8 div.sk-parallel {display: flex;align-items: stretch;justify-content: center;background-color: white;position: relative;}#sk-container-id-8 div.sk-item::before, #sk-container-id-8 div.sk-parallel-item::before {content: \"\";position: absolute;border-left: 1px solid gray;box-sizing: border-box;top: 0;bottom: 0;left: 50%;z-index: -1;}#sk-container-id-8 div.sk-parallel-item {display: flex;flex-direction: column;z-index: 1;position: relative;background-color: white;}#sk-container-id-8 div.sk-parallel-item:first-child::after {align-self: flex-end;width: 50%;}#sk-container-id-8 div.sk-parallel-item:last-child::after {align-self: flex-start;width: 50%;}#sk-container-id-8 div.sk-parallel-item:only-child::after {width: 0;}#sk-container-id-8 div.sk-dashed-wrapped {border: 1px dashed gray;margin: 0 0.4em 0.5em 0.4em;box-sizing: border-box;padding-bottom: 0.4em;background-color: white;}#sk-container-id-8 div.sk-label label {font-family: monospace;font-weight: bold;display: inline-block;line-height: 1.2em;}#sk-container-id-8 div.sk-label-container {text-align: center;}#sk-container-id-8 div.sk-container {/* jupyter's `normalize.less` sets `[hidden] { display: none; }` but bootstrap.min.css set `[hidden] { display: none !important; }` so we also need the `!important` here to be able to override the default hidden behavior on the sphinx rendered scikit-learn.org. See: https://github.com/scikit-learn/scikit-learn/issues/21755 */display: inline-block !important;position: relative;}#sk-container-id-8 div.sk-text-repr-fallback {display: none;}</style><div id=\"sk-container-id-8\" class=\"sk-top-container\"><div class=\"sk-text-repr-fallback\"><pre>RandomForestRegressor(max_depth=5, n_estimators=10, random_state=12345)</pre><b>In a Jupyter environment, please rerun this cell to show the HTML representation or trust the notebook. <br />On GitHub, the HTML representation is unable to render, please try loading this page with nbviewer.org.</b></div><div class=\"sk-container\" hidden><div class=\"sk-item\"><div class=\"sk-estimator sk-toggleable\"><input class=\"sk-toggleable__control sk-hidden--visually\" id=\"sk-estimator-id-14\" type=\"checkbox\" checked><label for=\"sk-estimator-id-14\" class=\"sk-toggleable__label sk-toggleable__label-arrow\">RandomForestRegressor</label><div class=\"sk-toggleable__content\"><pre>RandomForestRegressor(max_depth=5, n_estimators=10, random_state=12345)</pre></div></div></div></div></div>"
      ],
      "text/plain": [
       "RandomForestRegressor(max_depth=5, n_estimators=10, random_state=12345)"
      ]
     },
     "execution_count": 141,
     "metadata": {},
     "output_type": "execute_result"
    }
   ],
   "source": [
    "%%time\n",
    "GS_forest_best.fit(features_train_ordinal, target_train)"
   ]
  },
  {
   "cell_type": "code",
   "execution_count": 142,
   "metadata": {},
   "outputs": [
    {
     "name": "stdout",
     "output_type": "stream",
     "text": [
      "CPU times: total: 46.9 ms\n",
      "Wall time: 34.2 ms\n"
     ]
    }
   ],
   "source": [
    "%%time\n",
    "forest_predictions = GS_forest_best.predict(features_valid_ordinal)"
   ]
  },
  {
   "cell_type": "code",
   "execution_count": 143,
   "metadata": {},
   "outputs": [
    {
     "data": {
      "text/plain": [
       "1916.1676231448528"
      ]
     },
     "execution_count": 143,
     "metadata": {},
     "output_type": "execute_result"
    }
   ],
   "source": [
    "# rmse по валидационной выборке\n",
    "rmse(target_valid, forest_predictions)"
   ]
  },
  {
   "cell_type": "markdown",
   "metadata": {},
   "source": [
    "**Модель линейной регрессии**"
   ]
  },
  {
   "cell_type": "code",
   "execution_count": 144,
   "metadata": {},
   "outputs": [],
   "source": [
    "linear_model = LinearRegression()"
   ]
  },
  {
   "cell_type": "code",
   "execution_count": 145,
   "metadata": {},
   "outputs": [
    {
     "name": "stdout",
     "output_type": "stream",
     "text": [
      "CPU times: total: 13.4 s\n",
      "Wall time: 5.07 s\n"
     ]
    },
    {
     "data": {
      "text/html": [
       "<style>#sk-container-id-9 {color: black;background-color: white;}#sk-container-id-9 pre{padding: 0;}#sk-container-id-9 div.sk-toggleable {background-color: white;}#sk-container-id-9 label.sk-toggleable__label {cursor: pointer;display: block;width: 100%;margin-bottom: 0;padding: 0.3em;box-sizing: border-box;text-align: center;}#sk-container-id-9 label.sk-toggleable__label-arrow:before {content: \"▸\";float: left;margin-right: 0.25em;color: #696969;}#sk-container-id-9 label.sk-toggleable__label-arrow:hover:before {color: black;}#sk-container-id-9 div.sk-estimator:hover label.sk-toggleable__label-arrow:before {color: black;}#sk-container-id-9 div.sk-toggleable__content {max-height: 0;max-width: 0;overflow: hidden;text-align: left;background-color: #f0f8ff;}#sk-container-id-9 div.sk-toggleable__content pre {margin: 0.2em;color: black;border-radius: 0.25em;background-color: #f0f8ff;}#sk-container-id-9 input.sk-toggleable__control:checked~div.sk-toggleable__content {max-height: 200px;max-width: 100%;overflow: auto;}#sk-container-id-9 input.sk-toggleable__control:checked~label.sk-toggleable__label-arrow:before {content: \"▾\";}#sk-container-id-9 div.sk-estimator input.sk-toggleable__control:checked~label.sk-toggleable__label {background-color: #d4ebff;}#sk-container-id-9 div.sk-label input.sk-toggleable__control:checked~label.sk-toggleable__label {background-color: #d4ebff;}#sk-container-id-9 input.sk-hidden--visually {border: 0;clip: rect(1px 1px 1px 1px);clip: rect(1px, 1px, 1px, 1px);height: 1px;margin: -1px;overflow: hidden;padding: 0;position: absolute;width: 1px;}#sk-container-id-9 div.sk-estimator {font-family: monospace;background-color: #f0f8ff;border: 1px dotted black;border-radius: 0.25em;box-sizing: border-box;margin-bottom: 0.5em;}#sk-container-id-9 div.sk-estimator:hover {background-color: #d4ebff;}#sk-container-id-9 div.sk-parallel-item::after {content: \"\";width: 100%;border-bottom: 1px solid gray;flex-grow: 1;}#sk-container-id-9 div.sk-label:hover label.sk-toggleable__label {background-color: #d4ebff;}#sk-container-id-9 div.sk-serial::before {content: \"\";position: absolute;border-left: 1px solid gray;box-sizing: border-box;top: 0;bottom: 0;left: 50%;z-index: 0;}#sk-container-id-9 div.sk-serial {display: flex;flex-direction: column;align-items: center;background-color: white;padding-right: 0.2em;padding-left: 0.2em;position: relative;}#sk-container-id-9 div.sk-item {position: relative;z-index: 1;}#sk-container-id-9 div.sk-parallel {display: flex;align-items: stretch;justify-content: center;background-color: white;position: relative;}#sk-container-id-9 div.sk-item::before, #sk-container-id-9 div.sk-parallel-item::before {content: \"\";position: absolute;border-left: 1px solid gray;box-sizing: border-box;top: 0;bottom: 0;left: 50%;z-index: -1;}#sk-container-id-9 div.sk-parallel-item {display: flex;flex-direction: column;z-index: 1;position: relative;background-color: white;}#sk-container-id-9 div.sk-parallel-item:first-child::after {align-self: flex-end;width: 50%;}#sk-container-id-9 div.sk-parallel-item:last-child::after {align-self: flex-start;width: 50%;}#sk-container-id-9 div.sk-parallel-item:only-child::after {width: 0;}#sk-container-id-9 div.sk-dashed-wrapped {border: 1px dashed gray;margin: 0 0.4em 0.5em 0.4em;box-sizing: border-box;padding-bottom: 0.4em;background-color: white;}#sk-container-id-9 div.sk-label label {font-family: monospace;font-weight: bold;display: inline-block;line-height: 1.2em;}#sk-container-id-9 div.sk-label-container {text-align: center;}#sk-container-id-9 div.sk-container {/* jupyter's `normalize.less` sets `[hidden] { display: none; }` but bootstrap.min.css set `[hidden] { display: none !important; }` so we also need the `!important` here to be able to override the default hidden behavior on the sphinx rendered scikit-learn.org. See: https://github.com/scikit-learn/scikit-learn/issues/21755 */display: inline-block !important;position: relative;}#sk-container-id-9 div.sk-text-repr-fallback {display: none;}</style><div id=\"sk-container-id-9\" class=\"sk-top-container\"><div class=\"sk-text-repr-fallback\"><pre>LinearRegression()</pre><b>In a Jupyter environment, please rerun this cell to show the HTML representation or trust the notebook. <br />On GitHub, the HTML representation is unable to render, please try loading this page with nbviewer.org.</b></div><div class=\"sk-container\" hidden><div class=\"sk-item\"><div class=\"sk-estimator sk-toggleable\"><input class=\"sk-toggleable__control sk-hidden--visually\" id=\"sk-estimator-id-15\" type=\"checkbox\" checked><label for=\"sk-estimator-id-15\" class=\"sk-toggleable__label sk-toggleable__label-arrow\">LinearRegression</label><div class=\"sk-toggleable__content\"><pre>LinearRegression()</pre></div></div></div></div></div>"
      ],
      "text/plain": [
       "LinearRegression()"
      ]
     },
     "execution_count": 145,
     "metadata": {},
     "output_type": "execute_result"
    }
   ],
   "source": [
    "%%time\n",
    "linear_model.fit(features_train, target_train)"
   ]
  },
  {
   "cell_type": "code",
   "execution_count": 146,
   "metadata": {},
   "outputs": [
    {
     "name": "stdout",
     "output_type": "stream",
     "text": [
      "CPU times: total: 203 ms\n",
      "Wall time: 124 ms\n"
     ]
    }
   ],
   "source": [
    "%%time\n",
    "linear_predictions = linear_model.predict(features_valid)"
   ]
  },
  {
   "cell_type": "code",
   "execution_count": 147,
   "metadata": {},
   "outputs": [
    {
     "data": {
      "text/plain": [
       "2030.9733892885113"
      ]
     },
     "execution_count": 147,
     "metadata": {},
     "output_type": "execute_result"
    }
   ],
   "source": [
    "# rmse по валидационной выборке\n",
    "rmse(target_valid, linear_predictions)"
   ]
  },
  {
   "cell_type": "markdown",
   "metadata": {},
   "source": [
    "## Анализ моделей"
   ]
  },
  {
   "cell_type": "markdown",
   "metadata": {},
   "source": [
    "**Результат для LightGBM**"
   ]
  },
  {
   "cell_type": "markdown",
   "metadata": {},
   "source": [
    "Время обучения: 793 ms\n",
    "\n",
    "Время предсказания: 226 ms\n",
    "\n",
    "RMSE: 1345"
   ]
  },
  {
   "cell_type": "markdown",
   "metadata": {},
   "source": [
    "**Результаты для CatBoost**"
   ]
  },
  {
   "cell_type": "markdown",
   "metadata": {},
   "source": [
    "Время обучения: 1.84 s\n",
    "\n",
    "Время предсказания: 40 ms\n",
    "\n",
    "RMSE: 1397"
   ]
  },
  {
   "cell_type": "markdown",
   "metadata": {},
   "source": [
    "**Результаты для RandomForestRegressor**"
   ]
  },
  {
   "cell_type": "markdown",
   "metadata": {},
   "source": [
    "Время обучения: 906 ms\n",
    "\n",
    "Время предсказания: 32 ms\n",
    "\n",
    "RMSE: 1916"
   ]
  },
  {
   "cell_type": "markdown",
   "metadata": {},
   "source": [
    "**Результаты для LinearRegression**"
   ]
  },
  {
   "cell_type": "markdown",
   "metadata": {},
   "source": [
    "Время обучения: 3.52 s\n",
    "\n",
    "Время предсказания: 123 ms\n",
    "\n",
    "RMSE: 2031"
   ]
  },
  {
   "cell_type": "markdown",
   "metadata": {},
   "source": [
    "**Лучшая модель**\n",
    "\n",
    "Модель LightGBM существенно превосходит другие модели по качеству предсказаний и скорости обучения, поэтому выберем ее как основную.  "
   ]
  },
  {
   "cell_type": "markdown",
   "metadata": {},
   "source": [
    "## Тестирование"
   ]
  },
  {
   "cell_type": "code",
   "execution_count": 148,
   "metadata": {},
   "outputs": [
    {
     "name": "stdout",
     "output_type": "stream",
     "text": [
      "CPU times: total: 844 ms\n",
      "Wall time: 313 ms\n"
     ]
    }
   ],
   "source": [
    "%%time\n",
    "lgb_test_predictions = lgb_best.predict(features_test)"
   ]
  },
  {
   "cell_type": "code",
   "execution_count": 149,
   "metadata": {},
   "outputs": [
    {
     "data": {
      "text/plain": [
       "1332.236090654697"
      ]
     },
     "execution_count": 149,
     "metadata": {},
     "output_type": "execute_result"
    }
   ],
   "source": [
    "# rmse по валидационной выборке\n",
    "rmse(target_test, lgb_test_predictions)"
   ]
  },
  {
   "cell_type": "markdown",
   "metadata": {},
   "source": [
    "Качество предсказания на тестовой выборке даже немного улучшилось"
   ]
  },
  {
   "cell_type": "markdown",
   "metadata": {},
   "source": [
    "**Сравним модель с константной**"
   ]
  },
  {
   "cell_type": "code",
   "execution_count": 150,
   "metadata": {},
   "outputs": [],
   "source": [
    "dummy_regr = DummyRegressor(strategy=\"median\")"
   ]
  },
  {
   "cell_type": "code",
   "execution_count": 151,
   "metadata": {},
   "outputs": [
    {
     "name": "stdout",
     "output_type": "stream",
     "text": [
      "CPU times: total: 0 ns\n",
      "Wall time: 3 ms\n"
     ]
    },
    {
     "data": {
      "text/html": [
       "<style>#sk-container-id-10 {color: black;background-color: white;}#sk-container-id-10 pre{padding: 0;}#sk-container-id-10 div.sk-toggleable {background-color: white;}#sk-container-id-10 label.sk-toggleable__label {cursor: pointer;display: block;width: 100%;margin-bottom: 0;padding: 0.3em;box-sizing: border-box;text-align: center;}#sk-container-id-10 label.sk-toggleable__label-arrow:before {content: \"▸\";float: left;margin-right: 0.25em;color: #696969;}#sk-container-id-10 label.sk-toggleable__label-arrow:hover:before {color: black;}#sk-container-id-10 div.sk-estimator:hover label.sk-toggleable__label-arrow:before {color: black;}#sk-container-id-10 div.sk-toggleable__content {max-height: 0;max-width: 0;overflow: hidden;text-align: left;background-color: #f0f8ff;}#sk-container-id-10 div.sk-toggleable__content pre {margin: 0.2em;color: black;border-radius: 0.25em;background-color: #f0f8ff;}#sk-container-id-10 input.sk-toggleable__control:checked~div.sk-toggleable__content {max-height: 200px;max-width: 100%;overflow: auto;}#sk-container-id-10 input.sk-toggleable__control:checked~label.sk-toggleable__label-arrow:before {content: \"▾\";}#sk-container-id-10 div.sk-estimator input.sk-toggleable__control:checked~label.sk-toggleable__label {background-color: #d4ebff;}#sk-container-id-10 div.sk-label input.sk-toggleable__control:checked~label.sk-toggleable__label {background-color: #d4ebff;}#sk-container-id-10 input.sk-hidden--visually {border: 0;clip: rect(1px 1px 1px 1px);clip: rect(1px, 1px, 1px, 1px);height: 1px;margin: -1px;overflow: hidden;padding: 0;position: absolute;width: 1px;}#sk-container-id-10 div.sk-estimator {font-family: monospace;background-color: #f0f8ff;border: 1px dotted black;border-radius: 0.25em;box-sizing: border-box;margin-bottom: 0.5em;}#sk-container-id-10 div.sk-estimator:hover {background-color: #d4ebff;}#sk-container-id-10 div.sk-parallel-item::after {content: \"\";width: 100%;border-bottom: 1px solid gray;flex-grow: 1;}#sk-container-id-10 div.sk-label:hover label.sk-toggleable__label {background-color: #d4ebff;}#sk-container-id-10 div.sk-serial::before {content: \"\";position: absolute;border-left: 1px solid gray;box-sizing: border-box;top: 0;bottom: 0;left: 50%;z-index: 0;}#sk-container-id-10 div.sk-serial {display: flex;flex-direction: column;align-items: center;background-color: white;padding-right: 0.2em;padding-left: 0.2em;position: relative;}#sk-container-id-10 div.sk-item {position: relative;z-index: 1;}#sk-container-id-10 div.sk-parallel {display: flex;align-items: stretch;justify-content: center;background-color: white;position: relative;}#sk-container-id-10 div.sk-item::before, #sk-container-id-10 div.sk-parallel-item::before {content: \"\";position: absolute;border-left: 1px solid gray;box-sizing: border-box;top: 0;bottom: 0;left: 50%;z-index: -1;}#sk-container-id-10 div.sk-parallel-item {display: flex;flex-direction: column;z-index: 1;position: relative;background-color: white;}#sk-container-id-10 div.sk-parallel-item:first-child::after {align-self: flex-end;width: 50%;}#sk-container-id-10 div.sk-parallel-item:last-child::after {align-self: flex-start;width: 50%;}#sk-container-id-10 div.sk-parallel-item:only-child::after {width: 0;}#sk-container-id-10 div.sk-dashed-wrapped {border: 1px dashed gray;margin: 0 0.4em 0.5em 0.4em;box-sizing: border-box;padding-bottom: 0.4em;background-color: white;}#sk-container-id-10 div.sk-label label {font-family: monospace;font-weight: bold;display: inline-block;line-height: 1.2em;}#sk-container-id-10 div.sk-label-container {text-align: center;}#sk-container-id-10 div.sk-container {/* jupyter's `normalize.less` sets `[hidden] { display: none; }` but bootstrap.min.css set `[hidden] { display: none !important; }` so we also need the `!important` here to be able to override the default hidden behavior on the sphinx rendered scikit-learn.org. See: https://github.com/scikit-learn/scikit-learn/issues/21755 */display: inline-block !important;position: relative;}#sk-container-id-10 div.sk-text-repr-fallback {display: none;}</style><div id=\"sk-container-id-10\" class=\"sk-top-container\"><div class=\"sk-text-repr-fallback\"><pre>DummyRegressor(strategy=&#x27;median&#x27;)</pre><b>In a Jupyter environment, please rerun this cell to show the HTML representation or trust the notebook. <br />On GitHub, the HTML representation is unable to render, please try loading this page with nbviewer.org.</b></div><div class=\"sk-container\" hidden><div class=\"sk-item\"><div class=\"sk-estimator sk-toggleable\"><input class=\"sk-toggleable__control sk-hidden--visually\" id=\"sk-estimator-id-16\" type=\"checkbox\" checked><label for=\"sk-estimator-id-16\" class=\"sk-toggleable__label sk-toggleable__label-arrow\">DummyRegressor</label><div class=\"sk-toggleable__content\"><pre>DummyRegressor(strategy=&#x27;median&#x27;)</pre></div></div></div></div></div>"
      ],
      "text/plain": [
       "DummyRegressor(strategy='median')"
      ]
     },
     "execution_count": 151,
     "metadata": {},
     "output_type": "execute_result"
    }
   ],
   "source": [
    "%%time\n",
    "dummy_regr.fit(features_train, target_train)"
   ]
  },
  {
   "cell_type": "code",
   "execution_count": 152,
   "metadata": {},
   "outputs": [
    {
     "name": "stdout",
     "output_type": "stream",
     "text": [
      "CPU times: total: 0 ns\n",
      "Wall time: 1e+03 µs\n"
     ]
    }
   ],
   "source": [
    "%%time\n",
    "dummy_predictions = dummy_regr.predict(features_test)"
   ]
  },
  {
   "cell_type": "code",
   "execution_count": 153,
   "metadata": {},
   "outputs": [
    {
     "data": {
      "text/plain": [
       "3527.0208481441764"
      ]
     },
     "execution_count": 153,
     "metadata": {},
     "output_type": "execute_result"
    }
   ],
   "source": [
    "# rmse по валидационной выборке\n",
    "rmse(target_valid, dummy_predictions)"
   ]
  },
  {
   "cell_type": "markdown",
   "metadata": {},
   "source": [
    "Модель прошла проверку на адекватность"
   ]
  },
  {
   "cell_type": "markdown",
   "metadata": {},
   "source": [
    "## Вывод"
   ]
  },
  {
   "cell_type": "markdown",
   "metadata": {},
   "source": [
    "Целью данного проекта было создание модели, предсказывающей рыночную стоимость автомобиля по его характеристикам. Заказчику были важны качество предсказания, время обучения и время предсказания модели. Для оценки качества моделей использовалась RMSE. \n",
    "\n",
    "В ходе предобработки были ликвидированы пропуски в данных, аномальные и неинформативные данные были удалены. \n",
    "\n",
    "В ходе исследования были рассмотрены 4 модели: \n",
    "* линейная регрессия;\n",
    "* регрессия случайного леса;\n",
    "* регрессия LightGBM;\n",
    "* регрессия CatBoost.\n",
    "\n",
    "Наилучшие результаты по времени обучения и качеству предсказания показала модель градиентного бустинга LightGBM, которая и была выбрана в качестве основной.\n",
    "\n",
    "На тестовой выборке модель регрессии LightGBM показала следующие результаты:\n",
    "* Время обучения: 1.08 s;\n",
    "* Время предсказания: 588 ms;\n",
    "* RMSE: 1332."
   ]
  }
 ],
 "metadata": {
  "ExecuteTimeLog": [
   {
    "duration": 879,
    "start_time": "2023-03-16T16:36:45.433Z"
   },
   {
    "duration": 3290,
    "start_time": "2023-03-16T16:36:48.322Z"
   },
   {
    "duration": 21,
    "start_time": "2023-03-16T16:36:51.615Z"
   },
   {
    "duration": 314,
    "start_time": "2023-03-16T16:36:51.638Z"
   },
   {
    "duration": 38,
    "start_time": "2023-03-16T16:36:51.954Z"
   },
   {
    "duration": 12,
    "start_time": "2023-03-16T16:36:51.994Z"
   },
   {
    "duration": 122,
    "start_time": "2023-03-16T16:36:52.008Z"
   },
   {
    "duration": 247,
    "start_time": "2023-03-16T16:36:52.132Z"
   },
   {
    "duration": 230,
    "start_time": "2023-03-16T16:36:52.381Z"
   },
   {
    "duration": 44,
    "start_time": "2023-03-16T16:36:52.613Z"
   },
   {
    "duration": 34,
    "start_time": "2023-03-16T16:36:52.662Z"
   },
   {
    "duration": 26,
    "start_time": "2023-03-16T16:36:52.699Z"
   },
   {
    "duration": 34,
    "start_time": "2023-03-16T16:36:52.727Z"
   },
   {
    "duration": 17,
    "start_time": "2023-03-16T16:36:52.762Z"
   },
   {
    "duration": 19,
    "start_time": "2023-03-16T16:36:52.781Z"
   },
   {
    "duration": 122,
    "start_time": "2023-03-16T16:36:52.804Z"
   },
   {
    "duration": 31,
    "start_time": "2023-03-16T16:36:52.929Z"
   },
   {
    "duration": 3,
    "start_time": "2023-03-16T16:36:53.082Z"
   },
   {
    "duration": 3,
    "start_time": "2023-03-16T16:36:53.258Z"
   },
   {
    "duration": 20,
    "start_time": "2023-03-16T16:36:53.431Z"
   },
   {
    "duration": 6,
    "start_time": "2023-03-16T16:36:53.592Z"
   },
   {
    "duration": 3,
    "start_time": "2023-03-16T16:36:53.762Z"
   },
   {
    "duration": 5,
    "start_time": "2023-03-16T16:36:53.955Z"
   },
   {
    "duration": 48,
    "start_time": "2023-03-16T16:36:54.381Z"
   },
   {
    "duration": 16,
    "start_time": "2023-03-16T16:36:54.592Z"
   },
   {
    "duration": 19,
    "start_time": "2023-03-16T16:36:55.253Z"
   },
   {
    "duration": 57,
    "start_time": "2023-03-16T16:36:55.582Z"
   },
   {
    "duration": 20,
    "start_time": "2023-03-16T16:36:55.742Z"
   },
   {
    "duration": 3,
    "start_time": "2023-03-16T16:36:55.932Z"
   },
   {
    "duration": 4,
    "start_time": "2023-03-16T16:36:56.082Z"
   },
   {
    "duration": 15,
    "start_time": "2023-03-16T16:36:56.258Z"
   },
   {
    "duration": 5,
    "start_time": "2023-03-16T16:36:56.422Z"
   },
   {
    "duration": 3,
    "start_time": "2023-03-16T16:36:56.593Z"
   },
   {
    "duration": 4,
    "start_time": "2023-03-16T16:36:56.772Z"
   },
   {
    "duration": 56,
    "start_time": "2023-03-16T16:36:57.316Z"
   },
   {
    "duration": 15,
    "start_time": "2023-03-16T16:36:57.482Z"
   },
   {
    "duration": 15,
    "start_time": "2023-03-16T16:36:57.982Z"
   },
   {
    "duration": 18,
    "start_time": "2023-03-16T16:36:58.172Z"
   },
   {
    "duration": 41,
    "start_time": "2023-03-16T16:36:58.332Z"
   },
   {
    "duration": 18,
    "start_time": "2023-03-16T16:36:58.712Z"
   },
   {
    "duration": 15,
    "start_time": "2023-03-16T16:36:58.872Z"
   },
   {
    "duration": 22,
    "start_time": "2023-03-16T16:36:59.412Z"
   },
   {
    "duration": 19,
    "start_time": "2023-03-16T16:36:59.602Z"
   },
   {
    "duration": 29,
    "start_time": "2023-03-16T16:36:59.782Z"
   },
   {
    "duration": 18,
    "start_time": "2023-03-16T16:37:00.212Z"
   },
   {
    "duration": 17,
    "start_time": "2023-03-16T16:37:00.382Z"
   },
   {
    "duration": 90,
    "start_time": "2023-03-16T16:37:00.622Z"
   },
   {
    "duration": 5,
    "start_time": "2023-03-16T16:37:01.932Z"
   },
   {
    "duration": 468,
    "start_time": "2023-03-16T16:37:02.112Z"
   },
   {
    "duration": 300,
    "start_time": "2023-03-16T16:37:02.583Z"
   },
   {
    "duration": 26,
    "start_time": "2023-03-16T16:37:03.033Z"
   },
   {
    "duration": 4,
    "start_time": "2023-03-16T16:37:03.222Z"
   },
   {
    "duration": 7,
    "start_time": "2023-03-16T16:37:03.932Z"
   },
   {
    "duration": 26,
    "start_time": "2023-03-16T16:37:04.132Z"
   },
   {
    "duration": 354,
    "start_time": "2023-03-16T16:37:04.333Z"
   },
   {
    "duration": 19,
    "start_time": "2023-03-16T16:37:04.854Z"
   },
   {
    "duration": 1414,
    "start_time": "2023-03-16T16:37:05.623Z"
   },
   {
    "duration": 1327,
    "start_time": "2023-03-16T16:37:07.040Z"
   },
   {
    "duration": 1413,
    "start_time": "2023-03-16T16:37:08.369Z"
   },
   {
    "duration": 1345,
    "start_time": "2023-03-16T16:37:09.785Z"
   },
   {
    "duration": 16,
    "start_time": "2023-03-16T16:37:11.132Z"
   },
   {
    "duration": 14,
    "start_time": "2023-03-16T16:37:11.156Z"
   },
   {
    "duration": 21,
    "start_time": "2023-03-16T16:37:11.172Z"
   },
   {
    "duration": 4,
    "start_time": "2023-03-16T16:37:11.195Z"
   },
   {
    "duration": 307,
    "start_time": "2023-03-16T16:37:11.200Z"
   },
   {
    "duration": 39,
    "start_time": "2023-03-16T16:37:11.509Z"
   },
   {
    "duration": 283,
    "start_time": "2023-03-16T16:37:11.549Z"
   },
   {
    "duration": 15,
    "start_time": "2023-03-16T16:37:11.840Z"
   },
   {
    "duration": 228,
    "start_time": "2023-03-16T16:37:11.857Z"
   },
   {
    "duration": 358,
    "start_time": "2023-03-16T16:37:12.087Z"
   },
   {
    "duration": 12,
    "start_time": "2023-03-16T16:37:12.447Z"
   },
   {
    "duration": 20,
    "start_time": "2023-03-16T16:37:12.462Z"
   },
   {
    "duration": 5,
    "start_time": "2023-03-16T16:37:12.484Z"
   },
   {
    "duration": 98,
    "start_time": "2023-03-16T16:37:12.491Z"
   },
   {
    "duration": 11,
    "start_time": "2023-03-16T16:37:12.592Z"
   },
   {
    "duration": 37,
    "start_time": "2023-03-16T16:37:12.872Z"
   },
   {
    "duration": 23,
    "start_time": "2023-03-16T16:37:13.033Z"
   },
   {
    "duration": 3,
    "start_time": "2023-03-16T16:37:15.777Z"
   },
   {
    "duration": 4,
    "start_time": "2023-03-16T16:37:16.155Z"
   },
   {
    "duration": 2,
    "start_time": "2023-03-16T16:37:16.873Z"
   },
   {
    "duration": 18,
    "start_time": "2023-03-16T16:37:17.113Z"
   },
   {
    "duration": 62,
    "start_time": "2023-03-16T16:37:17.492Z"
   },
   {
    "duration": 20,
    "start_time": "2023-03-16T16:37:18.663Z"
   },
   {
    "duration": 30,
    "start_time": "2023-03-16T16:37:19.233Z"
   },
   {
    "duration": 13,
    "start_time": "2023-03-16T16:37:20.022Z"
   },
   {
    "duration": 14,
    "start_time": "2023-03-16T16:39:05.052Z"
   },
   {
    "duration": 113,
    "start_time": "2023-03-16T16:40:02.463Z"
   },
   {
    "duration": 10,
    "start_time": "2023-03-16T16:40:11.352Z"
   },
   {
    "duration": 3,
    "start_time": "2023-03-16T16:40:21.563Z"
   },
   {
    "duration": 35,
    "start_time": "2023-03-16T16:40:59.803Z"
   },
   {
    "duration": 19,
    "start_time": "2023-03-16T16:42:47.633Z"
   },
   {
    "duration": 150,
    "start_time": "2023-03-16T16:47:34.464Z"
   },
   {
    "duration": 137,
    "start_time": "2023-03-16T16:47:59.692Z"
   },
   {
    "duration": 130,
    "start_time": "2023-03-16T16:48:34.354Z"
   },
   {
    "duration": 139,
    "start_time": "2023-03-16T16:49:35.814Z"
   },
   {
    "duration": 36,
    "start_time": "2023-03-16T16:49:39.265Z"
   },
   {
    "duration": 3,
    "start_time": "2023-03-16T16:49:42.524Z"
   },
   {
    "duration": 3,
    "start_time": "2023-03-16T16:49:43.955Z"
   },
   {
    "duration": 4,
    "start_time": "2023-03-16T16:49:44.390Z"
   },
   {
    "duration": 3,
    "start_time": "2023-03-16T16:49:45.104Z"
   },
   {
    "duration": 38,
    "start_time": "2023-03-16T16:49:45.456Z"
   },
   {
    "duration": 9,
    "start_time": "2023-03-16T16:49:45.914Z"
   },
   {
    "duration": 155,
    "start_time": "2023-03-16T16:49:46.282Z"
   },
   {
    "duration": 5,
    "start_time": "2023-03-16T16:52:37.659Z"
   },
   {
    "duration": 6,
    "start_time": "2023-03-16T16:52:48.584Z"
   },
   {
    "duration": 15,
    "start_time": "2023-03-16T16:58:29.205Z"
   },
   {
    "duration": 12,
    "start_time": "2023-03-16T17:01:01.054Z"
   },
   {
    "duration": 336,
    "start_time": "2023-03-16T17:02:28.358Z"
   },
   {
    "duration": 87,
    "start_time": "2023-03-16T17:02:58.297Z"
   },
   {
    "duration": 60,
    "start_time": "2023-03-16T17:03:23.416Z"
   },
   {
    "duration": 51,
    "start_time": "2023-03-16T17:03:25.857Z"
   },
   {
    "duration": 51,
    "start_time": "2023-03-16T17:03:28.686Z"
   },
   {
    "duration": 19,
    "start_time": "2023-03-16T17:03:31.806Z"
   },
   {
    "duration": 567,
    "start_time": "2023-03-16T17:03:38.860Z"
   },
   {
    "duration": 13,
    "start_time": "2023-03-16T17:04:01.006Z"
   },
   {
    "duration": 1484,
    "start_time": "2023-03-16T17:07:11.457Z"
   },
   {
    "duration": 874,
    "start_time": "2023-03-16T17:07:12.944Z"
   },
   {
    "duration": 25,
    "start_time": "2023-03-16T17:07:13.820Z"
   },
   {
    "duration": 289,
    "start_time": "2023-03-16T17:07:13.848Z"
   },
   {
    "duration": 34,
    "start_time": "2023-03-16T17:07:14.141Z"
   },
   {
    "duration": 12,
    "start_time": "2023-03-16T17:07:14.177Z"
   },
   {
    "duration": 106,
    "start_time": "2023-03-16T17:07:14.190Z"
   },
   {
    "duration": 201,
    "start_time": "2023-03-16T17:07:14.298Z"
   },
   {
    "duration": 228,
    "start_time": "2023-03-16T17:07:14.501Z"
   },
   {
    "duration": 16,
    "start_time": "2023-03-16T17:07:14.732Z"
   },
   {
    "duration": 22,
    "start_time": "2023-03-16T17:07:14.749Z"
   },
   {
    "duration": 25,
    "start_time": "2023-03-16T17:07:14.773Z"
   },
   {
    "duration": 44,
    "start_time": "2023-03-16T17:07:14.800Z"
   },
   {
    "duration": 24,
    "start_time": "2023-03-16T17:07:14.846Z"
   },
   {
    "duration": 24,
    "start_time": "2023-03-16T17:07:14.872Z"
   },
   {
    "duration": 93,
    "start_time": "2023-03-16T17:07:14.898Z"
   },
   {
    "duration": 16,
    "start_time": "2023-03-16T17:07:14.993Z"
   },
   {
    "duration": 26,
    "start_time": "2023-03-16T17:07:15.011Z"
   },
   {
    "duration": 15,
    "start_time": "2023-03-16T17:07:15.040Z"
   },
   {
    "duration": 22,
    "start_time": "2023-03-16T17:07:15.056Z"
   },
   {
    "duration": 13,
    "start_time": "2023-03-16T17:07:15.080Z"
   },
   {
    "duration": 10,
    "start_time": "2023-03-16T17:07:15.094Z"
   },
   {
    "duration": 6,
    "start_time": "2023-03-16T17:07:15.106Z"
   },
   {
    "duration": 51,
    "start_time": "2023-03-16T17:07:15.114Z"
   },
   {
    "duration": 17,
    "start_time": "2023-03-16T17:07:15.167Z"
   },
   {
    "duration": 28,
    "start_time": "2023-03-16T17:07:15.185Z"
   },
   {
    "duration": 78,
    "start_time": "2023-03-16T17:07:15.215Z"
   },
   {
    "duration": 17,
    "start_time": "2023-03-16T17:07:15.299Z"
   },
   {
    "duration": 5,
    "start_time": "2023-03-16T17:07:15.318Z"
   },
   {
    "duration": 17,
    "start_time": "2023-03-16T17:07:15.325Z"
   },
   {
    "duration": 20,
    "start_time": "2023-03-16T17:07:15.343Z"
   },
   {
    "duration": 9,
    "start_time": "2023-03-16T17:07:15.364Z"
   },
   {
    "duration": 5,
    "start_time": "2023-03-16T17:07:15.375Z"
   },
   {
    "duration": 16,
    "start_time": "2023-03-16T17:07:15.381Z"
   },
   {
    "duration": 81,
    "start_time": "2023-03-16T17:07:15.399Z"
   },
   {
    "duration": 27,
    "start_time": "2023-03-16T17:07:15.482Z"
   },
   {
    "duration": 35,
    "start_time": "2023-03-16T17:07:15.511Z"
   },
   {
    "duration": 25,
    "start_time": "2023-03-16T17:07:15.548Z"
   },
   {
    "duration": 33,
    "start_time": "2023-03-16T17:07:15.575Z"
   },
   {
    "duration": 47,
    "start_time": "2023-03-16T17:07:15.610Z"
   },
   {
    "duration": 17,
    "start_time": "2023-03-16T17:07:15.659Z"
   },
   {
    "duration": 19,
    "start_time": "2023-03-16T17:07:15.679Z"
   },
   {
    "duration": 43,
    "start_time": "2023-03-16T17:07:15.699Z"
   },
   {
    "duration": 33,
    "start_time": "2023-03-16T17:07:15.744Z"
   },
   {
    "duration": 28,
    "start_time": "2023-03-16T17:07:15.779Z"
   },
   {
    "duration": 33,
    "start_time": "2023-03-16T17:07:15.808Z"
   },
   {
    "duration": 98,
    "start_time": "2023-03-16T17:07:15.843Z"
   },
   {
    "duration": 4,
    "start_time": "2023-03-16T17:07:15.943Z"
   },
   {
    "duration": 439,
    "start_time": "2023-03-16T17:07:15.949Z"
   },
   {
    "duration": 296,
    "start_time": "2023-03-16T17:07:16.389Z"
   },
   {
    "duration": 25,
    "start_time": "2023-03-16T17:07:16.687Z"
   },
   {
    "duration": 4,
    "start_time": "2023-03-16T17:07:16.713Z"
   },
   {
    "duration": 23,
    "start_time": "2023-03-16T17:07:16.719Z"
   },
   {
    "duration": 22,
    "start_time": "2023-03-16T17:07:16.743Z"
   },
   {
    "duration": 451,
    "start_time": "2023-03-16T17:07:16.767Z"
   },
   {
    "duration": 33,
    "start_time": "2023-03-16T17:07:17.220Z"
   },
   {
    "duration": 1270,
    "start_time": "2023-03-16T17:07:17.254Z"
   },
   {
    "duration": 1447,
    "start_time": "2023-03-16T17:07:18.525Z"
   },
   {
    "duration": 1318,
    "start_time": "2023-03-16T17:07:19.974Z"
   },
   {
    "duration": 1280,
    "start_time": "2023-03-16T17:07:21.293Z"
   },
   {
    "duration": 5,
    "start_time": "2023-03-16T17:07:22.575Z"
   },
   {
    "duration": 25,
    "start_time": "2023-03-16T17:07:22.582Z"
   },
   {
    "duration": 33,
    "start_time": "2023-03-16T17:07:22.609Z"
   },
   {
    "duration": 5,
    "start_time": "2023-03-16T17:07:22.644Z"
   },
   {
    "duration": 278,
    "start_time": "2023-03-16T17:07:22.651Z"
   },
   {
    "duration": 26,
    "start_time": "2023-03-16T17:07:22.931Z"
   },
   {
    "duration": 250,
    "start_time": "2023-03-16T17:07:22.959Z"
   },
   {
    "duration": 4,
    "start_time": "2023-03-16T17:07:23.210Z"
   },
   {
    "duration": 217,
    "start_time": "2023-03-16T17:07:23.215Z"
   },
   {
    "duration": 315,
    "start_time": "2023-03-16T17:07:23.434Z"
   },
   {
    "duration": 6,
    "start_time": "2023-03-16T17:07:23.751Z"
   },
   {
    "duration": 18,
    "start_time": "2023-03-16T17:07:23.758Z"
   },
   {
    "duration": 3,
    "start_time": "2023-03-16T17:07:23.778Z"
   },
   {
    "duration": 76,
    "start_time": "2023-03-16T17:07:23.783Z"
   },
   {
    "duration": 9,
    "start_time": "2023-03-16T17:07:23.861Z"
   },
   {
    "duration": 38,
    "start_time": "2023-03-16T17:07:23.872Z"
   },
   {
    "duration": 35,
    "start_time": "2023-03-16T17:07:23.911Z"
   },
   {
    "duration": 3,
    "start_time": "2023-03-16T17:07:23.948Z"
   },
   {
    "duration": 7,
    "start_time": "2023-03-16T17:07:23.953Z"
   },
   {
    "duration": 7,
    "start_time": "2023-03-16T17:07:23.962Z"
   },
   {
    "duration": 28,
    "start_time": "2023-03-16T17:07:23.971Z"
   },
   {
    "duration": 66,
    "start_time": "2023-03-16T17:07:24.006Z"
   },
   {
    "duration": 23,
    "start_time": "2023-03-16T17:07:24.073Z"
   },
   {
    "duration": 21,
    "start_time": "2023-03-16T17:07:24.098Z"
   },
   {
    "duration": 16,
    "start_time": "2023-03-16T17:07:24.141Z"
   },
   {
    "duration": 18,
    "start_time": "2023-03-16T17:07:24.158Z"
   },
   {
    "duration": 3,
    "start_time": "2023-03-16T17:07:24.177Z"
   },
   {
    "duration": 42,
    "start_time": "2023-03-16T17:07:24.182Z"
   },
   {
    "duration": 21,
    "start_time": "2023-03-16T17:07:24.226Z"
   },
   {
    "duration": 520,
    "start_time": "2023-03-16T17:07:24.249Z"
   },
   {
    "duration": 12,
    "start_time": "2023-03-16T17:07:24.770Z"
   },
   {
    "duration": 24,
    "start_time": "2023-03-16T17:07:24.784Z"
   },
   {
    "duration": 17,
    "start_time": "2023-03-16T17:07:24.809Z"
   },
   {
    "duration": 142,
    "start_time": "2023-03-16T17:07:24.828Z"
   },
   {
    "duration": 0,
    "start_time": "2023-03-16T17:07:24.971Z"
   },
   {
    "duration": 0,
    "start_time": "2023-03-16T17:07:24.973Z"
   },
   {
    "duration": 0,
    "start_time": "2023-03-16T17:07:24.974Z"
   },
   {
    "duration": 0,
    "start_time": "2023-03-16T17:07:24.974Z"
   },
   {
    "duration": 0,
    "start_time": "2023-03-16T17:07:24.975Z"
   },
   {
    "duration": 0,
    "start_time": "2023-03-16T17:07:24.976Z"
   },
   {
    "duration": 0,
    "start_time": "2023-03-16T17:07:24.977Z"
   },
   {
    "duration": 0,
    "start_time": "2023-03-16T17:07:24.978Z"
   },
   {
    "duration": 0,
    "start_time": "2023-03-16T17:07:24.979Z"
   },
   {
    "duration": 0,
    "start_time": "2023-03-16T17:07:24.980Z"
   },
   {
    "duration": 0,
    "start_time": "2023-03-16T17:07:24.981Z"
   },
   {
    "duration": 0,
    "start_time": "2023-03-16T17:07:24.982Z"
   },
   {
    "duration": 0,
    "start_time": "2023-03-16T17:07:24.984Z"
   },
   {
    "duration": 0,
    "start_time": "2023-03-16T17:07:24.985Z"
   },
   {
    "duration": 1,
    "start_time": "2023-03-16T17:07:24.985Z"
   },
   {
    "duration": 0,
    "start_time": "2023-03-16T17:07:24.986Z"
   },
   {
    "duration": 0,
    "start_time": "2023-03-16T17:07:24.988Z"
   },
   {
    "duration": 0,
    "start_time": "2023-03-16T17:07:24.989Z"
   },
   {
    "duration": 0,
    "start_time": "2023-03-16T17:07:24.990Z"
   },
   {
    "duration": 0,
    "start_time": "2023-03-16T17:07:24.991Z"
   },
   {
    "duration": 0,
    "start_time": "2023-03-16T17:07:24.992Z"
   },
   {
    "duration": 0,
    "start_time": "2023-03-16T17:07:24.993Z"
   },
   {
    "duration": 0,
    "start_time": "2023-03-16T17:07:24.994Z"
   },
   {
    "duration": 0,
    "start_time": "2023-03-16T17:07:24.995Z"
   },
   {
    "duration": 0,
    "start_time": "2023-03-16T17:07:24.996Z"
   },
   {
    "duration": 0,
    "start_time": "2023-03-16T17:07:24.997Z"
   },
   {
    "duration": 0,
    "start_time": "2023-03-16T17:07:24.999Z"
   },
   {
    "duration": 0,
    "start_time": "2023-03-16T17:07:25.000Z"
   },
   {
    "duration": 0,
    "start_time": "2023-03-16T17:07:25.041Z"
   },
   {
    "duration": 0,
    "start_time": "2023-03-16T17:07:25.043Z"
   },
   {
    "duration": 0,
    "start_time": "2023-03-16T17:07:25.044Z"
   },
   {
    "duration": 0,
    "start_time": "2023-03-16T17:07:25.046Z"
   },
   {
    "duration": 0,
    "start_time": "2023-03-16T17:07:25.047Z"
   },
   {
    "duration": 0,
    "start_time": "2023-03-16T17:07:25.049Z"
   },
   {
    "duration": 0,
    "start_time": "2023-03-16T17:07:25.050Z"
   },
   {
    "duration": 0,
    "start_time": "2023-03-16T17:07:25.051Z"
   },
   {
    "duration": 0,
    "start_time": "2023-03-16T17:07:25.053Z"
   },
   {
    "duration": 0,
    "start_time": "2023-03-16T17:07:25.054Z"
   },
   {
    "duration": 0,
    "start_time": "2023-03-16T17:07:25.055Z"
   },
   {
    "duration": 0,
    "start_time": "2023-03-16T17:07:25.057Z"
   },
   {
    "duration": 0,
    "start_time": "2023-03-16T17:07:25.059Z"
   },
   {
    "duration": 0,
    "start_time": "2023-03-16T17:07:25.060Z"
   },
   {
    "duration": 0,
    "start_time": "2023-03-16T17:07:25.061Z"
   },
   {
    "duration": 14,
    "start_time": "2023-03-16T17:11:45.158Z"
   },
   {
    "duration": 13,
    "start_time": "2023-03-16T17:11:48.037Z"
   },
   {
    "duration": 3,
    "start_time": "2023-03-16T17:11:48.677Z"
   },
   {
    "duration": 15,
    "start_time": "2023-03-16T17:11:49.427Z"
   },
   {
    "duration": 3,
    "start_time": "2023-03-16T17:11:57.297Z"
   },
   {
    "duration": 34,
    "start_time": "2023-03-16T17:12:01.168Z"
   },
   {
    "duration": 587,
    "start_time": "2023-03-16T17:12:02.905Z"
   },
   {
    "duration": 0,
    "start_time": "2023-03-16T17:12:03.494Z"
   }
  ],
  "kernelspec": {
   "display_name": "Python 3 (ipykernel)",
   "language": "python",
   "name": "python3"
  },
  "language_info": {
   "codemirror_mode": {
    "name": "ipython",
    "version": 3
   },
   "file_extension": ".py",
   "mimetype": "text/x-python",
   "name": "python",
   "nbconvert_exporter": "python",
   "pygments_lexer": "ipython3",
   "version": "3.8.4"
  },
  "toc": {
   "base_numbering": 1,
   "nav_menu": {},
   "number_sections": true,
   "sideBar": true,
   "skip_h1_title": true,
   "title_cell": "Table of Contents",
   "title_sidebar": "Contents",
   "toc_cell": false,
   "toc_position": {},
   "toc_section_display": true,
   "toc_window_display": false
  }
 },
 "nbformat": 4,
 "nbformat_minor": 2
}
